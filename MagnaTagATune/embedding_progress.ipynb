{
  "nbformat": 4,
  "nbformat_minor": 0,
  "metadata": {
    "colab": {
      "name": "Untitled9.ipynb",
      "provenance": [],
      "authorship_tag": "ABX9TyMWRLFnUKQNo4y1KUMJL2Mt",
      "include_colab_link": true
    },
    "kernelspec": {
      "name": "python3",
      "display_name": "Python 3"
    },
    "language_info": {
      "name": "python"
    }
  },
  "cells": [
    {
      "cell_type": "markdown",
      "metadata": {
        "id": "view-in-github",
        "colab_type": "text"
      },
      "source": [
        "<a href=\"https://colab.research.google.com/github/pszachew/Music-Genre-Classification/blob/master/MagnaTagATune/embedding_progress.ipynb\" target=\"_parent\"><img src=\"https://colab.research.google.com/assets/colab-badge.svg\" alt=\"Open In Colab\"/></a>"
      ]
    },
    {
      "cell_type": "code",
      "execution_count": 55,
      "metadata": {
        "id": "-coadJOH2xMf"
      },
      "outputs": [],
      "source": [
        "import os\n",
        "import seaborn as sns\n",
        "import matplotlib.pyplot as plt"
      ]
    },
    {
      "cell_type": "code",
      "source": [
        "from google.colab import drive\n",
        "import sys\n",
        "drive.mount('/content/gdrive')"
      ],
      "metadata": {
        "colab": {
          "base_uri": "https://localhost:8080/"
        },
        "id": "JrH5wi3C3MnC",
        "outputId": "fb3f55a8-0a8a-4a9d-b4e7-9708007997be"
      },
      "execution_count": 2,
      "outputs": [
        {
          "output_type": "stream",
          "name": "stdout",
          "text": [
            "Mounted at /content/gdrive\n"
          ]
        }
      ]
    },
    {
      "cell_type": "code",
      "source": [
        "to_embedding = {}\n",
        "embedded = {}"
      ],
      "metadata": {
        "id": "dMMYb6Ra5bvL"
      },
      "execution_count": 42,
      "outputs": []
    },
    {
      "cell_type": "code",
      "source": [
        "for dir in os.listdir('/content/gdrive/MyDrive/MagnaTagATune/mp3'):\n",
        "  to_embedding[dir] = len(os.listdir('/content/gdrive/MyDrive/MagnaTagATune/mp3/'+dir))"
      ],
      "metadata": {
        "id": "TYq_XQKP6Jfc"
      },
      "execution_count": 43,
      "outputs": []
    },
    {
      "cell_type": "code",
      "source": [
        "for dir in os.listdir('/content/gdrive/MyDrive/Embedded Music/MagnaTagATune'):\n",
        "  embedded[dir] = len(os.listdir('/content/gdrive/MyDrive/Embedded Music/MagnaTagATune/'+dir))"
      ],
      "metadata": {
        "id": "mMPW1DO-6lfJ"
      },
      "execution_count": 44,
      "outputs": []
    },
    {
      "cell_type": "code",
      "source": [
        "diff = {}\n",
        "for key in to_embedding.keys():\n",
        "  diff[key] = to_embedding[key] - embedded[key]"
      ],
      "metadata": {
        "id": "2KTE9H1LBVNj"
      },
      "execution_count": 45,
      "outputs": []
    },
    {
      "cell_type": "code",
      "source": [
        "embedded.keys()"
      ],
      "metadata": {
        "colab": {
          "base_uri": "https://localhost:8080/"
        },
        "id": "aBzZ2WbRBZRf",
        "outputId": "192a8d35-e80c-4363-9958-4ae5a906c9d3"
      },
      "execution_count": 46,
      "outputs": [
        {
          "output_type": "execute_result",
          "data": {
            "text/plain": [
              "dict_keys(['0', '1', '2', '3', '4', '5', '6', '7', '8', '9', 'd', 'c', 'b', 'a', 'f', 'e'])"
            ]
          },
          "metadata": {},
          "execution_count": 46
        }
      ]
    },
    {
      "cell_type": "code",
      "source": [
        "diff.values()"
      ],
      "metadata": {
        "colab": {
          "base_uri": "https://localhost:8080/"
        },
        "id": "t3NivQuFCBGg",
        "outputId": "cc535770-b9d4-450b-bda7-ac1d544d538a"
      },
      "execution_count": 47,
      "outputs": [
        {
          "output_type": "execute_result",
          "data": {
            "text/plain": [
              "dict_values([1197, 1604, 1144, 1773, 0, 0, 1788, 0, 1163, 1547, 2115, 1954, 1825, 1417, 1677, 1108])"
            ]
          },
          "metadata": {},
          "execution_count": 47
        }
      ]
    },
    {
      "cell_type": "code",
      "source": [
        "diff.keys()"
      ],
      "metadata": {
        "colab": {
          "base_uri": "https://localhost:8080/"
        },
        "id": "tmUg4MgnD06C",
        "outputId": "ee318ad9-8070-4b0a-b1bd-d924f37466c5"
      },
      "execution_count": 48,
      "outputs": [
        {
          "output_type": "execute_result",
          "data": {
            "text/plain": [
              "dict_keys(['4', '5', '8', '9', '2', '1', '6', '3', '7', 'e', 'f', 'b', 'c', 'a', 'd', '0'])"
            ]
          },
          "metadata": {},
          "execution_count": 48
        }
      ]
    },
    {
      "cell_type": "code",
      "source": [
        "plt.figure(figsize=(12,8))\n",
        "sns.barplot(x=list(diff.keys()), y=list(diff.values()))\n",
        "plt.show()"
      ],
      "metadata": {
        "colab": {
          "base_uri": "https://localhost:8080/",
          "height": 483
        },
        "id": "QVCmBii0D3dy",
        "outputId": "b2bc9868-4e6e-4086-fdae-c2d047303901"
      },
      "execution_count": 57,
      "outputs": [
        {
          "output_type": "display_data",
          "data": {
            "image/png": "[encoded data removed]",
            "text/plain": [
              "<Figure size 864x576 with 1 Axes>"
            ]
          },
          "metadata": {
            "needs_background": "light"
          }
        }
      ]
    },
    {
      "cell_type": "code",
      "source": [
        ""
      ],
      "metadata": {
        "id": "RmiJ-6L7EPuL"
      },
      "execution_count": null,
      "outputs": []
    }
  ]
}