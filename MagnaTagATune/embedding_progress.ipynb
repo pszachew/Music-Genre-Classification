{
  "nbformat": 4,
  "nbformat_minor": 0,
  "metadata": {
    "colab": {
      "name": "Untitled9.ipynb",
      "provenance": [],
      "authorship_tag": "ABX9TyOJd6IR5LQ5hSphxZ57SAaD",
      "include_colab_link": true
    },
    "kernelspec": {
      "name": "python3",
      "display_name": "Python 3"
    },
    "language_info": {
      "name": "python"
    }
  },
  "cells": [
    {
      "cell_type": "markdown",
      "metadata": {
        "id": "view-in-github",
        "colab_type": "text"
      },
      "source": [
        "<a href=\"https://colab.research.google.com/github/pszachew/Music-Genre-Classification/blob/master/MagnaTagATune/embedding_progress.ipynb\" target=\"_parent\"><img src=\"https://colab.research.google.com/assets/colab-badge.svg\" alt=\"Open In Colab\"/></a>"
      ]
    },
    {
      "cell_type": "code",
      "execution_count": 1,
      "metadata": {
        "id": "-coadJOH2xMf"
      },
      "outputs": [],
      "source": [
        "import os\n",
        "import seaborn as sns\n",
        "import matplotlib.pyplot as plt"
      ]
    },
    {
      "cell_type": "code",
      "source": [
        "from google.colab import drive\n",
        "import sys\n",
        "drive.mount('/content/gdrive')"
      ],
      "metadata": {
        "colab": {
          "base_uri": "https://localhost:8080/"
        },
        "id": "JrH5wi3C3MnC",
        "outputId": "c4ef7527-02f0-468c-90ba-c6f0db28e199"
      },
      "execution_count": 2,
      "outputs": [
        {
          "output_type": "stream",
          "name": "stdout",
          "text": [
            "Mounted at /content/gdrive\n"
          ]
        }
      ]
    },
    {
      "cell_type": "code",
      "source": [
        "to_embedding = {}\n",
        "embedded = {}"
      ],
      "metadata": {
        "id": "dMMYb6Ra5bvL"
      },
      "execution_count": 3,
      "outputs": []
    },
    {
      "cell_type": "code",
      "source": [
        "for dir in os.listdir('/content/gdrive/MyDrive/MagnaTagATune/mp3'):\n",
        "  to_embedding[dir] = len(os.listdir('/content/gdrive/MyDrive/MagnaTagATune/mp3/'+dir))"
      ],
      "metadata": {
        "id": "TYq_XQKP6Jfc"
      },
      "execution_count": 4,
      "outputs": []
    },
    {
      "cell_type": "code",
      "source": [
        "for dir in os.listdir('/content/gdrive/MyDrive/Embedded Music/MagnaTagATune'):\n",
        "  embedded[dir] = len(os.listdir('/content/gdrive/MyDrive/Embedded Music/MagnaTagATune/'+dir))"
      ],
      "metadata": {
        "id": "mMPW1DO-6lfJ"
      },
      "execution_count": 5,
      "outputs": []
    },
    {
      "cell_type": "code",
      "source": [
        "diff = {}\n",
        "for key in to_embedding.keys():\n",
        "  diff[key] = to_embedding[key] - embedded[key]"
      ],
      "metadata": {
        "id": "2KTE9H1LBVNj"
      },
      "execution_count": 8,
      "outputs": []
    },
    {
      "cell_type": "code",
      "source": [
        "plt.figure(figsize=(12,8))\n",
        "sns.barplot(x=list(diff.keys()), y=list(diff.values()))\n",
        "plt.show()"
      ],
      "metadata": {
        "colab": {
          "base_uri": "https://localhost:8080/",
          "height": 483
        },
        "id": "QVCmBii0D3dy",
        "outputId": "bb83c3a5-c708-4533-930c-fd806efdca2d"
      },
      "execution_count": 9,
      "outputs": [
        {
          "output_type": "display_data",
          "data": {
            "image/png": "[encoded data removed]",
            "text/plain": [
              "<Figure size 864x576 with 1 Axes>"
            ]
          },
          "metadata": {
            "needs_background": "light"
          }
        }
      ]
    },
    {
      "cell_type": "code",
      "source": [
        ""
      ],
      "metadata": {
        "id": "RmiJ-6L7EPuL"
      },
      "execution_count": null,
      "outputs": []
    }
  ]
}