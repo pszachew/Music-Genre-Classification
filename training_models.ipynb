{
  "nbformat": 4,
  "nbformat_minor": 0,
  "metadata": {
    "colab": {
      "name": "Untitled3.ipynb",
      "provenance": [],
      "authorship_tag": "ABX9TyNcCOt7GllFpEmCM8dT/8JL",
      "include_colab_link": true
    },
    "kernelspec": {
      "name": "python3",
      "display_name": "Python 3"
    },
    "language_info": {
      "name": "python"
    }
  },
  "cells": [
    {
      "cell_type": "markdown",
      "metadata": {
        "id": "view-in-github",
        "colab_type": "text"
      },
      "source": [
        "<a href=\"https://colab.research.google.com/github/pszachew/Music-Genre-Classification/blob/master/training_models.ipynb\" target=\"_parent\"><img src=\"https://colab.research.google.com/assets/colab-badge.svg\" alt=\"Open In Colab\"/></a>"
      ]
    },
    {
      "cell_type": "code",
      "metadata": {
        "id": "ndTmVrpOFCOp"
      },
      "source": [
        "import pandas as pd\n",
        "from sklearn.preprocessing import StandardScaler\n",
        "from sklearn.model_selection import train_test_split\n",
        "from sklearn.pipeline import Pipeline\n",
        "from sklearn.metrics import classification_report, confusion_matrix\n",
        "import joblib"
      ],
      "execution_count": 30,
      "outputs": []
    },
    {
      "cell_type": "code",
      "metadata": {
        "colab": {
          "base_uri": "https://localhost:8080/"
        },
        "id": "Rf6lRECfHMP2",
        "outputId": "06c1c4bc-d439-4b0b-8d49-b7c78e92e49a"
      },
      "source": [
        "from google.colab import drive\n",
        "drive.mount('/content/gdrive')"
      ],
      "execution_count": 3,
      "outputs": [
        {
          "output_type": "stream",
          "name": "stdout",
          "text": [
            "Mounted at /content/gdrive\n"
          ]
        }
      ]
    },
    {
      "cell_type": "code",
      "metadata": {
        "id": "AtekSLDgHpH6"
      },
      "source": [
        "X = pd.read_csv('/content/gdrive/MyDrive/csv_data/embedded.csv',header=None)"
      ],
      "execution_count": 13,
      "outputs": []
    },
    {
      "cell_type": "code",
      "metadata": {
        "id": "YxuMxGZ5H9G7"
      },
      "source": [
        "y = pd.read_csv('/content/gdrive/MyDrive/csv_data/labels.csv', header=None)"
      ],
      "execution_count": 14,
      "outputs": []
    },
    {
      "cell_type": "code",
      "metadata": {
        "id": "djMzvQuSPYB0"
      },
      "source": [
        "scaler = StandardScaler()\n",
        "scaler.fit(X)\n",
        "X_sc = scaler.transform(X)"
      ],
      "execution_count": 18,
      "outputs": []
    },
    {
      "cell_type": "code",
      "metadata": {
        "id": "Klyj9QW7ISFq"
      },
      "source": [
        "X_train, X_test, y_train, y_test = train_test_split(X,y,test_size=0.3, random_state=10)"
      ],
      "execution_count": 19,
      "outputs": []
    },
    {
      "cell_type": "markdown",
      "metadata": {
        "id": "kiB0OJ-vOOa1"
      },
      "source": [
        "## **Logistic Regression**"
      ]
    },
    {
      "cell_type": "code",
      "metadata": {
        "id": "dIgP0D9tNSY0"
      },
      "source": [
        "from sklearn.linear_model import LogisticRegression"
      ],
      "execution_count": 17,
      "outputs": []
    },
    {
      "cell_type": "code",
      "metadata": {
        "id": "pC7UEEMvO4un"
      },
      "source": [
        "log_reg_mod = LogisticRegression(max_iter=1000)"
      ],
      "execution_count": 20,
      "outputs": []
    },
    {
      "cell_type": "code",
      "metadata": {
        "colab": {
          "base_uri": "https://localhost:8080/"
        },
        "id": "VrfMDBDyPqXd",
        "outputId": "3ce3c162-53ab-4dc6-ab9b-a1b7a56ccb0b"
      },
      "source": [
        "log_reg_mod.fit(X_train, y_train)"
      ],
      "execution_count": 21,
      "outputs": [
        {
          "output_type": "stream",
          "name": "stderr",
          "text": [
            "/usr/local/lib/python3.7/dist-packages/sklearn/utils/validation.py:760: DataConversionWarning: A column-vector y was passed when a 1d array was expected. Please change the shape of y to (n_samples, ), for example using ravel().\n",
            "  y = column_or_1d(y, warn=True)\n"
          ]
        },
        {
          "output_type": "execute_result",
          "data": {
            "text/plain": [
              "LogisticRegression(C=1.0, class_weight=None, dual=False, fit_intercept=True,\n",
              "                   intercept_scaling=1, l1_ratio=None, max_iter=1000,\n",
              "                   multi_class='auto', n_jobs=None, penalty='l2',\n",
              "                   random_state=None, solver='lbfgs', tol=0.0001, verbose=0,\n",
              "                   warm_start=False)"
            ]
          },
          "metadata": {},
          "execution_count": 21
        }
      ]
    },
    {
      "cell_type": "code",
      "metadata": {
        "colab": {
          "base_uri": "https://localhost:8080/"
        },
        "id": "sNXC4Z1aSWgd",
        "outputId": "47fcbc88-3092-41ef-9030-d03bc28950a1"
      },
      "source": [
        "joblib.dump(log_reg_mod, 'log_reg.sav')"
      ],
      "execution_count": 37,
      "outputs": [
        {
          "output_type": "execute_result",
          "data": {
            "text/plain": [
              "['log_reg.sav']"
            ]
          },
          "metadata": {},
          "execution_count": 37
        }
      ]
    },
    {
      "cell_type": "code",
      "metadata": {
        "id": "CPjcioPPPwrR"
      },
      "source": [
        "y_pre_lg = log_reg_mod.predict(X_test)"
      ],
      "execution_count": 28,
      "outputs": []
    },
    {
      "cell_type": "code",
      "metadata": {
        "colab": {
          "base_uri": "https://localhost:8080/"
        },
        "id": "gGrNxCU0QpAv",
        "outputId": "844abb30-5d85-4440-c5c9-d93dec95dee6"
      },
      "source": [
        "print(classification_report(y_test,y_pre_lg))"
      ],
      "execution_count": 29,
      "outputs": [
        {
          "output_type": "stream",
          "name": "stdout",
          "text": [
            "              precision    recall  f1-score   support\n",
            "\n",
            "       blues       0.85      0.94      0.89        35\n",
            "   classical       0.92      1.00      0.96        33\n",
            "     country       0.74      0.74      0.74        27\n",
            "       disco       0.86      0.74      0.79        34\n",
            "      hiphop       0.74      0.96      0.84        24\n",
            "        jazz       1.00      0.91      0.96        35\n",
            "       metal       0.97      1.00      0.98        31\n",
            "         pop       0.79      0.88      0.84        26\n",
            "      reggae       0.92      0.77      0.84        30\n",
            "        rock       0.70      0.56      0.62        25\n",
            "\n",
            "    accuracy                           0.86       300\n",
            "   macro avg       0.85      0.85      0.85       300\n",
            "weighted avg       0.86      0.86      0.85       300\n",
            "\n"
          ]
        }
      ]
    },
    {
      "cell_type": "code",
      "metadata": {
        "colab": {
          "base_uri": "https://localhost:8080/"
        },
        "id": "xRqrhZgCSFq-",
        "outputId": "e3d2b0f3-2e70-428b-f6c9-9112482c3060"
      },
      "source": [
        "print(confusion_matrix(y_test, y_pre_lg))"
      ],
      "execution_count": 38,
      "outputs": [
        {
          "output_type": "stream",
          "name": "stdout",
          "text": [
            "[[33  1  0  0  0  0  0  0  0  1]\n",
            " [ 0 33  0  0  0  0  0  0  0  0]\n",
            " [ 3  0 20  2  0  0  0  1  0  1]\n",
            " [ 0  0  2 25  2  0  0  2  0  3]\n",
            " [ 0  0  0  0 23  0  0  0  1  0]\n",
            " [ 1  2  0  0  0 32  0  0  0  0]\n",
            " [ 0  0  0  0  0  0 31  0  0  0]\n",
            " [ 0  0  0  0  2  0  0 23  0  1]\n",
            " [ 0  0  2  1  2  0  0  2 23  0]\n",
            " [ 2  0  3  1  2  0  1  1  1 14]]\n"
          ]
        }
      ]
    },
    {
      "cell_type": "code",
      "metadata": {
        "id": "72v0BoyeSm4t"
      },
      "source": [
        ""
      ],
      "execution_count": null,
      "outputs": []
    }
  ]
}