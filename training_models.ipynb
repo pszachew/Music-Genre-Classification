{
  "nbformat": 4,
  "nbformat_minor": 0,
  "metadata": {
    "colab": {
      "name": "Untitled3.ipynb",
      "provenance": [],
      "authorship_tag": "ABX9TyPlpIYJFjPNhq3jP74Ay4E+",
      "include_colab_link": true
    },
    "kernelspec": {
      "name": "python3",
      "display_name": "Python 3"
    },
    "language_info": {
      "name": "python"
    }
  },
  "cells": [
    {
      "cell_type": "markdown",
      "metadata": {
        "id": "view-in-github",
        "colab_type": "text"
      },
      "source": [
        "<a href=\"https://colab.research.google.com/github/pszachew/Music-Genre-Classification/blob/master/training_models.ipynb\" target=\"_parent\"><img src=\"https://colab.research.google.com/assets/colab-badge.svg\" alt=\"Open In Colab\"/></a>"
      ]
    },
    {
      "cell_type": "code",
      "metadata": {
        "id": "ndTmVrpOFCOp"
      },
      "source": [
        "import pandas as pd\n",
        "import numpy as np\n",
        "from sklearn.preprocessing import StandardScaler\n",
        "from sklearn.model_selection import train_test_split, KFold, cross_val_score\n",
        "from sklearn.pipeline import Pipeline\n",
        "from sklearn.metrics import classification_report, confusion_matrix, accuracy_score\n",
        "import joblib\n",
        "import seaborn as sns\n",
        "import matplotlib.pyplot as plt\n",
        "from statistics import mean"
      ],
      "execution_count": 72,
      "outputs": []
    },
    {
      "cell_type": "code",
      "metadata": {
        "colab": {
          "base_uri": "https://localhost:8080/"
        },
        "id": "Rf6lRECfHMP2",
        "outputId": "4e4c9ebe-7594-466a-ac7e-672a8198c005"
      },
      "source": [
        "from google.colab import drive\n",
        "drive.mount('/content/gdrive')"
      ],
      "execution_count": 3,
      "outputs": [
        {
          "output_type": "stream",
          "name": "stdout",
          "text": [
            "Mounted at /content/gdrive\n"
          ]
        }
      ]
    },
    {
      "cell_type": "code",
      "metadata": {
        "id": "AtekSLDgHpH6"
      },
      "source": [
        "X = pd.read_csv('/content/gdrive/MyDrive/csv_data/embedded.csv',header=None)"
      ],
      "execution_count": 4,
      "outputs": []
    },
    {
      "cell_type": "code",
      "metadata": {
        "id": "YxuMxGZ5H9G7"
      },
      "source": [
        "y = pd.read_csv('/content/gdrive/MyDrive/csv_data/labels.csv', header=None)"
      ],
      "execution_count": 5,
      "outputs": []
    },
    {
      "cell_type": "code",
      "metadata": {
        "id": "djMzvQuSPYB0"
      },
      "source": [
        "scaler = StandardScaler()\n",
        "scaler.fit(X)\n",
        "X_sc =pd.DataFrame(scaler.transform(X))"
      ],
      "execution_count": 6,
      "outputs": []
    },
    {
      "cell_type": "code",
      "metadata": {
        "id": "Klyj9QW7ISFq"
      },
      "source": [
        "X_train, X_test, y_train, y_test = train_test_split(X_sc,y,test_size=0.3, random_state=10)"
      ],
      "execution_count": 7,
      "outputs": []
    },
    {
      "cell_type": "markdown",
      "metadata": {
        "id": "kiB0OJ-vOOa1"
      },
      "source": [
        "## **Logistic Regression**"
      ]
    },
    {
      "cell_type": "code",
      "metadata": {
        "id": "pC7UEEMvO4un"
      },
      "source": [
        "from sklearn.linear_model import LogisticRegression"
      ],
      "execution_count": null,
      "outputs": []
    },
    {
      "cell_type": "code",
      "metadata": {
        "id": "txxgvFJRB3yG"
      },
      "source": [
        "log_reg_mod = LogisticRegression(max_iter=10000)"
      ],
      "execution_count": null,
      "outputs": []
    },
    {
      "cell_type": "code",
      "metadata": {
        "id": "VrfMDBDyPqXd"
      },
      "source": [
        "log_reg_mod.fit(X_train, np.array(y_train).flatten())"
      ],
      "execution_count": null,
      "outputs": []
    },
    {
      "cell_type": "code",
      "metadata": {
        "colab": {
          "base_uri": "https://localhost:8080/"
        },
        "id": "sNXC4Z1aSWgd",
        "outputId": "18b0d920-85c4-46d0-fbdf-0c61f342a7fc"
      },
      "source": [
        "joblib.dump(log_reg_mod, 'log_reg.sav')"
      ],
      "execution_count": null,
      "outputs": [
        {
          "output_type": "execute_result",
          "data": {
            "text/plain": [
              "['log_reg.sav']"
            ]
          },
          "metadata": {},
          "execution_count": 10
        }
      ]
    },
    {
      "cell_type": "code",
      "metadata": {
        "id": "CPjcioPPPwrR"
      },
      "source": [
        "y_pre_lg = log_reg_mod.predict(X_test)"
      ],
      "execution_count": null,
      "outputs": []
    },
    {
      "cell_type": "code",
      "metadata": {
        "colab": {
          "base_uri": "https://localhost:8080/"
        },
        "id": "gGrNxCU0QpAv",
        "outputId": "a4eeab08-d125-42f4-e237-795f56ef6a45"
      },
      "source": [
        "print(classification_report(y_test,y_pre_lg))"
      ],
      "execution_count": null,
      "outputs": [
        {
          "output_type": "stream",
          "name": "stdout",
          "text": [
            "              precision    recall  f1-score   support\n",
            "\n",
            "       blues       0.87      0.94      0.90        35\n",
            "   classical       0.89      1.00      0.94        33\n",
            "     country       0.81      0.78      0.79        27\n",
            "       disco       0.88      0.68      0.77        34\n",
            "      hiphop       0.77      0.96      0.85        24\n",
            "        jazz       1.00      0.91      0.96        35\n",
            "       metal       0.97      1.00      0.98        31\n",
            "         pop       0.77      0.88      0.82        26\n",
            "      reggae       0.92      0.80      0.86        30\n",
            "        rock       0.70      0.64      0.67        25\n",
            "\n",
            "    accuracy                           0.86       300\n",
            "   macro avg       0.86      0.86      0.85       300\n",
            "weighted avg       0.87      0.86      0.86       300\n",
            "\n"
          ]
        }
      ]
    },
    {
      "cell_type": "code",
      "metadata": {
        "colab": {
          "base_uri": "https://localhost:8080/"
        },
        "id": "xRqrhZgCSFq-",
        "outputId": "0d6c3e83-75f4-49fc-cb89-156c34a2aa0a"
      },
      "source": [
        "print(confusion_matrix(y_test, y_pre_lg))"
      ],
      "execution_count": null,
      "outputs": [
        {
          "output_type": "stream",
          "name": "stdout",
          "text": [
            "[[33  1  0  0  0  0  0  0  0  1]\n",
            " [ 0 33  0  0  0  0  0  0  0  0]\n",
            " [ 2  0 21  2  0  0  0  1  0  1]\n",
            " [ 0  1  1 23  2  0  0  4  0  3]\n",
            " [ 0  0  0  0 23  0  0  0  1  0]\n",
            " [ 1  2  0  0  0 32  0  0  0  0]\n",
            " [ 0  0  0  0  0  0 31  0  0  0]\n",
            " [ 0  0  0  0  2  0  0 23  0  1]\n",
            " [ 0  0  1  1  1  0  0  2 24  1]\n",
            " [ 2  0  3  0  2  0  1  0  1 16]]\n"
          ]
        }
      ]
    },
    {
      "cell_type": "code",
      "metadata": {
        "id": "72v0BoyeSm4t"
      },
      "source": [
        "kf3 = KFold(n_splits=3, shuffle=True)\n",
        "mod_lg = LogisticRegression(max_iter=10000)"
      ],
      "execution_count": null,
      "outputs": []
    },
    {
      "cell_type": "code",
      "metadata": {
        "id": "gDhZlRtDnlAj",
        "colab": {
          "base_uri": "https://localhost:8080/"
        },
        "outputId": "f9334574-d9f5-4360-8cbd-6bbf510a5d8c"
      },
      "source": [
        "i=1\n",
        "for x_train_idx, x_test_idx in kf3.split(X_sc):\n",
        "  X_train = X_sc.iloc[x_train_idx]\n",
        "  X_test = X_sc.iloc[x_test_idx]\n",
        "  y_train = y.iloc[x_train_idx]\n",
        "  y_test = y.iloc[x_test_idx]\n",
        "  mod_lg.fit(X_train, np.array(y_train).flatten())\n",
        "  print(f\"Accuracy for the fold no. {i} on the test set: {accuracy_score(y_test, mod_lg.predict(X_test))}\")\n",
        "  i=i+1"
      ],
      "execution_count": null,
      "outputs": [
        {
          "output_type": "stream",
          "name": "stdout",
          "text": [
            "Accuracy for the fold no. 1 on the test set: 0.8618618618618619\n",
            "Accuracy for the fold no. 2 on the test set: 0.8678678678678678\n",
            "Accuracy for the fold no. 3 on the test set: 0.8318318318318318\n"
          ]
        }
      ]
    },
    {
      "cell_type": "markdown",
      "metadata": {
        "id": "zcyatWgE10HQ"
      },
      "source": [
        "## **KNN**"
      ]
    },
    {
      "cell_type": "code",
      "metadata": {
        "id": "ZF9YDE5C19Xe"
      },
      "source": [
        "from sklearn.neighbors import KNeighborsClassifier"
      ],
      "execution_count": null,
      "outputs": []
    },
    {
      "cell_type": "code",
      "metadata": {
        "id": "8oFVfQ_02PRZ",
        "colab": {
          "base_uri": "https://localhost:8080/"
        },
        "outputId": "b5836f4e-1623-4b5f-dd19-623746aff146"
      },
      "source": [
        "neigh = KNeighborsClassifier(n_neighbors = 4)\n",
        "neigh.fit(X_train, np.array(y_train).flatten())"
      ],
      "execution_count": null,
      "outputs": [
        {
          "output_type": "execute_result",
          "data": {
            "text/plain": [
              "KNeighborsClassifier(algorithm='auto', leaf_size=30, metric='minkowski',\n",
              "                     metric_params=None, n_jobs=None, n_neighbors=4, p=2,\n",
              "                     weights='uniform')"
            ]
          },
          "metadata": {},
          "execution_count": 9
        }
      ]
    },
    {
      "cell_type": "code",
      "metadata": {
        "id": "ENLgj3UW3ATr"
      },
      "source": [
        "acc_ls = []\n",
        "for n in range (3,20):\n",
        "  neigh = KNeighborsClassifier(n_neighbors = n)\n",
        "  neigh.fit(X_train, np.array(y_train).flatten())\n",
        "  acc_ls.append(accuracy_score(y_test, neigh.predict(X_test)))"
      ],
      "execution_count": null,
      "outputs": []
    },
    {
      "cell_type": "code",
      "metadata": {
        "id": "WAlXILr94JLr",
        "colab": {
          "base_uri": "https://localhost:8080/",
          "height": 497
        },
        "outputId": "1fa7fecb-9b03-45b4-8230-ca3192a0228e"
      },
      "source": [
        "plt.figure(figsize=(12,8))\n",
        "sns.scatterplot(x=range(3,20), y=acc_ls, s=150)\n",
        "plt.ylabel('accuracy_point')\n",
        "plt.xlabel('number of neighbours')\n",
        "plt.show()"
      ],
      "execution_count": null,
      "outputs": [
        {
          "output_type": "display_data",
          "data": {
            "image/png": "[encoded data removed]",
            "text/plain": [
              "<Figure size 864x576 with 1 Axes>"
            ]
          },
          "metadata": {
            "needs_background": "light"
          }
        }
      ]
    },
    {
      "cell_type": "code",
      "metadata": {
        "id": "_7ZXk_Md-VyP",
        "colab": {
          "base_uri": "https://localhost:8080/"
        },
        "outputId": "cb39930a-3978-4515-cf8f-38e43c10baba"
      },
      "source": [
        "kf3 = KFold(n_splits=3, shuffle=True)\n",
        "mod_knn = KNeighborsClassifier(n_neighbors=4)\n",
        "i=1\n",
        "for x_train_idx, x_test_idx in kf3.split(X_sc):\n",
        "  X_train = X_sc.iloc[x_train_idx]\n",
        "  X_test = X_sc.iloc[x_test_idx]\n",
        "  y_train = y.iloc[x_train_idx]\n",
        "  y_test = y.iloc[x_test_idx]\n",
        "  mod_knn.fit(X_train, np.array(y_train).flatten())\n",
        "  print(f\"Accuracy for the fold no. {i} on the test set: {accuracy_score(y_test, mod_knn.predict(X_test))}\")\n",
        "  i=i+1"
      ],
      "execution_count": null,
      "outputs": [
        {
          "output_type": "stream",
          "name": "stdout",
          "text": [
            "Accuracy for the fold no. 1 on the test set: 0.7717717717717718\n",
            "Accuracy for the fold no. 2 on the test set: 0.7747747747747747\n",
            "Accuracy for the fold no. 3 on the test set: 0.8078078078078078\n"
          ]
        }
      ]
    },
    {
      "cell_type": "markdown",
      "metadata": {
        "id": "RE-XltsexggE"
      },
      "source": [
        "### **SVM**"
      ]
    },
    {
      "cell_type": "code",
      "metadata": {
        "id": "83Z3JpcUxkZk"
      },
      "source": [
        "from sklearn.svm import SVC"
      ],
      "execution_count": 34,
      "outputs": []
    },
    {
      "cell_type": "code",
      "metadata": {
        "id": "R-ewbdMom7UT"
      },
      "source": [
        "kernels = {'linear':[], 'poly':[], 'rbf':[], 'sigmoid':[]}"
      ],
      "execution_count": 66,
      "outputs": []
    },
    {
      "cell_type": "code",
      "metadata": {
        "id": "R5HoILa0qS2q"
      },
      "source": [
        "kf3 = KFold(n_splits=3, shuffle=True)"
      ],
      "execution_count": 67,
      "outputs": []
    },
    {
      "cell_type": "code",
      "metadata": {
        "id": "jIV4LU8_z0IH",
        "colab": {
          "base_uri": "https://localhost:8080/"
        },
        "outputId": "3a13243e-3ae7-40f8-c906-5a11f711afcd"
      },
      "source": [
        "i=1\n",
        "for x_train_idx, x_test_idx in kf3.split(X_sc):\n",
        "  X_train = X_sc.iloc[x_train_idx]\n",
        "  X_test = X_sc.iloc[x_test_idx]\n",
        "  y_train = y.iloc[x_train_idx]\n",
        "  y_test = y.iloc[x_test_idx]\n",
        "  for kernel in kernels.keys():\n",
        "    mod_svm = SVC(kernel=kernel)\n",
        "    mod_svm.fit(X_train, np.array(y_train).flatten())\n",
        "    kernels[kernel].append(accuracy_score(y_test, mod_svm.predict(X_test)))\n",
        "    print(f\"Accuracy for the fold no. {i} withe kernel = {kernel} on the test set: {kernels[kernel][i-1]}\")\n",
        "  i=i+1\n",
        "  print('')"
      ],
      "execution_count": 68,
      "outputs": [
        {
          "output_type": "stream",
          "name": "stdout",
          "text": [
            "Accuracy for the fold no. 1 withe kernel = linear on the test set: 0.8558558558558559\n",
            "Accuracy for the fold no. 1 withe kernel = poly on the test set: 0.48348348348348347\n",
            "Accuracy for the fold no. 1 withe kernel = rbf on the test set: 0.8108108108108109\n",
            "Accuracy for the fold no. 1 withe kernel = sigmoid on the test set: 0.8228228228228228\n",
            "\n",
            "Accuracy for the fold no. 2 withe kernel = linear on the test set: 0.8468468468468469\n",
            "Accuracy for the fold no. 2 withe kernel = poly on the test set: 0.6516516516516516\n",
            "Accuracy for the fold no. 2 withe kernel = rbf on the test set: 0.7957957957957958\n",
            "Accuracy for the fold no. 2 withe kernel = sigmoid on the test set: 0.8048048048048048\n",
            "\n",
            "Accuracy for the fold no. 3 withe kernel = linear on the test set: 0.8558558558558559\n",
            "Accuracy for the fold no. 3 withe kernel = poly on the test set: 0.5135135135135135\n",
            "Accuracy for the fold no. 3 withe kernel = rbf on the test set: 0.8138138138138138\n",
            "Accuracy for the fold no. 3 withe kernel = sigmoid on the test set: 0.8138138138138138\n",
            "\n"
          ]
        }
      ]
    },
    {
      "cell_type": "code",
      "metadata": {
        "id": "KHe1OIX8iiDN"
      },
      "source": [
        "acc_mean = []\n",
        "for key in kernels.keys():\n",
        "  acc_mean.append(mean(kernels[key]))"
      ],
      "execution_count": 74,
      "outputs": []
    },
    {
      "cell_type": "code",
      "metadata": {
        "id": "V7FdxYWxkpH7",
        "outputId": "cc1e4d8f-8196-4a34-d663-6509783a2c87",
        "colab": {
          "base_uri": "https://localhost:8080/",
          "height": 514
        }
      },
      "source": [
        "plt.figure(figsize=(12,8))\n",
        "sns.barplot(x=list(kernels.keys()), y=acc_mean)\n",
        "plt.xlabel('Kernel Type')\n",
        "plt.ylabel('Accuracy Score mean value of 3 folds')"
      ],
      "execution_count": 82,
      "outputs": [
        {
          "output_type": "execute_result",
          "data": {
            "text/plain": [
              "Text(0, 0.5, 'Accuracy Score mean value of 3 folds')"
            ]
          },
          "metadata": {},
          "execution_count": 82
        },
        {
          "output_type": "display_data",
          "data": {
            "image/png": "[encoded data removed]",
            "text/plain": [
              "<Figure size 864x576 with 1 Axes>"
            ]
          },
          "metadata": {
            "needs_background": "light"
          }
        }
      ]
    },
    {
      "cell_type": "markdown",
      "metadata": {
        "id": "fDaSO2OZDUC8"
      },
      "source": [
        "### **Decision Tree**"
      ]
    },
    {
      "cell_type": "code",
      "metadata": {
        "id": "eWnUlKVrDesx"
      },
      "source": [
        "from sklearn.tree import DecisionTreeClassifier"
      ],
      "execution_count": 8,
      "outputs": []
    },
    {
      "cell_type": "code",
      "metadata": {
        "id": "pcZiexjmDo6v"
      },
      "source": [
        "clf = DecisionTreeClassifier(max_depth=20)"
      ],
      "execution_count": 26,
      "outputs": []
    },
    {
      "cell_type": "code",
      "metadata": {
        "id": "uRw4w0UkR90Q",
        "outputId": "861656d3-0586-4aaf-db45-1a40d5aff8c8",
        "colab": {
          "base_uri": "https://localhost:8080/"
        }
      },
      "source": [
        "clf.fit(X_train, np.array(y_train).flatten())"
      ],
      "execution_count": 27,
      "outputs": [
        {
          "output_type": "execute_result",
          "data": {
            "text/plain": [
              "DecisionTreeClassifier(ccp_alpha=0.0, class_weight=None, criterion='gini',\n",
              "                       max_depth=20, max_features=None, max_leaf_nodes=None,\n",
              "                       min_impurity_decrease=0.0, min_impurity_split=None,\n",
              "                       min_samples_leaf=1, min_samples_split=2,\n",
              "                       min_weight_fraction_leaf=0.0, presort='deprecated',\n",
              "                       random_state=None, splitter='best')"
            ]
          },
          "metadata": {},
          "execution_count": 27
        }
      ]
    },
    {
      "cell_type": "code",
      "metadata": {
        "id": "DBtUiCFqSP37"
      },
      "source": [
        "y_pred = clf.predict(X_test)"
      ],
      "execution_count": 28,
      "outputs": []
    },
    {
      "cell_type": "code",
      "metadata": {
        "id": "eMWdJSPqSVRk",
        "outputId": "93615e59-3c78-4ee8-ec6f-d89de1d0b807",
        "colab": {
          "base_uri": "https://localhost:8080/"
        }
      },
      "source": [
        "accuracy_score(y_test,y_pred)"
      ],
      "execution_count": 29,
      "outputs": [
        {
          "output_type": "execute_result",
          "data": {
            "text/plain": [
              "0.43666666666666665"
            ]
          },
          "metadata": {},
          "execution_count": 29
        }
      ]
    },
    {
      "cell_type": "code",
      "metadata": {
        "id": "C4vvv8NtS-N_"
      },
      "source": [
        "kf3 = KFold(n_splits=3)"
      ],
      "execution_count": 32,
      "outputs": []
    },
    {
      "cell_type": "code",
      "metadata": {
        "id": "MLlMdx74UEIW"
      },
      "source": [
        "acc_lst = []\n",
        "i=1\n",
        "for x_train_idx, x_test_idx in kf3.split(X_sc):\n",
        "  X_train = X_sc.iloc[x_train_idx]\n",
        "  X_test = X_sc.iloc[x_test_idx]\n",
        "  y_train = y.iloc[x_train_idx]\n",
        "  y_test = y.iloc[x_test_idx]\n",
        "  for n in range (3,20):\n"
      ],
      "execution_count": null,
      "outputs": []
    }
  ]
}