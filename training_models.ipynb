{
  "nbformat": 4,
  "nbformat_minor": 0,
  "metadata": {
    "colab": {
      "name": "Untitled3.ipynb",
      "provenance": [],
      "authorship_tag": "ABX9TyOsXWGrFq4l818fIJu1MP1u",
      "include_colab_link": true
    },
    "kernelspec": {
      "name": "python3",
      "display_name": "Python 3"
    },
    "language_info": {
      "name": "python"
    }
  },
  "cells": [
    {
      "cell_type": "markdown",
      "metadata": {
        "id": "view-in-github",
        "colab_type": "text"
      },
      "source": [
        "<a href=\"https://colab.research.google.com/github/pszachew/Music-Genre-Classification/blob/master/training_models.ipynb\" target=\"_parent\"><img src=\"https://colab.research.google.com/assets/colab-badge.svg\" alt=\"Open In Colab\"/></a>"
      ]
    },
    {
      "cell_type": "code",
      "metadata": {
        "id": "ndTmVrpOFCOp"
      },
      "source": [
        "import pandas as pd\n",
        "import numpy as np\n",
        "from sklearn.preprocessing import StandardScaler\n",
        "from sklearn.model_selection import train_test_split, KFold, cross_val_score\n",
        "from sklearn.pipeline import Pipeline\n",
        "from sklearn.metrics import classification_report, confusion_matrix, accuracy_score\n",
        "import joblib\n",
        "import seaborn as sns\n",
        "import matplotlib.pyplot as plt\n",
        "from statistics import mean\n",
        "import json"
      ],
      "execution_count": 2,
      "outputs": []
    },
    {
      "cell_type": "code",
      "metadata": {
        "colab": {
          "base_uri": "https://localhost:8080/"
        },
        "id": "Rf6lRECfHMP2",
        "outputId": "a5141934-521a-4992-9918-be601fba8527"
      },
      "source": [
        "from google.colab import drive\n",
        "drive.mount('/content/gdrive')"
      ],
      "execution_count": 3,
      "outputs": [
        {
          "output_type": "stream",
          "name": "stdout",
          "text": [
            "Drive already mounted at /content/gdrive; to attempt to forcibly remount, call drive.mount(\"/content/gdrive\", force_remount=True).\n"
          ]
        }
      ]
    },
    {
      "cell_type": "code",
      "metadata": {
        "id": "AtekSLDgHpH6"
      },
      "source": [
        "X = pd.read_csv('/content/gdrive/MyDrive/csv_data/embedded.csv',header=None)"
      ],
      "execution_count": 4,
      "outputs": []
    },
    {
      "cell_type": "code",
      "metadata": {
        "id": "YxuMxGZ5H9G7"
      },
      "source": [
        "y = pd.read_csv('/content/gdrive/MyDrive/csv_data/labels.csv', header=None)"
      ],
      "execution_count": 5,
      "outputs": []
    },
    {
      "cell_type": "code",
      "metadata": {
        "id": "djMzvQuSPYB0"
      },
      "source": [
        "scaler = StandardScaler()\n",
        "scaler.fit(X)\n",
        "X_sc =pd.DataFrame(scaler.transform(X))"
      ],
      "execution_count": 6,
      "outputs": []
    },
    {
      "cell_type": "code",
      "metadata": {
        "id": "Klyj9QW7ISFq"
      },
      "source": [
        "X_train, X_test, y_train, y_test = train_test_split(X_sc,y,test_size=0.3, random_state=10)"
      ],
      "execution_count": 7,
      "outputs": []
    },
    {
      "cell_type": "markdown",
      "metadata": {
        "id": "kiB0OJ-vOOa1"
      },
      "source": [
        "## **Logistic Regression**"
      ]
    },
    {
      "cell_type": "code",
      "metadata": {
        "id": "pC7UEEMvO4un"
      },
      "source": [
        "from sklearn.linear_model import LogisticRegression"
      ],
      "execution_count": null,
      "outputs": []
    },
    {
      "cell_type": "code",
      "metadata": {
        "id": "txxgvFJRB3yG"
      },
      "source": [
        "log_reg_mod = LogisticRegression(max_iter=10000)"
      ],
      "execution_count": null,
      "outputs": []
    },
    {
      "cell_type": "code",
      "metadata": {
        "id": "VrfMDBDyPqXd"
      },
      "source": [
        "log_reg_mod.fit(X_train, np.array(y_train).flatten())"
      ],
      "execution_count": null,
      "outputs": []
    },
    {
      "cell_type": "code",
      "metadata": {
        "colab": {
          "base_uri": "https://localhost:8080/"
        },
        "id": "sNXC4Z1aSWgd",
        "outputId": "18b0d920-85c4-46d0-fbdf-0c61f342a7fc"
      },
      "source": [
        "joblib.dump(log_reg_mod, 'log_reg.sav')"
      ],
      "execution_count": null,
      "outputs": [
        {
          "output_type": "execute_result",
          "data": {
            "text/plain": [
              "['log_reg.sav']"
            ]
          },
          "metadata": {},
          "execution_count": 10
        }
      ]
    },
    {
      "cell_type": "code",
      "metadata": {
        "id": "CPjcioPPPwrR"
      },
      "source": [
        "y_pre_lg = log_reg_mod.predict(X_test)"
      ],
      "execution_count": null,
      "outputs": []
    },
    {
      "cell_type": "code",
      "metadata": {
        "colab": {
          "base_uri": "https://localhost:8080/"
        },
        "id": "gGrNxCU0QpAv",
        "outputId": "a4eeab08-d125-42f4-e237-795f56ef6a45"
      },
      "source": [
        "print(classification_report(y_test,y_pre_lg))"
      ],
      "execution_count": null,
      "outputs": [
        {
          "output_type": "stream",
          "name": "stdout",
          "text": [
            "              precision    recall  f1-score   support\n",
            "\n",
            "       blues       0.87      0.94      0.90        35\n",
            "   classical       0.89      1.00      0.94        33\n",
            "     country       0.81      0.78      0.79        27\n",
            "       disco       0.88      0.68      0.77        34\n",
            "      hiphop       0.77      0.96      0.85        24\n",
            "        jazz       1.00      0.91      0.96        35\n",
            "       metal       0.97      1.00      0.98        31\n",
            "         pop       0.77      0.88      0.82        26\n",
            "      reggae       0.92      0.80      0.86        30\n",
            "        rock       0.70      0.64      0.67        25\n",
            "\n",
            "    accuracy                           0.86       300\n",
            "   macro avg       0.86      0.86      0.85       300\n",
            "weighted avg       0.87      0.86      0.86       300\n",
            "\n"
          ]
        }
      ]
    },
    {
      "cell_type": "code",
      "metadata": {
        "colab": {
          "base_uri": "https://localhost:8080/"
        },
        "id": "xRqrhZgCSFq-",
        "outputId": "0d6c3e83-75f4-49fc-cb89-156c34a2aa0a"
      },
      "source": [
        "print(confusion_matrix(y_test, y_pre_lg))"
      ],
      "execution_count": null,
      "outputs": [
        {
          "output_type": "stream",
          "name": "stdout",
          "text": [
            "[[33  1  0  0  0  0  0  0  0  1]\n",
            " [ 0 33  0  0  0  0  0  0  0  0]\n",
            " [ 2  0 21  2  0  0  0  1  0  1]\n",
            " [ 0  1  1 23  2  0  0  4  0  3]\n",
            " [ 0  0  0  0 23  0  0  0  1  0]\n",
            " [ 1  2  0  0  0 32  0  0  0  0]\n",
            " [ 0  0  0  0  0  0 31  0  0  0]\n",
            " [ 0  0  0  0  2  0  0 23  0  1]\n",
            " [ 0  0  1  1  1  0  0  2 24  1]\n",
            " [ 2  0  3  0  2  0  1  0  1 16]]\n"
          ]
        }
      ]
    },
    {
      "cell_type": "code",
      "metadata": {
        "id": "72v0BoyeSm4t"
      },
      "source": [
        "kf3 = KFold(n_splits=3, shuffle=True)\n",
        "mod_lg = LogisticRegression(max_iter=10000)"
      ],
      "execution_count": null,
      "outputs": []
    },
    {
      "cell_type": "code",
      "metadata": {
        "id": "gDhZlRtDnlAj",
        "colab": {
          "base_uri": "https://localhost:8080/"
        },
        "outputId": "f9334574-d9f5-4360-8cbd-6bbf510a5d8c"
      },
      "source": [
        "i=1\n",
        "for x_train_idx, x_test_idx in kf3.split(X_sc):\n",
        "  X_train = X_sc.iloc[x_train_idx]\n",
        "  X_test = X_sc.iloc[x_test_idx]\n",
        "  y_train = y.iloc[x_train_idx]\n",
        "  y_test = y.iloc[x_test_idx]\n",
        "  mod_lg.fit(X_train, np.array(y_train).flatten())\n",
        "  print(f\"Accuracy for the fold no. {i} on the test set: {accuracy_score(y_test, mod_lg.predict(X_test))}\")\n",
        "  i=i+1"
      ],
      "execution_count": null,
      "outputs": [
        {
          "output_type": "stream",
          "name": "stdout",
          "text": [
            "Accuracy for the fold no. 1 on the test set: 0.8618618618618619\n",
            "Accuracy for the fold no. 2 on the test set: 0.8678678678678678\n",
            "Accuracy for the fold no. 3 on the test set: 0.8318318318318318\n"
          ]
        }
      ]
    },
    {
      "cell_type": "markdown",
      "metadata": {
        "id": "zcyatWgE10HQ"
      },
      "source": [
        "## **KNN**"
      ]
    },
    {
      "cell_type": "code",
      "metadata": {
        "id": "ZF9YDE5C19Xe"
      },
      "source": [
        "from sklearn.neighbors import KNeighborsClassifier"
      ],
      "execution_count": null,
      "outputs": []
    },
    {
      "cell_type": "code",
      "metadata": {
        "id": "8oFVfQ_02PRZ",
        "colab": {
          "base_uri": "https://localhost:8080/"
        },
        "outputId": "b5836f4e-1623-4b5f-dd19-623746aff146"
      },
      "source": [
        "neigh = KNeighborsClassifier(n_neighbors = 4)\n",
        "neigh.fit(X_train, np.array(y_train).flatten())"
      ],
      "execution_count": null,
      "outputs": [
        {
          "output_type": "execute_result",
          "data": {
            "text/plain": [
              "KNeighborsClassifier(algorithm='auto', leaf_size=30, metric='minkowski',\n",
              "                     metric_params=None, n_jobs=None, n_neighbors=4, p=2,\n",
              "                     weights='uniform')"
            ]
          },
          "metadata": {},
          "execution_count": 9
        }
      ]
    },
    {
      "cell_type": "code",
      "metadata": {
        "id": "ENLgj3UW3ATr"
      },
      "source": [
        "acc_ls = []\n",
        "for n in range (3,20):\n",
        "  neigh = KNeighborsClassifier(n_neighbors = n)\n",
        "  neigh.fit(X_train, np.array(y_train).flatten())\n",
        "  acc_ls.append(accuracy_score(y_test, neigh.predict(X_test)))"
      ],
      "execution_count": null,
      "outputs": []
    },
    {
      "cell_type": "code",
      "metadata": {
        "id": "WAlXILr94JLr",
        "colab": {
          "base_uri": "https://localhost:8080/",
          "height": 497
        },
        "outputId": "1fa7fecb-9b03-45b4-8230-ca3192a0228e"
      },
      "source": [
        "plt.figure(figsize=(12,8))\n",
        "sns.scatterplot(x=range(3,20), y=acc_ls, s=150)\n",
        "plt.ylabel('accuracy_point')\n",
        "plt.xlabel('number of neighbours')\n",
        "plt.show()"
      ],
      "execution_count": null,
      "outputs": [
        {
          "output_type": "display_data",
          "data": {
            "image/png": "[encoded data removed]",
            "text/plain": [
              "<Figure size 864x576 with 1 Axes>"
            ]
          },
          "metadata": {
            "needs_background": "light"
          }
        }
      ]
    },
    {
      "cell_type": "code",
      "metadata": {
        "id": "_7ZXk_Md-VyP",
        "colab": {
          "base_uri": "https://localhost:8080/"
        },
        "outputId": "cb39930a-3978-4515-cf8f-38e43c10baba"
      },
      "source": [
        "kf3 = KFold(n_splits=3, shuffle=True)\n",
        "mod_knn = KNeighborsClassifier(n_neighbors=4)\n",
        "i=1\n",
        "for x_train_idx, x_test_idx in kf3.split(X_sc):\n",
        "  X_train = X_sc.iloc[x_train_idx]\n",
        "  X_test = X_sc.iloc[x_test_idx]\n",
        "  y_train = y.iloc[x_train_idx]\n",
        "  y_test = y.iloc[x_test_idx]\n",
        "  mod_knn.fit(X_train, np.array(y_train).flatten())\n",
        "  print(f\"Accuracy for the fold no. {i} on the test set: {accuracy_score(y_test, mod_knn.predict(X_test))}\")\n",
        "  i=i+1"
      ],
      "execution_count": null,
      "outputs": [
        {
          "output_type": "stream",
          "name": "stdout",
          "text": [
            "Accuracy for the fold no. 1 on the test set: 0.7717717717717718\n",
            "Accuracy for the fold no. 2 on the test set: 0.7747747747747747\n",
            "Accuracy for the fold no. 3 on the test set: 0.8078078078078078\n"
          ]
        }
      ]
    },
    {
      "cell_type": "markdown",
      "metadata": {
        "id": "RE-XltsexggE"
      },
      "source": [
        "### **SVM**"
      ]
    },
    {
      "cell_type": "code",
      "metadata": {
        "id": "83Z3JpcUxkZk"
      },
      "source": [
        "from sklearn.svm import SVC"
      ],
      "execution_count": null,
      "outputs": []
    },
    {
      "cell_type": "code",
      "metadata": {
        "id": "R-ewbdMom7UT"
      },
      "source": [
        "kernels = {'linear':[], 'poly':[], 'rbf':[], 'sigmoid':[]}"
      ],
      "execution_count": null,
      "outputs": []
    },
    {
      "cell_type": "code",
      "metadata": {
        "id": "R5HoILa0qS2q"
      },
      "source": [
        "kf3 = KFold(n_splits=3, shuffle=True)"
      ],
      "execution_count": null,
      "outputs": []
    },
    {
      "cell_type": "code",
      "metadata": {
        "id": "jIV4LU8_z0IH",
        "colab": {
          "base_uri": "https://localhost:8080/"
        },
        "outputId": "3a13243e-3ae7-40f8-c906-5a11f711afcd"
      },
      "source": [
        "i=1\n",
        "for x_train_idx, x_test_idx in kf3.split(X_sc):\n",
        "  X_train = X_sc.iloc[x_train_idx]\n",
        "  X_test = X_sc.iloc[x_test_idx]\n",
        "  y_train = y.iloc[x_train_idx]\n",
        "  y_test = y.iloc[x_test_idx]\n",
        "  for kernel in kernels.keys():\n",
        "    mod_svm = SVC(kernel=kernel)\n",
        "    mod_svm.fit(X_train, np.array(y_train).flatten())\n",
        "    kernels[kernel].append(accuracy_score(y_test, mod_svm.predict(X_test)))\n",
        "    print(f\"Accuracy for the fold no. {i} withe kernel = {kernel} on the test set: {kernels[kernel][i-1]}\")\n",
        "  i=i+1\n",
        "  print('')"
      ],
      "execution_count": null,
      "outputs": [
        {
          "output_type": "stream",
          "name": "stdout",
          "text": [
            "Accuracy for the fold no. 1 withe kernel = linear on the test set: 0.8558558558558559\n",
            "Accuracy for the fold no. 1 withe kernel = poly on the test set: 0.48348348348348347\n",
            "Accuracy for the fold no. 1 withe kernel = rbf on the test set: 0.8108108108108109\n",
            "Accuracy for the fold no. 1 withe kernel = sigmoid on the test set: 0.8228228228228228\n",
            "\n",
            "Accuracy for the fold no. 2 withe kernel = linear on the test set: 0.8468468468468469\n",
            "Accuracy for the fold no. 2 withe kernel = poly on the test set: 0.6516516516516516\n",
            "Accuracy for the fold no. 2 withe kernel = rbf on the test set: 0.7957957957957958\n",
            "Accuracy for the fold no. 2 withe kernel = sigmoid on the test set: 0.8048048048048048\n",
            "\n",
            "Accuracy for the fold no. 3 withe kernel = linear on the test set: 0.8558558558558559\n",
            "Accuracy for the fold no. 3 withe kernel = poly on the test set: 0.5135135135135135\n",
            "Accuracy for the fold no. 3 withe kernel = rbf on the test set: 0.8138138138138138\n",
            "Accuracy for the fold no. 3 withe kernel = sigmoid on the test set: 0.8138138138138138\n",
            "\n"
          ]
        }
      ]
    },
    {
      "cell_type": "code",
      "metadata": {
        "id": "KHe1OIX8iiDN"
      },
      "source": [
        "acc_mean = []\n",
        "for key in kernels.keys():\n",
        "  acc_mean.append(mean(kernels[key]))"
      ],
      "execution_count": null,
      "outputs": []
    },
    {
      "cell_type": "code",
      "metadata": {
        "colab": {
          "base_uri": "https://localhost:8080/",
          "height": 497
        },
        "id": "V7FdxYWxkpH7",
        "outputId": "fc807a42-f440-484e-9cbe-4159e3719782"
      },
      "source": [
        "plt.figure(figsize=(12,8))\n",
        "sns.barplot(x=list(kernels.keys()), y=acc_mean)\n",
        "plt.xlabel('Kernel Type')\n",
        "plt.ylabel('Accuracy Score mean value of 3 folds')\n",
        "plt.show()"
      ],
      "execution_count": null,
      "outputs": [
        {
          "output_type": "display_data",
          "data": {
            "image/png": "[encoded data removed]",
            "text/plain": [
              "<Figure size 864x576 with 1 Axes>"
            ]
          },
          "metadata": {
            "needs_background": "light"
          }
        }
      ]
    },
    {
      "cell_type": "markdown",
      "metadata": {
        "id": "fDaSO2OZDUC8"
      },
      "source": [
        "### **Decision Tree**"
      ]
    },
    {
      "cell_type": "code",
      "metadata": {
        "id": "eWnUlKVrDesx"
      },
      "source": [
        "from sklearn.tree import DecisionTreeClassifier"
      ],
      "execution_count": null,
      "outputs": []
    },
    {
      "cell_type": "code",
      "metadata": {
        "id": "C4vvv8NtS-N_"
      },
      "source": [
        "kf3 = KFold(n_splits=3, shuffle=True)"
      ],
      "execution_count": null,
      "outputs": []
    },
    {
      "cell_type": "code",
      "metadata": {
        "colab": {
          "base_uri": "https://localhost:8080/"
        },
        "id": "MLlMdx74UEIW",
        "outputId": "771f0621-34b4-4de3-d83a-b1e6f9474f05"
      },
      "source": [
        "acc_dic_dt = {}\n",
        "for n in range(3,20):\n",
        "  acc_dic_dt.setdefault(n,[])\n",
        "i=1\n",
        "for x_train_idx, x_test_idx in kf3.split(X_sc):\n",
        "  X_train = X_sc.iloc[x_train_idx]\n",
        "  X_test = X_sc.iloc[x_test_idx]\n",
        "  y_train = y.iloc[x_train_idx]\n",
        "  y_test = y.iloc[x_test_idx]\n",
        "  for n in range (3,20):\n",
        "    clf = DecisionTreeClassifier(max_depth=n)\n",
        "    clf.fit(X_train, y_train)\n",
        "    acc_dic_dt[n].append(accuracy_score(y_test, clf.predict(X_test)))\n",
        "    print(f\"Accuracy for the fold no. {i} with max depth:{n} on the test set: {acc_dic_dt[n][i-1]}\")\n",
        "  i = i+1\n",
        "  print('')"
      ],
      "execution_count": null,
      "outputs": [
        {
          "output_type": "stream",
          "name": "stdout",
          "text": [
            "Accuracy for the fold no. 1 with max depth:3 on the test set: 0.2552552552552553\n",
            "Accuracy for the fold no. 1 with max depth:4 on the test set: 0.2822822822822823\n",
            "Accuracy for the fold no. 1 with max depth:5 on the test set: 0.3213213213213213\n",
            "Accuracy for the fold no. 1 with max depth:6 on the test set: 0.3633633633633634\n",
            "Accuracy for the fold no. 1 with max depth:7 on the test set: 0.40540540540540543\n",
            "Accuracy for the fold no. 1 with max depth:8 on the test set: 0.4144144144144144\n",
            "Accuracy for the fold no. 1 with max depth:9 on the test set: 0.4144144144144144\n",
            "Accuracy for the fold no. 1 with max depth:10 on the test set: 0.4144144144144144\n",
            "Accuracy for the fold no. 1 with max depth:11 on the test set: 0.4114114114114114\n",
            "Accuracy for the fold no. 1 with max depth:12 on the test set: 0.44144144144144143\n",
            "Accuracy for the fold no. 1 with max depth:13 on the test set: 0.4294294294294294\n",
            "Accuracy for the fold no. 1 with max depth:14 on the test set: 0.40540540540540543\n",
            "Accuracy for the fold no. 1 with max depth:15 on the test set: 0.44744744744744747\n",
            "Accuracy for the fold no. 1 with max depth:16 on the test set: 0.4294294294294294\n",
            "Accuracy for the fold no. 1 with max depth:17 on the test set: 0.4264264264264264\n",
            "Accuracy for the fold no. 1 with max depth:18 on the test set: 0.4174174174174174\n",
            "Accuracy for the fold no. 1 with max depth:19 on the test set: 0.42342342342342343\n",
            "\n",
            "Accuracy for the fold no. 2 with max depth:3 on the test set: 0.3033033033033033\n",
            "Accuracy for the fold no. 2 with max depth:4 on the test set: 0.3303303303303303\n",
            "Accuracy for the fold no. 2 with max depth:5 on the test set: 0.3663663663663664\n",
            "Accuracy for the fold no. 2 with max depth:6 on the test set: 0.4264264264264264\n",
            "Accuracy for the fold no. 2 with max depth:7 on the test set: 0.4444444444444444\n",
            "Accuracy for the fold no. 2 with max depth:8 on the test set: 0.43543543543543545\n",
            "Accuracy for the fold no. 2 with max depth:9 on the test set: 0.45645645645645644\n",
            "Accuracy for the fold no. 2 with max depth:10 on the test set: 0.48348348348348347\n",
            "Accuracy for the fold no. 2 with max depth:11 on the test set: 0.48348348348348347\n",
            "Accuracy for the fold no. 2 with max depth:12 on the test set: 0.4624624624624625\n",
            "Accuracy for the fold no. 2 with max depth:13 on the test set: 0.46546546546546547\n",
            "Accuracy for the fold no. 2 with max depth:14 on the test set: 0.4984984984984985\n",
            "Accuracy for the fold no. 2 with max depth:15 on the test set: 0.48348348348348347\n",
            "Accuracy for the fold no. 2 with max depth:16 on the test set: 0.4744744744744745\n",
            "Accuracy for the fold no. 2 with max depth:17 on the test set: 0.4594594594594595\n",
            "Accuracy for the fold no. 2 with max depth:18 on the test set: 0.5015015015015015\n",
            "Accuracy for the fold no. 2 with max depth:19 on the test set: 0.46546546546546547\n",
            "\n",
            "Accuracy for the fold no. 3 with max depth:3 on the test set: 0.26126126126126126\n",
            "Accuracy for the fold no. 3 with max depth:4 on the test set: 0.3123123123123123\n",
            "Accuracy for the fold no. 3 with max depth:5 on the test set: 0.3663663663663664\n",
            "Accuracy for the fold no. 3 with max depth:6 on the test set: 0.3993993993993994\n",
            "Accuracy for the fold no. 3 with max depth:7 on the test set: 0.42042042042042044\n",
            "Accuracy for the fold no. 3 with max depth:8 on the test set: 0.3993993993993994\n",
            "Accuracy for the fold no. 3 with max depth:9 on the test set: 0.4264264264264264\n",
            "Accuracy for the fold no. 3 with max depth:10 on the test set: 0.3993993993993994\n",
            "Accuracy for the fold no. 3 with max depth:11 on the test set: 0.4024024024024024\n",
            "Accuracy for the fold no. 3 with max depth:12 on the test set: 0.42342342342342343\n",
            "Accuracy for the fold no. 3 with max depth:13 on the test set: 0.43543543543543545\n",
            "Accuracy for the fold no. 3 with max depth:14 on the test set: 0.3933933933933934\n",
            "Accuracy for the fold no. 3 with max depth:15 on the test set: 0.4084084084084084\n",
            "Accuracy for the fold no. 3 with max depth:16 on the test set: 0.3993993993993994\n",
            "Accuracy for the fold no. 3 with max depth:17 on the test set: 0.43543543543543545\n",
            "Accuracy for the fold no. 3 with max depth:18 on the test set: 0.4084084084084084\n",
            "Accuracy for the fold no. 3 with max depth:19 on the test set: 0.3993993993993994\n",
            "\n"
          ]
        }
      ]
    },
    {
      "cell_type": "code",
      "metadata": {
        "id": "Ni-mE_LH6b5q"
      },
      "source": [
        "with open(\"/content/gdrive/MyDrive/json_data/dt.json\",\"w\") as outfile:\n",
        "  json.dump(acc_dic_dt, outfile)"
      ],
      "execution_count": null,
      "outputs": []
    },
    {
      "cell_type": "code",
      "metadata": {
        "id": "ouMjbYXtEAqg"
      },
      "source": [
        "with open('/content/gdrive/MyDrive/json_data/dt.json') as json_file:\n",
        "  inp = json.load(json_file)"
      ],
      "execution_count": null,
      "outputs": []
    },
    {
      "cell_type": "code",
      "metadata": {
        "id": "dxvbqjvOEWL2"
      },
      "source": [
        "acc_mean_dt = []\n",
        "for key in inp.keys():\n",
        "  acc_mean_dt.append(mean(inp[key]))"
      ],
      "execution_count": null,
      "outputs": []
    },
    {
      "cell_type": "code",
      "metadata": {
        "id": "s0xj7HDbOKzH",
        "colab": {
          "base_uri": "https://localhost:8080/",
          "height": 497
        },
        "outputId": "0f609718-d8db-4749-8f0f-8c00e021cbf8"
      },
      "source": [
        "plt.figure(figsize=(12,8))\n",
        "sns.barplot(x=list(inp.keys()), y=acc_mean_dt)\n",
        "plt.xlabel('Max depth of the tree')\n",
        "plt.ylabel('Mean accuracy of three folds')\n",
        "plt.show()"
      ],
      "execution_count": null,
      "outputs": [
        {
          "output_type": "display_data",
          "data": {
            "image/png": "[encoded data removed]",
            "text/plain": [
              "<Figure size 864x576 with 1 Axes>"
            ]
          },
          "metadata": {
            "needs_background": "light"
          }
        }
      ]
    },
    {
      "cell_type": "markdown",
      "metadata": {
        "id": "lWX-cuRbPVtJ"
      },
      "source": [
        "### **Random Forests**"
      ]
    },
    {
      "cell_type": "code",
      "metadata": {
        "id": "a2gAMU-TPZzT"
      },
      "source": [
        "from sklearn.ensemble import RandomForestClassifier"
      ],
      "execution_count": null,
      "outputs": []
    },
    {
      "cell_type": "code",
      "metadata": {
        "id": "3OWt9lfmPf71"
      },
      "source": [
        "kf3 = KFold(n_splits=3, shuffle=True)"
      ],
      "execution_count": null,
      "outputs": []
    },
    {
      "cell_type": "code",
      "metadata": {
        "id": "RHBVA8p2TWOg",
        "colab": {
          "base_uri": "https://localhost:8080/"
        },
        "outputId": "19db952e-df1a-48d2-cd38-96b3f4712506"
      },
      "source": [
        "acc_dic_rfc = {}\n",
        "for n in range(100, 1001,100):\n",
        "  acc_dic_rfc.setdefault(n,[])\n",
        "\n",
        "i=1\n",
        "for train_idx, test_idx in kf3.split(X_sc):\n",
        "  X_train = X_sc.iloc[train_idx]\n",
        "  X_test = X_sc.iloc[test_idx]\n",
        "  y_train = y.iloc[train_idx]\n",
        "  y_test = y.iloc[test_idx]\n",
        "  for n in range(100, 1001,100):\n",
        "    rfc = RandomForestClassifier(n_estimators=n)\n",
        "    rfc.fit(X_train, np.array(y_train).flatten())\n",
        "    acc_dic_rfc[n].append(accuracy_score(y_test, rfc.predict(X_test)))\n",
        "    print(f\"Accuracy for the fold no. {i} with n_estimators:{n} on the test set: {acc_dic_rfc[n][i-1]}\")\n",
        "  i = i+1\n",
        "  print('')\n"
      ],
      "execution_count": null,
      "outputs": [
        {
          "output_type": "stream",
          "name": "stdout",
          "text": [
            "Accuracy for the fold no. 1 with n_estimators:100 on the test set: 0.7267267267267268\n",
            "Accuracy for the fold no. 1 with n_estimators:200 on the test set: 0.7327327327327328\n",
            "Accuracy for the fold no. 1 with n_estimators:300 on the test set: 0.7327327327327328\n",
            "Accuracy for the fold no. 1 with n_estimators:400 on the test set: 0.7507507507507507\n",
            "Accuracy for the fold no. 1 with n_estimators:500 on the test set: 0.7417417417417418\n",
            "Accuracy for the fold no. 1 with n_estimators:600 on the test set: 0.7417417417417418\n",
            "Accuracy for the fold no. 1 with n_estimators:700 on the test set: 0.7417417417417418\n",
            "Accuracy for the fold no. 1 with n_estimators:800 on the test set: 0.7537537537537538\n",
            "Accuracy for the fold no. 1 with n_estimators:900 on the test set: 0.7507507507507507\n",
            "Accuracy for the fold no. 1 with n_estimators:1000 on the test set: 0.7387387387387387\n",
            "\n",
            "Accuracy for the fold no. 2 with n_estimators:100 on the test set: 0.7477477477477478\n",
            "Accuracy for the fold no. 2 with n_estimators:200 on the test set: 0.7657657657657657\n",
            "Accuracy for the fold no. 2 with n_estimators:300 on the test set: 0.7747747747747747\n",
            "Accuracy for the fold no. 2 with n_estimators:400 on the test set: 0.7627627627627628\n",
            "Accuracy for the fold no. 2 with n_estimators:500 on the test set: 0.7597597597597597\n",
            "Accuracy for the fold no. 2 with n_estimators:600 on the test set: 0.7507507507507507\n",
            "Accuracy for the fold no. 2 with n_estimators:700 on the test set: 0.7567567567567568\n",
            "Accuracy for the fold no. 2 with n_estimators:800 on the test set: 0.7627627627627628\n",
            "Accuracy for the fold no. 2 with n_estimators:900 on the test set: 0.7747747747747747\n",
            "Accuracy for the fold no. 2 with n_estimators:1000 on the test set: 0.7687687687687688\n",
            "\n",
            "Accuracy for the fold no. 3 with n_estimators:100 on the test set: 0.7507507507507507\n",
            "Accuracy for the fold no. 3 with n_estimators:200 on the test set: 0.7987987987987988\n",
            "Accuracy for the fold no. 3 with n_estimators:300 on the test set: 0.8018018018018018\n",
            "Accuracy for the fold no. 3 with n_estimators:400 on the test set: 0.7837837837837838\n",
            "Accuracy for the fold no. 3 with n_estimators:500 on the test set: 0.8018018018018018\n",
            "Accuracy for the fold no. 3 with n_estimators:600 on the test set: 0.7927927927927928\n",
            "Accuracy for the fold no. 3 with n_estimators:700 on the test set: 0.8078078078078078\n",
            "Accuracy for the fold no. 3 with n_estimators:800 on the test set: 0.7897897897897898\n",
            "Accuracy for the fold no. 3 with n_estimators:900 on the test set: 0.8048048048048048\n",
            "Accuracy for the fold no. 3 with n_estimators:1000 on the test set: 0.7957957957957958\n",
            "\n"
          ]
        }
      ]
    },
    {
      "cell_type": "code",
      "metadata": {
        "id": "Bt-XUtcUTgOE"
      },
      "source": [
        "with open(\"/content/gdrive/MyDrive/json_data/rfc.json\",\"w\") as outfile:\n",
        "  json.dump(acc_dic_rfc, outfile)"
      ],
      "execution_count": null,
      "outputs": []
    },
    {
      "cell_type": "code",
      "metadata": {
        "id": "OUoAloFHou0s"
      },
      "source": [
        "with open('/content/gdrive/MyDrive/json_data/rfc.json') as json_file:\n",
        "  inp = json.load(json_file)"
      ],
      "execution_count": null,
      "outputs": []
    },
    {
      "cell_type": "markdown",
      "metadata": {
        "id": "PofpLxV7uA8W"
      },
      "source": [
        "### **Gradient Boosting**"
      ]
    },
    {
      "cell_type": "code",
      "metadata": {
        "id": "IcsS8nhSuI0C"
      },
      "source": [
        "import xgboost as xgb"
      ],
      "execution_count": null,
      "outputs": []
    },
    {
      "cell_type": "code",
      "metadata": {
        "id": "8eaG1OzFrVSK"
      },
      "source": [
        "kf3 = KFold(n_splits=3, shuffle=True)"
      ],
      "execution_count": null,
      "outputs": []
    },
    {
      "cell_type": "code",
      "metadata": {
        "id": "wSSCsmn-zpEq"
      },
      "source": [
        "max_depths = range(5,16)"
      ],
      "execution_count": null,
      "outputs": []
    },
    {
      "cell_type": "code",
      "metadata": {
        "id": "oZrGoogZq29E",
        "colab": {
          "base_uri": "https://localhost:8080/"
        },
        "outputId": "4e4bffd4-d07a-4336-adb8-02f1cbb20521"
      },
      "source": [
        "acc_dic_gb = {}\n",
        "for n in max_depths:\n",
        "  acc_dic_gb.setdefault(n,[])\n",
        "i=1\n",
        "for train_idx, test_idx in kf3.split(X_sc):\n",
        "  X_train = X_sc.iloc[train_idx]\n",
        "  X_test = X_sc.iloc[test_idx]\n",
        "  y_train = y.iloc[train_idx]\n",
        "  y_test = y.iloc[test_idx]\n",
        "  for n in max_depths:\n",
        "    xgbc = xgb.XGBClassifier(max_depths=n, learning_rate=0.1)\n",
        "    xgbc.fit(X_train, np.array(y_train).flatten())\n",
        "    acc_dic_gb[n].append(accuracy_score(y_test, xgbc.predict(X_test)))\n",
        "    print(f\"Accuracy for the fold no. {i} with n_estimators:{n} on the test set: {acc_dic_gb[n][i-1]}\")\n",
        "  i = i+1\n",
        "  print('')"
      ],
      "execution_count": null,
      "outputs": [
        {
          "output_type": "stream",
          "name": "stdout",
          "text": [
            "Accuracy for the fold no. 1 with n_estimators:5 on the test set: 0.7657657657657657\n",
            "Accuracy for the fold no. 1 with n_estimators:6 on the test set: 0.7657657657657657\n",
            "Accuracy for the fold no. 1 with n_estimators:7 on the test set: 0.7657657657657657\n",
            "Accuracy for the fold no. 1 with n_estimators:8 on the test set: 0.7657657657657657\n",
            "Accuracy for the fold no. 1 with n_estimators:9 on the test set: 0.7657657657657657\n",
            "Accuracy for the fold no. 1 with n_estimators:10 on the test set: 0.7657657657657657\n",
            "Accuracy for the fold no. 1 with n_estimators:11 on the test set: 0.7657657657657657\n",
            "Accuracy for the fold no. 1 with n_estimators:12 on the test set: 0.7657657657657657\n",
            "Accuracy for the fold no. 1 with n_estimators:13 on the test set: 0.7657657657657657\n",
            "Accuracy for the fold no. 1 with n_estimators:14 on the test set: 0.7657657657657657\n",
            "Accuracy for the fold no. 1 with n_estimators:15 on the test set: 0.7657657657657657\n",
            "\n",
            "Accuracy for the fold no. 2 with n_estimators:5 on the test set: 0.7147147147147147\n",
            "Accuracy for the fold no. 2 with n_estimators:6 on the test set: 0.7147147147147147\n",
            "Accuracy for the fold no. 2 with n_estimators:7 on the test set: 0.7147147147147147\n",
            "Accuracy for the fold no. 2 with n_estimators:8 on the test set: 0.7147147147147147\n",
            "Accuracy for the fold no. 2 with n_estimators:9 on the test set: 0.7147147147147147\n",
            "Accuracy for the fold no. 2 with n_estimators:10 on the test set: 0.7147147147147147\n",
            "Accuracy for the fold no. 2 with n_estimators:11 on the test set: 0.7147147147147147\n",
            "Accuracy for the fold no. 2 with n_estimators:12 on the test set: 0.7147147147147147\n",
            "Accuracy for the fold no. 2 with n_estimators:13 on the test set: 0.7147147147147147\n",
            "Accuracy for the fold no. 2 with n_estimators:14 on the test set: 0.7147147147147147\n",
            "Accuracy for the fold no. 2 with n_estimators:15 on the test set: 0.7147147147147147\n",
            "\n",
            "Accuracy for the fold no. 3 with n_estimators:5 on the test set: 0.7627627627627628\n",
            "Accuracy for the fold no. 3 with n_estimators:6 on the test set: 0.7627627627627628\n",
            "Accuracy for the fold no. 3 with n_estimators:7 on the test set: 0.7627627627627628\n",
            "Accuracy for the fold no. 3 with n_estimators:8 on the test set: 0.7627627627627628\n",
            "Accuracy for the fold no. 3 with n_estimators:9 on the test set: 0.7627627627627628\n",
            "Accuracy for the fold no. 3 with n_estimators:10 on the test set: 0.7627627627627628\n",
            "Accuracy for the fold no. 3 with n_estimators:11 on the test set: 0.7627627627627628\n",
            "Accuracy for the fold no. 3 with n_estimators:12 on the test set: 0.7627627627627628\n",
            "Accuracy for the fold no. 3 with n_estimators:13 on the test set: 0.7627627627627628\n",
            "Accuracy for the fold no. 3 with n_estimators:14 on the test set: 0.7627627627627628\n",
            "Accuracy for the fold no. 3 with n_estimators:15 on the test set: 0.7627627627627628\n",
            "\n"
          ]
        }
      ]
    },
    {
      "cell_type": "markdown",
      "metadata": {
        "id": "JW7NDFYR-rRv"
      },
      "source": [
        "### **Neural Network(MLP)**"
      ]
    },
    {
      "cell_type": "code",
      "metadata": {
        "id": "zCldui2i-wvl"
      },
      "source": [
        "from tensorflow.keras.models import Sequential\n",
        "from tensorflow.keras.layers import add, Dense\n",
        "import tensorflow as tf"
      ],
      "execution_count": 58,
      "outputs": []
    },
    {
      "cell_type": "code",
      "metadata": {
        "id": "genfYpGMhKFR"
      },
      "source": [
        "genres = ['blues', 'classical', 'country', 'disco', 'hiphop', 'jazz', 'metal', 'pop', 'reggae', 'rock']"
      ],
      "execution_count": 59,
      "outputs": []
    },
    {
      "cell_type": "code",
      "metadata": {
        "id": "3bO6u14i-1yl"
      },
      "source": [
        "y_train_cat = pd.get_dummies(y_train)"
      ],
      "execution_count": 60,
      "outputs": []
    },
    {
      "cell_type": "code",
      "metadata": {
        "id": "SZkdiKumE3TJ"
      },
      "source": [
        "tf.config.run_functions_eagerly(True)\n",
        "tf.data.experimental.enable_debug_mode()"
      ],
      "execution_count": 74,
      "outputs": []
    },
    {
      "cell_type": "code",
      "metadata": {
        "id": "ovZ-5vWfMWr5"
      },
      "source": [
        "model = Sequential()\n",
        "model.add(Dense(1024, input_dim=30720, activation='relu'))\n",
        "model.add(Dense(512, activation='relu'))\n",
        "model.add(Dense(512, activation='relu'))\n",
        "model.add(Dense(10, activation='softmax'))\n",
        "model.compile(optimizer='adam', loss='categorical_crossentropy', metrics=['accuracy'])"
      ],
      "execution_count": 71,
      "outputs": []
    },
    {
      "cell_type": "code",
      "metadata": {
        "id": "jRcwl1rGbKq3",
        "outputId": "d893a788-bf8f-42ea-9151-28d91cbbfbf3",
        "colab": {
          "base_uri": "https://localhost:8080/"
        }
      },
      "source": [
        "model.summary()"
      ],
      "execution_count": 72,
      "outputs": [
        {
          "output_type": "stream",
          "name": "stdout",
          "text": [
            "Model: \"sequential_10\"\n",
            "_________________________________________________________________\n",
            " Layer (type)                Output Shape              Param #   \n",
            "=================================================================\n",
            " dense_35 (Dense)            (None, 1024)              31458304  \n",
            "                                                                 \n",
            " dense_36 (Dense)            (None, 512)               524800    \n",
            "                                                                 \n",
            " dense_37 (Dense)            (None, 512)               262656    \n",
            "                                                                 \n",
            " dense_38 (Dense)            (None, 10)                5130      \n",
            "                                                                 \n",
            "=================================================================\n",
            "Total params: 32,250,890\n",
            "Trainable params: 32,250,890\n",
            "Non-trainable params: 0\n",
            "_________________________________________________________________\n"
          ]
        }
      ]
    },
    {
      "cell_type": "code",
      "metadata": {
        "id": "N4ogACgEbTXi",
        "outputId": "f0f4f34e-f7d4-4c18-9d1b-87aff1ea53c1",
        "colab": {
          "base_uri": "https://localhost:8080/"
        }
      },
      "source": [
        "history = model.fit(X_train, \n",
        "                    y_train_cat, \n",
        "                    epochs=30,\n",
        "                    verbose=1,\n",
        "                    batch_size = 200,\n",
        "                    validation_split = 0.2\n",
        "                   )\n"
      ],
      "execution_count": 73,
      "outputs": [
        {
          "output_type": "stream",
          "name": "stdout",
          "text": [
            "Epoch 1/30\n",
            "3/3 [==============================] - 2s 673ms/step - loss: 7.3790 - accuracy: 0.2773 - val_loss: 8.6323 - val_accuracy: 0.4714\n",
            "Epoch 2/30\n",
            "3/3 [==============================] - 2s 573ms/step - loss: 4.4831 - accuracy: 0.6565 - val_loss: 2.9615 - val_accuracy: 0.7143\n",
            "Epoch 3/30\n",
            "3/3 [==============================] - 2s 576ms/step - loss: 1.5617 - accuracy: 0.8086 - val_loss: 1.8880 - val_accuracy: 0.7071\n",
            "Epoch 4/30\n",
            "3/3 [==============================] - 2s 569ms/step - loss: 0.6167 - accuracy: 0.9141 - val_loss: 1.7836 - val_accuracy: 0.7500\n",
            "Epoch 5/30\n",
            "3/3 [==============================] - 2s 574ms/step - loss: 0.4345 - accuracy: 0.9463 - val_loss: 1.4338 - val_accuracy: 0.8143\n",
            "Epoch 6/30\n",
            "3/3 [==============================] - 2s 566ms/step - loss: 0.1619 - accuracy: 0.9732 - val_loss: 1.7183 - val_accuracy: 0.7857\n",
            "Epoch 7/30\n",
            "3/3 [==============================] - 2s 570ms/step - loss: 0.0882 - accuracy: 0.9714 - val_loss: 1.4973 - val_accuracy: 0.8214\n",
            "Epoch 8/30\n",
            "3/3 [==============================] - 2s 578ms/step - loss: 0.0213 - accuracy: 0.9911 - val_loss: 1.5920 - val_accuracy: 0.8071\n",
            "Epoch 9/30\n",
            "3/3 [==============================] - 2s 582ms/step - loss: 0.0236 - accuracy: 0.9946 - val_loss: 1.9269 - val_accuracy: 0.7857\n",
            "Epoch 10/30\n",
            "3/3 [==============================] - 2s 573ms/step - loss: 0.0027 - accuracy: 1.0000 - val_loss: 2.2341 - val_accuracy: 0.7786\n",
            "Epoch 11/30\n",
            "3/3 [==============================] - 2s 571ms/step - loss: 0.0311 - accuracy: 0.9982 - val_loss: 1.9027 - val_accuracy: 0.8071\n",
            "Epoch 12/30\n",
            "3/3 [==============================] - 2s 567ms/step - loss: 0.0018 - accuracy: 1.0000 - val_loss: 1.7267 - val_accuracy: 0.8071\n",
            "Epoch 13/30\n",
            "3/3 [==============================] - 2s 574ms/step - loss: 4.4291e-04 - accuracy: 1.0000 - val_loss: 1.6710 - val_accuracy: 0.8143\n",
            "Epoch 14/30\n",
            "3/3 [==============================] - 2s 574ms/step - loss: 0.0013 - accuracy: 1.0000 - val_loss: 1.6335 - val_accuracy: 0.8143\n",
            "Epoch 15/30\n",
            "3/3 [==============================] - 2s 578ms/step - loss: 1.0152e-04 - accuracy: 1.0000 - val_loss: 1.6266 - val_accuracy: 0.8214\n",
            "Epoch 16/30\n",
            "3/3 [==============================] - 2s 572ms/step - loss: 8.6895e-05 - accuracy: 1.0000 - val_loss: 1.6208 - val_accuracy: 0.8214\n",
            "Epoch 17/30\n",
            "3/3 [==============================] - 2s 573ms/step - loss: 0.0016 - accuracy: 0.9982 - val_loss: 1.6129 - val_accuracy: 0.8143\n",
            "Epoch 18/30\n",
            "3/3 [==============================] - 2s 573ms/step - loss: 6.2898e-05 - accuracy: 1.0000 - val_loss: 1.5742 - val_accuracy: 0.8286\n",
            "Epoch 19/30\n",
            "3/3 [==============================] - 2s 577ms/step - loss: 4.5211e-05 - accuracy: 1.0000 - val_loss: 1.5544 - val_accuracy: 0.8286\n",
            "Epoch 20/30\n",
            "3/3 [==============================] - 2s 579ms/step - loss: 3.5017e-05 - accuracy: 1.0000 - val_loss: 1.5408 - val_accuracy: 0.8286\n",
            "Epoch 21/30\n",
            "3/3 [==============================] - 2s 579ms/step - loss: 2.8833e-05 - accuracy: 1.0000 - val_loss: 1.5301 - val_accuracy: 0.8286\n",
            "Epoch 22/30\n",
            "3/3 [==============================] - 2s 569ms/step - loss: 2.4453e-05 - accuracy: 1.0000 - val_loss: 1.5214 - val_accuracy: 0.8286\n",
            "Epoch 23/30\n",
            "3/3 [==============================] - 2s 569ms/step - loss: 2.1280e-05 - accuracy: 1.0000 - val_loss: 1.5141 - val_accuracy: 0.8286\n",
            "Epoch 24/30\n",
            "3/3 [==============================] - 2s 578ms/step - loss: 1.9263e-05 - accuracy: 1.0000 - val_loss: 1.5080 - val_accuracy: 0.8357\n",
            "Epoch 25/30\n",
            "3/3 [==============================] - 2s 573ms/step - loss: 1.7939e-05 - accuracy: 1.0000 - val_loss: 1.5029 - val_accuracy: 0.8357\n",
            "Epoch 26/30\n",
            "3/3 [==============================] - 2s 569ms/step - loss: 1.6842e-05 - accuracy: 1.0000 - val_loss: 1.4986 - val_accuracy: 0.8357\n",
            "Epoch 27/30\n",
            "3/3 [==============================] - 2s 583ms/step - loss: 1.5732e-05 - accuracy: 1.0000 - val_loss: 1.4949 - val_accuracy: 0.8357\n",
            "Epoch 28/30\n",
            "3/3 [==============================] - 2s 579ms/step - loss: 1.4909e-05 - accuracy: 1.0000 - val_loss: 1.4917 - val_accuracy: 0.8357\n",
            "Epoch 29/30\n",
            "3/3 [==============================] - 2s 580ms/step - loss: 1.4212e-05 - accuracy: 1.0000 - val_loss: 1.4887 - val_accuracy: 0.8357\n",
            "Epoch 30/30\n",
            "3/3 [==============================] - 2s 575ms/step - loss: 1.3519e-05 - accuracy: 1.0000 - val_loss: 1.4862 - val_accuracy: 0.8357\n"
          ]
        }
      ]
    },
    {
      "cell_type": "code",
      "metadata": {
        "id": "XTFHDj2-fGFE"
      },
      "source": [
        "predicted = model.predict(X_test)\n",
        "y_pre = []\n",
        "for arr in predicted:\n",
        "  y_pre.append(genres[arr.argmax()])"
      ],
      "execution_count": 75,
      "outputs": []
    },
    {
      "cell_type": "code",
      "metadata": {
        "id": "P0jbiZKAfQXp",
        "outputId": "1fbc4814-fe39-4bd5-914e-37022d37b35b",
        "colab": {
          "base_uri": "https://localhost:8080/"
        }
      },
      "source": [
        "print(accuracy_score(y_test, y_pre))"
      ],
      "execution_count": 76,
      "outputs": [
        {
          "output_type": "stream",
          "name": "stdout",
          "text": [
            "0.8033333333333333\n"
          ]
        }
      ]
    }
  ]
}