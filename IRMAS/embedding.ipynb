{
  "nbformat": 4,
  "nbformat_minor": 0,
  "metadata": {
    "colab": {
      "name": "Untitled0.ipynb",
      "provenance": [],
      "authorship_tag": "ABX9TyNccmbch9NPJUBCWYvi+AoP"
    },
    "kernelspec": {
      "display_name": "Python 3",
      "name": "python3"
    },
    "language_info": {
      "name": "python"
    },
    "accelerator": "GPU"
  },
  "cells": [
    {
      "cell_type": "code",
      "metadata": {
        "id": "MYwQW3idY5jC",
        "colab": {
          "base_uri": "https://localhost:8080/"
        },
        "outputId": "63e3d863-8a9b-4245-f8e4-1f8a9f882de3"
      },
      "source": [
        "from google.colab import drive\n",
        "import sys\n",
        "drive.mount('/content/gdrive')\n",
        "sys.path.append('/content/gdrive/My Drive/Colab Notebooks')"
      ],
      "execution_count": 1,
      "outputs": [
        {
          "output_type": "stream",
          "name": "stdout",
          "text": [
            "Mounted at /content/gdrive\n"
          ]
        }
      ]
    },
    {
      "cell_type": "code",
      "metadata": {
        "id": "x314WS87GmcN"
      },
      "source": [
        "import openl3\n",
        "import pandas as pd\n",
        "import numpy as np\n",
        "import seaborn as sns\n",
        "import soundfile as sf\n",
        "import os\n",
        "import csv"
      ],
      "execution_count": 2,
      "outputs": []
    },
    {
      "cell_type": "code",
      "metadata": {
        "id": "gTZYiydPaMtc"
      },
      "source": [
        "path = '/content/gdrive/MyDrive/IRMAS/training/unzipped/IRMAS-TrainingData'\n",
        "path_out = '/content/gdrive/MyDrive/Embedded Music/IRMAS'\n",
        "for dir in os.listdir(path):\n",
        "  for file in os.listdir(path+'/'+dir):\n",
        "      openl3.process_audio_file(path+'/'+dir+'/'+file, output_dir=path_out+'/'+dir, hop_size=0.1, embedding_size=512)"
      ],
      "execution_count": null,
      "outputs": []
    },
    {
      "cell_type": "code",
      "metadata": {
        "id": "KVeK_ixDnm8O"
      },
      "source": [
        ""
      ],
      "execution_count": null,
      "outputs": []
    }
  ]
}