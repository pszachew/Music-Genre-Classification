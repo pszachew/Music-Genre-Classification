{
  "nbformat": 4,
  "nbformat_minor": 0,
  "metadata": {
    "colab": {
      "name": "Untitled7.ipynb",
      "provenance": [],
      "authorship_tag": "ABX9TyPC7bPv6T5Gc4gQACItaf8G",
      "include_colab_link": true
    },
    "kernelspec": {
      "name": "python3",
      "display_name": "Python 3"
    },
    "language_info": {
      "name": "python"
    }
  },
  "cells": [
    {
      "cell_type": "markdown",
      "metadata": {
        "id": "view-in-github",
        "colab_type": "text"
      },
      "source": [
        "<a href=\"https://colab.research.google.com/github/pszachew/Music-Genre-Classification/blob/master/IRMAS/training_models.ipynb\" target=\"_parent\"><img src=\"https://colab.research.google.com/assets/colab-badge.svg\" alt=\"Open In Colab\"/></a>"
      ]
    },
    {
      "cell_type": "code",
      "execution_count": 1,
      "metadata": {
        "id": "QJgheRvwweA-"
      },
      "outputs": [],
      "source": [
        "import pandas as pd\n",
        "import numpy as np\n",
        "from sklearn.preprocessing import StandardScaler\n",
        "from sklearn.model_selection import train_test_split, KFold, cross_val_score\n",
        "from sklearn.pipeline import Pipeline\n",
        "from sklearn.metrics import classification_report, confusion_matrix, accuracy_score, ConfusionMatrixDisplay\n",
        "import joblib\n",
        "import seaborn as sns\n",
        "import matplotlib.pyplot as plt\n",
        "from statistics import mean\n",
        "import json"
      ]
    },
    {
      "cell_type": "code",
      "source": [
        "from google.colab import drive\n",
        "drive.mount('/content/gdrive')"
      ],
      "metadata": {
        "colab": {
          "base_uri": "https://localhost:8080/"
        },
        "id": "1amjCgJLwgDy",
        "outputId": "97ec12c5-4637-4f0c-cd51-e1020636620f"
      },
      "execution_count": 2,
      "outputs": [
        {
          "output_type": "stream",
          "name": "stdout",
          "text": [
            "Mounted at /content/gdrive\n"
          ]
        }
      ]
    },
    {
      "cell_type": "code",
      "source": [
        "X = pd.read_csv('/content/gdrive/MyDrive/csv_data/IRMAS_embedded.csv',header=None)"
      ],
      "metadata": {
        "id": "kS_vjpfIxIxR"
      },
      "execution_count": 3,
      "outputs": []
    },
    {
      "cell_type": "code",
      "source": [
        "y = pd.read_csv('/content/gdrive/MyDrive/csv_data/IRMAS_labels.csv', header=None)"
      ],
      "metadata": {
        "id": "54q2xV6ixQLj"
      },
      "execution_count": 4,
      "outputs": []
    },
    {
      "cell_type": "code",
      "source": [
        "scaler = StandardScaler()\n",
        "scaler.fit(X)\n",
        "X_sc =pd.DataFrame(scaler.transform(X))"
      ],
      "metadata": {
        "id": "HJwMyLsPxmXs"
      },
      "execution_count": 5,
      "outputs": []
    },
    {
      "cell_type": "code",
      "source": [
        "X_train, X_test, y_train, y_test = train_test_split(X_sc,y,test_size=0.3, random_state=10)"
      ],
      "metadata": {
        "id": "pMIurKYMxo9k"
      },
      "execution_count": 6,
      "outputs": []
    },
    {
      "cell_type": "code",
      "source": [
        "instruments = np.sort(y[0].unique())"
      ],
      "metadata": {
        "id": "NEFeR1G8xqOJ"
      },
      "execution_count": 7,
      "outputs": []
    },
    {
      "cell_type": "markdown",
      "source": [
        "## **Logistic Regression**"
      ],
      "metadata": {
        "id": "rwWlQe08xvJC"
      }
    },
    {
      "cell_type": "code",
      "source": [
        "from sklearn.linear_model import LogisticRegression"
      ],
      "metadata": {
        "id": "qkHRKbtzxyTv"
      },
      "execution_count": null,
      "outputs": []
    },
    {
      "cell_type": "code",
      "source": [
        "log_reg_mod = LogisticRegression(max_iter=10000)"
      ],
      "metadata": {
        "id": "F4I2Bnv7xzvT"
      },
      "execution_count": null,
      "outputs": []
    },
    {
      "cell_type": "code",
      "source": [
        "log_reg_mod.fit(X_train, np.array(y_train).flatten())"
      ],
      "metadata": {
        "colab": {
          "base_uri": "https://localhost:8080/"
        },
        "id": "pxvU0aGhx0vy",
        "outputId": "60f77b42-b493-4964-ef54-d8b8f0aa1207"
      },
      "execution_count": null,
      "outputs": [
        {
          "output_type": "execute_result",
          "data": {
            "text/plain": [
              "LogisticRegression(max_iter=10000)"
            ]
          },
          "metadata": {},
          "execution_count": 12
        }
      ]
    },
    {
      "cell_type": "code",
      "source": [
        "joblib.dump(log_reg_mod, 'IRMAS_log_reg.sav')"
      ],
      "metadata": {
        "colab": {
          "base_uri": "https://localhost:8080/"
        },
        "id": "Y5SfLt5Zx3JC",
        "outputId": "902a1e21-e015-4f90-940d-3b5a8bb6f456"
      },
      "execution_count": null,
      "outputs": [
        {
          "output_type": "execute_result",
          "data": {
            "text/plain": [
              "['IRMAS_log_reg.sav']"
            ]
          },
          "metadata": {},
          "execution_count": 18
        }
      ]
    },
    {
      "cell_type": "code",
      "source": [
        "y_pre_lg = log_reg_mod.predict(X_test)"
      ],
      "metadata": {
        "id": "ueR5_GnM41wR"
      },
      "execution_count": null,
      "outputs": []
    },
    {
      "cell_type": "code",
      "source": [
        "print(classification_report(y_test,y_pre_lg))"
      ],
      "metadata": {
        "colab": {
          "base_uri": "https://localhost:8080/"
        },
        "id": "vfEjKSeP4_GR",
        "outputId": "52883396-611f-4120-b7f7-42c8735b7c93"
      },
      "execution_count": null,
      "outputs": [
        {
          "output_type": "stream",
          "name": "stdout",
          "text": [
            "              precision    recall  f1-score   support\n",
            "\n",
            "         cel       0.70      0.71      0.71       127\n",
            "         cla       0.70      0.66      0.68       158\n",
            "         flu       0.68      0.73      0.70       133\n",
            "         gac       0.84      0.85      0.85       186\n",
            "         gel       0.78      0.81      0.79       232\n",
            "         org       0.86      0.88      0.87       195\n",
            "         pia       0.87      0.89      0.88       214\n",
            "         sax       0.67      0.62      0.65       168\n",
            "         tru       0.82      0.74      0.78       194\n",
            "         vio       0.66      0.68      0.67       172\n",
            "         voi       0.93      0.93      0.93       233\n",
            "\n",
            "    accuracy                           0.79      2012\n",
            "   macro avg       0.77      0.77      0.77      2012\n",
            "weighted avg       0.79      0.79      0.79      2012\n",
            "\n"
          ]
        }
      ]
    },
    {
      "cell_type": "code",
      "source": [
        "print(confusion_matrix(y_test, y_pre_lg))"
      ],
      "metadata": {
        "colab": {
          "base_uri": "https://localhost:8080/"
        },
        "id": "2B3E81BT5AUD",
        "outputId": "289bb4ae-ac1c-42db-fee9-7a732b6a6e06"
      },
      "execution_count": null,
      "outputs": [
        {
          "output_type": "stream",
          "name": "stdout",
          "text": [
            "[[ 90   2   4   0   5   1   2   5   0  17   1]\n",
            " [  7 104  10   1   4   0   2  19   5   4   2]\n",
            " [  2   5  97   6   0   6   4   7   1   3   2]\n",
            " [  3   1   2 159  11   1   6   0   1   1   1]\n",
            " [  3   3   3  11 188   6   4   1   5   5   3]\n",
            " [  0   1   7   0   9 172   3   0   2   0   1]\n",
            " [  1   1   2   7   4   5 191   0   1   2   0]\n",
            " [  6  11   5   1   8   2   4 105  11  13   2]\n",
            " [  2  12   6   1   2   2   1  11 143  12   2]\n",
            " [ 14   8   3   1   8   3   1   8   6 117   3]\n",
            " [  0   1   4   3   3   1   1   1   0   3 216]]\n"
          ]
        }
      ]
    },
    {
      "cell_type": "code",
      "source": [
        "plt.figure(figsize=(12,8))\n",
        "sns.heatmap(pd.DataFrame(confusion_matrix(y_test, y_pre_lg), index=instruments, columns=instruments), annot=True, linewidths=.5, cmap=\"YlGnBu\", fmt='g')\n",
        "plt.show()"
      ],
      "metadata": {
        "colab": {
          "base_uri": "https://localhost:8080/",
          "height": 483
        },
        "id": "AsPdiSOc7CYd",
        "outputId": "05fc7309-5080-4e7c-afbb-663b2e8def89"
      },
      "execution_count": null,
      "outputs": [
        {
          "output_type": "display_data",
          "data": {
            "image/png": "[encoded data removed]",
            "text/plain": [
              "<Figure size 864x576 with 2 Axes>"
            ]
          },
          "metadata": {
            "needs_background": "light"
          }
        }
      ]
    },
    {
      "cell_type": "markdown",
      "source": [
        "## **KNN**"
      ],
      "metadata": {
        "id": "G-ytU6mDf-XZ"
      }
    },
    {
      "cell_type": "code",
      "source": [
        "from sklearn.neighbors import KNeighborsClassifier"
      ],
      "metadata": {
        "id": "ZjDt1MVwgKdD"
      },
      "execution_count": 8,
      "outputs": []
    },
    {
      "cell_type": "code",
      "source": [
        "neigh = KNeighborsClassifier(n_neighbors = 4)\n",
        "neigh.fit(X_train, np.array(y_train).flatten())"
      ],
      "metadata": {
        "id": "Mk_s2k0LgLs-",
        "outputId": "b47e6100-80a0-4ff2-ae98-41d7b3c714e8",
        "colab": {
          "base_uri": "https://localhost:8080/"
        }
      },
      "execution_count": 9,
      "outputs": [
        {
          "output_type": "execute_result",
          "data": {
            "text/plain": [
              "KNeighborsClassifier(n_neighbors=4)"
            ]
          },
          "metadata": {},
          "execution_count": 9
        }
      ]
    },
    {
      "cell_type": "code",
      "source": [
        "print(classification_report(neigh.predict(X_test),y_test))"
      ],
      "metadata": {
        "id": "9jL0pHNKgQu2",
        "outputId": "fc14c7fc-be43-4184-e796-164df380c65c",
        "colab": {
          "base_uri": "https://localhost:8080/"
        }
      },
      "execution_count": 11,
      "outputs": [
        {
          "output_type": "stream",
          "name": "stdout",
          "text": [
            "              precision    recall  f1-score   support\n",
            "\n",
            "         cel       0.80      0.67      0.73       152\n",
            "         cla       0.80      0.62      0.70       206\n",
            "         flu       0.71      0.57      0.63       166\n",
            "         gac       0.89      0.76      0.82       216\n",
            "         gel       0.79      0.69      0.74       265\n",
            "         org       0.87      0.81      0.84       210\n",
            "         pia       0.80      0.89      0.85       193\n",
            "         sax       0.54      0.60      0.56       151\n",
            "         tru       0.56      0.87      0.68       125\n",
            "         vio       0.59      0.73      0.66       139\n",
            "         voi       0.77      0.95      0.85       189\n",
            "\n",
            "    accuracy                           0.74      2012\n",
            "   macro avg       0.74      0.74      0.73      2012\n",
            "weighted avg       0.76      0.74      0.74      2012\n",
            "\n"
          ]
        }
      ]
    },
    {
      "cell_type": "markdown",
      "source": [
        "## **SVM**"
      ],
      "metadata": {
        "id": "L1bIcZYqhA7e"
      }
    },
    {
      "cell_type": "code",
      "source": [
        "from sklearn.svm import SVC"
      ],
      "metadata": {
        "id": "1avQUXjThDEN"
      },
      "execution_count": 12,
      "outputs": []
    },
    {
      "cell_type": "code",
      "source": [
        "mod_svm = SVC(kernel='linear')"
      ],
      "metadata": {
        "id": "3fcEwWx6hESz"
      },
      "execution_count": 13,
      "outputs": []
    },
    {
      "cell_type": "code",
      "source": [
        "mod_svm.fit(X_train, np.array(y_train).flatten())"
      ],
      "metadata": {
        "id": "ja78N9evhK0t",
        "outputId": "5b583f4c-3ce9-4fd7-ced0-b2fd0fc5c8b5",
        "colab": {
          "base_uri": "https://localhost:8080/"
        }
      },
      "execution_count": 14,
      "outputs": [
        {
          "output_type": "execute_result",
          "data": {
            "text/plain": [
              "SVC(kernel='linear')"
            ]
          },
          "metadata": {},
          "execution_count": 14
        }
      ]
    },
    {
      "cell_type": "code",
      "source": [
        "print(classification_report(mod_svm.predict(X_test),y_test))"
      ],
      "metadata": {
        "id": "5BLsvPsfhNeZ",
        "outputId": "d062cc8e-b1e6-4431-8c27-cc56f8a63ab8",
        "colab": {
          "base_uri": "https://localhost:8080/"
        }
      },
      "execution_count": 15,
      "outputs": [
        {
          "output_type": "stream",
          "name": "stdout",
          "text": [
            "              precision    recall  f1-score   support\n",
            "\n",
            "         cel       0.78      0.74      0.76       134\n",
            "         cla       0.70      0.68      0.69       163\n",
            "         flu       0.77      0.68      0.72       149\n",
            "         gac       0.88      0.84      0.86       193\n",
            "         gel       0.84      0.77      0.80       253\n",
            "         org       0.90      0.87      0.88       203\n",
            "         pia       0.88      0.90      0.89       209\n",
            "         sax       0.59      0.66      0.62       151\n",
            "         tru       0.72      0.86      0.79       162\n",
            "         vio       0.68      0.71      0.69       165\n",
            "         voi       0.93      0.94      0.94       230\n",
            "\n",
            "    accuracy                           0.80      2012\n",
            "   macro avg       0.79      0.79      0.79      2012\n",
            "weighted avg       0.80      0.80      0.80      2012\n",
            "\n"
          ]
        }
      ]
    },
    {
      "cell_type": "markdown",
      "source": [
        "## **Random Forests**"
      ],
      "metadata": {
        "id": "5a69s2OziR_H"
      }
    },
    {
      "cell_type": "code",
      "source": [
        "from sklearn.ensemble import RandomForestClassifier"
      ],
      "metadata": {
        "id": "7GCMzhm1jDZq"
      },
      "execution_count": 17,
      "outputs": []
    },
    {
      "cell_type": "code",
      "source": [
        "rfc = RandomForestClassifier(n_estimators=500)"
      ],
      "metadata": {
        "id": "1hYWAc_0jBwQ"
      },
      "execution_count": 18,
      "outputs": []
    },
    {
      "cell_type": "code",
      "source": [
        "rfc.fit(X_train, np.array(y_train).flatten())"
      ],
      "metadata": {
        "id": "opSVMJ55jGMW",
        "outputId": "b7bc5570-537f-45e8-d0dd-597fbfb0e1a8",
        "colab": {
          "base_uri": "https://localhost:8080/"
        }
      },
      "execution_count": 19,
      "outputs": [
        {
          "output_type": "execute_result",
          "data": {
            "text/plain": [
              "RandomForestClassifier(n_estimators=500)"
            ]
          },
          "metadata": {},
          "execution_count": 19
        }
      ]
    },
    {
      "cell_type": "code",
      "source": [
        "print(classification_report(rfc.predict(X_test),y_test))"
      ],
      "metadata": {
        "id": "gRIb7SdljM-B",
        "outputId": "80c0eed4-84f5-4e75-9f67-1379a38bcf77",
        "colab": {
          "base_uri": "https://localhost:8080/"
        }
      },
      "execution_count": 22,
      "outputs": [
        {
          "output_type": "stream",
          "name": "stdout",
          "text": [
            "              precision    recall  f1-score   support\n",
            "\n",
            "         cel       0.45      0.83      0.58        69\n",
            "         cla       0.45      0.61      0.52       117\n",
            "         flu       0.45      0.75      0.56        80\n",
            "         gac       0.82      0.77      0.79       197\n",
            "         gel       0.84      0.59      0.70       331\n",
            "         org       0.82      0.67      0.73       238\n",
            "         pia       0.87      0.78      0.82       237\n",
            "         sax       0.48      0.43      0.45       188\n",
            "         tru       0.58      0.85      0.69       131\n",
            "         vio       0.59      0.58      0.58       177\n",
            "         voi       0.92      0.87      0.90       247\n",
            "\n",
            "    accuracy                           0.69      2012\n",
            "   macro avg       0.66      0.70      0.67      2012\n",
            "weighted avg       0.72      0.69      0.70      2012\n",
            "\n"
          ]
        }
      ]
    },
    {
      "cell_type": "markdown",
      "source": [
        "## **Gradient Boosting**"
      ],
      "metadata": {
        "id": "0ILPt0T8jYwy"
      }
    },
    {
      "cell_type": "code",
      "source": [
        "import xgboost as xgb"
      ],
      "metadata": {
        "id": "Zy-lysLKjfzk"
      },
      "execution_count": 20,
      "outputs": []
    },
    {
      "cell_type": "code",
      "source": [
        "xgbc = xgb.XGBClassifier(max_depths=7, learning_rate=0.1)"
      ],
      "metadata": {
        "id": "UUoC0fZWjioY"
      },
      "execution_count": 23,
      "outputs": []
    },
    {
      "cell_type": "code",
      "source": [
        "xgbc.fit(X_train, np.array(y_train).flatten())"
      ],
      "metadata": {
        "id": "YiZvx8-jjtAH"
      },
      "execution_count": null,
      "outputs": []
    },
    {
      "cell_type": "code",
      "source": [
        "print(classification_report(xgbc.predict(X_test),y_test))"
      ],
      "metadata": {
        "id": "gzAthhyejxqN"
      },
      "execution_count": null,
      "outputs": []
    }
  ]
}