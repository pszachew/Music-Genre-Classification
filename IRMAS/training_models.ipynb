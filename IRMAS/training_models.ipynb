{
  "nbformat": 4,
  "nbformat_minor": 0,
  "metadata": {
    "colab": {
      "name": "Untitled7.ipynb",
      "provenance": [],
      "authorship_tag": "ABX9TyPHn7mN+p2U8PdZJ6bMlm/O",
      "include_colab_link": true
    },
    "kernelspec": {
      "name": "python3",
      "display_name": "Python 3"
    },
    "language_info": {
      "name": "python"
    }
  },
  "cells": [
    {
      "cell_type": "markdown",
      "metadata": {
        "id": "view-in-github",
        "colab_type": "text"
      },
      "source": [
        "<a href=\"https://colab.research.google.com/github/pszachew/Music-Genre-Classification/blob/master/IRMAS/training_models.ipynb\" target=\"_parent\"><img src=\"https://colab.research.google.com/assets/colab-badge.svg\" alt=\"Open In Colab\"/></a>"
      ]
    },
    {
      "cell_type": "code",
      "execution_count": 1,
      "metadata": {
        "id": "QJgheRvwweA-"
      },
      "outputs": [],
      "source": [
        "import pandas as pd\n",
        "import numpy as np\n",
        "from sklearn.preprocessing import StandardScaler\n",
        "from sklearn.model_selection import train_test_split, KFold, cross_val_score\n",
        "from sklearn.pipeline import Pipeline\n",
        "from sklearn.metrics import classification_report, confusion_matrix, accuracy_score, ConfusionMatrixDisplay\n",
        "import joblib\n",
        "import seaborn as sns\n",
        "import matplotlib.pyplot as plt\n",
        "from statistics import mean\n",
        "import json"
      ]
    },
    {
      "cell_type": "code",
      "source": [
        "from google.colab import drive\n",
        "drive.mount('/content/gdrive')"
      ],
      "metadata": {
        "colab": {
          "base_uri": "https://localhost:8080/"
        },
        "id": "1amjCgJLwgDy",
        "outputId": "5d09c359-c175-4d4e-e9ca-c5f911250daa"
      },
      "execution_count": 2,
      "outputs": [
        {
          "output_type": "stream",
          "name": "stdout",
          "text": [
            "Mounted at /content/gdrive\n"
          ]
        }
      ]
    },
    {
      "cell_type": "code",
      "source": [
        "X = pd.read_csv('/content/gdrive/MyDrive/csv_data/IRMAS_embedded.csv',header=None)"
      ],
      "metadata": {
        "id": "kS_vjpfIxIxR"
      },
      "execution_count": 3,
      "outputs": []
    },
    {
      "cell_type": "code",
      "source": [
        "y = pd.read_csv('/content/gdrive/MyDrive/csv_data/IRMAS_labels.csv', header=None)"
      ],
      "metadata": {
        "id": "54q2xV6ixQLj"
      },
      "execution_count": 5,
      "outputs": []
    },
    {
      "cell_type": "code",
      "source": [
        "scaler = StandardScaler()\n",
        "scaler.fit(X)\n",
        "X_sc =pd.DataFrame(scaler.transform(X))"
      ],
      "metadata": {
        "id": "HJwMyLsPxmXs"
      },
      "execution_count": 7,
      "outputs": []
    },
    {
      "cell_type": "code",
      "source": [
        "X_train, X_test, y_train, y_test = train_test_split(X_sc,y,test_size=0.3, random_state=10)"
      ],
      "metadata": {
        "id": "pMIurKYMxo9k"
      },
      "execution_count": 8,
      "outputs": []
    },
    {
      "cell_type": "code",
      "source": [
        ""
      ],
      "metadata": {
        "id": "NEFeR1G8xqOJ"
      },
      "execution_count": null,
      "outputs": []
    },
    {
      "cell_type": "markdown",
      "source": [
        "## **Logistic Regression**"
      ],
      "metadata": {
        "id": "rwWlQe08xvJC"
      }
    },
    {
      "cell_type": "code",
      "source": [
        "from sklearn.linear_model import LogisticRegression"
      ],
      "metadata": {
        "id": "qkHRKbtzxyTv"
      },
      "execution_count": 9,
      "outputs": []
    },
    {
      "cell_type": "code",
      "source": [
        "log_reg_mod = LogisticRegression(max_iter=10000)"
      ],
      "metadata": {
        "id": "F4I2Bnv7xzvT"
      },
      "execution_count": 11,
      "outputs": []
    },
    {
      "cell_type": "code",
      "source": [
        "log_reg_mod.fit(X_train, np.array(y_train).flatten())"
      ],
      "metadata": {
        "colab": {
          "base_uri": "https://localhost:8080/"
        },
        "id": "pxvU0aGhx0vy",
        "outputId": "60f77b42-b493-4964-ef54-d8b8f0aa1207"
      },
      "execution_count": 12,
      "outputs": [
        {
          "output_type": "execute_result",
          "data": {
            "text/plain": [
              "LogisticRegression(max_iter=10000)"
            ]
          },
          "metadata": {},
          "execution_count": 12
        }
      ]
    },
    {
      "cell_type": "code",
      "source": [
        "joblib.dump(log_reg_mod, 'IRMAS_log_reg.sav')"
      ],
      "metadata": {
        "colab": {
          "base_uri": "https://localhost:8080/"
        },
        "id": "Y5SfLt5Zx3JC",
        "outputId": "902a1e21-e015-4f90-940d-3b5a8bb6f456"
      },
      "execution_count": 18,
      "outputs": [
        {
          "output_type": "execute_result",
          "data": {
            "text/plain": [
              "['IRMAS_log_reg.sav']"
            ]
          },
          "metadata": {},
          "execution_count": 18
        }
      ]
    },
    {
      "cell_type": "code",
      "source": [
        "y_pre_lg = log_reg_mod.predict(X_test)"
      ],
      "metadata": {
        "id": "ueR5_GnM41wR"
      },
      "execution_count": 19,
      "outputs": []
    },
    {
      "cell_type": "code",
      "source": [
        "print(classification_report(y_test,y_pre_lg))"
      ],
      "metadata": {
        "colab": {
          "base_uri": "https://localhost:8080/"
        },
        "id": "vfEjKSeP4_GR",
        "outputId": "52883396-611f-4120-b7f7-42c8735b7c93"
      },
      "execution_count": 20,
      "outputs": [
        {
          "output_type": "stream",
          "name": "stdout",
          "text": [
            "              precision    recall  f1-score   support\n",
            "\n",
            "         cel       0.70      0.71      0.71       127\n",
            "         cla       0.70      0.66      0.68       158\n",
            "         flu       0.68      0.73      0.70       133\n",
            "         gac       0.84      0.85      0.85       186\n",
            "         gel       0.78      0.81      0.79       232\n",
            "         org       0.86      0.88      0.87       195\n",
            "         pia       0.87      0.89      0.88       214\n",
            "         sax       0.67      0.62      0.65       168\n",
            "         tru       0.82      0.74      0.78       194\n",
            "         vio       0.66      0.68      0.67       172\n",
            "         voi       0.93      0.93      0.93       233\n",
            "\n",
            "    accuracy                           0.79      2012\n",
            "   macro avg       0.77      0.77      0.77      2012\n",
            "weighted avg       0.79      0.79      0.79      2012\n",
            "\n"
          ]
        }
      ]
    },
    {
      "cell_type": "code",
      "source": [
        "print(confusion_matrix(y_test, y_pre_lg))"
      ],
      "metadata": {
        "colab": {
          "base_uri": "https://localhost:8080/"
        },
        "id": "2B3E81BT5AUD",
        "outputId": "289bb4ae-ac1c-42db-fee9-7a732b6a6e06"
      },
      "execution_count": 21,
      "outputs": [
        {
          "output_type": "stream",
          "name": "stdout",
          "text": [
            "[[ 90   2   4   0   5   1   2   5   0  17   1]\n",
            " [  7 104  10   1   4   0   2  19   5   4   2]\n",
            " [  2   5  97   6   0   6   4   7   1   3   2]\n",
            " [  3   1   2 159  11   1   6   0   1   1   1]\n",
            " [  3   3   3  11 188   6   4   1   5   5   3]\n",
            " [  0   1   7   0   9 172   3   0   2   0   1]\n",
            " [  1   1   2   7   4   5 191   0   1   2   0]\n",
            " [  6  11   5   1   8   2   4 105  11  13   2]\n",
            " [  2  12   6   1   2   2   1  11 143  12   2]\n",
            " [ 14   8   3   1   8   3   1   8   6 117   3]\n",
            " [  0   1   4   3   3   1   1   1   0   3 216]]\n"
          ]
        }
      ]
    },
    {
      "cell_type": "code",
      "source": [
        ""
      ],
      "metadata": {
        "id": "PTl55MPr5ELD"
      },
      "execution_count": null,
      "outputs": []
    }
  ]
}