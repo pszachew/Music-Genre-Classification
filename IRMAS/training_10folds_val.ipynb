{
  "nbformat": 4,
  "nbformat_minor": 0,
  "metadata": {
    "colab": {
      "name": "Untitled11.ipynb",
      "provenance": [],
      "authorship_tag": "ABX9TyPafdXgHfqnC64u3HLoWKoy",
      "include_colab_link": true
    },
    "kernelspec": {
      "name": "python3",
      "display_name": "Python 3"
    },
    "language_info": {
      "name": "python"
    }
  },
  "cells": [
    {
      "cell_type": "markdown",
      "metadata": {
        "id": "view-in-github",
        "colab_type": "text"
      },
      "source": [
        "<a href=\"https://colab.research.google.com/github/pszachew/Music-Genre-Classification/blob/master/IRMAS/training_10folds_val.ipynb\" target=\"_parent\"><img src=\"https://colab.research.google.com/assets/colab-badge.svg\" alt=\"Open In Colab\"/></a>"
      ]
    },
    {
      "cell_type": "code",
      "execution_count": 1,
      "metadata": {
        "id": "PIhkk5D-gHDk"
      },
      "outputs": [],
      "source": [
        "import pandas as pd\n",
        "import numpy as np\n",
        "from sklearn.preprocessing import StandardScaler\n",
        "from sklearn.model_selection import train_test_split, KFold, cross_val_score\n",
        "from sklearn.pipeline import Pipeline\n",
        "from sklearn.metrics import classification_report, confusion_matrix, accuracy_score, ConfusionMatrixDisplay\n",
        "import joblib\n",
        "import seaborn as sns\n",
        "import matplotlib.pyplot as plt\n",
        "from statistics import mean\n",
        "import json"
      ]
    },
    {
      "cell_type": "code",
      "source": [
        "from google.colab import drive\n",
        "drive.mount('/content/gdrive')"
      ],
      "metadata": {
        "id": "VZzXcKK8gIS3",
        "colab": {
          "base_uri": "https://localhost:8080/"
        },
        "outputId": "e8e4521f-05ce-4303-8827-b0ce5bc2d1d4"
      },
      "execution_count": 2,
      "outputs": [
        {
          "output_type": "stream",
          "name": "stdout",
          "text": [
            "Mounted at /content/gdrive\n"
          ]
        }
      ]
    },
    {
      "cell_type": "code",
      "source": [
        "X = pd.read_csv('/content/gdrive/MyDrive/csv_data/IRMAS_embedded.csv',header=None)"
      ],
      "metadata": {
        "id": "XlalraWTe7FI"
      },
      "execution_count": 3,
      "outputs": []
    },
    {
      "cell_type": "code",
      "source": [
        "y = pd.read_csv('/content/gdrive/MyDrive/csv_data/IRMAS_labels.csv', header=None)"
      ],
      "metadata": {
        "id": "j7JkEXe6fB4D"
      },
      "execution_count": 4,
      "outputs": []
    },
    {
      "cell_type": "code",
      "source": [
        "scaler = StandardScaler()\n",
        "scaler.fit(X)\n",
        "X_sc =pd.DataFrame(scaler.transform(X))"
      ],
      "metadata": {
        "id": "iuDzeUFbfOoL"
      },
      "execution_count": 5,
      "outputs": []
    },
    {
      "cell_type": "markdown",
      "source": [
        "## **Logistic Regression**"
      ],
      "metadata": {
        "id": "krlNFahRfV3X"
      }
    },
    {
      "cell_type": "code",
      "source": [
        "from sklearn.linear_model import LogisticRegression"
      ],
      "metadata": {
        "id": "G2u_VFnYfaRm"
      },
      "execution_count": 21,
      "outputs": []
    },
    {
      "cell_type": "code",
      "source": [
        "accuracy = [0.792, 0.805, 0.8, 0.799]\n",
        "acc2 = [0.7913561847988078, 0.8047690014903129, 0.8002980625931445, 0.7988077496274217, 0.7704918032786885, 0.7776119402985074]"
      ],
      "metadata": {
        "id": "scyEAQEaKvRp"
      },
      "execution_count": 17,
      "outputs": []
    },
    {
      "cell_type": "code",
      "source": [
        "cd /content/gdrive/MyDrive/models/IRMAS/LogisticRegression"
      ],
      "metadata": {
        "colab": {
          "base_uri": "https://localhost:8080/"
        },
        "id": "iz7iAinGfiGL",
        "outputId": "402b4036-bae0-4b20-c609-dc333d9cc068"
      },
      "execution_count": 18,
      "outputs": [
        {
          "output_type": "stream",
          "name": "stdout",
          "text": [
            "/content/gdrive/MyDrive/models/IRMAS/LogisticRegression\n"
          ]
        }
      ]
    },
    {
      "cell_type": "code",
      "source": [
        "kf10 = KFold(n_splits=10, shuffle=True, random_state=42)\n",
        "mod_lg = LogisticRegression(max_iter=10000)"
      ],
      "metadata": {
        "id": "cSecUv8DfmXX"
      },
      "execution_count": 19,
      "outputs": []
    },
    {
      "cell_type": "code",
      "source": [
        "i=1\n",
        "for x_train_idx, x_test_idx in kf10.split(X_sc):\n",
        "  if i>6:\n",
        "    X_train = X_sc.iloc[x_train_idx]\n",
        "    X_test = X_sc.iloc[x_test_idx]\n",
        "    y_train = y.iloc[x_train_idx]\n",
        "    y_test = y.iloc[x_test_idx]\n",
        "    mod_lg.fit(X_train, np.array(y_train).flatten())\n",
        "    print(f\"Accuracy for the fold no. {i} on the test set: {accuracy_score(y_test, mod_lg.predict(X_test))}\")\n",
        "    joblib.dump(mod_lg, \"log_reg\"+str(i)+\".sav\")\n",
        "  else:\n",
        "    print(f\"Accuracy for the fold no. {i} on the test set: {acc2[i-1]}\")\n",
        "  i=i+1"
      ],
      "metadata": {
        "colab": {
          "base_uri": "https://localhost:8080/"
        },
        "id": "APYpAWBIf4ij",
        "outputId": "e619e6a3-ad24-4196-87cc-b2a667f1a07b"
      },
      "execution_count": 22,
      "outputs": [
        {
          "output_type": "stream",
          "name": "stdout",
          "text": [
            "Accuracy for the fold no. 1 on the test set: 0.7913561847988078\n",
            "Accuracy for the fold no. 2 on the test set: 0.8047690014903129\n",
            "Accuracy for the fold no. 3 on the test set: 0.8002980625931445\n",
            "Accuracy for the fold no. 4 on the test set: 0.7988077496274217\n",
            "Accuracy for the fold no. 5 on the test set: 0.7704918032786885\n",
            "Accuracy for the fold no. 6 on the test set: 0.7776119402985074\n",
            "Accuracy for the fold no. 7 on the test set: 0.7746268656716417\n",
            "Accuracy for the fold no. 8 on the test set: 0.8388059701492537\n",
            "Accuracy for the fold no. 9 on the test set: 0.7925373134328358\n",
            "Accuracy for the fold no. 10 on the test set: 0.8223880597014925\n"
          ]
        }
      ]
    },
    {
      "cell_type": "markdown",
      "source": [
        "## **SVM**"
      ],
      "metadata": {
        "id": "lSS99sZMusUY"
      }
    },
    {
      "cell_type": "code",
      "source": [
        "from sklearn.svm import SVC"
      ],
      "metadata": {
        "id": "iYVkp6R_uvJr"
      },
      "execution_count": 23,
      "outputs": []
    },
    {
      "cell_type": "code",
      "source": [
        "kf10 = KFold(n_splits=10, shuffle=True, random_state=42)"
      ],
      "metadata": {
        "id": "x5SXUFgZvCC_"
      },
      "execution_count": 24,
      "outputs": []
    },
    {
      "cell_type": "code",
      "source": [
        "cd /content/gdrive/MyDrive/models/IRMAS/SVM"
      ],
      "metadata": {
        "colab": {
          "base_uri": "https://localhost:8080/"
        },
        "id": "49viKXmvvEby",
        "outputId": "7c2b2e29-7e47-4b49-992a-2ad21aa149ec"
      },
      "execution_count": 25,
      "outputs": [
        {
          "output_type": "stream",
          "name": "stdout",
          "text": [
            "/content/gdrive/MyDrive/models/IRMAS/SVM\n"
          ]
        }
      ]
    },
    {
      "cell_type": "code",
      "source": [
        "i=1\n",
        "for x_train_idx, x_test_idx in kf10.split(X_sc):\n",
        "  X_train = X_sc.iloc[x_train_idx]\n",
        "  X_test = X_sc.iloc[x_test_idx]\n",
        "  y_train = y.iloc[x_train_idx]\n",
        "  y_test = y.iloc[x_test_idx]\n",
        "  mod_svm = SVC(kernel='linear')\n",
        "  mod_svm.fit(X_train, np.array(y_train).flatten())\n",
        "  print(f\"Accuracy for the fold no. {i} on the test set: {accuracy_score(y_test, mod_svm.predict(X_test))}\")\n",
        "  joblib.dump(mod_svm, \"svm\"+str(i)+\".sav\")\n",
        "  i=i+1"
      ],
      "metadata": {
        "colab": {
          "base_uri": "https://localhost:8080/"
        },
        "id": "rh83s9vFvHTV",
        "outputId": "115f2473-c406-4f2b-c7f4-5ea7501f2523"
      },
      "execution_count": 26,
      "outputs": [
        {
          "output_type": "stream",
          "name": "stdout",
          "text": [
            "Accuracy for the fold no. 1 on the test set: 0.7958271236959762\n",
            "Accuracy for the fold no. 2 on the test set: 0.8226527570789866\n",
            "Accuracy for the fold no. 3 on the test set: 0.8211624441132638\n",
            "Accuracy for the fold no. 4 on the test set: 0.8002980625931445\n",
            "Accuracy for the fold no. 5 on the test set: 0.8077496274217586\n",
            "Accuracy for the fold no. 6 on the test set: 0.808955223880597\n",
            "Accuracy for the fold no. 7 on the test set: 0.7985074626865671\n",
            "Accuracy for the fold no. 8 on the test set: 0.8283582089552238\n",
            "Accuracy for the fold no. 9 on the test set: 0.8164179104477612\n",
            "Accuracy for the fold no. 10 on the test set: 0.835820895522388\n"
          ]
        }
      ]
    },
    {
      "cell_type": "markdown",
      "source": [
        "## **KNN**"
      ],
      "metadata": {
        "id": "3eC8lnGv1Z-U"
      }
    },
    {
      "cell_type": "code",
      "source": [
        "from sklearn.neighbors import KNeighborsClassifier"
      ],
      "metadata": {
        "id": "Hf5e1sju1o3Q"
      },
      "execution_count": 6,
      "outputs": []
    },
    {
      "cell_type": "code",
      "source": [
        "cd /content/gdrive/MyDrive/models/IRMAS/KNN"
      ],
      "metadata": {
        "id": "QDRlAwT-1s9k",
        "outputId": "20dc418a-6118-4166-cccd-d7cfcd8defc2",
        "colab": {
          "base_uri": "https://localhost:8080/"
        }
      },
      "execution_count": 7,
      "outputs": [
        {
          "output_type": "stream",
          "name": "stdout",
          "text": [
            "/content/gdrive/MyDrive/models/IRMAS/KNN\n"
          ]
        }
      ]
    },
    {
      "cell_type": "code",
      "source": [
        "kf10 = KFold(n_splits=10, shuffle=True, random_state=42)\n",
        "mod_knn = KNeighborsClassifier(n_neighbors=4)\n",
        "i=1\n",
        "for x_train_idx, x_test_idx in kf10.split(X_sc):\n",
        "  X_train = X_sc.iloc[x_train_idx]\n",
        "  X_test = X_sc.iloc[x_test_idx]\n",
        "  y_train = y.iloc[x_train_idx]\n",
        "  y_test = y.iloc[x_test_idx]\n",
        "  mod_knn.fit(X_train, np.array(y_train).flatten())\n",
        "  print(f\"Accuracy for the fold no. {i} on the test set: {accuracy_score(y_test, mod_knn.predict(X_test))}\")\n",
        "  joblib.dump(mod_knn, \"knn\"+str(i)+\".sav\")\n",
        "  i=i+1"
      ],
      "metadata": {
        "id": "wjA6Y7J2170B",
        "outputId": "f309e54e-a819-4611-cf33-fe401aa06af4",
        "colab": {
          "base_uri": "https://localhost:8080/"
        }
      },
      "execution_count": 10,
      "outputs": [
        {
          "output_type": "stream",
          "name": "stdout",
          "text": [
            "Accuracy for the fold no. 1 on the test set: 0.7570789865871833\n",
            "Accuracy for the fold no. 2 on the test set: 0.8002980625931445\n",
            "Accuracy for the fold no. 3 on the test set: 0.8047690014903129\n",
            "Accuracy for the fold no. 4 on the test set: 0.8166915052160953\n",
            "Accuracy for the fold no. 5 on the test set: 0.8092399403874814\n",
            "Accuracy for the fold no. 6 on the test set: 0.7910447761194029\n",
            "Accuracy for the fold no. 7 on the test set: 0.7731343283582089\n",
            "Accuracy for the fold no. 8 on the test set: 0.8029850746268656\n",
            "Accuracy for the fold no. 9 on the test set: 0.7671641791044777\n",
            "Accuracy for the fold no. 10 on the test set: 0.7805970149253731\n"
          ]
        }
      ]
    },
    {
      "cell_type": "markdown",
      "source": [
        "## **Random Forests**"
      ],
      "metadata": {
        "id": "-p2npLiZ4UXn"
      }
    },
    {
      "cell_type": "code",
      "source": [
        "from sklearn.ensemble import RandomForestClassifier"
      ],
      "metadata": {
        "id": "5BqaWv7F4Wj2"
      },
      "execution_count": 11,
      "outputs": []
    },
    {
      "cell_type": "code",
      "source": [
        "kf10 = KFold(n_splits=10, shuffle=True, random_state=42)"
      ],
      "metadata": {
        "id": "B_UubdNM4ZQO"
      },
      "execution_count": 12,
      "outputs": []
    },
    {
      "cell_type": "code",
      "source": [
        "cd /content/gdrive/MyDrive/models/IRMAS/RFC"
      ],
      "metadata": {
        "id": "1VOuOWK74atZ",
        "outputId": "6e368bcd-1f7e-4b5c-ac04-a673bbaf06e8",
        "colab": {
          "base_uri": "https://localhost:8080/"
        }
      },
      "execution_count": 13,
      "outputs": [
        {
          "output_type": "stream",
          "name": "stdout",
          "text": [
            "/content/gdrive/MyDrive/models/IRMAS/RFC\n"
          ]
        }
      ]
    },
    {
      "cell_type": "code",
      "source": [
        "i=1\n",
        "for train_idx, test_idx in kf10.split(X_sc):\n",
        "  X_train = X_sc.iloc[train_idx]\n",
        "  X_test = X_sc.iloc[test_idx]\n",
        "  y_train = y.iloc[train_idx]\n",
        "  y_test = y.iloc[test_idx]\n",
        "  rfc = RandomForestClassifier(n_estimators=400)\n",
        "  rfc.fit(X_train, np.array(y_train).flatten())\n",
        "  print(f\"Accuracy for the fold no. {i} on the test set: {accuracy_score(y_test, rfc.predict(X_test))}\")\n",
        "  joblib.dump(rfc, \"rfc\"+str(i)+\".sav\")\n",
        "  i = i+1"
      ],
      "metadata": {
        "id": "uNuPx3Dt4jZ1",
        "outputId": "4e16dfd6-95e9-4601-b624-78becf6feaec",
        "colab": {
          "base_uri": "https://localhost:8080/"
        }
      },
      "execution_count": 14,
      "outputs": [
        {
          "output_type": "stream",
          "name": "stdout",
          "text": [
            "Accuracy for the fold no. 1 on the test set: 0.6974664679582713\n",
            "Accuracy for the fold no. 2 on the test set: 0.6780923994038748\n",
            "Accuracy for the fold no. 3 on the test set: 0.7183308494783904\n",
            "Accuracy for the fold no. 4 on the test set: 0.7004470938897168\n",
            "Accuracy for the fold no. 5 on the test set: 0.7108792846497765\n",
            "Accuracy for the fold no. 6 on the test set: 0.673134328358209\n",
            "Accuracy for the fold no. 7 on the test set: 0.7119402985074627\n",
            "Accuracy for the fold no. 8 on the test set: 0.7194029850746269\n",
            "Accuracy for the fold no. 9 on the test set: 0.7164179104477612\n",
            "Accuracy for the fold no. 10 on the test set: 0.7194029850746269\n"
          ]
        }
      ]
    },
    {
      "cell_type": "code",
      "source": [
        ""
      ],
      "metadata": {
        "id": "Jybobg-a4sjv"
      },
      "execution_count": null,
      "outputs": []
    }
  ]
}