{
  "nbformat": 4,
  "nbformat_minor": 0,
  "metadata": {
    "colab": {
      "name": "Untitled11.ipynb",
      "provenance": [],
      "authorship_tag": "ABX9TyNRQTMyd5rVg8WZA9rmcZ6D",
      "include_colab_link": true
    },
    "kernelspec": {
      "name": "python3",
      "display_name": "Python 3"
    },
    "language_info": {
      "name": "python"
    }
  },
  "cells": [
    {
      "cell_type": "markdown",
      "metadata": {
        "id": "view-in-github",
        "colab_type": "text"
      },
      "source": [
        "<a href=\"https://colab.research.google.com/github/pszachew/Music-Genre-Classification/blob/master/IRMAS/training_10folds_val.ipynb\" target=\"_parent\"><img src=\"https://colab.research.google.com/assets/colab-badge.svg\" alt=\"Open In Colab\"/></a>"
      ]
    },
    {
      "cell_type": "code",
      "execution_count": 1,
      "metadata": {
        "id": "PIhkk5D-gHDk"
      },
      "outputs": [],
      "source": [
        "import pandas as pd\n",
        "import numpy as np\n",
        "from sklearn.preprocessing import StandardScaler\n",
        "from sklearn.model_selection import train_test_split, KFold, cross_val_score\n",
        "from sklearn.pipeline import Pipeline\n",
        "from sklearn.metrics import classification_report, confusion_matrix, accuracy_score, ConfusionMatrixDisplay\n",
        "import joblib\n",
        "import seaborn as sns\n",
        "import matplotlib.pyplot as plt\n",
        "from statistics import mean\n",
        "import json"
      ]
    },
    {
      "cell_type": "code",
      "source": [
        "from google.colab import drive\n",
        "drive.mount('/content/gdrive')"
      ],
      "metadata": {
        "id": "VZzXcKK8gIS3",
        "outputId": "df7ffed8-a3d2-44e8-c4ec-eaade2a36e5c",
        "colab": {
          "base_uri": "https://localhost:8080/"
        }
      },
      "execution_count": 2,
      "outputs": [
        {
          "output_type": "stream",
          "name": "stdout",
          "text": [
            "Mounted at /content/gdrive\n"
          ]
        }
      ]
    },
    {
      "cell_type": "code",
      "source": [
        "X = pd.read_csv('/content/gdrive/MyDrive/csv_data/IRMAS_embedded.csv',header=None)"
      ],
      "metadata": {
        "id": "XlalraWTe7FI"
      },
      "execution_count": 3,
      "outputs": []
    },
    {
      "cell_type": "code",
      "source": [
        "y = pd.read_csv('/content/gdrive/MyDrive/csv_data/IRMAS_labels.csv', header=None)"
      ],
      "metadata": {
        "id": "j7JkEXe6fB4D"
      },
      "execution_count": 4,
      "outputs": []
    },
    {
      "cell_type": "code",
      "source": [
        "scaler = StandardScaler()\n",
        "scaler.fit(X)\n",
        "X_sc =pd.DataFrame(scaler.transform(X))"
      ],
      "metadata": {
        "id": "iuDzeUFbfOoL"
      },
      "execution_count": 5,
      "outputs": []
    },
    {
      "cell_type": "code",
      "source": [
        ""
      ],
      "metadata": {
        "id": "zpFVxovOfP_U"
      },
      "execution_count": null,
      "outputs": []
    },
    {
      "cell_type": "markdown",
      "source": [
        "## **Logistic Regression**"
      ],
      "metadata": {
        "id": "krlNFahRfV3X"
      }
    },
    {
      "cell_type": "code",
      "source": [
        "from sklearn.linear_model import LogisticRegression"
      ],
      "metadata": {
        "id": "G2u_VFnYfaRm"
      },
      "execution_count": 6,
      "outputs": []
    },
    {
      "cell_type": "code",
      "source": [
        "cd /content/gdrive/MyDrive/models/IRMAS/LogisticRegression"
      ],
      "metadata": {
        "id": "iz7iAinGfiGL",
        "outputId": "126d6496-571a-4bdd-e094-6941fcfe6e01",
        "colab": {
          "base_uri": "https://localhost:8080/"
        }
      },
      "execution_count": 10,
      "outputs": [
        {
          "output_type": "stream",
          "name": "stdout",
          "text": [
            "/content/gdrive/MyDrive/models/IRMAS/LogisticRegression\n"
          ]
        }
      ]
    },
    {
      "cell_type": "code",
      "source": [
        "kf10 = KFold(n_splits=10, shuffle=True, random_state=42)\n",
        "mod_lg = LogisticRegression(max_iter=10000)"
      ],
      "metadata": {
        "id": "cSecUv8DfmXX"
      },
      "execution_count": 11,
      "outputs": []
    },
    {
      "cell_type": "code",
      "source": [
        "i=1\n",
        "for x_train_idx, x_test_idx in kf10.split(X_sc):\n",
        "  X_train = X_sc.iloc[x_train_idx]\n",
        "  X_test = X_sc.iloc[x_test_idx]\n",
        "  y_train = y.iloc[x_train_idx]\n",
        "  y_test = y.iloc[x_test_idx]\n",
        "  mod_lg.fit(X_train, np.array(y_train).flatten())\n",
        "  print(f\"Accuracy for the fold no. {i} on the test set: {accuracy_score(y_test, mod_lg.predict(X_test))}\")\n",
        "  joblib.dump(mod_lg, \"log_reg\"+str(i)+\".sav\")\n",
        "  i=i+1"
      ],
      "metadata": {
        "id": "APYpAWBIf4ij"
      },
      "execution_count": null,
      "outputs": []
    },
    {
      "cell_type": "code",
      "source": [
        ""
      ],
      "metadata": {
        "id": "9zuE5XhQgBH5"
      },
      "execution_count": null,
      "outputs": []
    }
  ]
}