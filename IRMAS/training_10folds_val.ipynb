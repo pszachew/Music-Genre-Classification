{
  "nbformat": 4,
  "nbformat_minor": 0,
  "metadata": {
    "colab": {
      "name": "Untitled11.ipynb",
      "provenance": [],
      "authorship_tag": "ABX9TyPdjbeidemiQXMfZHgm1Vnm",
      "include_colab_link": true
    },
    "kernelspec": {
      "name": "python3",
      "display_name": "Python 3"
    },
    "language_info": {
      "name": "python"
    }
  },
  "cells": [
    {
      "cell_type": "markdown",
      "metadata": {
        "id": "view-in-github",
        "colab_type": "text"
      },
      "source": [
        "<a href=\"https://colab.research.google.com/github/pszachew/Music-Genre-Classification/blob/master/IRMAS/training_10folds_val.ipynb\" target=\"_parent\"><img src=\"https://colab.research.google.com/assets/colab-badge.svg\" alt=\"Open In Colab\"/></a>"
      ]
    },
    {
      "cell_type": "code",
      "execution_count": 1,
      "metadata": {
        "id": "PIhkk5D-gHDk"
      },
      "outputs": [],
      "source": [
        "import pandas as pd\n",
        "import numpy as np\n",
        "from sklearn.preprocessing import StandardScaler\n",
        "from sklearn.model_selection import train_test_split, KFold, cross_val_score\n",
        "from sklearn.pipeline import Pipeline\n",
        "from sklearn.metrics import classification_report, confusion_matrix, accuracy_score, ConfusionMatrixDisplay\n",
        "import joblib\n",
        "import seaborn as sns\n",
        "import matplotlib.pyplot as plt\n",
        "from statistics import mean\n",
        "import json"
      ]
    },
    {
      "cell_type": "code",
      "source": [
        "from google.colab import drive\n",
        "drive.mount('/content/gdrive')"
      ],
      "metadata": {
        "id": "VZzXcKK8gIS3",
        "colab": {
          "base_uri": "https://localhost:8080/"
        },
        "outputId": "7c9a54f2-13d3-45ce-f1fe-ab4c7523b75a"
      },
      "execution_count": 2,
      "outputs": [
        {
          "output_type": "stream",
          "name": "stdout",
          "text": [
            "Mounted at /content/gdrive\n"
          ]
        }
      ]
    },
    {
      "cell_type": "code",
      "source": [
        "X = pd.read_csv('/content/gdrive/MyDrive/csv_data/IRMAS_embedded.csv',header=None)"
      ],
      "metadata": {
        "id": "XlalraWTe7FI"
      },
      "execution_count": 3,
      "outputs": []
    },
    {
      "cell_type": "code",
      "source": [
        "y = pd.read_csv('/content/gdrive/MyDrive/csv_data/IRMAS_labels.csv', header=None)"
      ],
      "metadata": {
        "id": "j7JkEXe6fB4D"
      },
      "execution_count": 4,
      "outputs": []
    },
    {
      "cell_type": "code",
      "source": [
        "scaler = StandardScaler()\n",
        "scaler.fit(X)\n",
        "X_sc =pd.DataFrame(scaler.transform(X))"
      ],
      "metadata": {
        "id": "iuDzeUFbfOoL"
      },
      "execution_count": 5,
      "outputs": []
    },
    {
      "cell_type": "code",
      "source": [
        "def ac_ls(x: str):\n",
        "  z = x.split()\n",
        "  out = []\n",
        "  for i, el in enumerate(z):\n",
        "    if el == \"set:\":\n",
        "      out.append(float(z[i+1]))\n",
        "  print([np.average(out), np.std(out)])"
      ],
      "metadata": {
        "id": "Z67aQgMK2kBm"
      },
      "execution_count": 39,
      "outputs": []
    },
    {
      "cell_type": "markdown",
      "source": [
        "## **Logistic Regression**"
      ],
      "metadata": {
        "id": "krlNFahRfV3X"
      }
    },
    {
      "cell_type": "code",
      "source": [
        "from sklearn.linear_model import LogisticRegression"
      ],
      "metadata": {
        "id": "G2u_VFnYfaRm"
      },
      "execution_count": null,
      "outputs": []
    },
    {
      "cell_type": "code",
      "source": [
        "cd /content/gdrive/MyDrive/models/IRMAS/LogisticRegression"
      ],
      "metadata": {
        "colab": {
          "base_uri": "https://localhost:8080/"
        },
        "id": "iz7iAinGfiGL",
        "outputId": "402b4036-bae0-4b20-c609-dc333d9cc068"
      },
      "execution_count": null,
      "outputs": [
        {
          "output_type": "stream",
          "name": "stdout",
          "text": [
            "/content/gdrive/MyDrive/models/IRMAS/LogisticRegression\n"
          ]
        }
      ]
    },
    {
      "cell_type": "code",
      "source": [
        "kf10 = KFold(n_splits=10, shuffle=True, random_state=42)\n",
        "mod_lg = LogisticRegression(max_iter=10000)"
      ],
      "metadata": {
        "id": "cSecUv8DfmXX"
      },
      "execution_count": null,
      "outputs": []
    },
    {
      "cell_type": "code",
      "source": [
        "i=1\n",
        "for x_train_idx, x_test_idx in kf10.split(X_sc):\n",
        "  if i>6:\n",
        "    X_train = X_sc.iloc[x_train_idx]\n",
        "    X_test = X_sc.iloc[x_test_idx]\n",
        "    y_train = y.iloc[x_train_idx]\n",
        "    y_test = y.iloc[x_test_idx]\n",
        "    mod_lg.fit(X_train, np.array(y_train).flatten())\n",
        "    print(f\"Accuracy for the fold no. {i} on the test set: {accuracy_score(y_test, mod_lg.predict(X_test))}\")\n",
        "    joblib.dump(mod_lg, \"log_reg\"+str(i)+\".sav\")\n",
        "  else:\n",
        "    print(f\"Accuracy for the fold no. {i} on the test set: {acc2[i-1]}\")\n",
        "  i=i+1"
      ],
      "metadata": {
        "colab": {
          "base_uri": "https://localhost:8080/"
        },
        "id": "APYpAWBIf4ij",
        "outputId": "e619e6a3-ad24-4196-87cc-b2a667f1a07b"
      },
      "execution_count": null,
      "outputs": [
        {
          "output_type": "stream",
          "name": "stdout",
          "text": [
            "Accuracy for the fold no. 1 on the test set: 0.7913561847988078\n",
            "Accuracy for the fold no. 2 on the test set: 0.8047690014903129\n",
            "Accuracy for the fold no. 3 on the test set: 0.8002980625931445\n",
            "Accuracy for the fold no. 4 on the test set: 0.7988077496274217\n",
            "Accuracy for the fold no. 5 on the test set: 0.7704918032786885\n",
            "Accuracy for the fold no. 6 on the test set: 0.7776119402985074\n",
            "Accuracy for the fold no. 7 on the test set: 0.7746268656716417\n",
            "Accuracy for the fold no. 8 on the test set: 0.8388059701492537\n",
            "Accuracy for the fold no. 9 on the test set: 0.7925373134328358\n",
            "Accuracy for the fold no. 10 on the test set: 0.8223880597014925\n"
          ]
        }
      ]
    },
    {
      "cell_type": "code",
      "source": [
        "ac_ls(\"Accuracy for the fold no. 1 on the test set: 0.7913561847988078 Accuracy for the fold no. 2 on the test set: 0.8047690014903129 Accuracy for the fold no. 3 on the test set: 0.8002980625931445 Accuracy for the fold no. 4 on the test set: 0.7988077496274217 Accuracy for the fold no. 5 on the test set: 0.7704918032786885 Accuracy for the fold no. 6 on the test set: 0.7776119402985074 Accuracy for the fold no. 7 on the test set: 0.7746268656716417 Accuracy for the fold no. 8 on the test set: 0.8388059701492537 Accuracy for the fold no. 9 on the test set: 0.7925373134328358 Accuracy for the fold no. 10 on the test set: 0.8223880597014925\")"
      ],
      "metadata": {
        "id": "QOlW8Mse5WQ4",
        "outputId": "e9b75824-ecab-4fde-b90e-807f147251ea",
        "colab": {
          "base_uri": "https://localhost:8080/"
        }
      },
      "execution_count": 40,
      "outputs": [
        {
          "output_type": "stream",
          "name": "stdout",
          "text": [
            "[0.7971692951042106, 0.020242073462086542]\n"
          ]
        }
      ]
    },
    {
      "cell_type": "markdown",
      "source": [
        "## **SVM**"
      ],
      "metadata": {
        "id": "lSS99sZMusUY"
      }
    },
    {
      "cell_type": "code",
      "source": [
        "from sklearn.svm import SVC"
      ],
      "metadata": {
        "id": "iYVkp6R_uvJr"
      },
      "execution_count": null,
      "outputs": []
    },
    {
      "cell_type": "code",
      "source": [
        "kf10 = KFold(n_splits=10, shuffle=True, random_state=42)"
      ],
      "metadata": {
        "id": "x5SXUFgZvCC_"
      },
      "execution_count": null,
      "outputs": []
    },
    {
      "cell_type": "code",
      "source": [
        "cd /content/gdrive/MyDrive/models/IRMAS/SVM"
      ],
      "metadata": {
        "colab": {
          "base_uri": "https://localhost:8080/"
        },
        "id": "49viKXmvvEby",
        "outputId": "7c2b2e29-7e47-4b49-992a-2ad21aa149ec"
      },
      "execution_count": null,
      "outputs": [
        {
          "output_type": "stream",
          "name": "stdout",
          "text": [
            "/content/gdrive/MyDrive/models/IRMAS/SVM\n"
          ]
        }
      ]
    },
    {
      "cell_type": "code",
      "source": [
        "i=1\n",
        "for x_train_idx, x_test_idx in kf10.split(X_sc):\n",
        "  X_train = X_sc.iloc[x_train_idx]\n",
        "  X_test = X_sc.iloc[x_test_idx]\n",
        "  y_train = y.iloc[x_train_idx]\n",
        "  y_test = y.iloc[x_test_idx]\n",
        "  mod_svm = SVC(kernel='linear')\n",
        "  mod_svm.fit(X_train, np.array(y_train).flatten())\n",
        "  print(f\"Accuracy for the fold no. {i} on the test set: {accuracy_score(y_test, mod_svm.predict(X_test))}\")\n",
        "  joblib.dump(mod_svm, \"svm\"+str(i)+\".sav\")\n",
        "  i=i+1"
      ],
      "metadata": {
        "colab": {
          "base_uri": "https://localhost:8080/"
        },
        "id": "rh83s9vFvHTV",
        "outputId": "115f2473-c406-4f2b-c7f4-5ea7501f2523"
      },
      "execution_count": null,
      "outputs": [
        {
          "output_type": "stream",
          "name": "stdout",
          "text": [
            "Accuracy for the fold no. 1 on the test set: 0.7958271236959762\n",
            "Accuracy for the fold no. 2 on the test set: 0.8226527570789866\n",
            "Accuracy for the fold no. 3 on the test set: 0.8211624441132638\n",
            "Accuracy for the fold no. 4 on the test set: 0.8002980625931445\n",
            "Accuracy for the fold no. 5 on the test set: 0.8077496274217586\n",
            "Accuracy for the fold no. 6 on the test set: 0.808955223880597\n",
            "Accuracy for the fold no. 7 on the test set: 0.7985074626865671\n",
            "Accuracy for the fold no. 8 on the test set: 0.8283582089552238\n",
            "Accuracy for the fold no. 9 on the test set: 0.8164179104477612\n",
            "Accuracy for the fold no. 10 on the test set: 0.835820895522388\n"
          ]
        }
      ]
    },
    {
      "cell_type": "code",
      "source": [
        "ac_ls(\"Accuracy for the fold no. 1 on the test set: 0.7958271236959762 Accuracy for the fold no. 2 on the test set: 0.8226527570789866 Accuracy for the fold no. 3 on the test set: 0.8211624441132638 Accuracy for the fold no. 4 on the test set: 0.8002980625931445 Accuracy for the fold no. 5 on the test set: 0.8077496274217586 Accuracy for the fold no. 6 on the test set: 0.808955223880597 Accuracy for the fold no. 7 on the test set: 0.7985074626865671 Accuracy for the fold no. 8 on the test set: 0.8283582089552238 Accuracy for the fold no. 9 on the test set: 0.8164179104477612 Accuracy for the fold no. 10 on the test set: 0.835820895522388\")"
      ],
      "metadata": {
        "id": "WNk8X9-MxJlB",
        "outputId": "914f5086-2797-4f9c-da9c-8c9fb8a6c663",
        "colab": {
          "base_uri": "https://localhost:8080/"
        }
      },
      "execution_count": 41,
      "outputs": [
        {
          "output_type": "stream",
          "name": "stdout",
          "text": [
            "[0.8135749716395667, 0.012786916806402805]\n"
          ]
        }
      ]
    },
    {
      "cell_type": "markdown",
      "source": [
        "## **KNN**"
      ],
      "metadata": {
        "id": "3eC8lnGv1Z-U"
      }
    },
    {
      "cell_type": "code",
      "source": [
        "from sklearn.neighbors import KNeighborsClassifier"
      ],
      "metadata": {
        "id": "Hf5e1sju1o3Q"
      },
      "execution_count": null,
      "outputs": []
    },
    {
      "cell_type": "code",
      "source": [
        "cd /content/gdrive/MyDrive/models/IRMAS/KNN"
      ],
      "metadata": {
        "colab": {
          "base_uri": "https://localhost:8080/"
        },
        "id": "QDRlAwT-1s9k",
        "outputId": "20dc418a-6118-4166-cccd-d7cfcd8defc2"
      },
      "execution_count": null,
      "outputs": [
        {
          "output_type": "stream",
          "name": "stdout",
          "text": [
            "/content/gdrive/MyDrive/models/IRMAS/KNN\n"
          ]
        }
      ]
    },
    {
      "cell_type": "code",
      "source": [
        "kf10 = KFold(n_splits=10, shuffle=True, random_state=42)\n",
        "mod_knn = KNeighborsClassifier(n_neighbors=4)\n",
        "i=1\n",
        "for x_train_idx, x_test_idx in kf10.split(X_sc):\n",
        "  X_train = X_sc.iloc[x_train_idx]\n",
        "  X_test = X_sc.iloc[x_test_idx]\n",
        "  y_train = y.iloc[x_train_idx]\n",
        "  y_test = y.iloc[x_test_idx]\n",
        "  mod_knn.fit(X_train, np.array(y_train).flatten())\n",
        "  print(f\"Accuracy for the fold no. {i} on the test set: {accuracy_score(y_test, mod_knn.predict(X_test))}\")\n",
        "  joblib.dump(mod_knn, \"knn\"+str(i)+\".sav\")\n",
        "  i=i+1"
      ],
      "metadata": {
        "colab": {
          "base_uri": "https://localhost:8080/"
        },
        "id": "wjA6Y7J2170B",
        "outputId": "f309e54e-a819-4611-cf33-fe401aa06af4"
      },
      "execution_count": null,
      "outputs": [
        {
          "output_type": "stream",
          "name": "stdout",
          "text": [
            "Accuracy for the fold no. 1 on the test set: 0.7570789865871833\n",
            "Accuracy for the fold no. 2 on the test set: 0.8002980625931445\n",
            "Accuracy for the fold no. 3 on the test set: 0.8047690014903129\n",
            "Accuracy for the fold no. 4 on the test set: 0.8166915052160953\n",
            "Accuracy for the fold no. 5 on the test set: 0.8092399403874814\n",
            "Accuracy for the fold no. 6 on the test set: 0.7910447761194029\n",
            "Accuracy for the fold no. 7 on the test set: 0.7731343283582089\n",
            "Accuracy for the fold no. 8 on the test set: 0.8029850746268656\n",
            "Accuracy for the fold no. 9 on the test set: 0.7671641791044777\n",
            "Accuracy for the fold no. 10 on the test set: 0.7805970149253731\n"
          ]
        }
      ]
    },
    {
      "cell_type": "code",
      "source": [
        "ac_ls(\"Accuracy for the fold no. 1 on the test set: 0.7570789865871833 Accuracy for the fold no. 2 on the test set: 0.8002980625931445 Accuracy for the fold no. 3 on the test set: 0.8047690014903129 Accuracy for the fold no. 4 on the test set: 0.8166915052160953 Accuracy for the fold no. 5 on the test set: 0.8092399403874814 Accuracy for the fold no. 6 on the test set: 0.7910447761194029 Accuracy for the fold no. 7 on the test set: 0.7731343283582089 Accuracy for the fold no. 8 on the test set: 0.8029850746268656 Accuracy for the fold no. 9 on the test set: 0.7671641791044777 Accuracy for the fold no. 10 on the test set: 0.7805970149253731\")"
      ],
      "metadata": {
        "id": "RiQuPSOi9QYc",
        "outputId": "cc8cdb19-8e17-497c-e371-2ffed62d6a64",
        "colab": {
          "base_uri": "https://localhost:8080/"
        }
      },
      "execution_count": 42,
      "outputs": [
        {
          "output_type": "stream",
          "name": "stdout",
          "text": [
            "[0.7903002869408546, 0.018851318524405497]\n"
          ]
        }
      ]
    },
    {
      "cell_type": "markdown",
      "source": [
        "## **Decision Tree**"
      ],
      "metadata": {
        "id": "gxTiEhxurraa"
      }
    },
    {
      "cell_type": "code",
      "source": [
        "from sklearn.tree import DecisionTreeClassifier"
      ],
      "metadata": {
        "id": "biowPrBusMbk"
      },
      "execution_count": 6,
      "outputs": []
    },
    {
      "cell_type": "code",
      "source": [
        "kf10 = KFold(n_splits=10, shuffle=True, random_state=42)"
      ],
      "metadata": {
        "id": "fBiKtVrQspY-"
      },
      "execution_count": 7,
      "outputs": []
    },
    {
      "cell_type": "code",
      "source": [
        "cd /content/gdrive/MyDrive/models/IRMAS/DTC"
      ],
      "metadata": {
        "id": "pl_JYw-QspbX",
        "outputId": "46275015-3e5a-4d7d-9449-adf301a5b39d",
        "colab": {
          "base_uri": "https://localhost:8080/"
        }
      },
      "execution_count": 8,
      "outputs": [
        {
          "output_type": "stream",
          "name": "stdout",
          "text": [
            "/content/gdrive/MyDrive/models/IRMAS/DTC\n"
          ]
        }
      ]
    },
    {
      "cell_type": "code",
      "source": [
        "i=1\n",
        "for x_train_idx, x_test_idx in kf10.split(X_sc):\n",
        "  X_train = X_sc.iloc[x_train_idx]\n",
        "  X_test = X_sc.iloc[x_test_idx]\n",
        "  y_train = y.iloc[x_train_idx]\n",
        "  y_test = y.iloc[x_test_idx]\n",
        "  dtc = DecisionTreeClassifier(max_depth=14)\n",
        "  dtc.fit(X_train, np.array(y_train).flatten())\n",
        "  print(f\"Accuracy for the fold no. {i} on the test set: {accuracy_score(y_test, dtc.predict(X_test))}\")\n",
        "  joblib.dump(dtc, \"dtc\"+str(i)+\".sav\")\n",
        "  i=i+1"
      ],
      "metadata": {
        "id": "rVPkCMjIspd0",
        "outputId": "ae9f7c5e-b01a-4a75-9885-dd904efd4421",
        "colab": {
          "base_uri": "https://localhost:8080/"
        }
      },
      "execution_count": 9,
      "outputs": [
        {
          "output_type": "stream",
          "name": "stdout",
          "text": [
            "Accuracy for the fold no. 1 on the test set: 0.4232488822652757\n",
            "Accuracy for the fold no. 2 on the test set: 0.38748137108792846\n",
            "Accuracy for the fold no. 3 on the test set: 0.45007451564828616\n",
            "Accuracy for the fold no. 4 on the test set: 0.4157973174366617\n",
            "Accuracy for the fold no. 5 on the test set: 0.4918032786885246\n",
            "Accuracy for the fold no. 6 on the test set: 0.417910447761194\n",
            "Accuracy for the fold no. 7 on the test set: 0.44925373134328356\n",
            "Accuracy for the fold no. 8 on the test set: 0.4552238805970149\n",
            "Accuracy for the fold no. 9 on the test set: 0.39104477611940297\n",
            "Accuracy for the fold no. 10 on the test set: 0.4298507462686567\n"
          ]
        }
      ]
    },
    {
      "cell_type": "code",
      "source": [
        "ac_ls(\"Accuracy for the fold no. 1 on the test set: 0.4232488822652757 Accuracy for the fold no. 2 on the test set: 0.38748137108792846 Accuracy for the fold no. 3 on the test set: 0.45007451564828616 Accuracy for the fold no. 4 on the test set: 0.4157973174366617 Accuracy for the fold no. 5 on the test set: 0.4918032786885246 Accuracy for the fold no. 6 on the test set: 0.417910447761194 Accuracy for the fold no. 7 on the test set: 0.44925373134328356 Accuracy for the fold no. 8 on the test set: 0.4552238805970149 Accuracy for the fold no. 9 on the test set: 0.39104477611940297 Accuracy for the fold no. 10 on the test set: 0.4298507462686567\")"
      ],
      "metadata": {
        "id": "eCjwiKsq9Xbb",
        "outputId": "5ccfb077-26c8-4d66-9c0a-a4225c6322e4",
        "colab": {
          "base_uri": "https://localhost:8080/"
        }
      },
      "execution_count": 43,
      "outputs": [
        {
          "output_type": "stream",
          "name": "stdout",
          "text": [
            "[0.4311688947216229, 0.029891027440183838]\n"
          ]
        }
      ]
    },
    {
      "cell_type": "markdown",
      "source": [
        "## **Random Forests**"
      ],
      "metadata": {
        "id": "-p2npLiZ4UXn"
      }
    },
    {
      "cell_type": "code",
      "source": [
        "from sklearn.ensemble import RandomForestClassifier"
      ],
      "metadata": {
        "id": "5BqaWv7F4Wj2"
      },
      "execution_count": null,
      "outputs": []
    },
    {
      "cell_type": "code",
      "source": [
        "kf10 = KFold(n_splits=10, shuffle=True, random_state=42)"
      ],
      "metadata": {
        "id": "B_UubdNM4ZQO"
      },
      "execution_count": null,
      "outputs": []
    },
    {
      "cell_type": "code",
      "source": [
        "cd /content/gdrive/MyDrive/models/IRMAS/RFC"
      ],
      "metadata": {
        "colab": {
          "base_uri": "https://localhost:8080/"
        },
        "id": "1VOuOWK74atZ",
        "outputId": "6e368bcd-1f7e-4b5c-ac04-a673bbaf06e8"
      },
      "execution_count": null,
      "outputs": [
        {
          "output_type": "stream",
          "name": "stdout",
          "text": [
            "/content/gdrive/MyDrive/models/IRMAS/RFC\n"
          ]
        }
      ]
    },
    {
      "cell_type": "code",
      "source": [
        "i=1\n",
        "for train_idx, test_idx in kf10.split(X_sc):\n",
        "  X_train = X_sc.iloc[train_idx]\n",
        "  X_test = X_sc.iloc[test_idx]\n",
        "  y_train = y.iloc[train_idx]\n",
        "  y_test = y.iloc[test_idx]\n",
        "  rfc = RandomForestClassifier(n_estimators=400)\n",
        "  rfc.fit(X_train, np.array(y_train).flatten())\n",
        "  print(f\"Accuracy for the fold no. {i} on the test set: {accuracy_score(y_test, rfc.predict(X_test))}\")\n",
        "  joblib.dump(rfc, \"rfc\"+str(i)+\".sav\")\n",
        "  i = i+1"
      ],
      "metadata": {
        "colab": {
          "base_uri": "https://localhost:8080/"
        },
        "id": "uNuPx3Dt4jZ1",
        "outputId": "4e16dfd6-95e9-4601-b624-78becf6feaec"
      },
      "execution_count": null,
      "outputs": [
        {
          "output_type": "stream",
          "name": "stdout",
          "text": [
            "Accuracy for the fold no. 1 on the test set: 0.6974664679582713\n",
            "Accuracy for the fold no. 2 on the test set: 0.6780923994038748\n",
            "Accuracy for the fold no. 3 on the test set: 0.7183308494783904\n",
            "Accuracy for the fold no. 4 on the test set: 0.7004470938897168\n",
            "Accuracy for the fold no. 5 on the test set: 0.7108792846497765\n",
            "Accuracy for the fold no. 6 on the test set: 0.673134328358209\n",
            "Accuracy for the fold no. 7 on the test set: 0.7119402985074627\n",
            "Accuracy for the fold no. 8 on the test set: 0.7194029850746269\n",
            "Accuracy for the fold no. 9 on the test set: 0.7164179104477612\n",
            "Accuracy for the fold no. 10 on the test set: 0.7194029850746269\n"
          ]
        }
      ]
    },
    {
      "cell_type": "code",
      "source": [
        "ac_ls(\"Accuracy for the fold no. 1 on the test set: 0.6974664679582713 Accuracy for the fold no. 2 on the test set: 0.6780923994038748 Accuracy for the fold no. 3 on the test set: 0.7183308494783904 Accuracy for the fold no. 4 on the test set: 0.7004470938897168 Accuracy for the fold no. 5 on the test set: 0.7108792846497765 Accuracy for the fold no. 6 on the test set: 0.673134328358209 Accuracy for the fold no. 7 on the test set: 0.7119402985074627 Accuracy for the fold no. 8 on the test set: 0.7194029850746269 Accuracy for the fold no. 9 on the test set: 0.7164179104477612 Accuracy for the fold no. 10 on the test set: 0.7194029850746269\")"
      ],
      "metadata": {
        "id": "h0GcTWZv9cjn",
        "outputId": "c0ff4787-8955-496e-d114-3e41154859ed",
        "colab": {
          "base_uri": "https://localhost:8080/"
        }
      },
      "execution_count": 44,
      "outputs": [
        {
          "output_type": "stream",
          "name": "stdout",
          "text": [
            "[0.7045514602842716, 0.016188320158757125]\n"
          ]
        }
      ]
    },
    {
      "cell_type": "markdown",
      "source": [
        "## **Gradient Boosting**"
      ],
      "metadata": {
        "id": "288Dw757Hrvp"
      }
    },
    {
      "cell_type": "code",
      "source": [
        "import xgboost as xgb"
      ],
      "metadata": {
        "id": "eCoLnVVwHuZR"
      },
      "execution_count": null,
      "outputs": []
    },
    {
      "cell_type": "code",
      "source": [
        "accuracy = [0.7108792846497765, 0.7347242921013413, 0.7257824143070045, 0.7049180327868853, 0.7317436661698957, 0.6955223880597015, 0.7417910447761195]"
      ],
      "metadata": {
        "id": "FsniScfJaE9o"
      },
      "execution_count": null,
      "outputs": []
    },
    {
      "cell_type": "code",
      "source": [
        "kf10 = KFold(n_splits=10, shuffle=True, random_state=42)"
      ],
      "metadata": {
        "id": "RpRcnFJaHv69"
      },
      "execution_count": null,
      "outputs": []
    },
    {
      "cell_type": "code",
      "source": [
        "cd /content/gdrive/MyDrive/models/IRMAS/Gradient Boosting"
      ],
      "metadata": {
        "id": "KZEEhNisHynw",
        "outputId": "8f659b20-aa02-4be3-b9de-cac6f95f5d46",
        "colab": {
          "base_uri": "https://localhost:8080/"
        }
      },
      "execution_count": null,
      "outputs": [
        {
          "output_type": "stream",
          "name": "stdout",
          "text": [
            "/content/gdrive/MyDrive/models/IRMAS/Gradient Boosting\n"
          ]
        }
      ]
    },
    {
      "cell_type": "code",
      "source": [
        "i=1\n",
        "for train_idx, test_idx in kf10.split(X_sc):\n",
        "  if i>7:\n",
        "    X_train = X_sc.iloc[train_idx]\n",
        "    X_test = X_sc.iloc[test_idx]\n",
        "    y_train = y.iloc[train_idx]\n",
        "    y_test = y.iloc[test_idx]\n",
        "    xgbc = xgb.XGBClassifier(max_depths=5, learning_rate=0.1)\n",
        "    xgbc.fit(X_train, np.array(y_train).flatten())\n",
        "    print(f\"Accuracy for the fold no. {i} on the test set: {accuracy_score(y_test, xgbc.predict(X_test))}\")\n",
        "    joblib.dump(xgbc, \"xgbc\"+str(i)+\".sav\")\n",
        "  else:\n",
        "    print(f\"Accuracy for the fold no. {i} on the test set: {accuracy[i-1]}\")\n",
        "  i = i+1"
      ],
      "metadata": {
        "id": "19ikh1DZH84p",
        "outputId": "76014f20-fbb4-4bef-de38-93e5a04a2738",
        "colab": {
          "base_uri": "https://localhost:8080/"
        }
      },
      "execution_count": null,
      "outputs": [
        {
          "output_type": "stream",
          "name": "stdout",
          "text": [
            "Accuracy for the fold no. 1 on the test set: 0.7108792846497765\n",
            "Accuracy for the fold no. 2 on the test set: 0.7347242921013413\n",
            "Accuracy for the fold no. 3 on the test set: 0.7257824143070045\n",
            "Accuracy for the fold no. 4 on the test set: 0.7049180327868853\n",
            "Accuracy for the fold no. 5 on the test set: 0.7317436661698957\n",
            "Accuracy for the fold no. 6 on the test set: 0.6955223880597015\n",
            "Accuracy for the fold no. 7 on the test set: 0.7417910447761195\n",
            "Accuracy for the fold no. 8 on the test set: 0.7492537313432835\n",
            "Accuracy for the fold no. 9 on the test set: 0.7417910447761195\n",
            "Accuracy for the fold no. 10 on the test set: 0.7432835820895523\n"
          ]
        }
      ]
    },
    {
      "cell_type": "code",
      "source": [
        "ac_ls(\"Accuracy for the fold no. 1 on the test set: 0.7108792846497765 Accuracy for the fold no. 2 on the test set: 0.7347242921013413 Accuracy for the fold no. 3 on the test set: 0.7257824143070045 Accuracy for the fold no. 4 on the test set: 0.7049180327868853 Accuracy for the fold no. 5 on the test set: 0.7317436661698957 Accuracy for the fold no. 6 on the test set: 0.6955223880597015 Accuracy for the fold no. 7 on the test set: 0.7417910447761195 Accuracy for the fold no. 8 on the test set: 0.7492537313432835 Accuracy for the fold no. 9 on the test set: 0.7417910447761195 Accuracy for the fold no. 10 on the test set: 0.7432835820895523\")"
      ],
      "metadata": {
        "id": "Ny90ixMh9pvU",
        "outputId": "6c8890da-788a-42ea-d7e3-dfa2975e8dd7",
        "colab": {
          "base_uri": "https://localhost:8080/"
        }
      },
      "execution_count": 45,
      "outputs": [
        {
          "output_type": "stream",
          "name": "stdout",
          "text": [
            "[0.7279689481059679, 0.017350865615784295]\n"
          ]
        }
      ]
    },
    {
      "cell_type": "markdown",
      "source": [
        "## **MLPClassifier**"
      ],
      "metadata": {
        "id": "ejCvMpDetLhJ"
      }
    },
    {
      "cell_type": "code",
      "source": [
        "from sklearn.neural_network import MLPClassifier"
      ],
      "metadata": {
        "id": "xsO_k8q3tNRv"
      },
      "execution_count": 10,
      "outputs": []
    },
    {
      "cell_type": "code",
      "source": [
        "MLPclass = MLPClassifier(hidden_layer_sizes=(512,512,512), random_state=8, activation='relu', solver=\"adam\", learning_rate_init=0.001, learning_rate='constant')"
      ],
      "metadata": {
        "id": "BesgR6JZtYem"
      },
      "execution_count": 13,
      "outputs": []
    },
    {
      "cell_type": "code",
      "source": [
        "X_train, X_test, y_train, y_test = train_test_split(X, y, test_size=0.3, random_state=42)"
      ],
      "metadata": {
        "id": "XI-dS4E5tdcq"
      },
      "execution_count": 14,
      "outputs": []
    },
    {
      "cell_type": "code",
      "source": [
        "cd /content/gdrive/MyDrive/models/IRMAS/MLP"
      ],
      "metadata": {
        "id": "D1y5ZanYtfHr",
        "outputId": "16faffc3-62a7-4ef2-82d2-d0040bd6a82a",
        "colab": {
          "base_uri": "https://localhost:8080/"
        }
      },
      "execution_count": 15,
      "outputs": [
        {
          "output_type": "stream",
          "name": "stdout",
          "text": [
            "/content/gdrive/MyDrive/models/IRMAS/MLP\n"
          ]
        }
      ]
    },
    {
      "cell_type": "code",
      "source": [
        "MLPclass.fit(X_train, np.array(y_train).flatten())\n",
        "y_pre_MLP = MLPclass.predict(X_test)"
      ],
      "metadata": {
        "id": "sef0GR2mtkiI"
      },
      "execution_count": 16,
      "outputs": []
    },
    {
      "cell_type": "code",
      "source": [
        "joblib.dump(MLPclass, \"MLP.sav\")"
      ],
      "metadata": {
        "id": "ZOvK2zWitklb",
        "outputId": "f707e949-9157-4a22-c7c3-e286df129fdb",
        "colab": {
          "base_uri": "https://localhost:8080/"
        }
      },
      "execution_count": 17,
      "outputs": [
        {
          "output_type": "execute_result",
          "data": {
            "text/plain": [
              "['MLP.sav']"
            ]
          },
          "metadata": {},
          "execution_count": 17
        }
      ]
    },
    {
      "cell_type": "code",
      "source": [
        "print(classification_report(y_test,y_pre_MLP))"
      ],
      "metadata": {
        "id": "Ij9g1tBytpgo",
        "outputId": "6fc997e8-25c3-480f-eb36-e289b1d40ccb",
        "colab": {
          "base_uri": "https://localhost:8080/"
        }
      },
      "execution_count": 18,
      "outputs": [
        {
          "output_type": "stream",
          "name": "stdout",
          "text": [
            "              precision    recall  f1-score   support\n",
            "\n",
            "         cel       0.58      0.74      0.65       104\n",
            "         cla       0.80      0.51      0.62       162\n",
            "         flu       0.59      0.80      0.68       153\n",
            "         gac       0.90      0.83      0.86       212\n",
            "         gel       0.88      0.62      0.72       204\n",
            "         org       0.76      0.91      0.83       209\n",
            "         pia       0.95      0.88      0.91       216\n",
            "         sax       0.51      0.54      0.52       172\n",
            "         tru       0.61      0.82      0.70       179\n",
            "         vio       0.74      0.42      0.54       165\n",
            "         voi       0.87      0.97      0.92       236\n",
            "\n",
            "    accuracy                           0.75      2012\n",
            "   macro avg       0.74      0.73      0.72      2012\n",
            "weighted avg       0.76      0.75      0.74      2012\n",
            "\n"
          ]
        }
      ]
    }
  ]
}