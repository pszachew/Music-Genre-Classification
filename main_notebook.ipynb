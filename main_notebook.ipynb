{
  "nbformat": 4,
  "nbformat_minor": 0,
  "metadata": {
    "colab": {
      "name": "Untitled0.ipynb",
      "provenance": [],
      "authorship_tag": "ABX9TyPNtDr1rcbhZbaHK/Y8ynRc"
    },
    "kernelspec": {
      "display_name": "Python 3",
      "name": "python3"
    },
    "language_info": {
      "name": "python"
    },
    "accelerator": "GPU"
  },
  "cells": [
    {
      "cell_type": "code",
      "metadata": {
        "id": "MYwQW3idY5jC",
        "colab": {
          "base_uri": "https://localhost:8080/"
        },
        "outputId": "8c1ce785-7a4b-4dda-ced7-715f61c6f58b"
      },
      "source": [
        "from google.colab import drive\n",
        "import sys\n",
        "drive.mount('/content/gdrive')\n",
        "sys.path.append('/content/gdrive/My Drive/Colab Notebooks')"
      ],
      "execution_count": 1,
      "outputs": [
        {
          "output_type": "stream",
          "name": "stdout",
          "text": [
            "Mounted at /content/gdrive\n"
          ]
        }
      ]
    },
    {
      "cell_type": "code",
      "metadata": {
        "id": "x314WS87GmcN"
      },
      "source": [
        "import openl3\n",
        "import pandas as pd\n",
        "import numpy as np\n",
        "import seaborn as sns\n",
        "import soundfile as sf\n",
        "import os"
      ],
      "execution_count": 2,
      "outputs": []
    },
    {
      "cell_type": "code",
      "metadata": {
        "id": "gTZYiydPaMtc"
      },
      "source": [
        "path = '/content/gdrive/My Drive/Music-Genre-Classification/Data/genres_original'\n",
        "path_out = '/content/gdrive/My Drive/Embedded Music'\n",
        "for dir in os.listdir(path):\n",
        "  for file in os.listdir(path+'/'+dir):\n",
        "      openl3.process_audio_file(path+'/'+dir+'/'+file, output_dir=path_out+'/'+dir, hop_size=0.5, embedding_size=512)"
      ],
      "execution_count": null,
      "outputs": []
    },
    {
      "cell_type": "code",
      "metadata": {
        "id": "SlJp6iGQQ9NC"
      },
      "source": [
        "model = LogisticRegression(max_iter=10000)"
      ],
      "execution_count": 26,
      "outputs": []
    },
    {
      "cell_type": "code",
      "metadata": {
        "id": "xjLTeOvVLt9h"
      },
      "source": [
        "X = []\n",
        "labels = []\n",
        "path_in = '/content/gdrive/My Drive/Embedded Music'\n",
        "for dir in os.listdir(path_in):\n",
        "  for file in os.listdir(path_in + '/' + dir):\n",
        "      X.append((np.load(path_in+'/'+dir+'/'+file))['embedding'].flatten()[0:30720])\n",
        "      labels.append(dir)"
      ],
      "execution_count": 12,
      "outputs": []
    },
    {
      "cell_type": "code",
      "metadata": {
        "id": "oMflsDpEoH1d"
      },
      "source": [
        "from sklearn.linear_model import LogisticRegression\n",
        "from sklearn.model_selection import train_test_split\n",
        "from sklearn.preprocessing import StandardScaler"
      ],
      "execution_count": 21,
      "outputs": []
    },
    {
      "cell_type": "code",
      "metadata": {
        "id": "pKalVqhjo3Um"
      },
      "source": [
        "X_train, X_test, y_train, y_test = train_test_split(X, labels, test_size = 0.3)"
      ],
      "execution_count": 14,
      "outputs": []
    },
    {
      "cell_type": "code",
      "metadata": {
        "id": "Rd5u86Cip80y"
      },
      "source": [
        "scaler = StandardScaler()\n",
        "scaler.fit(X_train)\n",
        "X_train = scaler.transform(X_train)"
      ],
      "execution_count": 23,
      "outputs": []
    },
    {
      "cell_type": "code",
      "metadata": {
        "colab": {
          "base_uri": "https://localhost:8080/"
        },
        "id": "f6dYxFp8z2LC",
        "outputId": "e9a143b0-73eb-4eac-a20c-9ee9a3851d98"
      },
      "source": [
        "model.fit(X_train,y_train)"
      ],
      "execution_count": 27,
      "outputs": [
        {
          "output_type": "execute_result",
          "data": {
            "text/plain": [
              "LogisticRegression(C=1.0, class_weight=None, dual=False, fit_intercept=True,\n",
              "                   intercept_scaling=1, l1_ratio=None, max_iter=10000,\n",
              "                   multi_class='auto', n_jobs=None, penalty='l2',\n",
              "                   random_state=None, solver='lbfgs', tol=0.0001, verbose=0,\n",
              "                   warm_start=False)"
            ]
          },
          "metadata": {},
          "execution_count": 27
        }
      ]
    },
    {
      "cell_type": "code",
      "metadata": {
        "id": "wT2uTW7t0FWQ"
      },
      "source": [
        "X_test = scaler.transform(X_test)"
      ],
      "execution_count": 29,
      "outputs": []
    },
    {
      "cell_type": "code",
      "metadata": {
        "id": "ThIJOF9rnMSb"
      },
      "source": [
        "y_pre = model.predict(X_test)"
      ],
      "execution_count": 30,
      "outputs": []
    },
    {
      "cell_type": "code",
      "metadata": {
        "id": "_nXBcjGPnVpb"
      },
      "source": [
        "from sklearn.metrics import classification_report, confusion_matrix"
      ],
      "execution_count": 32,
      "outputs": []
    },
    {
      "cell_type": "code",
      "metadata": {
        "id": "RC-XEghunimo",
        "outputId": "cd1dd9a4-aaa2-475d-89c2-2daf73f1ea43",
        "colab": {
          "base_uri": "https://localhost:8080/"
        }
      },
      "source": [
        "print(classification_report(y_test,y_pre))"
      ],
      "execution_count": 34,
      "outputs": [
        {
          "output_type": "stream",
          "name": "stdout",
          "text": [
            "              precision    recall  f1-score   support\n",
            "\n",
            "       blues       0.82      0.87      0.84        31\n",
            "   classical       0.95      1.00      0.97        35\n",
            "     country       0.72      0.84      0.78        25\n",
            "       disco       0.86      0.86      0.86        28\n",
            "      hiphop       0.87      0.93      0.90        29\n",
            "        jazz       0.89      0.92      0.91        26\n",
            "       metal       1.00      0.97      0.98        33\n",
            "         pop       0.88      0.85      0.87        34\n",
            "      reggae       0.84      0.64      0.73        25\n",
            "        rock       0.65      0.59      0.62        34\n",
            "\n",
            "    accuracy                           0.85       300\n",
            "   macro avg       0.85      0.85      0.84       300\n",
            "weighted avg       0.85      0.85      0.85       300\n",
            "\n"
          ]
        }
      ]
    },
    {
      "cell_type": "code",
      "metadata": {
        "id": "KVeK_ixDnm8O"
      },
      "source": [
        ""
      ],
      "execution_count": null,
      "outputs": []
    }
  ]
}