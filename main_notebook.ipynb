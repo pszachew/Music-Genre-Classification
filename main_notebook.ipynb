{
  "nbformat": 4,
  "nbformat_minor": 0,
  "metadata": {
    "colab": {
      "name": "Untitled0.ipynb",
      "provenance": [],
      "authorship_tag": "ABX9TyMrffmckH38gIHzshVY677x"
    },
    "kernelspec": {
      "display_name": "Python 3",
      "name": "python3"
    },
    "language_info": {
      "name": "python"
    },
    "accelerator": "GPU"
  },
  "cells": [
    {
      "cell_type": "code",
      "metadata": {
        "id": "MYwQW3idY5jC",
        "colab": {
          "base_uri": "https://localhost:8080/"
        },
        "outputId": "5d4ac476-e042-4da0-8b6a-e1b74970d1c2"
      },
      "source": [
        "from google.colab import drive\n",
        "import sys\n",
        "drive.mount('/content/gdrive')\n",
        "sys.path.append('/content/gdrive/My Drive/Colab Notebooks')"
      ],
      "execution_count": 1,
      "outputs": [
        {
          "output_type": "stream",
          "name": "stdout",
          "text": [
            "Mounted at /content/gdrive\n"
          ]
        }
      ]
    },
    {
      "cell_type": "code",
      "metadata": {
        "id": "x314WS87GmcN"
      },
      "source": [
        "import openl3\n",
        "import pandas as pd\n",
        "import numpy as np\n",
        "import seaborn as sns\n",
        "import soundfile as sf\n",
        "import os"
      ],
      "execution_count": 2,
      "outputs": []
    },
    {
      "cell_type": "code",
      "metadata": {
        "id": "gTZYiydPaMtc"
      },
      "source": [
        "path = '/content/gdrive/My Drive/Music-Genre-Classification/Data/genres_original'\n",
        "path_out = '/content/gdrive/My Drive/Embedded Music'\n",
        "for dir in os.listdir(path):\n",
        "  for file in os.listdir(path+'/'+dir):\n",
        "    openl3.process_audio_file(path+'/'+dir+'/'+file, output_dir=path_out+'/'+dir)\n",
        "    "
      ],
      "execution_count": 8,
      "outputs": []
    },
    {
      "cell_type": "code",
      "metadata": {
        "id": "xjLTeOvVLt9h"
      },
      "source": [
        ""
      ],
      "execution_count": null,
      "outputs": []
    }
  ]
}