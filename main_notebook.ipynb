{
  "nbformat": 4,
  "nbformat_minor": 0,
  "metadata": {
    "colab": {
      "name": "Untitled0.ipynb",
      "provenance": [],
      "authorship_tag": "ABX9TyMjpGh6QKRgsql1H+x2eH4u"
    },
    "kernelspec": {
      "display_name": "Python 3",
      "name": "python3"
    },
    "language_info": {
      "name": "python"
    },
    "accelerator": "GPU"
  },
  "cells": [
    {
      "cell_type": "code",
      "metadata": {
        "id": "MYwQW3idY5jC",
        "colab": {
          "base_uri": "https://localhost:8080/"
        },
        "outputId": "b848ab94-d1c1-496c-92f4-9954185dcceb"
      },
      "source": [
        "from google.colab import drive\n",
        "import sys\n",
        "drive.mount('/content/gdrive')\n",
        "sys.path.append('/content/gdrive/My Drive/Colab Notebooks')"
      ],
      "execution_count": 2,
      "outputs": [
        {
          "output_type": "stream",
          "name": "stdout",
          "text": [
            "Mounted at /content/gdrive\n"
          ]
        }
      ]
    },
    {
      "cell_type": "code",
      "metadata": {
        "id": "x314WS87GmcN"
      },
      "source": [
        "import openl3\n",
        "import pandas as pd\n",
        "import numpy as np\n",
        "import seaborn as sns"
      ],
      "execution_count": 3,
      "outputs": []
    },
    {
      "cell_type": "code",
      "metadata": {
        "id": "sMehMzfMNeXk"
      },
      "source": [
        "import soundfile as sf"
      ],
      "execution_count": 4,
      "outputs": []
    },
    {
      "cell_type": "code",
      "metadata": {
        "id": "gTZYiydPaMtc"
      },
      "source": [
        "audio, sr = sf.read('/content/gdrive/My Drive/Music-Genre-Classification/Data/genres_original/blues/blues.00000.wav')"
      ],
      "execution_count": 9,
      "outputs": []
    },
    {
      "cell_type": "code",
      "metadata": {
        "id": "Rsl5_Hn7a2qx",
        "outputId": "5d999100-1091-4001-971f-881501f54f87",
        "colab": {
          "base_uri": "https://localhost:8080/"
        }
      },
      "source": [
        "emb, ts = openl3.get_audio_embedding(audio, sr)"
      ],
      "execution_count": 10,
      "outputs": [
        {
          "output_type": "stream",
          "name": "stdout",
          "text": [
            "10/10 [==============================] - 36s 385ms/step\n"
          ]
        }
      ]
    },
    {
      "cell_type": "code",
      "metadata": {
        "id": "KttJ_ZIgbhIK",
        "outputId": "2b04d5d1-8a41-4a8d-8fef-04e610969d15",
        "colab": {
          "base_uri": "https://localhost:8080/"
        }
      },
      "source": [
        "emb.shape"
      ],
      "execution_count": 13,
      "outputs": [
        {
          "output_type": "execute_result",
          "data": {
            "text/plain": [
              "(297, 6144)"
            ]
          },
          "metadata": {},
          "execution_count": 13
        }
      ]
    },
    {
      "cell_type": "code",
      "metadata": {
        "id": "gXgPC7kocUPU",
        "outputId": "1f9da549-8d62-4d71-9062-c033fee73382",
        "colab": {
          "base_uri": "https://localhost:8080/"
        }
      },
      "source": [
        "ts.shape"
      ],
      "execution_count": 14,
      "outputs": [
        {
          "output_type": "execute_result",
          "data": {
            "text/plain": [
              "(297,)"
            ]
          },
          "metadata": {},
          "execution_count": 14
        }
      ]
    },
    {
      "cell_type": "code",
      "metadata": {
        "id": "7H1n4jHXcVww"
      },
      "source": [
        ""
      ],
      "execution_count": null,
      "outputs": []
    }
  ]
}