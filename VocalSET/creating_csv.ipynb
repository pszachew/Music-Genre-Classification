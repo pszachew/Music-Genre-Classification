{
  "nbformat": 4,
  "nbformat_minor": 0,
  "metadata": {
    "colab": {
      "name": "Untitled20.ipynb",
      "provenance": [],
      "authorship_tag": "ABX9TyMMyBzFbJNujWFMec0QDYNP",
      "include_colab_link": true
    },
    "kernelspec": {
      "name": "python3",
      "display_name": "Python 3"
    },
    "language_info": {
      "name": "python"
    }
  },
  "cells": [
    {
      "cell_type": "markdown",
      "metadata": {
        "id": "view-in-github",
        "colab_type": "text"
      },
      "source": [
        "<a href=\"https://colab.research.google.com/github/pszachew/Music-Genre-Classification/blob/master/VocalSET/creating_csv.ipynb\" target=\"_parent\"><img src=\"https://colab.research.google.com/assets/colab-badge.svg\" alt=\"Open In Colab\"/></a>"
      ]
    },
    {
      "cell_type": "code",
      "execution_count": 1,
      "metadata": {
        "id": "KlIvRS-hUPmH"
      },
      "outputs": [],
      "source": [
        "import pandas as pd\n",
        "import numpy as np\n",
        "import os"
      ]
    },
    {
      "cell_type": "code",
      "source": [
        "from google.colab import drive\n",
        "import sys\n",
        "drive.mount('/content/gdrive')\n",
        "sys.path.append('/content/gdrive/My Drive/Colab Notebooks')"
      ],
      "metadata": {
        "colab": {
          "base_uri": "https://localhost:8080/"
        },
        "id": "aRNqaxLmUVwy",
        "outputId": "a02dd09d-48dd-42ee-db59-cad76d9c13f9"
      },
      "execution_count": 2,
      "outputs": [
        {
          "output_type": "stream",
          "name": "stdout",
          "text": [
            "Mounted at /content/gdrive\n"
          ]
        }
      ]
    },
    {
      "cell_type": "code",
      "source": [
        "X = []\n",
        "labels = []\n",
        "initial_path=\"/content/gdrive/MyDrive/Embedded Music/VocalSET\"\n",
        "for gender in os.listdir(initial_path):\n",
        "        for el in os.listdir(initial_path + \"/\" + gender):\n",
        "            for x in os.listdir(initial_path + \"/\" + gender + \"/\" + el):\n",
        "                for audio in os.listdir(initial_path + \"/\" + gender + \"/\" + el + \"/\" + x):\n",
        "                  X.append((np.load(initial_path + \"/\" + gender + \"/\" + el + \"/\" + x + \"/\" + audio))['embedding'].flatten()[0:11264])\n",
        "                  labels.append(gender)"
      ],
      "metadata": {
        "id": "cMf148ba1boX"
      },
      "execution_count": 8,
      "outputs": []
    },
    {
      "cell_type": "code",
      "source": [
        "dl = []\n",
        "for el in X:\n",
        "  dl.append(len(el))"
      ],
      "metadata": {
        "id": "alqH1vZFVPKI"
      },
      "execution_count": 9,
      "outputs": []
    },
    {
      "cell_type": "code",
      "source": [
        "max(dl)"
      ],
      "metadata": {
        "colab": {
          "base_uri": "https://localhost:8080/"
        },
        "id": "g_P_omcuaJiG",
        "outputId": "5ff6dde7-a8f7-412c-ca9a-8009c7d70a5a"
      },
      "execution_count": 6,
      "outputs": [
        {
          "output_type": "execute_result",
          "data": {
            "text/plain": [
              "15872"
            ]
          },
          "metadata": {},
          "execution_count": 6
        }
      ]
    },
    {
      "cell_type": "code",
      "source": [
        "min(dl)"
      ],
      "metadata": {
        "colab": {
          "base_uri": "https://localhost:8080/"
        },
        "id": "gHZW9obvaKpj",
        "outputId": "e4d7ac29-b491-4a7c-c79e-a7359a964d03"
      },
      "execution_count": 10,
      "outputs": [
        {
          "output_type": "execute_result",
          "data": {
            "text/plain": [
              "11264"
            ]
          },
          "metadata": {},
          "execution_count": 10
        }
      ]
    },
    {
      "cell_type": "code",
      "source": [
        "X_df = pd.DataFrame(X)\n",
        "y_df = pd.DataFrame(labels)"
      ],
      "metadata": {
        "id": "Xg9nODp-b2Kr"
      },
      "execution_count": 11,
      "outputs": []
    },
    {
      "cell_type": "code",
      "source": [
        "X_df.to_csv(\"/content/gdrive/MyDrive/csv_data/VocalSET/features.csv\", index=None, header=None)"
      ],
      "metadata": {
        "id": "krKs40UQcEaY"
      },
      "execution_count": 12,
      "outputs": []
    },
    {
      "cell_type": "code",
      "source": [
        "y_df.to_csv(\"/content/gdrive/MyDrive/csv_data/VocalSET/labels.csv\", index=None, header=None)"
      ],
      "metadata": {
        "id": "3FZlQNnkbd0H"
      },
      "execution_count": 13,
      "outputs": []
    }
  ]
}