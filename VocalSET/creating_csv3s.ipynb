{
  "nbformat": 4,
  "nbformat_minor": 0,
  "metadata": {
    "colab": {
      "name": "Untitled20.ipynb",
      "provenance": [],
      "authorship_tag": "ABX9TyMGZZtY1LpnmsgjhZMhltyx",
      "include_colab_link": true
    },
    "kernelspec": {
      "name": "python3",
      "display_name": "Python 3"
    },
    "language_info": {
      "name": "python"
    }
  },
  "cells": [
    {
      "cell_type": "markdown",
      "metadata": {
        "id": "view-in-github",
        "colab_type": "text"
      },
      "source": [
        "<a href=\"https://colab.research.google.com/github/pszachew/Music-Genre-Classification/blob/master/VocalSET/creating_csv3s.ipynb\" target=\"_parent\"><img src=\"https://colab.research.google.com/assets/colab-badge.svg\" alt=\"Open In Colab\"/></a>"
      ]
    },
    {
      "cell_type": "code",
      "execution_count": 1,
      "metadata": {
        "id": "KlIvRS-hUPmH"
      },
      "outputs": [],
      "source": [
        "import pandas as pd\n",
        "import numpy as np\n",
        "import os"
      ]
    },
    {
      "cell_type": "code",
      "source": [
        "from google.colab import drive\n",
        "import sys\n",
        "drive.mount('/content/gdrive')\n",
        "sys.path.append('/content/gdrive/My Drive/Colab Notebooks')"
      ],
      "metadata": {
        "colab": {
          "base_uri": "https://localhost:8080/"
        },
        "id": "aRNqaxLmUVwy",
        "outputId": "912c1109-7db9-43b9-e3da-a9b1e6840fed"
      },
      "execution_count": 2,
      "outputs": [
        {
          "output_type": "stream",
          "name": "stdout",
          "text": [
            "Mounted at /content/gdrive\n"
          ]
        }
      ]
    },
    {
      "cell_type": "code",
      "source": [
        "X_test = []\n",
        "labels_test = []\n",
        "initial_path=\"/content/gdrive/MyDrive/Embedded Music/VocalSET3s/embedded_test\"\n",
        "for gender in os.listdir(initial_path):\n",
        "        for el in os.listdir(initial_path + \"/\" + gender):\n",
        "            for x in os.listdir(initial_path + \"/\" + gender + \"/\" + el):\n",
        "                for audio in os.listdir(initial_path + \"/\" + gender + \"/\" + el + \"/\" + x):\n",
        "                  X_test.append((np.load(initial_path + \"/\" + gender + \"/\" + el + \"/\" + x + \"/\" + audio))['embedding'].flatten())\n",
        "                  labels_test.append(gender)"
      ],
      "metadata": {
        "id": "hrtMsuhQCWqu"
      },
      "execution_count": 3,
      "outputs": []
    },
    {
      "cell_type": "code",
      "source": [
        "X_train = []\n",
        "labels_train = []\n",
        "initial_path=\"/content/gdrive/MyDrive/Embedded Music/VocalSET3s/embedded_train\"\n",
        "for gender in os.listdir(initial_path):\n",
        "        for el in os.listdir(initial_path + \"/\" + gender):\n",
        "            for x in os.listdir(initial_path + \"/\" + gender + \"/\" + el):\n",
        "                for audio in os.listdir(initial_path + \"/\" + gender + \"/\" + el + \"/\" + x):\n",
        "                  X_train.append((np.load(initial_path + \"/\" + gender + \"/\" + el + \"/\" + x + \"/\" + audio))['embedding'].flatten())\n",
        "                  labels_train.append(gender)"
      ],
      "metadata": {
        "id": "cMf148ba1boX"
      },
      "execution_count": 7,
      "outputs": []
    },
    {
      "cell_type": "code",
      "source": [
        "dl = []\n",
        "for el in X_train:\n",
        "  dl.append(len(el))"
      ],
      "metadata": {
        "id": "alqH1vZFVPKI"
      },
      "execution_count": 8,
      "outputs": []
    },
    {
      "cell_type": "code",
      "source": [
        "max(dl)"
      ],
      "metadata": {
        "colab": {
          "base_uri": "https://localhost:8080/"
        },
        "id": "g_P_omcuaJiG",
        "outputId": "636ceb34-91ac-4699-a044-02ac7d5c3e97"
      },
      "execution_count": 9,
      "outputs": [
        {
          "output_type": "execute_result",
          "data": {
            "text/plain": [
              "13824"
            ]
          },
          "metadata": {},
          "execution_count": 9
        }
      ]
    },
    {
      "cell_type": "code",
      "source": [
        "min(dl)"
      ],
      "metadata": {
        "colab": {
          "base_uri": "https://localhost:8080/"
        },
        "id": "gHZW9obvaKpj",
        "outputId": "c623569d-7018-41df-bd14-ac7e8a1cbfa6"
      },
      "execution_count": 10,
      "outputs": [
        {
          "output_type": "execute_result",
          "data": {
            "text/plain": [
              "13824"
            ]
          },
          "metadata": {},
          "execution_count": 10
        }
      ]
    },
    {
      "cell_type": "code",
      "source": [
        "X_df_train = pd.DataFrame(X_train)\n",
        "y_df_train = pd.DataFrame(labels_train)\n",
        "X_df_test = pd.DataFrame(X_test)\n",
        "y_df_test = pd.DataFrame(labels_test)"
      ],
      "metadata": {
        "id": "Xg9nODp-b2Kr"
      },
      "execution_count": 11,
      "outputs": []
    },
    {
      "cell_type": "code",
      "source": [
        "X_df_train.to_csv(\"/content/gdrive/MyDrive/csv_data/VocalSET/features3s_train.csv\", index=None, header=None)"
      ],
      "metadata": {
        "id": "krKs40UQcEaY"
      },
      "execution_count": 12,
      "outputs": []
    },
    {
      "cell_type": "code",
      "source": [
        "y_df_train.to_csv(\"/content/gdrive/MyDrive/csv_data/VocalSET/labels3s_train.csv\", index=None, header=None)"
      ],
      "metadata": {
        "id": "3FZlQNnkbd0H"
      },
      "execution_count": 13,
      "outputs": []
    },
    {
      "cell_type": "code",
      "source": [
        "X_df_test.to_csv(\"/content/gdrive/MyDrive/csv_data/VocalSET/features3s_test.csv\", index=None, header=None)"
      ],
      "metadata": {
        "id": "FWYRjvfkLAIa"
      },
      "execution_count": 14,
      "outputs": []
    },
    {
      "cell_type": "code",
      "source": [
        "y_df_test.to_csv(\"/content/gdrive/MyDrive/csv_data/VocalSET/labels3s_test.csv\", index=None, header=None)"
      ],
      "metadata": {
        "id": "7V5NzRFILECL"
      },
      "execution_count": 15,
      "outputs": []
    }
  ]
}