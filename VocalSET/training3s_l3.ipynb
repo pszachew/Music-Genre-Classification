{
  "nbformat": 4,
  "nbformat_minor": 0,
  "metadata": {
    "colab": {
      "name": "Kopia notatnika Untitled21.ipynb",
      "provenance": [],
      "authorship_tag": "ABX9TyMd66TVy6+x/DRDC2tk4VTU",
      "include_colab_link": true
    },
    "kernelspec": {
      "name": "python3",
      "display_name": "Python 3"
    },
    "language_info": {
      "name": "python"
    }
  },
  "cells": [
    {
      "cell_type": "markdown",
      "metadata": {
        "id": "view-in-github",
        "colab_type": "text"
      },
      "source": [
        "<a href=\"https://colab.research.google.com/github/pszachew/Music-Genre-Classification/blob/master/VocalSET/training3s_l3.ipynb\" target=\"_parent\"><img src=\"https://colab.research.google.com/assets/colab-badge.svg\" alt=\"Open In Colab\"/></a>"
      ]
    },
    {
      "cell_type": "code",
      "execution_count": null,
      "metadata": {
        "id": "NzZY2rnce5nE"
      },
      "outputs": [],
      "source": [
        "import pandas as pd\n",
        "import numpy as np\n",
        "from sklearn.preprocessing import StandardScaler\n",
        "from sklearn.model_selection import train_test_split, KFold, cross_val_score\n",
        "from sklearn.pipeline import Pipeline\n",
        "from sklearn.metrics import classification_report, confusion_matrix, accuracy_score, ConfusionMatrixDisplay\n",
        "import joblib\n",
        "import seaborn as sns\n",
        "import matplotlib.pyplot as plt\n",
        "from statistics import mean\n",
        "import json"
      ]
    },
    {
      "cell_type": "code",
      "source": [
        "from google.colab import drive\n",
        "drive.mount('/content/gdrive')"
      ],
      "metadata": {
        "colab": {
          "base_uri": "https://localhost:8080/"
        },
        "id": "AYE_XF4fe82s",
        "outputId": "5f12a48a-19d0-4980-bc4e-83f1899de05f"
      },
      "execution_count": null,
      "outputs": [
        {
          "output_type": "stream",
          "name": "stdout",
          "text": [
            "Drive already mounted at /content/gdrive; to attempt to forcibly remount, call drive.mount(\"/content/gdrive\", force_remount=True).\n"
          ]
        }
      ]
    },
    {
      "cell_type": "code",
      "source": [
        "X_train = pd.read_csv('/content/gdrive/MyDrive/csv_data/VocalSET/features3s_train.csv',header=None)"
      ],
      "metadata": {
        "id": "uGPRPjwBe9vv"
      },
      "execution_count": null,
      "outputs": []
    },
    {
      "cell_type": "code",
      "source": [
        "y_train = pd.read_csv('/content/gdrive/MyDrive/csv_data/VocalSET/labels3s_train.csv', header=None)"
      ],
      "metadata": {
        "id": "VltKSiZ9fLmG"
      },
      "execution_count": null,
      "outputs": []
    },
    {
      "cell_type": "code",
      "source": [
        "X_test = pd.read_csv('/content/gdrive/MyDrive/csv_data/VocalSET/features3s_test.csv',header=None)"
      ],
      "metadata": {
        "id": "MPAaLVK7S4Vx"
      },
      "execution_count": null,
      "outputs": []
    },
    {
      "cell_type": "code",
      "source": [
        "y_test = pd.read_csv('/content/gdrive/MyDrive/csv_data/VocalSET/labels3s_test.csv', header=None)"
      ],
      "metadata": {
        "id": "KXZtd3PES4dF"
      },
      "execution_count": null,
      "outputs": []
    },
    {
      "cell_type": "markdown",
      "source": [
        "## **Logistic Regression**"
      ],
      "metadata": {
        "id": "bXPTxlkefYGt"
      }
    },
    {
      "cell_type": "code",
      "source": [
        "from sklearn.linear_model import LogisticRegression"
      ],
      "metadata": {
        "id": "OMzEeA40faMd"
      },
      "execution_count": null,
      "outputs": []
    },
    {
      "cell_type": "code",
      "source": [
        "log_reg_mod = LogisticRegression(max_iter=10000)"
      ],
      "metadata": {
        "id": "ORHeBjozfbNc"
      },
      "execution_count": null,
      "outputs": []
    },
    {
      "cell_type": "code",
      "source": [
        "log_reg_mod.fit(X_train, np.array(y_train).flatten())"
      ],
      "metadata": {
        "colab": {
          "base_uri": "https://localhost:8080/"
        },
        "id": "oPOQ_mDvfce7",
        "outputId": "11a75923-a2d0-465f-c6b5-040329e621fd"
      },
      "execution_count": null,
      "outputs": [
        {
          "output_type": "execute_result",
          "data": {
            "text/plain": [
              "LogisticRegression(max_iter=10000)"
            ]
          },
          "metadata": {},
          "execution_count": 7
        }
      ]
    },
    {
      "cell_type": "code",
      "source": [
        "cd /content/gdrive/MyDrive/models/VocalSET/LogisticRegression"
      ],
      "metadata": {
        "id": "pUrQYNbeby3H",
        "outputId": "f59e46ab-28ff-4a56-c40b-04580bafcef9",
        "colab": {
          "base_uri": "https://localhost:8080/"
        }
      },
      "execution_count": null,
      "outputs": [
        {
          "output_type": "stream",
          "name": "stdout",
          "text": [
            "/content/gdrive/MyDrive/models/VocalSET/LogisticRegression\n"
          ]
        }
      ]
    },
    {
      "cell_type": "code",
      "source": [
        "joblib.dump(log_reg_mod, \"log_reg.sav\")"
      ],
      "metadata": {
        "id": "q_6BW8ElcCsM",
        "outputId": "e4c9f6e8-f6cd-4430-93c7-1f8e34214b29",
        "colab": {
          "base_uri": "https://localhost:8080/"
        }
      },
      "execution_count": null,
      "outputs": [
        {
          "output_type": "execute_result",
          "data": {
            "text/plain": [
              "['log_reg.sav']"
            ]
          },
          "metadata": {},
          "execution_count": 23
        }
      ]
    },
    {
      "cell_type": "code",
      "source": [
        "y_pre_lg = log_reg_mod.predict(X_test)"
      ],
      "metadata": {
        "id": "CrT9jX-jfeJB"
      },
      "execution_count": null,
      "outputs": []
    },
    {
      "cell_type": "code",
      "source": [
        "print(classification_report(y_test,y_pre_lg))"
      ],
      "metadata": {
        "colab": {
          "base_uri": "https://localhost:8080/"
        },
        "id": "xiz9_AJnfiNj",
        "outputId": "bc81535a-4ec8-4f2e-9b16-46c238e1bd65"
      },
      "execution_count": null,
      "outputs": [
        {
          "output_type": "stream",
          "name": "stdout",
          "text": [
            "              precision    recall  f1-score   support\n",
            "\n",
            "     female1       0.79      0.91      0.84        65\n",
            "     female2       0.67      0.78      0.72        41\n",
            "     female3       0.69      0.93      0.79        40\n",
            "     female4       0.92      0.77      0.84        62\n",
            "     female5       0.88      0.92      0.90        49\n",
            "     female6       0.86      0.82      0.84        39\n",
            "     female7       0.81      0.71      0.75        65\n",
            "     female8       0.86      0.65      0.74        66\n",
            "     female9       0.83      0.83      0.83        36\n",
            "       male1       0.81      0.79      0.80        48\n",
            "      male10       0.80      0.70      0.75        47\n",
            "      male11       0.78      0.78      0.78        50\n",
            "       male2       0.80      0.86      0.83        51\n",
            "       male3       0.72      0.87      0.79        53\n",
            "       male4       0.83      0.65      0.73        69\n",
            "       male5       0.86      0.78      0.82        77\n",
            "       male6       0.75      0.80      0.77        69\n",
            "       male7       0.74      0.88      0.80        49\n",
            "       male8       0.90      0.88      0.89        52\n",
            "       male9       0.81      0.92      0.86        37\n",
            "\n",
            "    accuracy                           0.80      1065\n",
            "   macro avg       0.81      0.81      0.80      1065\n",
            "weighted avg       0.81      0.80      0.80      1065\n",
            "\n"
          ]
        }
      ]
    },
    {
      "cell_type": "code",
      "source": [
        "lb = list(y_test[0].unique())"
      ],
      "metadata": {
        "id": "iY4RRTL2-_Za"
      },
      "execution_count": null,
      "outputs": []
    },
    {
      "cell_type": "code",
      "source": [
        "cm2 = confusion_matrix(y_test, y_pre_lg, normalize='true')\n",
        "cm2 = pd.DataFrame(cm2, index=lb, columns=lb)\n",
        "plt.figure(figsize=(12,8))\n",
        "sns.heatmap(cm2, annot=True, linewidths=.5, cmap=\"YlGnBu\")\n",
        "plt.xlabel(\"predicted voice\")\n",
        "plt.ylabel(\"real voicet\")\n",
        "plt.show()"
      ],
      "metadata": {
        "id": "T4su_bz0gPwj",
        "outputId": "92b26285-11b6-4be1-e62c-6fd161736b06",
        "colab": {
          "base_uri": "https://localhost:8080/",
          "height": 527
        }
      },
      "execution_count": null,
      "outputs": [
        {
          "output_type": "display_data",
          "data": {
            "image/png": "[encoded data removed]",
            "text/plain": [
              "<Figure size 864x576 with 2 Axes>"
            ]
          },
          "metadata": {
            "needs_background": "light"
          }
        }
      ]
    },
    {
      "cell_type": "code",
      "source": [
        "cm2 = confusion_matrix(y_test, y_pre_lg)\n",
        "cm2 = pd.DataFrame(cm2, index=lb, columns=lb)\n",
        "plt.figure(figsize=(12,8))\n",
        "sns.heatmap(cm2, annot=True, linewidths=.5, cmap=\"YlGnBu\")\n",
        "plt.xlabel(\"predicted voice\")\n",
        "plt.ylabel(\"real voicet\")\n",
        "plt.show()"
      ],
      "metadata": {
        "id": "kxHgBGPBA67R",
        "outputId": "a1a3cf5f-69d6-4d20-9f7e-7d66f3a6ac96",
        "colab": {
          "base_uri": "https://localhost:8080/",
          "height": 532
        }
      },
      "execution_count": null,
      "outputs": [
        {
          "output_type": "display_data",
          "data": {
            "image/png": "[encoded data removed]",
            "text/plain": [
              "<Figure size 864x576 with 2 Axes>"
            ]
          },
          "metadata": {
            "needs_background": "light"
          }
        }
      ]
    },
    {
      "cell_type": "markdown",
      "source": [
        "## **SVM**"
      ],
      "metadata": {
        "id": "IH-mqRtMcMy4"
      }
    },
    {
      "cell_type": "code",
      "source": [
        "from sklearn.svm import SVC"
      ],
      "metadata": {
        "id": "CXBAI-iNccve"
      },
      "execution_count": null,
      "outputs": []
    },
    {
      "cell_type": "code",
      "source": [
        "cd /content/gdrive/MyDrive/models/VocalSET/SVM"
      ],
      "metadata": {
        "id": "M7FdSrl5cgfT",
        "outputId": "34d5d562-5e17-48be-fded-dab2fe9cf7fb",
        "colab": {
          "base_uri": "https://localhost:8080/"
        }
      },
      "execution_count": null,
      "outputs": [
        {
          "output_type": "stream",
          "name": "stdout",
          "text": [
            "/content/gdrive/MyDrive/models/VocalSET/SVM\n"
          ]
        }
      ]
    },
    {
      "cell_type": "code",
      "source": [
        "mod_svm = SVC(kernel='linear')\n",
        "mod_svm.fit(X_train, np.array(y_train).flatten())"
      ],
      "metadata": {
        "id": "TOJjVONrcnLh",
        "outputId": "238b940c-b549-4e1c-ed25-6d07a67df3af",
        "colab": {
          "base_uri": "https://localhost:8080/"
        }
      },
      "execution_count": null,
      "outputs": [
        {
          "output_type": "execute_result",
          "data": {
            "text/plain": [
              "SVC(kernel='linear')"
            ]
          },
          "metadata": {},
          "execution_count": 26
        }
      ]
    },
    {
      "cell_type": "code",
      "source": [
        "y_pre_svm = mod_svm.predict(X_test)"
      ],
      "metadata": {
        "id": "03pBlAUocsSp"
      },
      "execution_count": null,
      "outputs": []
    },
    {
      "cell_type": "code",
      "source": [
        "joblib.dump(mod_svm, \"svm.sav\")"
      ],
      "metadata": {
        "id": "6KCD9EHydZrj",
        "outputId": "993d20dd-ff07-4df2-ea50-404ee696a587",
        "colab": {
          "base_uri": "https://localhost:8080/"
        }
      },
      "execution_count": null,
      "outputs": [
        {
          "output_type": "execute_result",
          "data": {
            "text/plain": [
              "['svm.sav']"
            ]
          },
          "metadata": {},
          "execution_count": 29
        }
      ]
    },
    {
      "cell_type": "code",
      "source": [
        "print(classification_report(y_test,y_pre_svm))"
      ],
      "metadata": {
        "id": "C-jT2KBxdpTV",
        "outputId": "fc4b3c70-2b47-4f4d-a73f-b922533c661e",
        "colab": {
          "base_uri": "https://localhost:8080/"
        }
      },
      "execution_count": null,
      "outputs": [
        {
          "output_type": "stream",
          "name": "stdout",
          "text": [
            "              precision    recall  f1-score   support\n",
            "\n",
            "     female1       0.71      0.92      0.81        65\n",
            "     female2       0.67      0.73      0.70        41\n",
            "     female3       0.71      0.90      0.79        40\n",
            "     female4       0.94      0.82      0.88        62\n",
            "     female5       0.86      0.88      0.87        49\n",
            "     female6       0.86      0.82      0.84        39\n",
            "     female7       0.85      0.71      0.77        65\n",
            "     female8       0.85      0.62      0.72        66\n",
            "     female9       0.82      0.92      0.87        36\n",
            "       male1       0.79      0.77      0.78        48\n",
            "      male10       0.77      0.72      0.75        47\n",
            "      male11       0.72      0.78      0.75        50\n",
            "       male2       0.78      0.84      0.81        51\n",
            "       male3       0.71      0.83      0.77        53\n",
            "       male4       0.79      0.59      0.68        69\n",
            "       male5       0.85      0.78      0.81        77\n",
            "       male6       0.73      0.74      0.73        69\n",
            "       male7       0.78      0.86      0.82        49\n",
            "       male8       0.85      0.87      0.86        52\n",
            "       male9       0.88      0.95      0.91        37\n",
            "\n",
            "    accuracy                           0.79      1065\n",
            "   macro avg       0.80      0.80      0.80      1065\n",
            "weighted avg       0.80      0.79      0.79      1065\n",
            "\n"
          ]
        }
      ]
    },
    {
      "cell_type": "markdown",
      "source": [
        "## **KNN**"
      ],
      "metadata": {
        "id": "vuLUZCk0ds8a"
      }
    },
    {
      "cell_type": "code",
      "source": [
        "from sklearn.neighbors import KNeighborsClassifier"
      ],
      "metadata": {
        "id": "G-y290rod4Bb"
      },
      "execution_count": null,
      "outputs": []
    },
    {
      "cell_type": "code",
      "source": [
        "cd /content/gdrive/MyDrive/models/VocalSET/KNN"
      ],
      "metadata": {
        "id": "EmJVgJvpd5fZ",
        "outputId": "0780b5f8-5ec7-42e1-8f10-d3ef45cec440",
        "colab": {
          "base_uri": "https://localhost:8080/"
        }
      },
      "execution_count": null,
      "outputs": [
        {
          "output_type": "stream",
          "name": "stdout",
          "text": [
            "/content/gdrive/MyDrive/models/VocalSET/KNN\n"
          ]
        }
      ]
    },
    {
      "cell_type": "code",
      "source": [
        "mod_knn = KNeighborsClassifier(n_neighbors=4)"
      ],
      "metadata": {
        "id": "_Kjp-FpZeAbe"
      },
      "execution_count": null,
      "outputs": []
    },
    {
      "cell_type": "code",
      "source": [
        "mod_knn.fit(X_train, np.array(y_train).flatten())"
      ],
      "metadata": {
        "id": "t0DashCQfDkc",
        "outputId": "6c4415ba-6d51-4481-ec48-9d934d69136f",
        "colab": {
          "base_uri": "https://localhost:8080/"
        }
      },
      "execution_count": null,
      "outputs": [
        {
          "output_type": "execute_result",
          "data": {
            "text/plain": [
              "KNeighborsClassifier(n_neighbors=4)"
            ]
          },
          "metadata": {},
          "execution_count": 41
        }
      ]
    },
    {
      "cell_type": "code",
      "source": [
        "joblib.dump(mod_knn, \"knn.sav\")"
      ],
      "metadata": {
        "id": "gv-TtNHofPqv",
        "outputId": "fd9e4867-2471-4829-c045-f692196c9e07",
        "colab": {
          "base_uri": "https://localhost:8080/"
        }
      },
      "execution_count": null,
      "outputs": [
        {
          "output_type": "execute_result",
          "data": {
            "text/plain": [
              "['knn.sav']"
            ]
          },
          "metadata": {},
          "execution_count": 42
        }
      ]
    },
    {
      "cell_type": "code",
      "source": [
        "y_pre_knn = mod_knn.predict(X_test)"
      ],
      "metadata": {
        "id": "JOHXifdSfEB5"
      },
      "execution_count": null,
      "outputs": []
    },
    {
      "cell_type": "code",
      "source": [
        "print(classification_report(y_test,y_pre_knn))"
      ],
      "metadata": {
        "id": "mQuqXEZ_fK6N",
        "outputId": "31dc6b87-3011-48ad-8c4b-eb0197c1294d",
        "colab": {
          "base_uri": "https://localhost:8080/"
        }
      },
      "execution_count": null,
      "outputs": [
        {
          "output_type": "stream",
          "name": "stdout",
          "text": [
            "              precision    recall  f1-score   support\n",
            "\n",
            "     female1       0.51      0.74      0.60        65\n",
            "     female2       0.40      0.46      0.43        41\n",
            "     female3       0.50      0.75      0.60        40\n",
            "     female4       0.70      0.60      0.64        62\n",
            "     female5       0.68      0.84      0.75        49\n",
            "     female6       0.89      0.64      0.75        39\n",
            "     female7       0.67      0.54      0.60        65\n",
            "     female8       0.80      0.62      0.70        66\n",
            "     female9       0.73      0.75      0.74        36\n",
            "       male1       0.50      0.71      0.59        48\n",
            "      male10       0.73      0.64      0.68        47\n",
            "      male11       0.41      0.58      0.48        50\n",
            "       male2       0.47      0.55      0.51        51\n",
            "       male3       0.62      0.70      0.65        53\n",
            "       male4       0.61      0.45      0.52        69\n",
            "       male5       0.79      0.62      0.70        77\n",
            "       male6       0.76      0.55      0.64        69\n",
            "       male7       0.82      0.73      0.77        49\n",
            "       male8       0.83      0.77      0.80        52\n",
            "       male9       0.79      0.62      0.70        37\n",
            "\n",
            "    accuracy                           0.64      1065\n",
            "   macro avg       0.66      0.64      0.64      1065\n",
            "weighted avg       0.66      0.64      0.64      1065\n",
            "\n"
          ]
        }
      ]
    },
    {
      "cell_type": "markdown",
      "source": [
        "## **Decision Tree**"
      ],
      "metadata": {
        "id": "ucR_Hl-rfUOW"
      }
    },
    {
      "cell_type": "code",
      "source": [
        "from sklearn.tree import DecisionTreeClassifier"
      ],
      "metadata": {
        "id": "IZsb5RelfW0b"
      },
      "execution_count": null,
      "outputs": []
    },
    {
      "cell_type": "code",
      "source": [
        "cd /content/gdrive/MyDrive/models/VocalSET/DTC"
      ],
      "metadata": {
        "id": "dH9Icb79fkB-",
        "outputId": "4235467a-23b1-4f6b-8d6f-0eeb7278e35e",
        "colab": {
          "base_uri": "https://localhost:8080/"
        }
      },
      "execution_count": null,
      "outputs": [
        {
          "output_type": "stream",
          "name": "stdout",
          "text": [
            "/content/gdrive/MyDrive/models/VocalSET/DTC\n"
          ]
        }
      ]
    },
    {
      "cell_type": "code",
      "source": [
        "dtc = DecisionTreeClassifier(max_depth=14)"
      ],
      "metadata": {
        "id": "Eh8wHcGXf34y"
      },
      "execution_count": null,
      "outputs": []
    },
    {
      "cell_type": "code",
      "source": [
        "dtc.fit(X_train, np.array(y_train).flatten())"
      ],
      "metadata": {
        "id": "uyCMouPNgGI0",
        "outputId": "0efe60a5-3b0b-418b-d842-af586caf875a",
        "colab": {
          "base_uri": "https://localhost:8080/"
        }
      },
      "execution_count": null,
      "outputs": [
        {
          "output_type": "execute_result",
          "data": {
            "text/plain": [
              "DecisionTreeClassifier(max_depth=14)"
            ]
          },
          "metadata": {},
          "execution_count": 47
        }
      ]
    },
    {
      "cell_type": "code",
      "source": [
        "joblib.dump(dtc, \"dtc.sav\")"
      ],
      "metadata": {
        "id": "F6wrh_m-gHlx",
        "outputId": "72779f90-4c9a-49db-a54a-1353557d7dc0",
        "colab": {
          "base_uri": "https://localhost:8080/"
        }
      },
      "execution_count": null,
      "outputs": [
        {
          "output_type": "execute_result",
          "data": {
            "text/plain": [
              "['dtc.sav']"
            ]
          },
          "metadata": {},
          "execution_count": 48
        }
      ]
    },
    {
      "cell_type": "code",
      "source": [
        "y_pre_dtc = dtc.predict(X_test)"
      ],
      "metadata": {
        "id": "vG4i0fUKgek3"
      },
      "execution_count": null,
      "outputs": []
    },
    {
      "cell_type": "code",
      "source": [
        "print(classification_report(y_test,y_pre_dtc))"
      ],
      "metadata": {
        "id": "uziU9n_mgipW",
        "outputId": "b3242b0b-3e25-4479-b164-86a35b3ffc96",
        "colab": {
          "base_uri": "https://localhost:8080/"
        }
      },
      "execution_count": null,
      "outputs": [
        {
          "output_type": "stream",
          "name": "stdout",
          "text": [
            "              precision    recall  f1-score   support\n",
            "\n",
            "     female1       0.43      0.46      0.44        65\n",
            "     female2       0.28      0.39      0.33        41\n",
            "     female3       0.22      0.30      0.25        40\n",
            "     female4       0.39      0.24      0.30        62\n",
            "     female5       0.16      0.24      0.19        49\n",
            "     female6       0.36      0.33      0.35        39\n",
            "     female7       0.26      0.28      0.27        65\n",
            "     female8       0.29      0.15      0.20        66\n",
            "     female9       0.30      0.33      0.32        36\n",
            "       male1       0.12      0.19      0.15        48\n",
            "      male10       0.38      0.19      0.25        47\n",
            "      male11       0.15      0.18      0.17        50\n",
            "       male2       0.24      0.31      0.27        51\n",
            "       male3       0.38      0.34      0.36        53\n",
            "       male4       0.16      0.20      0.18        69\n",
            "       male5       0.40      0.25      0.31        77\n",
            "       male6       0.23      0.23      0.23        69\n",
            "       male7       0.48      0.33      0.39        49\n",
            "       male8       0.27      0.25      0.26        52\n",
            "       male9       0.32      0.24      0.28        37\n",
            "\n",
            "    accuracy                           0.27      1065\n",
            "   macro avg       0.29      0.27      0.27      1065\n",
            "weighted avg       0.29      0.27      0.27      1065\n",
            "\n"
          ]
        }
      ]
    },
    {
      "cell_type": "markdown",
      "source": [
        "## **Random Forests**"
      ],
      "metadata": {
        "id": "5H526KxkgpNx"
      }
    },
    {
      "cell_type": "code",
      "source": [
        "from sklearn.ensemble import RandomForestClassifier"
      ],
      "metadata": {
        "id": "khIU7yqRgtQS"
      },
      "execution_count": null,
      "outputs": []
    },
    {
      "cell_type": "code",
      "source": [
        "cd /content/gdrive/MyDrive/models/VocalSET/RFC"
      ],
      "metadata": {
        "id": "1JkYlMDNgwAu",
        "outputId": "84398f0e-9746-4b14-ef3f-5a9850010db9",
        "colab": {
          "base_uri": "https://localhost:8080/"
        }
      },
      "execution_count": null,
      "outputs": [
        {
          "output_type": "stream",
          "name": "stdout",
          "text": [
            "/content/gdrive/MyDrive/models/VocalSET/RFC\n"
          ]
        }
      ]
    },
    {
      "cell_type": "code",
      "source": [
        "rfc = RandomForestClassifier(n_estimators=400)"
      ],
      "metadata": {
        "id": "gEG_eXl-g2f3"
      },
      "execution_count": null,
      "outputs": []
    },
    {
      "cell_type": "code",
      "source": [
        "rfc.fit(X_train, np.array(y_train).flatten())"
      ],
      "metadata": {
        "id": "mJRghRJGg5hy",
        "outputId": "39106f4b-3d2e-4aba-affe-42a6522d348b",
        "colab": {
          "base_uri": "https://localhost:8080/"
        }
      },
      "execution_count": null,
      "outputs": [
        {
          "output_type": "execute_result",
          "data": {
            "text/plain": [
              "RandomForestClassifier(n_estimators=400)"
            ]
          },
          "metadata": {},
          "execution_count": 55
        }
      ]
    },
    {
      "cell_type": "code",
      "source": [
        "y_pre_rfc = rfc.predict(X_test)"
      ],
      "metadata": {
        "id": "iPE2dKNlg74Z"
      },
      "execution_count": null,
      "outputs": []
    },
    {
      "cell_type": "code",
      "source": [
        "joblib.dump(rfc, \"rfc.sav\")"
      ],
      "metadata": {
        "id": "Y-oIubdjhyLs",
        "outputId": "7ff83f6f-ff1f-444f-f7df-284f62d04f0b",
        "colab": {
          "base_uri": "https://localhost:8080/"
        }
      },
      "execution_count": null,
      "outputs": [
        {
          "output_type": "execute_result",
          "data": {
            "text/plain": [
              "['rfc.sav']"
            ]
          },
          "metadata": {},
          "execution_count": 58
        }
      ]
    },
    {
      "cell_type": "code",
      "source": [
        "print(classification_report(y_test,y_pre_rfc))"
      ],
      "metadata": {
        "id": "nobuK1BZh50O",
        "outputId": "a2f357d0-8d6d-48b5-d23d-1badfeccd197",
        "colab": {
          "base_uri": "https://localhost:8080/"
        }
      },
      "execution_count": null,
      "outputs": [
        {
          "output_type": "stream",
          "name": "stdout",
          "text": [
            "              precision    recall  f1-score   support\n",
            "\n",
            "     female1       0.70      0.88      0.78        65\n",
            "     female2       0.62      0.68      0.65        41\n",
            "     female3       0.73      0.75      0.74        40\n",
            "     female4       0.89      0.52      0.65        62\n",
            "     female5       0.66      0.78      0.71        49\n",
            "     female6       0.77      0.77      0.77        39\n",
            "     female7       0.63      0.78      0.70        65\n",
            "     female8       0.80      0.56      0.66        66\n",
            "     female9       0.81      0.61      0.70        36\n",
            "       male1       0.70      0.58      0.64        48\n",
            "      male10       0.60      0.45      0.51        47\n",
            "      male11       0.57      0.54      0.56        50\n",
            "       male2       0.62      0.69      0.65        51\n",
            "       male3       0.55      0.72      0.62        53\n",
            "       male4       0.66      0.39      0.49        69\n",
            "       male5       0.64      0.64      0.64        77\n",
            "       male6       0.60      0.77      0.68        69\n",
            "       male7       0.62      0.82      0.70        49\n",
            "       male8       0.73      0.69      0.71        52\n",
            "       male9       0.63      0.73      0.68        37\n",
            "\n",
            "    accuracy                           0.66      1065\n",
            "   macro avg       0.68      0.67      0.66      1065\n",
            "weighted avg       0.68      0.66      0.66      1065\n",
            "\n"
          ]
        }
      ]
    },
    {
      "cell_type": "markdown",
      "source": [
        "## **Gradient Boosting**"
      ],
      "metadata": {
        "id": "5LhgNQ5wiDrJ"
      }
    },
    {
      "cell_type": "code",
      "source": [
        "import xgboost as xgb"
      ],
      "metadata": {
        "id": "s1yQ7ji_iTDy"
      },
      "execution_count": null,
      "outputs": []
    },
    {
      "cell_type": "code",
      "source": [
        "cd /content/gdrive/MyDrive/models/VocalSET/Gradient Boosting"
      ],
      "metadata": {
        "id": "8exm7WP3iUXa",
        "outputId": "e3e3156e-a65f-4d2b-f489-026669c26350",
        "colab": {
          "base_uri": "https://localhost:8080/"
        }
      },
      "execution_count": null,
      "outputs": [
        {
          "output_type": "stream",
          "name": "stdout",
          "text": [
            "/content/gdrive/MyDrive/models/VocalSET/Gradient Boosting\n"
          ]
        }
      ]
    },
    {
      "cell_type": "code",
      "source": [
        "xgbc = xgb.XGBClassifier(max_depths=5, learning_rate=0.1)"
      ],
      "metadata": {
        "id": "H6nuVgFOijFr"
      },
      "execution_count": null,
      "outputs": []
    },
    {
      "cell_type": "code",
      "source": [
        "xgbc.fit(X_train, np.array(y_train).flatten())"
      ],
      "metadata": {
        "id": "W3sZBxqXilwS",
        "outputId": "b005cd9c-05c1-4890-b09f-c7c71f39132e",
        "colab": {
          "base_uri": "https://localhost:8080/"
        }
      },
      "execution_count": null,
      "outputs": [
        {
          "output_type": "execute_result",
          "data": {
            "text/plain": [
              "XGBClassifier(max_depths=5, objective='multi:softprob')"
            ]
          },
          "metadata": {},
          "execution_count": 63
        }
      ]
    },
    {
      "cell_type": "code",
      "source": [
        "joblib.dump(xgbc, \"xgbc.sav\")"
      ],
      "metadata": {
        "id": "WWduUJYAiwgJ",
        "outputId": "73a48c27-0316-45b7-e40f-833a01fe78dd",
        "colab": {
          "base_uri": "https://localhost:8080/"
        }
      },
      "execution_count": null,
      "outputs": [
        {
          "output_type": "execute_result",
          "data": {
            "text/plain": [
              "['xgbc.sav']"
            ]
          },
          "metadata": {},
          "execution_count": 64
        }
      ]
    },
    {
      "cell_type": "code",
      "source": [
        "y_pre_xgbc = xgbc.predict(X_test)"
      ],
      "metadata": {
        "id": "r_nYm5fii36p"
      },
      "execution_count": null,
      "outputs": []
    },
    {
      "cell_type": "code",
      "source": [
        "print(classification_report(y_test,y_pre_xgbc))"
      ],
      "metadata": {
        "id": "Ls2vS-XejBOc",
        "outputId": "493c004b-9697-4e44-bbef-8a6dbbe8b1ab",
        "colab": {
          "base_uri": "https://localhost:8080/"
        }
      },
      "execution_count": null,
      "outputs": [
        {
          "output_type": "stream",
          "name": "stdout",
          "text": [
            "              precision    recall  f1-score   support\n",
            "\n",
            "     female1       0.66      0.83      0.73        65\n",
            "     female2       0.50      0.66      0.57        41\n",
            "     female3       0.57      0.68      0.62        40\n",
            "     female4       0.83      0.63      0.72        62\n",
            "     female5       0.72      0.73      0.73        49\n",
            "     female6       0.73      0.77      0.75        39\n",
            "     female7       0.73      0.75      0.74        65\n",
            "     female8       0.71      0.53      0.61        66\n",
            "     female9       0.70      0.58      0.64        36\n",
            "       male1       0.54      0.56      0.55        48\n",
            "      male10       0.64      0.49      0.55        47\n",
            "      male11       0.55      0.66      0.60        50\n",
            "       male2       0.60      0.73      0.65        51\n",
            "       male3       0.54      0.70      0.61        53\n",
            "       male4       0.64      0.54      0.58        69\n",
            "       male5       0.73      0.66      0.69        77\n",
            "       male6       0.68      0.61      0.64        69\n",
            "       male7       0.69      0.73      0.71        49\n",
            "       male8       0.64      0.54      0.58        52\n",
            "       male9       0.71      0.68      0.69        37\n",
            "\n",
            "    accuracy                           0.65      1065\n",
            "   macro avg       0.66      0.65      0.65      1065\n",
            "weighted avg       0.66      0.65      0.65      1065\n",
            "\n"
          ]
        }
      ]
    },
    {
      "cell_type": "markdown",
      "source": [
        "## **MLPClassifier**"
      ],
      "metadata": {
        "id": "NbLaOH6fjcDI"
      }
    },
    {
      "cell_type": "code",
      "source": [
        "from sklearn.neural_network import MLPClassifier"
      ],
      "metadata": {
        "id": "_ovByphNjeMP"
      },
      "execution_count": null,
      "outputs": []
    },
    {
      "cell_type": "code",
      "source": [
        "MLPclass = MLPClassifier(hidden_layer_sizes=(4096,4096,4096), random_state=10, activation='relu', solver=\"adam\", learning_rate_init=0.001, learning_rate='constant')"
      ],
      "metadata": {
        "id": "T0fClwe-jf8B"
      },
      "execution_count": null,
      "outputs": []
    },
    {
      "cell_type": "code",
      "source": [
        "cd /content/gdrive/MyDrive/models/VocalSET/MLP"
      ],
      "metadata": {
        "id": "ptS5sYB2jzLw",
        "outputId": "086c4274-d585-4019-cb92-3e08b9839981",
        "colab": {
          "base_uri": "https://localhost:8080/"
        }
      },
      "execution_count": null,
      "outputs": [
        {
          "output_type": "stream",
          "name": "stdout",
          "text": [
            "/content/gdrive/MyDrive/models/VocalSET/MLP\n"
          ]
        }
      ]
    },
    {
      "cell_type": "code",
      "source": [
        "MLPclass.fit(X_train, np.array(y_train).flatten())\n",
        "y_pre_MLP = MLPclass.predict(X_test)"
      ],
      "metadata": {
        "id": "9LamoNUujjos"
      },
      "execution_count": null,
      "outputs": []
    },
    {
      "cell_type": "code",
      "source": [
        "joblib.dump(MLPclass, \"MLP_big2.sav\")"
      ],
      "metadata": {
        "id": "H4xK3_Rmj17j",
        "outputId": "345950d0-8d16-4316-94aa-4a6e665c5b1b",
        "colab": {
          "base_uri": "https://localhost:8080/"
        }
      },
      "execution_count": null,
      "outputs": [
        {
          "output_type": "execute_result",
          "data": {
            "text/plain": [
              "['MLP_big2.sav']"
            ]
          },
          "metadata": {},
          "execution_count": 77
        }
      ]
    },
    {
      "cell_type": "code",
      "source": [
        "print(classification_report(y_test,y_pre_MLP))"
      ],
      "metadata": {
        "id": "BY4FTPGXjsZI",
        "outputId": "bc7d6420-7215-4e32-b9fd-4851c507c6b3",
        "colab": {
          "base_uri": "https://localhost:8080/"
        }
      },
      "execution_count": null,
      "outputs": [
        {
          "output_type": "stream",
          "name": "stdout",
          "text": [
            "              precision    recall  f1-score   support\n",
            "\n",
            "     female1       0.57      0.42      0.48        65\n",
            "     female2       0.35      0.34      0.35        41\n",
            "     female3       0.32      0.53      0.40        40\n",
            "     female4       0.34      0.21      0.26        62\n",
            "     female5       0.39      0.73      0.51        49\n",
            "     female6       0.59      0.62      0.60        39\n",
            "     female7       0.61      0.35      0.45        65\n",
            "     female8       0.46      0.24      0.32        66\n",
            "     female9       0.47      0.19      0.27        36\n",
            "       male1       0.31      0.31      0.31        48\n",
            "      male10       0.75      0.26      0.38        47\n",
            "      male11       0.27      0.06      0.10        50\n",
            "       male2       0.56      0.27      0.37        51\n",
            "       male3       0.23      0.83      0.36        53\n",
            "       male4       0.44      0.16      0.23        69\n",
            "       male5       0.54      0.35      0.43        77\n",
            "       male6       0.42      0.52      0.47        69\n",
            "       male7       0.49      0.71      0.58        49\n",
            "       male8       0.29      0.62      0.40        52\n",
            "       male9       0.71      0.41      0.52        37\n",
            "\n",
            "    accuracy                           0.40      1065\n",
            "   macro avg       0.46      0.41      0.39      1065\n",
            "weighted avg       0.46      0.40      0.39      1065\n",
            "\n"
          ]
        }
      ]
    },
    {
      "cell_type": "code",
      "source": [
        ""
      ],
      "metadata": {
        "id": "0dbPAN9oIQO5"
      },
      "execution_count": null,
      "outputs": []
    }
  ]
}