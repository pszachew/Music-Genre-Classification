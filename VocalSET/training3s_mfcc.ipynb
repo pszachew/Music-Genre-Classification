{
  "nbformat": 4,
  "nbformat_minor": 0,
  "metadata": {
    "colab": {
      "name": "Untitled21.ipynb",
      "provenance": [],
      "authorship_tag": "ABX9TyNtN/OJHz5SqziX5M4F42eC",
      "include_colab_link": true
    },
    "kernelspec": {
      "name": "python3",
      "display_name": "Python 3"
    },
    "language_info": {
      "name": "python"
    }
  },
  "cells": [
    {
      "cell_type": "markdown",
      "metadata": {
        "id": "view-in-github",
        "colab_type": "text"
      },
      "source": [
        "<a href=\"https://colab.research.google.com/github/pszachew/Music-Genre-Classification/blob/master/VocalSET/training3s_mfcc.ipynb\" target=\"_parent\"><img src=\"https://colab.research.google.com/assets/colab-badge.svg\" alt=\"Open In Colab\"/></a>"
      ]
    },
    {
      "cell_type": "code",
      "execution_count": 1,
      "metadata": {
        "id": "NzZY2rnce5nE"
      },
      "outputs": [],
      "source": [
        "import pandas as pd\n",
        "import numpy as np\n",
        "from sklearn.preprocessing import StandardScaler\n",
        "from sklearn.model_selection import train_test_split, KFold, cross_val_score\n",
        "from sklearn.pipeline import Pipeline\n",
        "from sklearn.metrics import classification_report, confusion_matrix, accuracy_score, ConfusionMatrixDisplay\n",
        "import joblib\n",
        "import seaborn as sns\n",
        "import matplotlib.pyplot as plt\n",
        "from statistics import mean\n",
        "import json"
      ]
    },
    {
      "cell_type": "code",
      "source": [
        "from google.colab import drive\n",
        "drive.mount('/content/gdrive')"
      ],
      "metadata": {
        "colab": {
          "base_uri": "https://localhost:8080/"
        },
        "id": "AYE_XF4fe82s",
        "outputId": "6249992a-7e91-41f5-c6a8-6a849aea6cd5"
      },
      "execution_count": 2,
      "outputs": [
        {
          "output_type": "stream",
          "name": "stdout",
          "text": [
            "Mounted at /content/gdrive\n"
          ]
        }
      ]
    },
    {
      "cell_type": "code",
      "source": [
        "X_train = pd.read_csv('/content/gdrive/MyDrive/csv_data/VocalSET/features3s_train_mfcc.csv',header=None)"
      ],
      "metadata": {
        "id": "uGPRPjwBe9vv"
      },
      "execution_count": 3,
      "outputs": []
    },
    {
      "cell_type": "code",
      "source": [
        "y_train = pd.read_csv('/content/gdrive/MyDrive/csv_data/VocalSET/labels3s_train_mfcc.csv', header=None)"
      ],
      "metadata": {
        "id": "VltKSiZ9fLmG"
      },
      "execution_count": 4,
      "outputs": []
    },
    {
      "cell_type": "code",
      "source": [
        "X_test = pd.read_csv('/content/gdrive/MyDrive/csv_data/VocalSET/features3s_test_mfcc.csv',header=None)"
      ],
      "metadata": {
        "id": "MPAaLVK7S4Vx"
      },
      "execution_count": 5,
      "outputs": []
    },
    {
      "cell_type": "code",
      "source": [
        "y_test = pd.read_csv('/content/gdrive/MyDrive/csv_data/VocalSET/labels3s_test_mfcc.csv', header=None)"
      ],
      "metadata": {
        "id": "KXZtd3PES4dF"
      },
      "execution_count": 6,
      "outputs": []
    },
    {
      "cell_type": "code",
      "source": [
        "scaler = StandardScaler()\n",
        "scaler.fit(X_train)\n",
        "X_train =pd.DataFrame(scaler.transform(X_train))\n",
        "X_test=pd.DataFrame(scaler.transform(X_test))"
      ],
      "metadata": {
        "id": "1iN3T-2PBe1l"
      },
      "execution_count": 10,
      "outputs": []
    },
    {
      "cell_type": "markdown",
      "source": [
        "## **Logistic Regression**"
      ],
      "metadata": {
        "id": "bXPTxlkefYGt"
      }
    },
    {
      "cell_type": "code",
      "source": [
        "from sklearn.linear_model import LogisticRegression"
      ],
      "metadata": {
        "id": "OMzEeA40faMd"
      },
      "execution_count": 11,
      "outputs": []
    },
    {
      "cell_type": "code",
      "source": [
        "log_reg_mod = LogisticRegression(max_iter=10000)"
      ],
      "metadata": {
        "id": "ORHeBjozfbNc"
      },
      "execution_count": 12,
      "outputs": []
    },
    {
      "cell_type": "code",
      "source": [
        "log_reg_mod.fit(X_train, np.array(y_train).flatten())"
      ],
      "metadata": {
        "colab": {
          "base_uri": "https://localhost:8080/"
        },
        "id": "oPOQ_mDvfce7",
        "outputId": "c3261c60-7bd1-4a9c-9eb7-b853f6d3a817"
      },
      "execution_count": 13,
      "outputs": [
        {
          "output_type": "execute_result",
          "data": {
            "text/plain": [
              "LogisticRegression(max_iter=10000)"
            ]
          },
          "metadata": {},
          "execution_count": 13
        }
      ]
    },
    {
      "cell_type": "code",
      "source": [
        "cd /content/gdrive/MyDrive/models/VocalSET/LogisticRegression"
      ],
      "metadata": {
        "id": "pUrQYNbeby3H",
        "outputId": "9d43f500-0dea-44f1-e13f-3daa137de37e",
        "colab": {
          "base_uri": "https://localhost:8080/"
        }
      },
      "execution_count": 14,
      "outputs": [
        {
          "output_type": "stream",
          "name": "stdout",
          "text": [
            "/content/gdrive/MyDrive/models/VocalSET/LogisticRegression\n"
          ]
        }
      ]
    },
    {
      "cell_type": "code",
      "source": [
        "joblib.dump(log_reg_mod, \"log_reg_mfcc.sav\")"
      ],
      "metadata": {
        "id": "q_6BW8ElcCsM",
        "outputId": "c7ce01f1-9f87-4463-c548-f6d8e43e5220",
        "colab": {
          "base_uri": "https://localhost:8080/"
        }
      },
      "execution_count": 15,
      "outputs": [
        {
          "output_type": "execute_result",
          "data": {
            "text/plain": [
              "['log_reg_mfcc.sav']"
            ]
          },
          "metadata": {},
          "execution_count": 15
        }
      ]
    },
    {
      "cell_type": "code",
      "source": [
        "y_pre_lg = log_reg_mod.predict(X_test)"
      ],
      "metadata": {
        "id": "CrT9jX-jfeJB"
      },
      "execution_count": 16,
      "outputs": []
    },
    {
      "cell_type": "code",
      "source": [
        "print(classification_report(y_test,y_pre_lg))"
      ],
      "metadata": {
        "colab": {
          "base_uri": "https://localhost:8080/"
        },
        "id": "xiz9_AJnfiNj",
        "outputId": "e1bc5bd1-14ae-44c7-ed09-988cf144e91a"
      },
      "execution_count": 17,
      "outputs": [
        {
          "output_type": "stream",
          "name": "stdout",
          "text": [
            "              precision    recall  f1-score   support\n",
            "\n",
            "     female1       0.69      0.83      0.76        65\n",
            "     female2       0.50      0.54      0.52        41\n",
            "     female3       0.59      0.72      0.65        40\n",
            "     female4       0.76      0.55      0.64        62\n",
            "     female5       0.71      0.71      0.71        49\n",
            "     female6       0.72      0.74      0.73        39\n",
            "     female7       0.69      0.71      0.70        65\n",
            "     female8       0.71      0.59      0.64        66\n",
            "     female9       0.62      0.64      0.63        36\n",
            "       male1       0.50      0.56      0.53        48\n",
            "      male10       0.70      0.64      0.67        47\n",
            "      male11       0.55      0.60      0.57        50\n",
            "       male2       0.55      0.61      0.58        51\n",
            "       male3       0.61      0.68      0.64        53\n",
            "       male4       0.60      0.43      0.50        69\n",
            "       male5       0.72      0.62      0.67        77\n",
            "       male6       0.77      0.64      0.70        69\n",
            "       male7       0.53      0.65      0.59        49\n",
            "       male8       0.69      0.79      0.74        52\n",
            "       male9       0.68      0.76      0.72        37\n",
            "\n",
            "    accuracy                           0.65      1065\n",
            "   macro avg       0.65      0.65      0.64      1065\n",
            "weighted avg       0.65      0.65      0.65      1065\n",
            "\n"
          ]
        }
      ]
    },
    {
      "cell_type": "code",
      "source": [
        "lb = list(y_test[0].unique())"
      ],
      "metadata": {
        "id": "iY4RRTL2-_Za"
      },
      "execution_count": 18,
      "outputs": []
    },
    {
      "cell_type": "code",
      "source": [
        "cm2 = confusion_matrix(y_test, y_pre_lg, normalize='true')\n",
        "cm2 = pd.DataFrame(cm2, index=lb, columns=lb)\n",
        "plt.figure(figsize=(12,8))\n",
        "sns.heatmap(cm2, annot=True, linewidths=.5, cmap=\"YlGnBu\")\n",
        "plt.xlabel(\"predicted voice\")\n",
        "plt.ylabel(\"real voicet\")\n",
        "plt.show()"
      ],
      "metadata": {
        "id": "T4su_bz0gPwj",
        "outputId": "db35f050-5383-4384-e34a-9d22f7aa6978",
        "colab": {
          "base_uri": "https://localhost:8080/",
          "height": 527
        }
      },
      "execution_count": 19,
      "outputs": [
        {
          "output_type": "display_data",
          "data": {
            "image/png": "[encoded data removed]",
            "text/plain": [
              "<Figure size 864x576 with 2 Axes>"
            ]
          },
          "metadata": {
            "needs_background": "light"
          }
        }
      ]
    },
    {
      "cell_type": "code",
      "source": [
        "cm2 = confusion_matrix(y_test, y_pre_lg)\n",
        "cm2 = pd.DataFrame(cm2, index=lb, columns=lb)\n",
        "plt.figure(figsize=(12,8))\n",
        "sns.heatmap(cm2, annot=True, linewidths=.5, cmap=\"YlGnBu\")\n",
        "plt.xlabel(\"predicted voice\")\n",
        "plt.ylabel(\"real voicet\")\n",
        "plt.show()"
      ],
      "metadata": {
        "id": "kxHgBGPBA67R",
        "outputId": "6204e1eb-ab35-4e26-904e-66f86fbce72d",
        "colab": {
          "base_uri": "https://localhost:8080/",
          "height": 527
        }
      },
      "execution_count": 20,
      "outputs": [
        {
          "output_type": "display_data",
          "data": {
            "image/png": "[encoded data removed]",
            "text/plain": [
              "<Figure size 864x576 with 2 Axes>"
            ]
          },
          "metadata": {
            "needs_background": "light"
          }
        }
      ]
    },
    {
      "cell_type": "markdown",
      "source": [
        "## **SVM**"
      ],
      "metadata": {
        "id": "IH-mqRtMcMy4"
      }
    },
    {
      "cell_type": "code",
      "source": [
        "from sklearn.svm import SVC"
      ],
      "metadata": {
        "id": "CXBAI-iNccve"
      },
      "execution_count": 21,
      "outputs": []
    },
    {
      "cell_type": "code",
      "source": [
        "cd /content/gdrive/MyDrive/models/VocalSET/SVM"
      ],
      "metadata": {
        "id": "M7FdSrl5cgfT",
        "outputId": "d9ef4433-a9f5-4d9d-f3aa-919e475dcaa1",
        "colab": {
          "base_uri": "https://localhost:8080/"
        }
      },
      "execution_count": 22,
      "outputs": [
        {
          "output_type": "stream",
          "name": "stdout",
          "text": [
            "/content/gdrive/MyDrive/models/VocalSET/SVM\n"
          ]
        }
      ]
    },
    {
      "cell_type": "code",
      "source": [
        "mod_svm = SVC(kernel='linear')\n",
        "mod_svm.fit(X_train, np.array(y_train).flatten())"
      ],
      "metadata": {
        "id": "TOJjVONrcnLh",
        "outputId": "b337913b-c017-4d73-98a2-abf08338755c",
        "colab": {
          "base_uri": "https://localhost:8080/"
        }
      },
      "execution_count": 23,
      "outputs": [
        {
          "output_type": "execute_result",
          "data": {
            "text/plain": [
              "SVC(kernel='linear')"
            ]
          },
          "metadata": {},
          "execution_count": 23
        }
      ]
    },
    {
      "cell_type": "code",
      "source": [
        "y_pre_svm = mod_svm.predict(X_test)"
      ],
      "metadata": {
        "id": "03pBlAUocsSp"
      },
      "execution_count": 24,
      "outputs": []
    },
    {
      "cell_type": "code",
      "source": [
        "joblib.dump(mod_svm, \"svm_mfcc.sav\")"
      ],
      "metadata": {
        "id": "6KCD9EHydZrj",
        "outputId": "2182adb0-d5cd-4360-99d6-e1f96c490f4a",
        "colab": {
          "base_uri": "https://localhost:8080/"
        }
      },
      "execution_count": 25,
      "outputs": [
        {
          "output_type": "execute_result",
          "data": {
            "text/plain": [
              "['svm_mfcc.sav']"
            ]
          },
          "metadata": {},
          "execution_count": 25
        }
      ]
    },
    {
      "cell_type": "code",
      "source": [
        "print(classification_report(y_test,y_pre_svm))"
      ],
      "metadata": {
        "id": "C-jT2KBxdpTV",
        "outputId": "426b02f2-d4a2-4e33-e5aa-ce6c5a581855",
        "colab": {
          "base_uri": "https://localhost:8080/"
        }
      },
      "execution_count": 26,
      "outputs": [
        {
          "output_type": "stream",
          "name": "stdout",
          "text": [
            "              precision    recall  f1-score   support\n",
            "\n",
            "     female1       0.57      0.85      0.68        65\n",
            "     female2       0.41      0.49      0.44        41\n",
            "     female3       0.51      0.80      0.62        40\n",
            "     female4       0.77      0.58      0.66        62\n",
            "     female5       0.70      0.61      0.65        49\n",
            "     female6       0.73      0.69      0.71        39\n",
            "     female7       0.73      0.62      0.67        65\n",
            "     female8       0.69      0.58      0.63        66\n",
            "     female9       0.61      0.53      0.57        36\n",
            "       male1       0.54      0.65      0.59        48\n",
            "      male10       0.65      0.66      0.65        47\n",
            "      male11       0.62      0.66      0.64        50\n",
            "       male2       0.57      0.65      0.61        51\n",
            "       male3       0.66      0.77      0.71        53\n",
            "       male4       0.67      0.42      0.52        69\n",
            "       male5       0.67      0.58      0.62        77\n",
            "       male6       0.81      0.61      0.69        69\n",
            "       male7       0.55      0.65      0.60        49\n",
            "       male8       0.69      0.71      0.70        52\n",
            "       male9       0.69      0.68      0.68        37\n",
            "\n",
            "    accuracy                           0.63      1065\n",
            "   macro avg       0.64      0.64      0.63      1065\n",
            "weighted avg       0.65      0.63      0.63      1065\n",
            "\n"
          ]
        }
      ]
    },
    {
      "cell_type": "markdown",
      "source": [
        "## **KNN**"
      ],
      "metadata": {
        "id": "vuLUZCk0ds8a"
      }
    },
    {
      "cell_type": "code",
      "source": [
        "from sklearn.neighbors import KNeighborsClassifier"
      ],
      "metadata": {
        "id": "G-y290rod4Bb"
      },
      "execution_count": 27,
      "outputs": []
    },
    {
      "cell_type": "code",
      "source": [
        "cd /content/gdrive/MyDrive/models/VocalSET/KNN"
      ],
      "metadata": {
        "id": "EmJVgJvpd5fZ",
        "outputId": "4f8d2413-87e6-4c0c-ce3b-f3ea9e7f0c16",
        "colab": {
          "base_uri": "https://localhost:8080/"
        }
      },
      "execution_count": 28,
      "outputs": [
        {
          "output_type": "stream",
          "name": "stdout",
          "text": [
            "/content/gdrive/MyDrive/models/VocalSET/KNN\n"
          ]
        }
      ]
    },
    {
      "cell_type": "code",
      "source": [
        "mod_knn = KNeighborsClassifier(n_neighbors=4)"
      ],
      "metadata": {
        "id": "_Kjp-FpZeAbe"
      },
      "execution_count": 29,
      "outputs": []
    },
    {
      "cell_type": "code",
      "source": [
        "mod_knn.fit(X_train, np.array(y_train).flatten())"
      ],
      "metadata": {
        "id": "t0DashCQfDkc",
        "outputId": "ec4f69b3-83cd-43c1-ca82-34535a0682c9",
        "colab": {
          "base_uri": "https://localhost:8080/"
        }
      },
      "execution_count": 30,
      "outputs": [
        {
          "output_type": "execute_result",
          "data": {
            "text/plain": [
              "KNeighborsClassifier(n_neighbors=4)"
            ]
          },
          "metadata": {},
          "execution_count": 30
        }
      ]
    },
    {
      "cell_type": "code",
      "source": [
        "joblib.dump(mod_knn, \"knn_mfcc.sav\")"
      ],
      "metadata": {
        "id": "gv-TtNHofPqv",
        "outputId": "787eb0cd-2176-420d-9724-babb12444b12",
        "colab": {
          "base_uri": "https://localhost:8080/"
        }
      },
      "execution_count": 31,
      "outputs": [
        {
          "output_type": "execute_result",
          "data": {
            "text/plain": [
              "['knn_mfcc.sav']"
            ]
          },
          "metadata": {},
          "execution_count": 31
        }
      ]
    },
    {
      "cell_type": "code",
      "source": [
        "y_pre_knn = mod_knn.predict(X_test)"
      ],
      "metadata": {
        "id": "JOHXifdSfEB5"
      },
      "execution_count": 32,
      "outputs": []
    },
    {
      "cell_type": "code",
      "source": [
        "print(classification_report(y_test,y_pre_knn))"
      ],
      "metadata": {
        "id": "mQuqXEZ_fK6N",
        "outputId": "df53b848-5bbd-43ad-8b33-8d893ce27777",
        "colab": {
          "base_uri": "https://localhost:8080/"
        }
      },
      "execution_count": 33,
      "outputs": [
        {
          "output_type": "stream",
          "name": "stdout",
          "text": [
            "              precision    recall  f1-score   support\n",
            "\n",
            "     female1       0.47      0.71      0.57        65\n",
            "     female2       0.20      0.32      0.25        41\n",
            "     female3       0.39      0.55      0.46        40\n",
            "     female4       0.52      0.44      0.47        62\n",
            "     female5       0.50      0.59      0.54        49\n",
            "     female6       0.55      0.41      0.47        39\n",
            "     female7       0.58      0.55      0.57        65\n",
            "     female8       0.63      0.26      0.37        66\n",
            "     female9       0.37      0.42      0.39        36\n",
            "       male1       0.44      0.60      0.51        48\n",
            "      male10       0.67      0.62      0.64        47\n",
            "      male11       0.41      0.52      0.46        50\n",
            "       male2       0.40      0.67      0.50        51\n",
            "       male3       0.60      0.68      0.64        53\n",
            "       male4       0.51      0.36      0.42        69\n",
            "       male5       0.67      0.51      0.58        77\n",
            "       male6       0.74      0.51      0.60        69\n",
            "       male7       0.76      0.45      0.56        49\n",
            "       male8       0.79      0.65      0.72        52\n",
            "       male9       0.73      0.65      0.69        37\n",
            "\n",
            "    accuracy                           0.52      1065\n",
            "   macro avg       0.55      0.52      0.52      1065\n",
            "weighted avg       0.56      0.52      0.52      1065\n",
            "\n"
          ]
        }
      ]
    },
    {
      "cell_type": "markdown",
      "source": [
        "## **Decision Tree**"
      ],
      "metadata": {
        "id": "ucR_Hl-rfUOW"
      }
    },
    {
      "cell_type": "code",
      "source": [
        "from sklearn.tree import DecisionTreeClassifier"
      ],
      "metadata": {
        "id": "IZsb5RelfW0b"
      },
      "execution_count": 34,
      "outputs": []
    },
    {
      "cell_type": "code",
      "source": [
        "cd /content/gdrive/MyDrive/models/VocalSET/DTC"
      ],
      "metadata": {
        "id": "dH9Icb79fkB-",
        "outputId": "a8ea1177-ba3e-4e4a-d74f-85c807f42ebb",
        "colab": {
          "base_uri": "https://localhost:8080/"
        }
      },
      "execution_count": 35,
      "outputs": [
        {
          "output_type": "stream",
          "name": "stdout",
          "text": [
            "/content/gdrive/MyDrive/models/VocalSET/DTC\n"
          ]
        }
      ]
    },
    {
      "cell_type": "code",
      "source": [
        "dtc = DecisionTreeClassifier(max_depth=14)"
      ],
      "metadata": {
        "id": "Eh8wHcGXf34y"
      },
      "execution_count": 36,
      "outputs": []
    },
    {
      "cell_type": "code",
      "source": [
        "dtc.fit(X_train, np.array(y_train).flatten())"
      ],
      "metadata": {
        "id": "uyCMouPNgGI0",
        "outputId": "1801a8a5-722c-49ff-da16-670205732a78",
        "colab": {
          "base_uri": "https://localhost:8080/"
        }
      },
      "execution_count": 37,
      "outputs": [
        {
          "output_type": "execute_result",
          "data": {
            "text/plain": [
              "DecisionTreeClassifier(max_depth=14)"
            ]
          },
          "metadata": {},
          "execution_count": 37
        }
      ]
    },
    {
      "cell_type": "code",
      "source": [
        "joblib.dump(dtc, \"dtc_mfcc.sav\")"
      ],
      "metadata": {
        "id": "F6wrh_m-gHlx",
        "outputId": "cae7950d-47ef-4956-bb00-78f26d1e2316",
        "colab": {
          "base_uri": "https://localhost:8080/"
        }
      },
      "execution_count": 38,
      "outputs": [
        {
          "output_type": "execute_result",
          "data": {
            "text/plain": [
              "['dtc_mfcc.sav']"
            ]
          },
          "metadata": {},
          "execution_count": 38
        }
      ]
    },
    {
      "cell_type": "code",
      "source": [
        "y_pre_dtc = dtc.predict(X_test)"
      ],
      "metadata": {
        "id": "vG4i0fUKgek3"
      },
      "execution_count": 39,
      "outputs": []
    },
    {
      "cell_type": "code",
      "source": [
        "print(classification_report(y_test,y_pre_dtc))"
      ],
      "metadata": {
        "id": "uziU9n_mgipW",
        "outputId": "4453f831-250f-454c-e23f-2037f0b9faa5",
        "colab": {
          "base_uri": "https://localhost:8080/"
        }
      },
      "execution_count": 40,
      "outputs": [
        {
          "output_type": "stream",
          "name": "stdout",
          "text": [
            "              precision    recall  f1-score   support\n",
            "\n",
            "     female1       0.40      0.51      0.45        65\n",
            "     female2       0.14      0.24      0.18        41\n",
            "     female3       0.34      0.33      0.33        40\n",
            "     female4       0.42      0.40      0.41        62\n",
            "     female5       0.40      0.35      0.37        49\n",
            "     female6       0.26      0.18      0.21        39\n",
            "     female7       0.44      0.48      0.46        65\n",
            "     female8       0.39      0.26      0.31        66\n",
            "     female9       0.23      0.31      0.27        36\n",
            "       male1       0.29      0.40      0.34        48\n",
            "      male10       0.50      0.40      0.45        47\n",
            "      male11       0.41      0.44      0.42        50\n",
            "       male2       0.34      0.33      0.34        51\n",
            "       male3       0.36      0.55      0.44        53\n",
            "       male4       0.25      0.19      0.22        69\n",
            "       male5       0.47      0.26      0.33        77\n",
            "       male6       0.68      0.52      0.59        69\n",
            "       male7       0.45      0.47      0.46        49\n",
            "       male8       0.37      0.42      0.39        52\n",
            "       male9       0.30      0.32      0.31        37\n",
            "\n",
            "    accuracy                           0.37      1065\n",
            "   macro avg       0.37      0.37      0.36      1065\n",
            "weighted avg       0.39      0.37      0.37      1065\n",
            "\n"
          ]
        }
      ]
    },
    {
      "cell_type": "markdown",
      "source": [
        "## **Random Forests**"
      ],
      "metadata": {
        "id": "5H526KxkgpNx"
      }
    },
    {
      "cell_type": "code",
      "source": [
        "from sklearn.ensemble import RandomForestClassifier"
      ],
      "metadata": {
        "id": "khIU7yqRgtQS"
      },
      "execution_count": 41,
      "outputs": []
    },
    {
      "cell_type": "code",
      "source": [
        "cd /content/gdrive/MyDrive/models/VocalSET/RFC"
      ],
      "metadata": {
        "id": "1JkYlMDNgwAu",
        "outputId": "5ea90b2a-331b-45a5-c268-4f33da832364",
        "colab": {
          "base_uri": "https://localhost:8080/"
        }
      },
      "execution_count": 42,
      "outputs": [
        {
          "output_type": "stream",
          "name": "stdout",
          "text": [
            "/content/gdrive/MyDrive/models/VocalSET/RFC\n"
          ]
        }
      ]
    },
    {
      "cell_type": "code",
      "source": [
        "rfc = RandomForestClassifier(n_estimators=400)"
      ],
      "metadata": {
        "id": "gEG_eXl-g2f3"
      },
      "execution_count": 43,
      "outputs": []
    },
    {
      "cell_type": "code",
      "source": [
        "rfc.fit(X_train, np.array(y_train).flatten())"
      ],
      "metadata": {
        "id": "mJRghRJGg5hy",
        "outputId": "a434bff6-c2ef-49a9-ce86-805cf75838e4",
        "colab": {
          "base_uri": "https://localhost:8080/"
        }
      },
      "execution_count": 44,
      "outputs": [
        {
          "output_type": "execute_result",
          "data": {
            "text/plain": [
              "RandomForestClassifier(n_estimators=400)"
            ]
          },
          "metadata": {},
          "execution_count": 44
        }
      ]
    },
    {
      "cell_type": "code",
      "source": [
        "y_pre_rfc = rfc.predict(X_test)"
      ],
      "metadata": {
        "id": "iPE2dKNlg74Z"
      },
      "execution_count": 45,
      "outputs": []
    },
    {
      "cell_type": "code",
      "source": [
        "joblib.dump(rfc, \"rfc_mfcc.sav\")"
      ],
      "metadata": {
        "id": "Y-oIubdjhyLs",
        "outputId": "9af3c1a5-c29a-4ecd-8249-640a669fe6d5",
        "colab": {
          "base_uri": "https://localhost:8080/"
        }
      },
      "execution_count": 46,
      "outputs": [
        {
          "output_type": "execute_result",
          "data": {
            "text/plain": [
              "['rfc_mfcc.sav']"
            ]
          },
          "metadata": {},
          "execution_count": 46
        }
      ]
    },
    {
      "cell_type": "code",
      "source": [
        "print(classification_report(y_test,y_pre_rfc))"
      ],
      "metadata": {
        "id": "nobuK1BZh50O",
        "outputId": "ee81fd77-7e82-4b96-bb6c-38f557578442",
        "colab": {
          "base_uri": "https://localhost:8080/"
        }
      },
      "execution_count": 47,
      "outputs": [
        {
          "output_type": "stream",
          "name": "stdout",
          "text": [
            "              precision    recall  f1-score   support\n",
            "\n",
            "     female1       0.72      0.83      0.77        65\n",
            "     female2       0.40      0.51      0.45        41\n",
            "     female3       0.71      0.85      0.77        40\n",
            "     female4       0.83      0.48      0.61        62\n",
            "     female5       0.67      0.65      0.66        49\n",
            "     female6       0.78      0.64      0.70        39\n",
            "     female7       0.74      0.82      0.77        65\n",
            "     female8       0.83      0.58      0.68        66\n",
            "     female9       0.80      0.67      0.73        36\n",
            "       male1       0.76      0.65      0.70        48\n",
            "      male10       0.80      0.60      0.68        47\n",
            "      male11       0.56      0.66      0.61        50\n",
            "       male2       0.61      0.84      0.70        51\n",
            "       male3       0.55      0.75      0.63        53\n",
            "       male4       0.81      0.32      0.46        69\n",
            "       male5       0.68      0.73      0.70        77\n",
            "       male6       0.65      0.84      0.73        69\n",
            "       male7       0.57      0.67      0.62        49\n",
            "       male8       0.82      0.88      0.85        52\n",
            "       male9       0.80      0.76      0.78        37\n",
            "\n",
            "    accuracy                           0.68      1065\n",
            "   macro avg       0.70      0.69      0.68      1065\n",
            "weighted avg       0.71      0.68      0.68      1065\n",
            "\n"
          ]
        }
      ]
    },
    {
      "cell_type": "markdown",
      "source": [
        "## **Gradient Boosting**"
      ],
      "metadata": {
        "id": "5LhgNQ5wiDrJ"
      }
    },
    {
      "cell_type": "code",
      "source": [
        "import xgboost as xgb"
      ],
      "metadata": {
        "id": "s1yQ7ji_iTDy"
      },
      "execution_count": 48,
      "outputs": []
    },
    {
      "cell_type": "code",
      "source": [
        "cd /content/gdrive/MyDrive/models/VocalSET/Gradient Boosting"
      ],
      "metadata": {
        "id": "8exm7WP3iUXa",
        "outputId": "2c034e33-0ede-4db7-a05e-b43be434c999",
        "colab": {
          "base_uri": "https://localhost:8080/"
        }
      },
      "execution_count": 49,
      "outputs": [
        {
          "output_type": "stream",
          "name": "stdout",
          "text": [
            "/content/gdrive/MyDrive/models/VocalSET/Gradient Boosting\n"
          ]
        }
      ]
    },
    {
      "cell_type": "code",
      "source": [
        "xgbc = xgb.XGBClassifier(max_depths=5, learning_rate=0.1)"
      ],
      "metadata": {
        "id": "H6nuVgFOijFr"
      },
      "execution_count": 50,
      "outputs": []
    },
    {
      "cell_type": "code",
      "source": [
        "xgbc.fit(X_train, np.array(y_train).flatten())"
      ],
      "metadata": {
        "id": "W3sZBxqXilwS",
        "outputId": "fc6450d5-7a93-477a-bb84-5aace7a5da89",
        "colab": {
          "base_uri": "https://localhost:8080/"
        }
      },
      "execution_count": 51,
      "outputs": [
        {
          "output_type": "execute_result",
          "data": {
            "text/plain": [
              "XGBClassifier(max_depths=5, objective='multi:softprob')"
            ]
          },
          "metadata": {},
          "execution_count": 51
        }
      ]
    },
    {
      "cell_type": "code",
      "source": [
        "joblib.dump(xgbc, \"xgbc_mfcc.sav\")"
      ],
      "metadata": {
        "id": "WWduUJYAiwgJ",
        "outputId": "d38a15b1-ff26-4e13-e0c0-69e97c25942c",
        "colab": {
          "base_uri": "https://localhost:8080/"
        }
      },
      "execution_count": 52,
      "outputs": [
        {
          "output_type": "execute_result",
          "data": {
            "text/plain": [
              "['xgbc_mfcc.sav']"
            ]
          },
          "metadata": {},
          "execution_count": 52
        }
      ]
    },
    {
      "cell_type": "code",
      "source": [
        "y_pre_xgbc = xgbc.predict(X_test)"
      ],
      "metadata": {
        "id": "r_nYm5fii36p"
      },
      "execution_count": 53,
      "outputs": []
    },
    {
      "cell_type": "code",
      "source": [
        "print(classification_report(y_test,y_pre_xgbc))"
      ],
      "metadata": {
        "id": "Ls2vS-XejBOc",
        "outputId": "62f8e7cd-3353-4500-f6f5-6c5b818d4351",
        "colab": {
          "base_uri": "https://localhost:8080/"
        }
      },
      "execution_count": 54,
      "outputs": [
        {
          "output_type": "stream",
          "name": "stdout",
          "text": [
            "              precision    recall  f1-score   support\n",
            "\n",
            "     female1       0.72      0.83      0.77        65\n",
            "     female2       0.41      0.51      0.46        41\n",
            "     female3       0.59      0.72      0.65        40\n",
            "     female4       0.88      0.56      0.69        62\n",
            "     female5       0.67      0.53      0.59        49\n",
            "     female6       0.69      0.62      0.65        39\n",
            "     female7       0.73      0.74      0.73        65\n",
            "     female8       0.66      0.56      0.61        66\n",
            "     female9       0.59      0.67      0.62        36\n",
            "       male1       0.57      0.52      0.54        48\n",
            "      male10       0.83      0.53      0.65        47\n",
            "      male11       0.52      0.58      0.55        50\n",
            "       male2       0.56      0.78      0.66        51\n",
            "       male3       0.65      0.68      0.67        53\n",
            "       male4       0.64      0.36      0.46        69\n",
            "       male5       0.70      0.75      0.73        77\n",
            "       male6       0.65      0.74      0.69        69\n",
            "       male7       0.62      0.63      0.63        49\n",
            "       male8       0.70      0.85      0.77        52\n",
            "       male9       0.72      0.84      0.77        37\n",
            "\n",
            "    accuracy                           0.65      1065\n",
            "   macro avg       0.65      0.65      0.64      1065\n",
            "weighted avg       0.66      0.65      0.65      1065\n",
            "\n"
          ]
        }
      ]
    },
    {
      "cell_type": "markdown",
      "source": [
        "## **MLPClassifier**"
      ],
      "metadata": {
        "id": "NbLaOH6fjcDI"
      }
    },
    {
      "cell_type": "code",
      "source": [
        "from sklearn.neural_network import MLPClassifier"
      ],
      "metadata": {
        "id": "_ovByphNjeMP"
      },
      "execution_count": 55,
      "outputs": []
    },
    {
      "cell_type": "code",
      "source": [
        "MLPclass = MLPClassifier(hidden_layer_sizes=(512,512), random_state=8, activation='relu', solver=\"adam\", learning_rate_init=0.001, learning_rate='constant')"
      ],
      "metadata": {
        "id": "T0fClwe-jf8B"
      },
      "execution_count": 56,
      "outputs": []
    },
    {
      "cell_type": "code",
      "source": [
        "cd /content/gdrive/MyDrive/models/VocalSET/MLP"
      ],
      "metadata": {
        "id": "ptS5sYB2jzLw",
        "outputId": "b5368b24-55e3-4e42-cad4-c9035e8034ea",
        "colab": {
          "base_uri": "https://localhost:8080/"
        }
      },
      "execution_count": 57,
      "outputs": [
        {
          "output_type": "stream",
          "name": "stdout",
          "text": [
            "/content/gdrive/MyDrive/models/VocalSET/MLP\n"
          ]
        }
      ]
    },
    {
      "cell_type": "code",
      "source": [
        "MLPclass.fit(X_train, np.array(y_train).flatten())\n",
        "y_pre_MLP = MLPclass.predict(X_test)"
      ],
      "metadata": {
        "id": "9LamoNUujjos"
      },
      "execution_count": 58,
      "outputs": []
    },
    {
      "cell_type": "code",
      "source": [
        "joblib.dump(MLPclass, \"MLP_mfcc.sav\")"
      ],
      "metadata": {
        "id": "H4xK3_Rmj17j",
        "outputId": "d48139b0-b826-43f7-b282-f4343a74c861",
        "colab": {
          "base_uri": "https://localhost:8080/"
        }
      },
      "execution_count": 59,
      "outputs": [
        {
          "output_type": "execute_result",
          "data": {
            "text/plain": [
              "['MLP_mfcc.sav']"
            ]
          },
          "metadata": {},
          "execution_count": 59
        }
      ]
    },
    {
      "cell_type": "code",
      "source": [
        "print(classification_report(y_test,y_pre_MLP))"
      ],
      "metadata": {
        "id": "BY4FTPGXjsZI",
        "outputId": "7d30a8c9-8b1e-4c0f-b9ef-40e9301f94e2",
        "colab": {
          "base_uri": "https://localhost:8080/"
        }
      },
      "execution_count": 60,
      "outputs": [
        {
          "output_type": "stream",
          "name": "stdout",
          "text": [
            "              precision    recall  f1-score   support\n",
            "\n",
            "     female1       0.75      0.91      0.82        65\n",
            "     female2       0.61      0.66      0.64        41\n",
            "     female3       0.77      0.82      0.80        40\n",
            "     female4       0.85      0.71      0.77        62\n",
            "     female5       0.82      0.76      0.79        49\n",
            "     female6       0.78      0.82      0.80        39\n",
            "     female7       0.82      0.78      0.80        65\n",
            "     female8       0.85      0.67      0.75        66\n",
            "     female9       0.81      0.83      0.82        36\n",
            "       male1       0.62      0.65      0.63        48\n",
            "      male10       0.75      0.64      0.69        47\n",
            "      male11       0.60      0.66      0.63        50\n",
            "       male2       0.73      0.78      0.75        51\n",
            "       male3       0.65      0.77      0.71        53\n",
            "       male4       0.76      0.57      0.65        69\n",
            "       male5       0.74      0.74      0.74        77\n",
            "       male6       0.83      0.75      0.79        69\n",
            "       male7       0.63      0.73      0.68        49\n",
            "       male8       0.78      0.88      0.83        52\n",
            "       male9       0.78      0.84      0.81        37\n",
            "\n",
            "    accuracy                           0.74      1065\n",
            "   macro avg       0.75      0.75      0.74      1065\n",
            "weighted avg       0.75      0.74      0.74      1065\n",
            "\n"
          ]
        }
      ]
    },
    {
      "cell_type": "code",
      "source": [
        ""
      ],
      "metadata": {
        "id": "IIQDV1jwDsSy"
      },
      "execution_count": null,
      "outputs": []
    }
  ]
}