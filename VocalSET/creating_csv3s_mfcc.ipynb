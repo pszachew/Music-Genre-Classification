{
  "nbformat": 4,
  "nbformat_minor": 0,
  "metadata": {
    "colab": {
      "name": "Untitled20.ipynb",
      "provenance": [],
      "authorship_tag": "ABX9TyM08zazHK9/OXaYMdgdApGc",
      "include_colab_link": true
    },
    "kernelspec": {
      "name": "python3",
      "display_name": "Python 3"
    },
    "language_info": {
      "name": "python"
    }
  },
  "cells": [
    {
      "cell_type": "markdown",
      "metadata": {
        "id": "view-in-github",
        "colab_type": "text"
      },
      "source": [
        "<a href=\"https://colab.research.google.com/github/pszachew/Music-Genre-Classification/blob/master/VocalSET/creating_csv3s_mfcc.ipynb\" target=\"_parent\"><img src=\"https://colab.research.google.com/assets/colab-badge.svg\" alt=\"Open In Colab\"/></a>"
      ]
    },
    {
      "cell_type": "code",
      "execution_count": 1,
      "metadata": {
        "id": "KlIvRS-hUPmH"
      },
      "outputs": [],
      "source": [
        "import pandas as pd\n",
        "import numpy as np\n",
        "import librosa\n",
        "import os"
      ]
    },
    {
      "cell_type": "code",
      "source": [
        "from google.colab import drive\n",
        "import sys\n",
        "drive.mount('/content/gdrive')\n",
        "sys.path.append('/content/gdrive/My Drive/Colab Notebooks')"
      ],
      "metadata": {
        "colab": {
          "base_uri": "https://localhost:8080/"
        },
        "id": "aRNqaxLmUVwy",
        "outputId": "0c88b7bc-d5e9-4834-9200-4d03c9760948"
      },
      "execution_count": 2,
      "outputs": [
        {
          "output_type": "stream",
          "name": "stdout",
          "text": [
            "Mounted at /content/gdrive\n"
          ]
        }
      ]
    },
    {
      "cell_type": "code",
      "source": [
        "X_test = []\n",
        "labels_test = []\n",
        "initial_path=\"/content/gdrive/MyDrive/Data/VocalSET/cut_test\"\n",
        "for gender in os.listdir(initial_path):\n",
        "        for el in os.listdir(initial_path + \"/\" + gender):\n",
        "            for x in os.listdir(initial_path + \"/\" + gender + \"/\" + el):\n",
        "                for audio in os.listdir(initial_path + \"/\" + gender + \"/\" + el + \"/\" + x):\n",
        "                  src, sr = librosa.load(initial_path + \"/\" + gender + \"/\" + el + \"/\" + x + \"/\" + audio)\n",
        "                  mfcc = librosa.feature.mfcc(y=src, sr = sr, n_mfcc=20)\n",
        "                  dmfcc = mfcc[:, 1:] - mfcc[:, :-1]\n",
        "                  ddmfcc = dmfcc[:, 1:] - dmfcc[:, :-1]\n",
        "                  X_test.append(np.concatenate((np.mean(mfcc, axis=1), np.std(mfcc, axis=1),\n",
        "                           np.mean(dmfcc, axis=1), np.std(dmfcc, axis=1),\n",
        "                           np.mean(ddmfcc, axis=1), np.std(ddmfcc, axis=1))\n",
        "                          , axis=0))\n",
        "                  labels_test.append(gender)"
      ],
      "metadata": {
        "id": "hrtMsuhQCWqu"
      },
      "execution_count": 3,
      "outputs": []
    },
    {
      "cell_type": "code",
      "source": [
        "X_train = []\n",
        "labels_train = []\n",
        "initial_path=\"/content/gdrive/MyDrive/Data/VocalSET/cut_train\"\n",
        "for gender in os.listdir(initial_path):\n",
        "        for el in os.listdir(initial_path + \"/\" + gender):\n",
        "            for x in os.listdir(initial_path + \"/\" + gender + \"/\" + el):\n",
        "                for audio in os.listdir(initial_path + \"/\" + gender + \"/\" + el + \"/\" + x):\n",
        "                  src, sr = librosa.load(initial_path + \"/\" + gender + \"/\" + el + \"/\" + x + \"/\" + audio)\n",
        "                  mfcc = librosa.feature.mfcc(y=src, sr = sr, n_mfcc=20)\n",
        "                  dmfcc = mfcc[:, 1:] - mfcc[:, :-1]\n",
        "                  ddmfcc = dmfcc[:, 1:] - dmfcc[:, :-1]\n",
        "                  X_train.append(np.concatenate((np.mean(mfcc, axis=1), np.std(mfcc, axis=1),\n",
        "                           np.mean(dmfcc, axis=1), np.std(dmfcc, axis=1),\n",
        "                           np.mean(ddmfcc, axis=1), np.std(ddmfcc, axis=1))\n",
        "                          , axis=0))\n",
        "                  labels_train.append(gender)"
      ],
      "metadata": {
        "id": "cMf148ba1boX"
      },
      "execution_count": 4,
      "outputs": []
    },
    {
      "cell_type": "code",
      "source": [
        "dl = []\n",
        "for el in X_train:\n",
        "  dl.append(len(el))"
      ],
      "metadata": {
        "id": "alqH1vZFVPKI"
      },
      "execution_count": 5,
      "outputs": []
    },
    {
      "cell_type": "code",
      "source": [
        "max(dl)"
      ],
      "metadata": {
        "colab": {
          "base_uri": "https://localhost:8080/"
        },
        "id": "g_P_omcuaJiG",
        "outputId": "60f7c7fe-6feb-4ff7-f971-f3112696423a"
      },
      "execution_count": 6,
      "outputs": [
        {
          "output_type": "execute_result",
          "data": {
            "text/plain": [
              "120"
            ]
          },
          "metadata": {},
          "execution_count": 6
        }
      ]
    },
    {
      "cell_type": "code",
      "source": [
        "min(dl)"
      ],
      "metadata": {
        "colab": {
          "base_uri": "https://localhost:8080/"
        },
        "id": "gHZW9obvaKpj",
        "outputId": "0aa622c9-441f-4816-9e41-e8ee8c9ece1b"
      },
      "execution_count": 7,
      "outputs": [
        {
          "output_type": "execute_result",
          "data": {
            "text/plain": [
              "120"
            ]
          },
          "metadata": {},
          "execution_count": 7
        }
      ]
    },
    {
      "cell_type": "code",
      "source": [
        "X_df_train = pd.DataFrame(X_train)\n",
        "y_df_train = pd.DataFrame(labels_train)\n",
        "X_df_test = pd.DataFrame(X_test)\n",
        "y_df_test = pd.DataFrame(labels_test)"
      ],
      "metadata": {
        "id": "Xg9nODp-b2Kr"
      },
      "execution_count": 8,
      "outputs": []
    },
    {
      "cell_type": "code",
      "source": [
        "X_df_train.to_csv(\"/content/gdrive/MyDrive/csv_data/VocalSET/features3s_train_mfcc.csv\", index=None, header=None)"
      ],
      "metadata": {
        "id": "krKs40UQcEaY"
      },
      "execution_count": 9,
      "outputs": []
    },
    {
      "cell_type": "code",
      "source": [
        "y_df_train.to_csv(\"/content/gdrive/MyDrive/csv_data/VocalSET/labels3s_train_mfcc.csv\", index=None, header=None)"
      ],
      "metadata": {
        "id": "3FZlQNnkbd0H"
      },
      "execution_count": 10,
      "outputs": []
    },
    {
      "cell_type": "code",
      "source": [
        "X_df_test.to_csv(\"/content/gdrive/MyDrive/csv_data/VocalSET/features3s_test_mfcc.csv\", index=None, header=None)"
      ],
      "metadata": {
        "id": "FWYRjvfkLAIa"
      },
      "execution_count": 11,
      "outputs": []
    },
    {
      "cell_type": "code",
      "source": [
        "y_df_test.to_csv(\"/content/gdrive/MyDrive/csv_data/VocalSET/labels3s_test_mfcc.csv\", index=None, header=None)"
      ],
      "metadata": {
        "id": "7V5NzRFILECL"
      },
      "execution_count": 12,
      "outputs": []
    }
  ]
}