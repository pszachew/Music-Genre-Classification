{
  "nbformat": 4,
  "nbformat_minor": 0,
  "metadata": {
    "colab": {
      "name": "Untitled3.ipynb",
      "provenance": [],
      "authorship_tag": "ABX9TyO2w49Y9tla9ojN5oMC+ECS",
      "include_colab_link": true
    },
    "kernelspec": {
      "name": "python3",
      "display_name": "Python 3"
    },
    "language_info": {
      "name": "python"
    }
  },
  "cells": [
    {
      "cell_type": "markdown",
      "metadata": {
        "id": "view-in-github",
        "colab_type": "text"
      },
      "source": [
        "<a href=\"https://colab.research.google.com/github/pszachew/Music-Genre-Classification/blob/master/GTZAN_MUSIC_SPEECH/training_10folds_mfcc.ipynb\" target=\"_parent\"><img src=\"https://colab.research.google.com/assets/colab-badge.svg\" alt=\"Open In Colab\"/></a>"
      ]
    },
    {
      "cell_type": "code",
      "metadata": {
        "id": "ndTmVrpOFCOp"
      },
      "source": [
        "import pandas as pd\n",
        "import numpy as np\n",
        "from sklearn.preprocessing import StandardScaler\n",
        "from sklearn.model_selection import train_test_split, KFold, cross_val_score, StratifiedKFold\n",
        "from sklearn.pipeline import Pipeline\n",
        "from sklearn.metrics import classification_report, confusion_matrix, accuracy_score, ConfusionMatrixDisplay\n",
        "import joblib\n",
        "import seaborn as sns\n",
        "import matplotlib.pyplot as plt\n",
        "from statistics import mean\n",
        "import json"
      ],
      "execution_count": 1,
      "outputs": []
    },
    {
      "cell_type": "code",
      "metadata": {
        "colab": {
          "base_uri": "https://localhost:8080/"
        },
        "id": "Rf6lRECfHMP2",
        "outputId": "c49bc8bb-228a-4111-f596-5aebb98ed2b9"
      },
      "source": [
        "from google.colab import drive\n",
        "drive.mount('/content/gdrive')"
      ],
      "execution_count": null,
      "outputs": [
        {
          "output_type": "stream",
          "name": "stdout",
          "text": [
            "Mounted at /content/gdrive\n"
          ]
        }
      ]
    },
    {
      "cell_type": "code",
      "metadata": {
        "id": "AtekSLDgHpH6"
      },
      "source": [
        "X = pd.read_csv('/content/gdrive/MyDrive/csv_data/GTZAN_speech_music/features_mfcc.csv',header=None)"
      ],
      "execution_count": null,
      "outputs": []
    },
    {
      "cell_type": "code",
      "metadata": {
        "id": "YxuMxGZ5H9G7"
      },
      "source": [
        "y = pd.read_csv('/content/gdrive/MyDrive/csv_data/GTZAN_speech_music/labels_mfcc.csv', header=None)"
      ],
      "execution_count": null,
      "outputs": []
    },
    {
      "cell_type": "code",
      "metadata": {
        "id": "djMzvQuSPYB0"
      },
      "source": [
        "scaler = StandardScaler()\n",
        "scaler.fit(X)\n",
        "X_sc =pd.DataFrame(scaler.transform(X))"
      ],
      "execution_count": null,
      "outputs": []
    },
    {
      "cell_type": "code",
      "source": [
        "n_splits = 10"
      ],
      "metadata": {
        "id": "DhqPJoPiW-HU"
      },
      "execution_count": null,
      "outputs": []
    },
    {
      "cell_type": "code",
      "source": [
        "def ac_ls(x: str):\n",
        "  z = x.split()\n",
        "  out = []\n",
        "  for i, el in enumerate(z):\n",
        "    if el == \"set:\":\n",
        "      out.append(float(z[i+1]))\n",
        "  print([np.average(out), np.std(out)])"
      ],
      "metadata": {
        "id": "u7NPm3MNS3KI"
      },
      "execution_count": 2,
      "outputs": []
    },
    {
      "cell_type": "markdown",
      "metadata": {
        "id": "kiB0OJ-vOOa1"
      },
      "source": [
        "## **Logistic Regression**"
      ]
    },
    {
      "cell_type": "code",
      "metadata": {
        "id": "pC7UEEMvO4un"
      },
      "source": [
        "from sklearn.linear_model import LogisticRegression"
      ],
      "execution_count": null,
      "outputs": []
    },
    {
      "cell_type": "code",
      "source": [
        "#cd /content/gdrive/MyDrive/models/GTZAN/LogisticRegression"
      ],
      "metadata": {
        "id": "b_8fsoUUIal2"
      },
      "execution_count": null,
      "outputs": []
    },
    {
      "cell_type": "code",
      "metadata": {
        "id": "72v0BoyeSm4t"
      },
      "source": [
        "kf = KFold(n_splits=n_splits, shuffle=True, random_state=42)\n",
        "mod_lg = LogisticRegression(max_iter=10000)"
      ],
      "execution_count": null,
      "outputs": []
    },
    {
      "cell_type": "code",
      "metadata": {
        "id": "gDhZlRtDnlAj",
        "colab": {
          "base_uri": "https://localhost:8080/"
        },
        "outputId": "4df504e6-3c4e-45cd-eb31-1c31e880c1db"
      },
      "source": [
        "i=1\n",
        "for x_train_idx, x_test_idx in kf.split(X_sc):\n",
        "  X_train = X_sc.iloc[x_train_idx]\n",
        "  X_test = X_sc.iloc[x_test_idx]\n",
        "  y_train = y.iloc[x_train_idx]\n",
        "  y_test = y.iloc[x_test_idx]\n",
        "  mod_lg.fit(X_train, np.array(y_train).flatten())\n",
        "  print(f\"Accuracy for the fold no. {i} on the test set: {accuracy_score(y_test, mod_lg.predict(X_test))}\")\n",
        "  #joblib.dump(mod_lg, \"log_reg_mfcc\"+str(i)+\".sav\")\n",
        "  i=i+1"
      ],
      "execution_count": null,
      "outputs": [
        {
          "output_type": "stream",
          "name": "stdout",
          "text": [
            "Accuracy for the fold no. 1 on the test set: 1.0\n",
            "Accuracy for the fold no. 2 on the test set: 0.7692307692307693\n",
            "Accuracy for the fold no. 3 on the test set: 1.0\n",
            "Accuracy for the fold no. 4 on the test set: 1.0\n",
            "Accuracy for the fold no. 5 on the test set: 1.0\n",
            "Accuracy for the fold no. 6 on the test set: 1.0\n",
            "Accuracy for the fold no. 7 on the test set: 1.0\n",
            "Accuracy for the fold no. 8 on the test set: 1.0\n",
            "Accuracy for the fold no. 9 on the test set: 1.0\n",
            "Accuracy for the fold no. 10 on the test set: 1.0\n"
          ]
        }
      ]
    },
    {
      "cell_type": "code",
      "source": [
        "ac_ls(\"Accuracy for the fold no. 1 on the test set: 1.0 Accuracy for the fold no. 2 on the test set: 0.7692307692307693 Accuracy for the fold no. 3 on the test set: 1.0 Accuracy for the fold no. 4 on the test set: 1.0 Accuracy for the fold no. 5 on the test set: 1.0 Accuracy for the fold no. 6 on the test set: 1.0 Accuracy for the fold no. 7 on the test set: 1.0 Accuracy for the fold no. 8 on the test set: 1.0 Accuracy for the fold no. 9 on the test set: 1.0 Accuracy for the fold no. 10 on the test set: 1.0\")"
      ],
      "metadata": {
        "id": "JsIn05SrS-U7",
        "outputId": "c80d64e4-9065-49e5-bb19-dc23ebfab3df",
        "colab": {
          "base_uri": "https://localhost:8080/"
        }
      },
      "execution_count": 3,
      "outputs": [
        {
          "output_type": "stream",
          "name": "stdout",
          "text": [
            "[0.976923076923077, 0.06923076923076922]\n"
          ]
        }
      ]
    },
    {
      "cell_type": "markdown",
      "metadata": {
        "id": "zcyatWgE10HQ"
      },
      "source": [
        "## **KNN**"
      ]
    },
    {
      "cell_type": "code",
      "metadata": {
        "id": "ZF9YDE5C19Xe"
      },
      "source": [
        "from sklearn.neighbors import KNeighborsClassifier"
      ],
      "execution_count": null,
      "outputs": []
    },
    {
      "cell_type": "code",
      "source": [
        "#cd /content/gdrive/MyDrive/models/GTZAN/KNN"
      ],
      "metadata": {
        "id": "Fc-h6lr1rvT9"
      },
      "execution_count": null,
      "outputs": []
    },
    {
      "cell_type": "code",
      "metadata": {
        "id": "8oFVfQ_02PRZ"
      },
      "source": [
        "neigh = KNeighborsClassifier(n_neighbors = 4)"
      ],
      "execution_count": null,
      "outputs": []
    },
    {
      "cell_type": "code",
      "metadata": {
        "id": "_7ZXk_Md-VyP",
        "colab": {
          "base_uri": "https://localhost:8080/"
        },
        "outputId": "deeb057a-b459-48e4-f99d-ab5df8027768"
      },
      "source": [
        "kf = KFold(n_splits=n_splits, shuffle=True, random_state=42)\n",
        "mod_knn = KNeighborsClassifier(n_neighbors=4)\n",
        "i=1\n",
        "for x_train_idx, x_test_idx in kf.split(X_sc):\n",
        "  X_train = X_sc.iloc[x_train_idx]\n",
        "  X_test = X_sc.iloc[x_test_idx]\n",
        "  y_train = y.iloc[x_train_idx]\n",
        "  y_test = y.iloc[x_test_idx]\n",
        "  mod_knn.fit(X_train, np.array(y_train).flatten())\n",
        "  print(f\"Accuracy for the fold no. {i} on the test set: {accuracy_score(y_test, mod_knn.predict(X_test))}\")\n",
        "  #joblib.dump(mod_knn, \"knn_mfcc\"+str(i)+\".sav\")\n",
        "  i=i+1"
      ],
      "execution_count": null,
      "outputs": [
        {
          "output_type": "stream",
          "name": "stdout",
          "text": [
            "Accuracy for the fold no. 1 on the test set: 1.0\n",
            "Accuracy for the fold no. 2 on the test set: 0.7692307692307693\n",
            "Accuracy for the fold no. 3 on the test set: 1.0\n",
            "Accuracy for the fold no. 4 on the test set: 0.9230769230769231\n",
            "Accuracy for the fold no. 5 on the test set: 1.0\n",
            "Accuracy for the fold no. 6 on the test set: 1.0\n",
            "Accuracy for the fold no. 7 on the test set: 1.0\n",
            "Accuracy for the fold no. 8 on the test set: 1.0\n",
            "Accuracy for the fold no. 9 on the test set: 1.0\n",
            "Accuracy for the fold no. 10 on the test set: 1.0\n"
          ]
        }
      ]
    },
    {
      "cell_type": "code",
      "source": [
        "ac_ls(\"Accuracy for the fold no. 1 on the test set: 1.0 Accuracy for the fold no. 2 on the test set: 0.7692307692307693 Accuracy for the fold no. 3 on the test set: 1.0 Accuracy for the fold no. 4 on the test set: 0.9230769230769231 Accuracy for the fold no. 5 on the test set: 1.0 Accuracy for the fold no. 6 on the test set: 1.0 Accuracy for the fold no. 7 on the test set: 1.0 Accuracy for the fold no. 8 on the test set: 1.0 Accuracy for the fold no. 9 on the test set: 1.0 Accuracy for the fold no. 10 on the test set: 1.0\")"
      ],
      "metadata": {
        "id": "yOwSVkHzTDut",
        "outputId": "9384a045-3610-4784-e31f-d30abb0f6daa",
        "colab": {
          "base_uri": "https://localhost:8080/"
        }
      },
      "execution_count": 4,
      "outputs": [
        {
          "output_type": "stream",
          "name": "stdout",
          "text": [
            "[0.9692307692307693, 0.07050116453778213]\n"
          ]
        }
      ]
    },
    {
      "cell_type": "markdown",
      "metadata": {
        "id": "RE-XltsexggE"
      },
      "source": [
        "### **SVM**"
      ]
    },
    {
      "cell_type": "code",
      "metadata": {
        "id": "83Z3JpcUxkZk"
      },
      "source": [
        "from sklearn.svm import SVC"
      ],
      "execution_count": null,
      "outputs": []
    },
    {
      "cell_type": "code",
      "metadata": {
        "id": "R5HoILa0qS2q"
      },
      "source": [
        "kf = KFold(n_splits=n_splits, shuffle=True, random_state=42)"
      ],
      "execution_count": null,
      "outputs": []
    },
    {
      "cell_type": "code",
      "source": [
        "#cd /content/gdrive/MyDrive/models/GTZAN/SVM"
      ],
      "metadata": {
        "id": "B9_t-QM5z3f2"
      },
      "execution_count": null,
      "outputs": []
    },
    {
      "cell_type": "code",
      "metadata": {
        "id": "jIV4LU8_z0IH",
        "colab": {
          "base_uri": "https://localhost:8080/"
        },
        "outputId": "756925fc-fb89-4beb-f5e7-e01b56c1b285"
      },
      "source": [
        "i=1\n",
        "for x_train_idx, x_test_idx in kf.split(X_sc):\n",
        "  X_train = X_sc.iloc[x_train_idx]\n",
        "  X_test = X_sc.iloc[x_test_idx]\n",
        "  y_train = y.iloc[x_train_idx]\n",
        "  y_test = y.iloc[x_test_idx]\n",
        "  mod_svm = SVC(kernel='linear')\n",
        "  mod_svm.fit(X_train, np.array(y_train).flatten())\n",
        "  print(f\"Accuracy for the fold no. {i} on the test set: {accuracy_score(y_test, mod_svm.predict(X_test))}\")\n",
        "  #joblib.dump(mod_svm, \"svm_mfcc\"+str(i)+\".sav\")\n",
        "  i=i+1"
      ],
      "execution_count": null,
      "outputs": [
        {
          "output_type": "stream",
          "name": "stdout",
          "text": [
            "Accuracy for the fold no. 1 on the test set: 1.0\n",
            "Accuracy for the fold no. 2 on the test set: 0.9230769230769231\n",
            "Accuracy for the fold no. 3 on the test set: 1.0\n",
            "Accuracy for the fold no. 4 on the test set: 1.0\n",
            "Accuracy for the fold no. 5 on the test set: 1.0\n",
            "Accuracy for the fold no. 6 on the test set: 1.0\n",
            "Accuracy for the fold no. 7 on the test set: 1.0\n",
            "Accuracy for the fold no. 8 on the test set: 1.0\n",
            "Accuracy for the fold no. 9 on the test set: 1.0\n",
            "Accuracy for the fold no. 10 on the test set: 1.0\n"
          ]
        }
      ]
    },
    {
      "cell_type": "code",
      "source": [
        "ac_ls(\"Accuracy for the fold no. 1 on the test set: 1.0 Accuracy for the fold no. 2 on the test set: 0.9230769230769231 Accuracy for the fold no. 3 on the test set: 1.0 Accuracy for the fold no. 4 on the test set: 1.0 Accuracy for the fold no. 5 on the test set: 1.0 Accuracy for the fold no. 6 on the test set: 1.0 Accuracy for the fold no. 7 on the test set: 1.0 Accuracy for the fold no. 8 on the test set: 1.0 Accuracy for the fold no. 9 on the test set: 1.0 Accuracy for the fold no. 10 on the test set: 1.0\")"
      ],
      "metadata": {
        "id": "loOm1pt9TJml",
        "outputId": "a6fef38e-4301-478f-99c7-fe323481979e",
        "colab": {
          "base_uri": "https://localhost:8080/"
        }
      },
      "execution_count": 5,
      "outputs": [
        {
          "output_type": "stream",
          "name": "stdout",
          "text": [
            "[0.9923076923076923, 0.02307692307692306]\n"
          ]
        }
      ]
    },
    {
      "cell_type": "markdown",
      "source": [
        "## **Decision Tree**"
      ],
      "metadata": {
        "id": "XHqXtjLoh2Z9"
      }
    },
    {
      "cell_type": "code",
      "source": [
        "from sklearn.tree import DecisionTreeClassifier"
      ],
      "metadata": {
        "id": "PJVO2RmKh4Kw"
      },
      "execution_count": null,
      "outputs": []
    },
    {
      "cell_type": "code",
      "source": [
        "kf = KFold(n_splits=n_splits, shuffle=True, random_state=42)"
      ],
      "metadata": {
        "id": "0mz6FLnVh6hi"
      },
      "execution_count": null,
      "outputs": []
    },
    {
      "cell_type": "code",
      "source": [
        "#cd /content/gdrive/MyDrive/models/GTZAN/DTC"
      ],
      "metadata": {
        "id": "wXBJ5UOxiK86"
      },
      "execution_count": null,
      "outputs": []
    },
    {
      "cell_type": "code",
      "source": [
        "i=1\n",
        "for x_train_idx, x_test_idx in kf.split(X_sc):\n",
        "  X_train = X_sc.iloc[x_train_idx]\n",
        "  X_test = X_sc.iloc[x_test_idx]\n",
        "  y_train = y.iloc[x_train_idx]\n",
        "  y_test = y.iloc[x_test_idx]\n",
        "  dtc = DecisionTreeClassifier(max_depth=14)\n",
        "  dtc.fit(X_train, np.array(y_train).flatten())\n",
        "  print(f\"Accuracy for the fold no. {i} on the test set: {accuracy_score(y_test, dtc.predict(X_test))}\")\n",
        "  joblib.dump(dtc, \"dtc_mfcc\"+str(i)+\".sav\")\n",
        "  i=i+1"
      ],
      "metadata": {
        "id": "eMok5LeliLAM",
        "outputId": "0dbc745f-092d-4728-bcb7-fe631087123d",
        "colab": {
          "base_uri": "https://localhost:8080/"
        }
      },
      "execution_count": null,
      "outputs": [
        {
          "output_type": "stream",
          "name": "stdout",
          "text": [
            "Accuracy for the fold no. 1 on the test set: 0.9230769230769231\n",
            "Accuracy for the fold no. 2 on the test set: 0.7692307692307693\n",
            "Accuracy for the fold no. 3 on the test set: 1.0\n",
            "Accuracy for the fold no. 4 on the test set: 0.9230769230769231\n",
            "Accuracy for the fold no. 5 on the test set: 1.0\n",
            "Accuracy for the fold no. 6 on the test set: 0.9230769230769231\n",
            "Accuracy for the fold no. 7 on the test set: 1.0\n",
            "Accuracy for the fold no. 8 on the test set: 1.0\n",
            "Accuracy for the fold no. 9 on the test set: 1.0\n",
            "Accuracy for the fold no. 10 on the test set: 1.0\n"
          ]
        }
      ]
    },
    {
      "cell_type": "code",
      "source": [
        "ac_ls(\"Accuracy for the fold no. 1 on the test set: 0.9230769230769231 Accuracy for the fold no. 2 on the test set: 0.7692307692307693 Accuracy for the fold no. 3 on the test set: 1.0 Accuracy for the fold no. 4 on the test set: 0.9230769230769231 Accuracy for the fold no. 5 on the test set: 1.0 Accuracy for the fold no. 6 on the test set: 0.9230769230769231 Accuracy for the fold no. 7 on the test set: 1.0 Accuracy for the fold no. 8 on the test set: 1.0 Accuracy for the fold no. 9 on the test set: 1.0 Accuracy for the fold no. 10 on the test set: 1.0\")"
      ],
      "metadata": {
        "id": "PhIFB5W1TRA1",
        "outputId": "5b54368e-f63a-4570-a659-dd4c21d6c125",
        "colab": {
          "base_uri": "https://localhost:8080/"
        }
      },
      "execution_count": 6,
      "outputs": [
        {
          "output_type": "stream",
          "name": "stdout",
          "text": [
            "[0.953846153846154, 0.07050116453778214]\n"
          ]
        }
      ]
    },
    {
      "cell_type": "markdown",
      "metadata": {
        "id": "lWX-cuRbPVtJ"
      },
      "source": [
        "### **Random Forests**"
      ]
    },
    {
      "cell_type": "code",
      "metadata": {
        "id": "a2gAMU-TPZzT"
      },
      "source": [
        "from sklearn.ensemble import RandomForestClassifier"
      ],
      "execution_count": null,
      "outputs": []
    },
    {
      "cell_type": "code",
      "metadata": {
        "id": "3OWt9lfmPf71"
      },
      "source": [
        "kf = KFold(n_splits=n_splits, shuffle=True, random_state=42)"
      ],
      "execution_count": null,
      "outputs": []
    },
    {
      "cell_type": "code",
      "source": [
        "#cd /content/gdrive/MyDrive/models/GTZAN/RFC"
      ],
      "metadata": {
        "id": "HqQJmpgW6taI"
      },
      "execution_count": null,
      "outputs": []
    },
    {
      "cell_type": "code",
      "metadata": {
        "id": "RHBVA8p2TWOg",
        "colab": {
          "base_uri": "https://localhost:8080/"
        },
        "outputId": "4213b343-c7a0-4b38-e374-54a95bd20dd2"
      },
      "source": [
        "i=1\n",
        "for train_idx, test_idx in kf.split(X_sc):\n",
        "  X_train = X_sc.iloc[train_idx]\n",
        "  X_test = X_sc.iloc[test_idx]\n",
        "  y_train = y.iloc[train_idx]\n",
        "  y_test = y.iloc[test_idx]\n",
        "  rfc = RandomForestClassifier(n_estimators=400)\n",
        "  rfc.fit(X_train, np.array(y_train).flatten())\n",
        "  print(f\"Accuracy for the fold no. {i} on the test set: {accuracy_score(y_test, rfc.predict(X_test))}\")\n",
        "  #joblib.dump(rfc, \"rfc_mfcc\"+str(i)+\".sav\")\n",
        "  i = i+1"
      ],
      "execution_count": null,
      "outputs": [
        {
          "output_type": "stream",
          "name": "stdout",
          "text": [
            "Accuracy for the fold no. 1 on the test set: 0.9230769230769231\n",
            "Accuracy for the fold no. 2 on the test set: 0.7692307692307693\n",
            "Accuracy for the fold no. 3 on the test set: 1.0\n",
            "Accuracy for the fold no. 4 on the test set: 0.8461538461538461\n",
            "Accuracy for the fold no. 5 on the test set: 0.9230769230769231\n",
            "Accuracy for the fold no. 6 on the test set: 1.0\n",
            "Accuracy for the fold no. 7 on the test set: 0.8461538461538461\n",
            "Accuracy for the fold no. 8 on the test set: 1.0\n",
            "Accuracy for the fold no. 9 on the test set: 1.0\n",
            "Accuracy for the fold no. 10 on the test set: 1.0\n"
          ]
        }
      ]
    },
    {
      "cell_type": "code",
      "source": [
        "ac_ls(\"Accuracy for the fold no. 1 on the test set: 0.9230769230769231 Accuracy for the fold no. 2 on the test set: 0.7692307692307693 Accuracy for the fold no. 3 on the test set: 1.0 Accuracy for the fold no. 4 on the test set: 0.9230769230769231 Accuracy for the fold no. 5 on the test set: 1.0 Accuracy for the fold no. 6 on the test set: 0.9230769230769231 Accuracy for the fold no. 7 on the test set: 1.0 Accuracy for the fold no. 8 on the test set: 1.0 Accuracy for the fold no. 9 on the test set: 1.0 Accuracy for the fold no. 10 on the test set: 1.0\")"
      ],
      "metadata": {
        "id": "XjX30chzTW0U",
        "outputId": "1d4cd658-d4d1-4a0d-f80f-819545901d5f",
        "colab": {
          "base_uri": "https://localhost:8080/"
        }
      },
      "execution_count": 7,
      "outputs": [
        {
          "output_type": "stream",
          "name": "stdout",
          "text": [
            "[0.953846153846154, 0.07050116453778214]\n"
          ]
        }
      ]
    },
    {
      "cell_type": "markdown",
      "metadata": {
        "id": "PofpLxV7uA8W"
      },
      "source": [
        "### **Gradient Boosting**"
      ]
    },
    {
      "cell_type": "code",
      "metadata": {
        "id": "IcsS8nhSuI0C"
      },
      "source": [
        "import xgboost as xgb"
      ],
      "execution_count": null,
      "outputs": []
    },
    {
      "cell_type": "code",
      "metadata": {
        "id": "8eaG1OzFrVSK"
      },
      "source": [
        "kf = KFold(n_splits=n_splits, shuffle=True, random_state=42)"
      ],
      "execution_count": null,
      "outputs": []
    },
    {
      "cell_type": "code",
      "source": [
        "#cd /content/gdrive/MyDrive/models/GTZAN/Gradient Boosting"
      ],
      "metadata": {
        "id": "4UEbwkDv9Zfp"
      },
      "execution_count": null,
      "outputs": []
    },
    {
      "cell_type": "code",
      "metadata": {
        "id": "oZrGoogZq29E",
        "colab": {
          "base_uri": "https://localhost:8080/"
        },
        "outputId": "86e159f0-659c-4443-b52b-195f7c2bbb9b"
      },
      "source": [
        "i=1\n",
        "for train_idx, test_idx in kf.split(X_sc):\n",
        "  X_train = X_sc.iloc[train_idx]\n",
        "  X_test = X_sc.iloc[test_idx]\n",
        "  y_train = y.iloc[train_idx]\n",
        "  y_test = y.iloc[test_idx]\n",
        "  xgbc = xgb.XGBClassifier(max_depths=5, learning_rate=0.1)\n",
        "  xgbc.fit(X_train, np.array(y_train).flatten())\n",
        "  print(f\"Accuracy for the fold no. {i} on the test set: {accuracy_score(y_test, xgbc.predict(X_test))}\")\n",
        "  #joblib.dump(xgbc, \"xgbc_mfcc\"+str(i)+\".sav\")\n",
        "  i = i+1"
      ],
      "execution_count": null,
      "outputs": [
        {
          "output_type": "stream",
          "name": "stdout",
          "text": [
            "Accuracy for the fold no. 1 on the test set: 0.9230769230769231\n",
            "Accuracy for the fold no. 2 on the test set: 0.7692307692307693\n",
            "Accuracy for the fold no. 3 on the test set: 1.0\n",
            "Accuracy for the fold no. 4 on the test set: 0.9230769230769231\n",
            "Accuracy for the fold no. 5 on the test set: 0.9230769230769231\n",
            "Accuracy for the fold no. 6 on the test set: 1.0\n",
            "Accuracy for the fold no. 7 on the test set: 1.0\n",
            "Accuracy for the fold no. 8 on the test set: 1.0\n",
            "Accuracy for the fold no. 9 on the test set: 1.0\n",
            "Accuracy for the fold no. 10 on the test set: 1.0\n"
          ]
        }
      ]
    },
    {
      "cell_type": "code",
      "source": [
        "ac_ls(\"Accuracy for the fold no. 1 on the test set: 0.9230769230769231 Accuracy for the fold no. 2 on the test set: 0.7692307692307693 Accuracy for the fold no. 3 on the test set: 1.0 Accuracy for the fold no. 4 on the test set: 0.9230769230769231 Accuracy for the fold no. 5 on the test set: 0.9230769230769231 Accuracy for the fold no. 6 on the test set: 1.0 Accuracy for the fold no. 7 on the test set: 1.0 Accuracy for the fold no. 8 on the test set: 1.0 Accuracy for the fold no. 9 on the test set: 1.0 Accuracy for the fold no. 10 on the test set: 1.0\")"
      ],
      "metadata": {
        "id": "AepPs9A4TfnD",
        "outputId": "1ad337dc-66c9-4e70-a5c9-ffcda03a2237",
        "colab": {
          "base_uri": "https://localhost:8080/"
        }
      },
      "execution_count": 8,
      "outputs": [
        {
          "output_type": "stream",
          "name": "stdout",
          "text": [
            "[0.953846153846154, 0.07050116453778214]\n"
          ]
        }
      ]
    },
    {
      "cell_type": "markdown",
      "source": [
        "## **MLPClassifier**"
      ],
      "metadata": {
        "id": "SJaHZaVunqTx"
      }
    },
    {
      "cell_type": "code",
      "source": [
        "from sklearn.neural_network import MLPClassifier"
      ],
      "metadata": {
        "id": "eq9sFwfHnwwl"
      },
      "execution_count": null,
      "outputs": []
    },
    {
      "cell_type": "code",
      "source": [
        "MLPclass = MLPClassifier(hidden_layer_sizes=(512,512), random_state=8, activation='relu', solver=\"adam\", learning_rate_init=0.001, learning_rate='constant', beta_1=0.9)"
      ],
      "metadata": {
        "id": "DFM-8sjaocZk"
      },
      "execution_count": null,
      "outputs": []
    },
    {
      "cell_type": "code",
      "source": [
        "MLPclass.fit(X_train, np.array(y_train).flatten())\n",
        "y_pred = MLPclass.predict(X_test)"
      ],
      "metadata": {
        "id": "BkJ22BN-qjLQ"
      },
      "execution_count": null,
      "outputs": []
    },
    {
      "cell_type": "code",
      "source": [
        "accuracy_score(y_test, y_pred)  "
      ],
      "metadata": {
        "id": "NrzZLOeGq1kG",
        "outputId": "664f05ba-d6e0-4933-84cf-0e72113abcf1",
        "colab": {
          "base_uri": "https://localhost:8080/"
        }
      },
      "execution_count": null,
      "outputs": [
        {
          "output_type": "execute_result",
          "data": {
            "text/plain": [
              "1.0"
            ]
          },
          "metadata": {},
          "execution_count": 42
        }
      ]
    }
  ]
}