{
  "nbformat": 4,
  "nbformat_minor": 0,
  "metadata": {
    "colab": {
      "name": "Untitled3.ipynb",
      "provenance": [],
      "authorship_tag": "ABX9TyNHH95+8rn4M0uZOMgHpG6K",
      "include_colab_link": true
    },
    "kernelspec": {
      "name": "python3",
      "display_name": "Python 3"
    },
    "language_info": {
      "name": "python"
    }
  },
  "cells": [
    {
      "cell_type": "markdown",
      "metadata": {
        "id": "view-in-github",
        "colab_type": "text"
      },
      "source": [
        "<a href=\"https://colab.research.google.com/github/pszachew/Music-Genre-Classification/blob/master/GTZAN_MUSIC_SPEECH/training_10folds.ipynb\" target=\"_parent\"><img src=\"https://colab.research.google.com/assets/colab-badge.svg\" alt=\"Open In Colab\"/></a>"
      ]
    },
    {
      "cell_type": "code",
      "metadata": {
        "id": "ndTmVrpOFCOp"
      },
      "source": [
        "import pandas as pd\n",
        "import numpy as np\n",
        "from sklearn.preprocessing import StandardScaler\n",
        "from sklearn.model_selection import train_test_split, KFold, cross_val_score, StratifiedKFold\n",
        "from sklearn.pipeline import Pipeline\n",
        "from sklearn.metrics import classification_report, confusion_matrix, accuracy_score, ConfusionMatrixDisplay\n",
        "import joblib\n",
        "import seaborn as sns\n",
        "import matplotlib.pyplot as plt\n",
        "from statistics import mean\n",
        "import json"
      ],
      "execution_count": 1,
      "outputs": []
    },
    {
      "cell_type": "code",
      "metadata": {
        "colab": {
          "base_uri": "https://localhost:8080/"
        },
        "id": "Rf6lRECfHMP2",
        "outputId": "78f01d28-c092-41e9-877c-1d4eb06b9f22"
      },
      "source": [
        "from google.colab import drive\n",
        "drive.mount('/content/gdrive')"
      ],
      "execution_count": 2,
      "outputs": [
        {
          "output_type": "stream",
          "name": "stdout",
          "text": [
            "Mounted at /content/gdrive\n"
          ]
        }
      ]
    },
    {
      "cell_type": "code",
      "metadata": {
        "id": "AtekSLDgHpH6"
      },
      "source": [
        "X = pd.read_csv('/content/gdrive/MyDrive/csv_data/GTZAN_speech_music/speech_music.csv',header=None)"
      ],
      "execution_count": 4,
      "outputs": []
    },
    {
      "cell_type": "code",
      "metadata": {
        "id": "YxuMxGZ5H9G7"
      },
      "source": [
        "y = pd.read_csv('/content/gdrive/MyDrive/csv_data/GTZAN_speech_music/labels.csv', header=None)"
      ],
      "execution_count": 5,
      "outputs": []
    },
    {
      "cell_type": "code",
      "metadata": {
        "id": "djMzvQuSPYB0"
      },
      "source": [
        "scaler = StandardScaler()\n",
        "scaler.fit(X)\n",
        "X_sc =pd.DataFrame(scaler.transform(X))"
      ],
      "execution_count": 6,
      "outputs": []
    },
    {
      "cell_type": "code",
      "source": [
        "n_splits = 10"
      ],
      "metadata": {
        "id": "DhqPJoPiW-HU"
      },
      "execution_count": 7,
      "outputs": []
    },
    {
      "cell_type": "markdown",
      "metadata": {
        "id": "kiB0OJ-vOOa1"
      },
      "source": [
        "## **Logistic Regression**"
      ]
    },
    {
      "cell_type": "code",
      "metadata": {
        "id": "pC7UEEMvO4un"
      },
      "source": [
        "from sklearn.linear_model import LogisticRegression"
      ],
      "execution_count": 9,
      "outputs": []
    },
    {
      "cell_type": "code",
      "source": [
        "#cd /content/gdrive/MyDrive/models/GTZAN/LogisticRegression"
      ],
      "metadata": {
        "id": "b_8fsoUUIal2"
      },
      "execution_count": 10,
      "outputs": []
    },
    {
      "cell_type": "code",
      "metadata": {
        "id": "72v0BoyeSm4t"
      },
      "source": [
        "kf = KFold(n_splits=n_splits, shuffle=True, random_state=42)\n",
        "mod_lg = LogisticRegression(max_iter=10000)"
      ],
      "execution_count": 11,
      "outputs": []
    },
    {
      "cell_type": "code",
      "metadata": {
        "id": "gDhZlRtDnlAj",
        "colab": {
          "base_uri": "https://localhost:8080/"
        },
        "outputId": "8677c6fe-5a23-4552-c7b1-708136d3b7c8"
      },
      "source": [
        "i=1\n",
        "for x_train_idx, x_test_idx in kf.split(X_sc):\n",
        "  X_train = X_sc.iloc[x_train_idx]\n",
        "  X_test = X_sc.iloc[x_test_idx]\n",
        "  y_train = y.iloc[x_train_idx]\n",
        "  y_test = y.iloc[x_test_idx]\n",
        "  mod_lg.fit(X_train, np.array(y_train).flatten())\n",
        "  print(f\"Accuracy for the fold no. {i} on the test set: {accuracy_score(y_test, mod_lg.predict(X_test))}\")\n",
        "  #joblib.dump(mod_lg, \"log_reg\"+str(i)+\".sav\")\n",
        "  i=i+1"
      ],
      "execution_count": 12,
      "outputs": [
        {
          "output_type": "stream",
          "name": "stdout",
          "text": [
            "Accuracy for the fold no. 1 on the test set: 1.0\n",
            "Accuracy for the fold no. 2 on the test set: 1.0\n",
            "Accuracy for the fold no. 3 on the test set: 1.0\n",
            "Accuracy for the fold no. 4 on the test set: 1.0\n",
            "Accuracy for the fold no. 5 on the test set: 1.0\n",
            "Accuracy for the fold no. 6 on the test set: 1.0\n",
            "Accuracy for the fold no. 7 on the test set: 1.0\n",
            "Accuracy for the fold no. 8 on the test set: 1.0\n",
            "Accuracy for the fold no. 9 on the test set: 1.0\n",
            "Accuracy for the fold no. 10 on the test set: 1.0\n"
          ]
        }
      ]
    },
    {
      "cell_type": "markdown",
      "metadata": {
        "id": "zcyatWgE10HQ"
      },
      "source": [
        "## **KNN**"
      ]
    },
    {
      "cell_type": "code",
      "metadata": {
        "id": "ZF9YDE5C19Xe"
      },
      "source": [
        "from sklearn.neighbors import KNeighborsClassifier"
      ],
      "execution_count": 13,
      "outputs": []
    },
    {
      "cell_type": "code",
      "source": [
        "#cd /content/gdrive/MyDrive/models/GTZAN/KNN"
      ],
      "metadata": {
        "id": "Fc-h6lr1rvT9"
      },
      "execution_count": 14,
      "outputs": []
    },
    {
      "cell_type": "code",
      "metadata": {
        "id": "8oFVfQ_02PRZ"
      },
      "source": [
        "neigh = KNeighborsClassifier(n_neighbors = 4)"
      ],
      "execution_count": 15,
      "outputs": []
    },
    {
      "cell_type": "code",
      "metadata": {
        "id": "_7ZXk_Md-VyP",
        "colab": {
          "base_uri": "https://localhost:8080/"
        },
        "outputId": "268ac539-0754-481b-c1c1-78ca42f19f95"
      },
      "source": [
        "kf = KFold(n_splits=n_splits, shuffle=True, random_state=42)\n",
        "mod_knn = KNeighborsClassifier(n_neighbors=4)\n",
        "i=1\n",
        "for x_train_idx, x_test_idx in kf.split(X_sc):\n",
        "  X_train = X_sc.iloc[x_train_idx]\n",
        "  X_test = X_sc.iloc[x_test_idx]\n",
        "  y_train = y.iloc[x_train_idx]\n",
        "  y_test = y.iloc[x_test_idx]\n",
        "  mod_knn.fit(X_train, np.array(y_train).flatten())\n",
        "  print(f\"Accuracy for the fold no. {i} on the test set: {accuracy_score(y_test, mod_knn.predict(X_test))}\")\n",
        "  #joblib.dump(mod_knn, \"knn_mfcc\"+str(i)+\".sav\")\n",
        "  i=i+1"
      ],
      "execution_count": 16,
      "outputs": [
        {
          "output_type": "stream",
          "name": "stdout",
          "text": [
            "Accuracy for the fold no. 1 on the test set: 1.0\n",
            "Accuracy for the fold no. 2 on the test set: 1.0\n",
            "Accuracy for the fold no. 3 on the test set: 1.0\n",
            "Accuracy for the fold no. 4 on the test set: 1.0\n",
            "Accuracy for the fold no. 5 on the test set: 1.0\n",
            "Accuracy for the fold no. 6 on the test set: 1.0\n",
            "Accuracy for the fold no. 7 on the test set: 1.0\n",
            "Accuracy for the fold no. 8 on the test set: 1.0\n",
            "Accuracy for the fold no. 9 on the test set: 1.0\n",
            "Accuracy for the fold no. 10 on the test set: 1.0\n"
          ]
        }
      ]
    },
    {
      "cell_type": "markdown",
      "metadata": {
        "id": "RE-XltsexggE"
      },
      "source": [
        "### **SVM**"
      ]
    },
    {
      "cell_type": "code",
      "metadata": {
        "id": "83Z3JpcUxkZk"
      },
      "source": [
        "from sklearn.svm import SVC"
      ],
      "execution_count": 17,
      "outputs": []
    },
    {
      "cell_type": "code",
      "metadata": {
        "id": "R5HoILa0qS2q"
      },
      "source": [
        "kf = KFold(n_splits=n_splits, shuffle=True, random_state=42)"
      ],
      "execution_count": 18,
      "outputs": []
    },
    {
      "cell_type": "code",
      "source": [
        "#cd /content/gdrive/MyDrive/models/GTZAN/SVM"
      ],
      "metadata": {
        "id": "B9_t-QM5z3f2"
      },
      "execution_count": 19,
      "outputs": []
    },
    {
      "cell_type": "code",
      "metadata": {
        "id": "jIV4LU8_z0IH",
        "colab": {
          "base_uri": "https://localhost:8080/"
        },
        "outputId": "e60a1915-6f5f-4b88-93a6-46c0c334e830"
      },
      "source": [
        "i=1\n",
        "for x_train_idx, x_test_idx in kf.split(X_sc):\n",
        "  X_train = X_sc.iloc[x_train_idx]\n",
        "  X_test = X_sc.iloc[x_test_idx]\n",
        "  y_train = y.iloc[x_train_idx]\n",
        "  y_test = y.iloc[x_test_idx]\n",
        "  mod_svm = SVC(kernel='linear')\n",
        "  mod_svm.fit(X_train, np.array(y_train).flatten())\n",
        "  print(f\"Accuracy for the fold no. {i} on the test set: {accuracy_score(y_test, mod_svm.predict(X_test))}\")\n",
        "  #joblib.dump(mod_svm, \"svm_mfcc\"+str(i)+\".sav\")\n",
        "  i=i+1"
      ],
      "execution_count": 20,
      "outputs": [
        {
          "output_type": "stream",
          "name": "stdout",
          "text": [
            "Accuracy for the fold no. 1 on the test set: 1.0\n",
            "Accuracy for the fold no. 2 on the test set: 1.0\n",
            "Accuracy for the fold no. 3 on the test set: 1.0\n",
            "Accuracy for the fold no. 4 on the test set: 1.0\n",
            "Accuracy for the fold no. 5 on the test set: 1.0\n",
            "Accuracy for the fold no. 6 on the test set: 1.0\n",
            "Accuracy for the fold no. 7 on the test set: 1.0\n",
            "Accuracy for the fold no. 8 on the test set: 1.0\n",
            "Accuracy for the fold no. 9 on the test set: 1.0\n",
            "Accuracy for the fold no. 10 on the test set: 1.0\n"
          ]
        }
      ]
    },
    {
      "cell_type": "markdown",
      "source": [
        "## **Decision Tree**"
      ],
      "metadata": {
        "id": "XHqXtjLoh2Z9"
      }
    },
    {
      "cell_type": "code",
      "source": [
        "from sklearn.tree import DecisionTreeClassifier"
      ],
      "metadata": {
        "id": "PJVO2RmKh4Kw"
      },
      "execution_count": 21,
      "outputs": []
    },
    {
      "cell_type": "code",
      "source": [
        "kf = KFold(n_splits=n_splits, shuffle=True, random_state=42)"
      ],
      "metadata": {
        "id": "0mz6FLnVh6hi"
      },
      "execution_count": 22,
      "outputs": []
    },
    {
      "cell_type": "code",
      "source": [
        "#cd /content/gdrive/MyDrive/models/GTZAN/DTC"
      ],
      "metadata": {
        "id": "wXBJ5UOxiK86"
      },
      "execution_count": 23,
      "outputs": []
    },
    {
      "cell_type": "code",
      "source": [
        "i=1\n",
        "for x_train_idx, x_test_idx in kf.split(X_sc):\n",
        "  X_train = X_sc.iloc[x_train_idx]\n",
        "  X_test = X_sc.iloc[x_test_idx]\n",
        "  y_train = y.iloc[x_train_idx]\n",
        "  y_test = y.iloc[x_test_idx]\n",
        "  dtc = DecisionTreeClassifier(max_depth=14)\n",
        "  dtc.fit(X_train, np.array(y_train).flatten())\n",
        "  print(f\"Accuracy for the fold no. {i} on the test set: {accuracy_score(y_test, dtc.predict(X_test))}\")\n",
        "  joblib.dump(dtc, \"dtc_mfcc\"+str(i)+\".sav\")\n",
        "  i=i+1"
      ],
      "metadata": {
        "id": "eMok5LeliLAM",
        "outputId": "5673bc37-741f-40e2-bcd7-cc0fb58063dd",
        "colab": {
          "base_uri": "https://localhost:8080/"
        }
      },
      "execution_count": 24,
      "outputs": [
        {
          "output_type": "stream",
          "name": "stdout",
          "text": [
            "Accuracy for the fold no. 1 on the test set: 0.8461538461538461\n",
            "Accuracy for the fold no. 2 on the test set: 0.8461538461538461\n",
            "Accuracy for the fold no. 3 on the test set: 1.0\n",
            "Accuracy for the fold no. 4 on the test set: 0.9230769230769231\n",
            "Accuracy for the fold no. 5 on the test set: 0.9230769230769231\n",
            "Accuracy for the fold no. 6 on the test set: 0.8461538461538461\n",
            "Accuracy for the fold no. 7 on the test set: 0.9230769230769231\n",
            "Accuracy for the fold no. 8 on the test set: 0.8461538461538461\n",
            "Accuracy for the fold no. 9 on the test set: 0.9166666666666666\n",
            "Accuracy for the fold no. 10 on the test set: 1.0\n"
          ]
        }
      ]
    },
    {
      "cell_type": "markdown",
      "metadata": {
        "id": "lWX-cuRbPVtJ"
      },
      "source": [
        "### **Random Forests**"
      ]
    },
    {
      "cell_type": "code",
      "metadata": {
        "id": "a2gAMU-TPZzT"
      },
      "source": [
        "from sklearn.ensemble import RandomForestClassifier"
      ],
      "execution_count": 25,
      "outputs": []
    },
    {
      "cell_type": "code",
      "metadata": {
        "id": "3OWt9lfmPf71"
      },
      "source": [
        "kf = KFold(n_splits=n_splits, shuffle=True, random_state=42)"
      ],
      "execution_count": 26,
      "outputs": []
    },
    {
      "cell_type": "code",
      "source": [
        "#cd /content/gdrive/MyDrive/models/GTZAN/RFC"
      ],
      "metadata": {
        "id": "HqQJmpgW6taI"
      },
      "execution_count": 27,
      "outputs": []
    },
    {
      "cell_type": "code",
      "metadata": {
        "id": "RHBVA8p2TWOg",
        "colab": {
          "base_uri": "https://localhost:8080/"
        },
        "outputId": "af56e68a-e28b-4126-cf73-647b56acf99c"
      },
      "source": [
        "i=1\n",
        "for train_idx, test_idx in kf.split(X_sc):\n",
        "  X_train = X_sc.iloc[train_idx]\n",
        "  X_test = X_sc.iloc[test_idx]\n",
        "  y_train = y.iloc[train_idx]\n",
        "  y_test = y.iloc[test_idx]\n",
        "  rfc = RandomForestClassifier(n_estimators=400)\n",
        "  rfc.fit(X_train, np.array(y_train).flatten())\n",
        "  print(f\"Accuracy for the fold no. {i} on the test set: {accuracy_score(y_test, rfc.predict(X_test))}\")\n",
        "  #joblib.dump(rfc, \"rfc_mfcc\"+str(i)+\".sav\")\n",
        "  i = i+1\n"
      ],
      "execution_count": 28,
      "outputs": [
        {
          "output_type": "stream",
          "name": "stdout",
          "text": [
            "Accuracy for the fold no. 1 on the test set: 1.0\n",
            "Accuracy for the fold no. 2 on the test set: 1.0\n",
            "Accuracy for the fold no. 3 on the test set: 1.0\n",
            "Accuracy for the fold no. 4 on the test set: 1.0\n",
            "Accuracy for the fold no. 5 on the test set: 0.9230769230769231\n",
            "Accuracy for the fold no. 6 on the test set: 1.0\n",
            "Accuracy for the fold no. 7 on the test set: 1.0\n",
            "Accuracy for the fold no. 8 on the test set: 1.0\n",
            "Accuracy for the fold no. 9 on the test set: 1.0\n",
            "Accuracy for the fold no. 10 on the test set: 1.0\n"
          ]
        }
      ]
    },
    {
      "cell_type": "markdown",
      "metadata": {
        "id": "PofpLxV7uA8W"
      },
      "source": [
        "### **Gradient Boosting**"
      ]
    },
    {
      "cell_type": "code",
      "metadata": {
        "id": "IcsS8nhSuI0C"
      },
      "source": [
        "import xgboost as xgb"
      ],
      "execution_count": 29,
      "outputs": []
    },
    {
      "cell_type": "code",
      "metadata": {
        "id": "8eaG1OzFrVSK"
      },
      "source": [
        "kf = KFold(n_splits=n_splits, shuffle=True, random_state=42)"
      ],
      "execution_count": 30,
      "outputs": []
    },
    {
      "cell_type": "code",
      "source": [
        "#cd /content/gdrive/MyDrive/models/GTZAN/Gradient Boosting"
      ],
      "metadata": {
        "id": "4UEbwkDv9Zfp"
      },
      "execution_count": 31,
      "outputs": []
    },
    {
      "cell_type": "code",
      "metadata": {
        "id": "oZrGoogZq29E",
        "colab": {
          "base_uri": "https://localhost:8080/"
        },
        "outputId": "3a78da61-46e5-418b-ea8f-83dede2faebc"
      },
      "source": [
        "i=1\n",
        "for train_idx, test_idx in kf.split(X_sc):\n",
        "  X_train = X_sc.iloc[train_idx]\n",
        "  X_test = X_sc.iloc[test_idx]\n",
        "  y_train = y.iloc[train_idx]\n",
        "  y_test = y.iloc[test_idx]\n",
        "  xgbc = xgb.XGBClassifier(max_depths=5, learning_rate=0.1)\n",
        "  xgbc.fit(X_train, np.array(y_train).flatten())\n",
        "  print(f\"Accuracy for the fold no. {i} on the test set: {accuracy_score(y_test, xgbc.predict(X_test))}\")\n",
        "  #joblib.dump(xgbc, \"xgbc_mfcc\"+str(i)+\".sav\")\n",
        "  i = i+1"
      ],
      "execution_count": 32,
      "outputs": [
        {
          "output_type": "stream",
          "name": "stdout",
          "text": [
            "Accuracy for the fold no. 1 on the test set: 1.0\n",
            "Accuracy for the fold no. 2 on the test set: 0.9230769230769231\n",
            "Accuracy for the fold no. 3 on the test set: 1.0\n",
            "Accuracy for the fold no. 4 on the test set: 1.0\n",
            "Accuracy for the fold no. 5 on the test set: 1.0\n",
            "Accuracy for the fold no. 6 on the test set: 1.0\n",
            "Accuracy for the fold no. 7 on the test set: 1.0\n",
            "Accuracy for the fold no. 8 on the test set: 0.9230769230769231\n",
            "Accuracy for the fold no. 9 on the test set: 1.0\n",
            "Accuracy for the fold no. 10 on the test set: 1.0\n"
          ]
        }
      ]
    },
    {
      "cell_type": "markdown",
      "source": [
        "## **MLPClassifier**"
      ],
      "metadata": {
        "id": "SJaHZaVunqTx"
      }
    },
    {
      "cell_type": "code",
      "source": [
        "from sklearn.neural_network import MLPClassifier"
      ],
      "metadata": {
        "id": "eq9sFwfHnwwl"
      },
      "execution_count": 33,
      "outputs": []
    },
    {
      "cell_type": "code",
      "source": [
        "MLPclass = MLPClassifier(hidden_layer_sizes=(512,512), random_state=8, activation='relu', solver=\"adam\", learning_rate_init=0.001, learning_rate='constant', beta_1=0.9)"
      ],
      "metadata": {
        "id": "DFM-8sjaocZk"
      },
      "execution_count": 34,
      "outputs": []
    },
    {
      "cell_type": "code",
      "source": [
        "MLPclass.fit(X_train, np.array(y_train).flatten())\n",
        "y_pred = MLPclass.predict(X_test)"
      ],
      "metadata": {
        "id": "BkJ22BN-qjLQ"
      },
      "execution_count": 35,
      "outputs": []
    },
    {
      "cell_type": "code",
      "source": [
        "accuracy_score(y_test, y_pred)  "
      ],
      "metadata": {
        "id": "NrzZLOeGq1kG",
        "outputId": "be0e5ac9-c19a-4313-c2f6-4105d4a77bf0",
        "colab": {
          "base_uri": "https://localhost:8080/"
        }
      },
      "execution_count": 36,
      "outputs": [
        {
          "output_type": "execute_result",
          "data": {
            "text/plain": [
              "1.0"
            ]
          },
          "metadata": {},
          "execution_count": 36
        }
      ]
    }
  ]
}