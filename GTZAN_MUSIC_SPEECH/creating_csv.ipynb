{
  "nbformat": 4,
  "nbformat_minor": 0,
  "metadata": {
    "colab": {
      "name": "Untitled15.ipynb",
      "provenance": [],
      "authorship_tag": "ABX9TyN04oxOGL0MXhW41sfjghmt",
      "include_colab_link": true
    },
    "kernelspec": {
      "name": "python3",
      "display_name": "Python 3"
    },
    "language_info": {
      "name": "python"
    }
  },
  "cells": [
    {
      "cell_type": "markdown",
      "metadata": {
        "id": "view-in-github",
        "colab_type": "text"
      },
      "source": [
        "<a href=\"https://colab.research.google.com/github/pszachew/Music-Genre-Classification/blob/master/GTZAN_MUSIC_SPEECH/creating_csv.ipynb\" target=\"_parent\"><img src=\"https://colab.research.google.com/assets/colab-badge.svg\" alt=\"Open In Colab\"/></a>"
      ]
    },
    {
      "cell_type": "code",
      "execution_count": 2,
      "metadata": {
        "colab": {
          "base_uri": "https://localhost:8080/"
        },
        "id": "J8j0OtpLNDMg",
        "outputId": "00f4e01b-723b-4469-e505-a6f577cbad5f"
      },
      "outputs": [
        {
          "output_type": "stream",
          "name": "stdout",
          "text": [
            "Mounted at /content/gdrive\n"
          ]
        }
      ],
      "source": [
        "from google.colab import drive\n",
        "import sys\n",
        "drive.mount('/content/gdrive')\n",
        "sys.path.append('/content/gdrive/My Drive/Colab Notebooks')"
      ]
    },
    {
      "cell_type": "code",
      "source": [
        "import pandas as pd\n",
        "import numpy as np\n",
        "import os"
      ],
      "metadata": {
        "id": "aLnVmsKoNQZz"
      },
      "execution_count": 4,
      "outputs": []
    },
    {
      "cell_type": "code",
      "source": [
        "X = []\n",
        "labels = []\n",
        "path_in = '/content/gdrive/My Drive/Embedded Music/GTZAN_speech_music'\n",
        "for dir in os.listdir(path_in):\n",
        "  for file in os.listdir(path_in + '/' + dir):\n",
        "      X.append((np.load(path_in+'/'+dir+'/'+file))['embedding'].flatten()[0:15872])\n",
        "      labels.append(dir)"
      ],
      "metadata": {
        "id": "VCbJ-m1ON0Ww"
      },
      "execution_count": 17,
      "outputs": []
    },
    {
      "cell_type": "code",
      "source": [
        "X_df = pd.DataFrame(X)"
      ],
      "metadata": {
        "id": "2dz72HYyPSb1"
      },
      "execution_count": 18,
      "outputs": []
    },
    {
      "cell_type": "code",
      "source": [
        "y_df = pd.DataFrame(labels)"
      ],
      "metadata": {
        "id": "8z8RJ-EsPuZq"
      },
      "execution_count": 20,
      "outputs": []
    },
    {
      "cell_type": "code",
      "source": [
        "y_df.to_csv(\"/content/gdrive/MyDrive/csv_data/GTZAN_speech_music/labels.csv\", index=None, header=None)"
      ],
      "metadata": {
        "id": "8aVaHjx1Py8Q"
      },
      "execution_count": 22,
      "outputs": []
    },
    {
      "cell_type": "code",
      "source": [
        "X_df.to_csv(\"/content/gdrive/MyDrive/csv_data/GTZAN_speech_music/speech_music.csv\", index=None, header=None)"
      ],
      "metadata": {
        "id": "9KGBs-bzPzwD"
      },
      "execution_count": 24,
      "outputs": []
    }
  ]
}