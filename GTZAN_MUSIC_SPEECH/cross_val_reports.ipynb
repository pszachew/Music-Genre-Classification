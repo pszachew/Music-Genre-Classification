{
  "nbformat": 4,
  "nbformat_minor": 0,
  "metadata": {
    "colab": {
      "name": "Untitled17.ipynb",
      "provenance": [],
      "authorship_tag": "ABX9TyMtmq5WnZM/wNqK8aYPVaxi",
      "include_colab_link": true
    },
    "kernelspec": {
      "name": "python3",
      "display_name": "Python 3"
    },
    "language_info": {
      "name": "python"
    }
  },
  "cells": [
    {
      "cell_type": "markdown",
      "metadata": {
        "id": "view-in-github",
        "colab_type": "text"
      },
      "source": [
        "<a href=\"https://colab.research.google.com/github/pszachew/Music-Genre-Classification/blob/master/GTZAN_MUSIC_SPEECH/cross_val_reports.ipynb\" target=\"_parent\"><img src=\"https://colab.research.google.com/assets/colab-badge.svg\" alt=\"Open In Colab\"/></a>"
      ]
    },
    {
      "cell_type": "code",
      "execution_count": 1,
      "metadata": {
        "id": "siBSJuBiiikI"
      },
      "outputs": [],
      "source": [
        "import pandas as pd\n",
        "import numpy as np\n",
        "from sklearn.preprocessing import StandardScaler\n",
        "from sklearn.model_selection import train_test_split, KFold, cross_val_score\n",
        "from sklearn.metrics import classification_report, confusion_matrix, accuracy_score"
      ]
    },
    {
      "cell_type": "code",
      "source": [
        "from google.colab import drive\n",
        "drive.mount('/content/gdrive')"
      ],
      "metadata": {
        "colab": {
          "base_uri": "https://localhost:8080/"
        },
        "id": "AWrQQHYVkIxs",
        "outputId": "62deee96-04f6-4b69-b538-442ab142bdf9"
      },
      "execution_count": 2,
      "outputs": [
        {
          "output_type": "stream",
          "name": "stdout",
          "text": [
            "Mounted at /content/gdrive\n"
          ]
        }
      ]
    },
    {
      "cell_type": "code",
      "source": [
        "X = pd.read_csv('/content/gdrive/MyDrive/csv_data/GTZAN_speech_music/speech_music.csv',header=None)"
      ],
      "metadata": {
        "id": "_nReSTY5kj91"
      },
      "execution_count": 13,
      "outputs": []
    },
    {
      "cell_type": "code",
      "source": [
        "y = pd.read_csv('/content/gdrive/MyDrive/csv_data/GTZAN_speech_music/labels.csv', header=None)"
      ],
      "metadata": {
        "id": "E5wwxoYnkwp0"
      },
      "execution_count": 15,
      "outputs": []
    },
    {
      "cell_type": "code",
      "source": [
        "kf = KFold(n_splits=5, shuffle=True, random_state=42)"
      ],
      "metadata": {
        "id": "HORq2uUYk6ER"
      },
      "execution_count": 22,
      "outputs": []
    },
    {
      "cell_type": "markdown",
      "source": [
        "## **Logistic Regression**"
      ],
      "metadata": {
        "id": "9CszXU1koZtI"
      }
    },
    {
      "cell_type": "code",
      "source": [
        "from sklearn.linear_model import LogisticRegression"
      ],
      "metadata": {
        "id": "KglhExEApKQp"
      },
      "execution_count": 23,
      "outputs": []
    },
    {
      "cell_type": "code",
      "source": [
        "mod_lg = LogisticRegression()\n",
        "i=1\n",
        "for x_train_idx, x_test_idx in kf.split(X):\n",
        "  X_train = X.iloc[x_train_idx]\n",
        "  X_test = X.iloc[x_test_idx]\n",
        "  y_train = y.iloc[x_train_idx]\n",
        "  y_test = y.iloc[x_test_idx]\n",
        "  mod_lg.fit(X_train, np.array(y_train).flatten())\n",
        "  print(f\"Accuracy for the fold no. {i} on the test set: {accuracy_score(y_test, mod_lg.predict(X_test))}\")\n",
        "  print(classification_report(y_test, mod_lg.predict(X_test)))\n",
        "  i=i+1"
      ],
      "metadata": {
        "colab": {
          "base_uri": "https://localhost:8080/"
        },
        "id": "msqKUA1WomlI",
        "outputId": "e3a4420e-82ac-463a-b90d-e34f60952b80"
      },
      "execution_count": 24,
      "outputs": [
        {
          "output_type": "stream",
          "name": "stdout",
          "text": [
            "Accuracy for the fold no. 1 on the test set: 1.0\n",
            "              precision    recall  f1-score   support\n",
            "\n",
            "       music       1.00      1.00      1.00        13\n",
            "      speech       1.00      1.00      1.00        13\n",
            "\n",
            "    accuracy                           1.00        26\n",
            "   macro avg       1.00      1.00      1.00        26\n",
            "weighted avg       1.00      1.00      1.00        26\n",
            "\n",
            "Accuracy for the fold no. 2 on the test set: 1.0\n",
            "              precision    recall  f1-score   support\n",
            "\n",
            "       music       1.00      1.00      1.00        14\n",
            "      speech       1.00      1.00      1.00        12\n",
            "\n",
            "    accuracy                           1.00        26\n",
            "   macro avg       1.00      1.00      1.00        26\n",
            "weighted avg       1.00      1.00      1.00        26\n",
            "\n",
            "Accuracy for the fold no. 3 on the test set: 1.0\n",
            "              precision    recall  f1-score   support\n",
            "\n",
            "       music       1.00      1.00      1.00        14\n",
            "      speech       1.00      1.00      1.00        12\n",
            "\n",
            "    accuracy                           1.00        26\n",
            "   macro avg       1.00      1.00      1.00        26\n",
            "weighted avg       1.00      1.00      1.00        26\n",
            "\n",
            "Accuracy for the fold no. 4 on the test set: 1.0\n",
            "              precision    recall  f1-score   support\n",
            "\n",
            "       music       1.00      1.00      1.00        12\n",
            "      speech       1.00      1.00      1.00        13\n",
            "\n",
            "    accuracy                           1.00        25\n",
            "   macro avg       1.00      1.00      1.00        25\n",
            "weighted avg       1.00      1.00      1.00        25\n",
            "\n",
            "Accuracy for the fold no. 5 on the test set: 1.0\n",
            "              precision    recall  f1-score   support\n",
            "\n",
            "       music       1.00      1.00      1.00        11\n",
            "      speech       1.00      1.00      1.00        14\n",
            "\n",
            "    accuracy                           1.00        25\n",
            "   macro avg       1.00      1.00      1.00        25\n",
            "weighted avg       1.00      1.00      1.00        25\n",
            "\n"
          ]
        }
      ]
    },
    {
      "cell_type": "markdown",
      "source": [
        "## **KNN**"
      ],
      "metadata": {
        "id": "PG7w_Pjfq7CP"
      }
    },
    {
      "cell_type": "code",
      "source": [
        "from sklearn.neighbors import KNeighborsClassifier"
      ],
      "metadata": {
        "id": "Zm4KXw5Zq8rl"
      },
      "execution_count": 25,
      "outputs": []
    },
    {
      "cell_type": "code",
      "source": [
        "mod_knn = KNeighborsClassifier(n_neighbors=4)\n",
        "i=1\n",
        "for x_train_idx, x_test_idx in kf.split(X):\n",
        "  X_train = X.iloc[x_train_idx]\n",
        "  X_test = X.iloc[x_test_idx]\n",
        "  y_train = y.iloc[x_train_idx]\n",
        "  y_test = y.iloc[x_test_idx]\n",
        "  mod_knn.fit(X_train, np.array(y_train).flatten())\n",
        "  print(f\"Accuracy for the fold no. {i} on the test set: {accuracy_score(y_test, mod_knn.predict(X_test))}\")\n",
        "  print(classification_report(y_test, mod_knn.predict(X_test)))\n",
        "  i=i+1"
      ],
      "metadata": {
        "colab": {
          "base_uri": "https://localhost:8080/"
        },
        "id": "aR-woL_6rUlh",
        "outputId": "4f5f2d79-4539-4e7d-c267-e240683e4c46"
      },
      "execution_count": 26,
      "outputs": [
        {
          "output_type": "stream",
          "name": "stdout",
          "text": [
            "Accuracy for the fold no. 1 on the test set: 1.0\n",
            "              precision    recall  f1-score   support\n",
            "\n",
            "       music       1.00      1.00      1.00        13\n",
            "      speech       1.00      1.00      1.00        13\n",
            "\n",
            "    accuracy                           1.00        26\n",
            "   macro avg       1.00      1.00      1.00        26\n",
            "weighted avg       1.00      1.00      1.00        26\n",
            "\n",
            "Accuracy for the fold no. 2 on the test set: 1.0\n",
            "              precision    recall  f1-score   support\n",
            "\n",
            "       music       1.00      1.00      1.00        14\n",
            "      speech       1.00      1.00      1.00        12\n",
            "\n",
            "    accuracy                           1.00        26\n",
            "   macro avg       1.00      1.00      1.00        26\n",
            "weighted avg       1.00      1.00      1.00        26\n",
            "\n",
            "Accuracy for the fold no. 3 on the test set: 1.0\n",
            "              precision    recall  f1-score   support\n",
            "\n",
            "       music       1.00      1.00      1.00        14\n",
            "      speech       1.00      1.00      1.00        12\n",
            "\n",
            "    accuracy                           1.00        26\n",
            "   macro avg       1.00      1.00      1.00        26\n",
            "weighted avg       1.00      1.00      1.00        26\n",
            "\n",
            "Accuracy for the fold no. 4 on the test set: 1.0\n",
            "              precision    recall  f1-score   support\n",
            "\n",
            "       music       1.00      1.00      1.00        12\n",
            "      speech       1.00      1.00      1.00        13\n",
            "\n",
            "    accuracy                           1.00        25\n",
            "   macro avg       1.00      1.00      1.00        25\n",
            "weighted avg       1.00      1.00      1.00        25\n",
            "\n",
            "Accuracy for the fold no. 5 on the test set: 1.0\n",
            "              precision    recall  f1-score   support\n",
            "\n",
            "       music       1.00      1.00      1.00        11\n",
            "      speech       1.00      1.00      1.00        14\n",
            "\n",
            "    accuracy                           1.00        25\n",
            "   macro avg       1.00      1.00      1.00        25\n",
            "weighted avg       1.00      1.00      1.00        25\n",
            "\n"
          ]
        }
      ]
    },
    {
      "cell_type": "markdown",
      "source": [
        "## **SVM**"
      ],
      "metadata": {
        "id": "NO0FRESir5bj"
      }
    },
    {
      "cell_type": "code",
      "source": [
        "from sklearn.svm import SVC"
      ],
      "metadata": {
        "id": "zx59Uth4r-sf"
      },
      "execution_count": 27,
      "outputs": []
    },
    {
      "cell_type": "code",
      "source": [
        "mod_svm = SVC(kernel='linear')"
      ],
      "metadata": {
        "id": "rx-oQ9epsAcc"
      },
      "execution_count": 28,
      "outputs": []
    },
    {
      "cell_type": "code",
      "source": [
        "i=1\n",
        "for x_train_idx, x_test_idx in kf.split(X):\n",
        "  X_train = X.iloc[x_train_idx]\n",
        "  X_test = X.iloc[x_test_idx]\n",
        "  y_train = y.iloc[x_train_idx]\n",
        "  y_test = y.iloc[x_test_idx]\n",
        "  mod_svm.fit(X_train, np.array(y_train).flatten())\n",
        "  print(f\"Accuracy for the fold no. {i} on the test set: {accuracy_score(y_test, mod_svm.predict(X_test))}\")\n",
        "  print(classification_report(y_test, mod_svm.predict(X_test)))\n",
        "  i=i+1"
      ],
      "metadata": {
        "colab": {
          "base_uri": "https://localhost:8080/"
        },
        "id": "yERzLi89sB65",
        "outputId": "deb4b6e7-dbc5-48e2-d306-d94f25d00ff7"
      },
      "execution_count": 29,
      "outputs": [
        {
          "output_type": "stream",
          "name": "stdout",
          "text": [
            "Accuracy for the fold no. 1 on the test set: 1.0\n",
            "              precision    recall  f1-score   support\n",
            "\n",
            "       music       1.00      1.00      1.00        13\n",
            "      speech       1.00      1.00      1.00        13\n",
            "\n",
            "    accuracy                           1.00        26\n",
            "   macro avg       1.00      1.00      1.00        26\n",
            "weighted avg       1.00      1.00      1.00        26\n",
            "\n",
            "Accuracy for the fold no. 2 on the test set: 1.0\n",
            "              precision    recall  f1-score   support\n",
            "\n",
            "       music       1.00      1.00      1.00        14\n",
            "      speech       1.00      1.00      1.00        12\n",
            "\n",
            "    accuracy                           1.00        26\n",
            "   macro avg       1.00      1.00      1.00        26\n",
            "weighted avg       1.00      1.00      1.00        26\n",
            "\n",
            "Accuracy for the fold no. 3 on the test set: 1.0\n",
            "              precision    recall  f1-score   support\n",
            "\n",
            "       music       1.00      1.00      1.00        14\n",
            "      speech       1.00      1.00      1.00        12\n",
            "\n",
            "    accuracy                           1.00        26\n",
            "   macro avg       1.00      1.00      1.00        26\n",
            "weighted avg       1.00      1.00      1.00        26\n",
            "\n",
            "Accuracy for the fold no. 4 on the test set: 1.0\n",
            "              precision    recall  f1-score   support\n",
            "\n",
            "       music       1.00      1.00      1.00        12\n",
            "      speech       1.00      1.00      1.00        13\n",
            "\n",
            "    accuracy                           1.00        25\n",
            "   macro avg       1.00      1.00      1.00        25\n",
            "weighted avg       1.00      1.00      1.00        25\n",
            "\n",
            "Accuracy for the fold no. 5 on the test set: 1.0\n",
            "              precision    recall  f1-score   support\n",
            "\n",
            "       music       1.00      1.00      1.00        11\n",
            "      speech       1.00      1.00      1.00        14\n",
            "\n",
            "    accuracy                           1.00        25\n",
            "   macro avg       1.00      1.00      1.00        25\n",
            "weighted avg       1.00      1.00      1.00        25\n",
            "\n"
          ]
        }
      ]
    },
    {
      "cell_type": "markdown",
      "source": [
        "## **Decision Tree**"
      ],
      "metadata": {
        "id": "0S8AryJNuCI9"
      }
    },
    {
      "cell_type": "code",
      "source": [
        "from sklearn.tree import DecisionTreeClassifier"
      ],
      "metadata": {
        "id": "1OerU4_1uI4n"
      },
      "execution_count": 30,
      "outputs": []
    },
    {
      "cell_type": "code",
      "source": [
        "clf = DecisionTreeClassifier(max_depth=13)"
      ],
      "metadata": {
        "id": "ATy16LU1urDF"
      },
      "execution_count": 31,
      "outputs": []
    },
    {
      "cell_type": "code",
      "source": [
        "i=1\n",
        "for x_train_idx, x_test_idx in kf.split(X):\n",
        "  X_train = X.iloc[x_train_idx]\n",
        "  X_test = X.iloc[x_test_idx]\n",
        "  y_train = y.iloc[x_train_idx]\n",
        "  y_test = y.iloc[x_test_idx]\n",
        "  clf.fit(X_train, np.array(y_train).flatten())\n",
        "  print(f\"Accuracy for the fold no. {i} on the test set: {accuracy_score(y_test, clf.predict(X_test))}\")\n",
        "  print(classification_report(y_test, clf.predict(X_test)))\n",
        "  i=i+1"
      ],
      "metadata": {
        "colab": {
          "base_uri": "https://localhost:8080/"
        },
        "id": "UUV3c2oEuenH",
        "outputId": "f7e1ff84-e945-4cbb-84f8-21603cbc1c84"
      },
      "execution_count": 32,
      "outputs": [
        {
          "output_type": "stream",
          "name": "stdout",
          "text": [
            "Accuracy for the fold no. 1 on the test set: 0.9230769230769231\n",
            "              precision    recall  f1-score   support\n",
            "\n",
            "       music       0.92      0.92      0.92        13\n",
            "      speech       0.92      0.92      0.92        13\n",
            "\n",
            "    accuracy                           0.92        26\n",
            "   macro avg       0.92      0.92      0.92        26\n",
            "weighted avg       0.92      0.92      0.92        26\n",
            "\n",
            "Accuracy for the fold no. 2 on the test set: 1.0\n",
            "              precision    recall  f1-score   support\n",
            "\n",
            "       music       1.00      1.00      1.00        14\n",
            "      speech       1.00      1.00      1.00        12\n",
            "\n",
            "    accuracy                           1.00        26\n",
            "   macro avg       1.00      1.00      1.00        26\n",
            "weighted avg       1.00      1.00      1.00        26\n",
            "\n",
            "Accuracy for the fold no. 3 on the test set: 0.9230769230769231\n",
            "              precision    recall  f1-score   support\n",
            "\n",
            "       music       1.00      0.86      0.92        14\n",
            "      speech       0.86      1.00      0.92        12\n",
            "\n",
            "    accuracy                           0.92        26\n",
            "   macro avg       0.93      0.93      0.92        26\n",
            "weighted avg       0.93      0.92      0.92        26\n",
            "\n",
            "Accuracy for the fold no. 4 on the test set: 0.96\n",
            "              precision    recall  f1-score   support\n",
            "\n",
            "       music       1.00      0.92      0.96        12\n",
            "      speech       0.93      1.00      0.96        13\n",
            "\n",
            "    accuracy                           0.96        25\n",
            "   macro avg       0.96      0.96      0.96        25\n",
            "weighted avg       0.96      0.96      0.96        25\n",
            "\n",
            "Accuracy for the fold no. 5 on the test set: 0.96\n",
            "              precision    recall  f1-score   support\n",
            "\n",
            "       music       0.92      1.00      0.96        11\n",
            "      speech       1.00      0.93      0.96        14\n",
            "\n",
            "    accuracy                           0.96        25\n",
            "   macro avg       0.96      0.96      0.96        25\n",
            "weighted avg       0.96      0.96      0.96        25\n",
            "\n"
          ]
        }
      ]
    },
    {
      "cell_type": "markdown",
      "source": [
        "## **Random Forests**"
      ],
      "metadata": {
        "id": "x4s7bCk9vcfP"
      }
    },
    {
      "cell_type": "code",
      "source": [
        "from sklearn.ensemble import RandomForestClassifier"
      ],
      "metadata": {
        "id": "3oiXNDrIvhYT"
      },
      "execution_count": 33,
      "outputs": []
    },
    {
      "cell_type": "code",
      "source": [
        "rfc = RandomForestClassifier(n_estimators=20)"
      ],
      "metadata": {
        "id": "FEE4QNfevyw8"
      },
      "execution_count": 34,
      "outputs": []
    },
    {
      "cell_type": "code",
      "source": [
        "i=1\n",
        "for x_train_idx, x_test_idx in kf.split(X):\n",
        "  X_train = X.iloc[x_train_idx]\n",
        "  X_test = X.iloc[x_test_idx]\n",
        "  y_train = y.iloc[x_train_idx]\n",
        "  y_test = y.iloc[x_test_idx]\n",
        "  rfc.fit(X_train, np.array(y_train).flatten())\n",
        "  print(f\"Accuracy for the fold no. {i} on the test set: {accuracy_score(y_test, rfc.predict(X_test))}\")\n",
        "  print(classification_report(y_test, rfc.predict(X_test)))\n",
        "  i=i+1"
      ],
      "metadata": {
        "colab": {
          "base_uri": "https://localhost:8080/"
        },
        "id": "ndhMSAIzv8CD",
        "outputId": "37fddcf8-c7c3-4d85-8d03-6761f0d3485b"
      },
      "execution_count": 35,
      "outputs": [
        {
          "output_type": "stream",
          "name": "stdout",
          "text": [
            "Accuracy for the fold no. 1 on the test set: 1.0\n",
            "              precision    recall  f1-score   support\n",
            "\n",
            "       music       1.00      1.00      1.00        13\n",
            "      speech       1.00      1.00      1.00        13\n",
            "\n",
            "    accuracy                           1.00        26\n",
            "   macro avg       1.00      1.00      1.00        26\n",
            "weighted avg       1.00      1.00      1.00        26\n",
            "\n",
            "Accuracy for the fold no. 2 on the test set: 1.0\n",
            "              precision    recall  f1-score   support\n",
            "\n",
            "       music       1.00      1.00      1.00        14\n",
            "      speech       1.00      1.00      1.00        12\n",
            "\n",
            "    accuracy                           1.00        26\n",
            "   macro avg       1.00      1.00      1.00        26\n",
            "weighted avg       1.00      1.00      1.00        26\n",
            "\n",
            "Accuracy for the fold no. 3 on the test set: 0.9615384615384616\n",
            "              precision    recall  f1-score   support\n",
            "\n",
            "       music       1.00      0.93      0.96        14\n",
            "      speech       0.92      1.00      0.96        12\n",
            "\n",
            "    accuracy                           0.96        26\n",
            "   macro avg       0.96      0.96      0.96        26\n",
            "weighted avg       0.96      0.96      0.96        26\n",
            "\n",
            "Accuracy for the fold no. 4 on the test set: 1.0\n",
            "              precision    recall  f1-score   support\n",
            "\n",
            "       music       1.00      1.00      1.00        12\n",
            "      speech       1.00      1.00      1.00        13\n",
            "\n",
            "    accuracy                           1.00        25\n",
            "   macro avg       1.00      1.00      1.00        25\n",
            "weighted avg       1.00      1.00      1.00        25\n",
            "\n",
            "Accuracy for the fold no. 5 on the test set: 1.0\n",
            "              precision    recall  f1-score   support\n",
            "\n",
            "       music       1.00      1.00      1.00        11\n",
            "      speech       1.00      1.00      1.00        14\n",
            "\n",
            "    accuracy                           1.00        25\n",
            "   macro avg       1.00      1.00      1.00        25\n",
            "weighted avg       1.00      1.00      1.00        25\n",
            "\n"
          ]
        }
      ]
    },
    {
      "cell_type": "markdown",
      "source": [
        "## **Gradient Boosting**"
      ],
      "metadata": {
        "id": "Yk2QLG5hwPmH"
      }
    },
    {
      "cell_type": "code",
      "source": [
        "import xgboost as xgb"
      ],
      "metadata": {
        "id": "U0QlMrA0wUUR"
      },
      "execution_count": 36,
      "outputs": []
    },
    {
      "cell_type": "code",
      "source": [
        "xgbc = xgb.XGBClassifier(max_depths=5, learning_rate=0.1)"
      ],
      "metadata": {
        "id": "OCo_eRFPwroq"
      },
      "execution_count": 37,
      "outputs": []
    },
    {
      "cell_type": "code",
      "source": [
        "i=1\n",
        "for x_train_idx, x_test_idx in kf.split(X):\n",
        "  X_train = X.iloc[x_train_idx]\n",
        "  X_test = X.iloc[x_test_idx]\n",
        "  y_train = y.iloc[x_train_idx]\n",
        "  y_test = y.iloc[x_test_idx]\n",
        "  xgbc.fit(X_train, np.array(y_train).flatten())\n",
        "  print(f\"Accuracy for the fold no. {i} on the test set: {accuracy_score(y_test, xgbc.predict(X_test))}\")\n",
        "  print(classification_report(y_test, xgbc.predict(X_test)))\n",
        "  i=i+1"
      ],
      "metadata": {
        "colab": {
          "base_uri": "https://localhost:8080/"
        },
        "id": "BuMUR5Fvw2Fl",
        "outputId": "7e383404-98ea-4552-f01c-72aeb920c890"
      },
      "execution_count": 38,
      "outputs": [
        {
          "output_type": "stream",
          "name": "stdout",
          "text": [
            "Accuracy for the fold no. 1 on the test set: 1.0\n",
            "              precision    recall  f1-score   support\n",
            "\n",
            "       music       1.00      1.00      1.00        13\n",
            "      speech       1.00      1.00      1.00        13\n",
            "\n",
            "    accuracy                           1.00        26\n",
            "   macro avg       1.00      1.00      1.00        26\n",
            "weighted avg       1.00      1.00      1.00        26\n",
            "\n",
            "Accuracy for the fold no. 2 on the test set: 1.0\n",
            "              precision    recall  f1-score   support\n",
            "\n",
            "       music       1.00      1.00      1.00        14\n",
            "      speech       1.00      1.00      1.00        12\n",
            "\n",
            "    accuracy                           1.00        26\n",
            "   macro avg       1.00      1.00      1.00        26\n",
            "weighted avg       1.00      1.00      1.00        26\n",
            "\n",
            "Accuracy for the fold no. 3 on the test set: 0.9230769230769231\n",
            "              precision    recall  f1-score   support\n",
            "\n",
            "       music       1.00      0.86      0.92        14\n",
            "      speech       0.86      1.00      0.92        12\n",
            "\n",
            "    accuracy                           0.92        26\n",
            "   macro avg       0.93      0.93      0.92        26\n",
            "weighted avg       0.93      0.92      0.92        26\n",
            "\n",
            "Accuracy for the fold no. 4 on the test set: 1.0\n",
            "              precision    recall  f1-score   support\n",
            "\n",
            "       music       1.00      1.00      1.00        12\n",
            "      speech       1.00      1.00      1.00        13\n",
            "\n",
            "    accuracy                           1.00        25\n",
            "   macro avg       1.00      1.00      1.00        25\n",
            "weighted avg       1.00      1.00      1.00        25\n",
            "\n",
            "Accuracy for the fold no. 5 on the test set: 1.0\n",
            "              precision    recall  f1-score   support\n",
            "\n",
            "       music       1.00      1.00      1.00        11\n",
            "      speech       1.00      1.00      1.00        14\n",
            "\n",
            "    accuracy                           1.00        25\n",
            "   macro avg       1.00      1.00      1.00        25\n",
            "weighted avg       1.00      1.00      1.00        25\n",
            "\n"
          ]
        }
      ]
    }
  ]
}