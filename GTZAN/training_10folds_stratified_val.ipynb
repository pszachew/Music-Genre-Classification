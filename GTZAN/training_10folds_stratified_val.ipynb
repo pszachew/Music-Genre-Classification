{
  "nbformat": 4,
  "nbformat_minor": 0,
  "metadata": {
    "colab": {
      "name": "Untitled3.ipynb",
      "provenance": [],
      "authorship_tag": "ABX9TyNSH7yE9C7mWn6jscjd3WYu",
      "include_colab_link": true
    },
    "kernelspec": {
      "name": "python3",
      "display_name": "Python 3"
    },
    "language_info": {
      "name": "python"
    }
  },
  "cells": [
    {
      "cell_type": "markdown",
      "metadata": {
        "id": "view-in-github",
        "colab_type": "text"
      },
      "source": [
        "<a href=\"https://colab.research.google.com/github/pszachew/Music-Genre-Classification/blob/master/GTZAN/training_10folds_stratified_val.ipynb\" target=\"_parent\"><img src=\"https://colab.research.google.com/assets/colab-badge.svg\" alt=\"Open In Colab\"/></a>"
      ]
    },
    {
      "cell_type": "code",
      "metadata": {
        "id": "ndTmVrpOFCOp"
      },
      "source": [
        "import pandas as pd\n",
        "import numpy as np\n",
        "from sklearn.preprocessing import StandardScaler\n",
        "from sklearn.model_selection import train_test_split, KFold, cross_val_score, StratifiedKFold\n",
        "from sklearn.pipeline import Pipeline\n",
        "from sklearn.metrics import classification_report, confusion_matrix, accuracy_score, ConfusionMatrixDisplay\n",
        "import joblib\n",
        "import seaborn as sns\n",
        "import matplotlib.pyplot as plt\n",
        "from statistics import mean\n",
        "import json"
      ],
      "execution_count": 1,
      "outputs": []
    },
    {
      "cell_type": "code",
      "metadata": {
        "colab": {
          "base_uri": "https://localhost:8080/"
        },
        "id": "Rf6lRECfHMP2",
        "outputId": "9d3780c7-531b-4afc-d524-58b27d929e76"
      },
      "source": [
        "from google.colab import drive\n",
        "drive.mount('/content/gdrive')"
      ],
      "execution_count": 2,
      "outputs": [
        {
          "output_type": "stream",
          "name": "stdout",
          "text": [
            "Mounted at /content/gdrive\n"
          ]
        }
      ]
    },
    {
      "cell_type": "code",
      "metadata": {
        "id": "AtekSLDgHpH6"
      },
      "source": [
        "X = pd.read_csv('/content/gdrive/MyDrive/csv_data/GTZAN_embedded.csv',header=None)"
      ],
      "execution_count": 3,
      "outputs": []
    },
    {
      "cell_type": "code",
      "metadata": {
        "id": "YxuMxGZ5H9G7"
      },
      "source": [
        "y = pd.read_csv('/content/gdrive/MyDrive/csv_data/GTZAN_labels.csv', header=None)"
      ],
      "execution_count": 4,
      "outputs": []
    },
    {
      "cell_type": "code",
      "metadata": {
        "id": "djMzvQuSPYB0"
      },
      "source": [
        "scaler = StandardScaler()\n",
        "scaler.fit(X)\n",
        "X_sc =pd.DataFrame(scaler.transform(X))"
      ],
      "execution_count": 5,
      "outputs": []
    },
    {
      "cell_type": "code",
      "metadata": {
        "id": "Klyj9QW7ISFq"
      },
      "source": [
        "X_train, X_test, y_train, y_test = train_test_split(X_sc,y,test_size=0.3, random_state=10)"
      ],
      "execution_count": 6,
      "outputs": []
    },
    {
      "cell_type": "markdown",
      "metadata": {
        "id": "kiB0OJ-vOOa1"
      },
      "source": [
        "## **Logistic Regression**"
      ]
    },
    {
      "cell_type": "code",
      "metadata": {
        "id": "pC7UEEMvO4un"
      },
      "source": [
        "from sklearn.linear_model import LogisticRegression"
      ],
      "execution_count": null,
      "outputs": []
    },
    {
      "cell_type": "code",
      "source": [
        "cd /content/gdrive/MyDrive/models/GTZAN/LogisticRegression"
      ],
      "metadata": {
        "colab": {
          "base_uri": "https://localhost:8080/"
        },
        "id": "b_8fsoUUIal2",
        "outputId": "b0203069-a1ad-4475-c49b-51deff859ef9"
      },
      "execution_count": null,
      "outputs": [
        {
          "output_type": "stream",
          "name": "stdout",
          "text": [
            "/content/gdrive/MyDrive/models/GTZAN/LogisticRegression\n"
          ]
        }
      ]
    },
    {
      "cell_type": "code",
      "metadata": {
        "id": "72v0BoyeSm4t"
      },
      "source": [
        "kf10 = StratifiedKFold(n_splits=10, shuffle=True, random_state=42)\n",
        "mod_lg = LogisticRegression(max_iter=10000)"
      ],
      "execution_count": null,
      "outputs": []
    },
    {
      "cell_type": "code",
      "metadata": {
        "id": "gDhZlRtDnlAj",
        "colab": {
          "base_uri": "https://localhost:8080/"
        },
        "outputId": "b43ad2f2-373c-4391-a51f-ac2b5ee354f1"
      },
      "source": [
        "i=1\n",
        "for x_train_idx, x_test_idx in kf10.split(X_sc, y):\n",
        "  X_train = X_sc.iloc[x_train_idx]\n",
        "  X_test = X_sc.iloc[x_test_idx]\n",
        "  y_train = y.iloc[x_train_idx]\n",
        "  y_test = y.iloc[x_test_idx]\n",
        "  mod_lg.fit(X_train, np.array(y_train).flatten())\n",
        "  print(f\"Accuracy for the fold no. {i} on the test set: {accuracy_score(y_test, mod_lg.predict(X_test))}\")\n",
        "  #joblib.dump(mod_lg, \"log_reg\"+str(i)+\".sav\")\n",
        "  i=i+1"
      ],
      "execution_count": null,
      "outputs": [
        {
          "output_type": "stream",
          "name": "stdout",
          "text": [
            "Accuracy for the fold no. 1 on the test set: 0.86\n",
            "Accuracy for the fold no. 2 on the test set: 0.9\n",
            "Accuracy for the fold no. 3 on the test set: 0.85\n",
            "Accuracy for the fold no. 4 on the test set: 0.85\n",
            "Accuracy for the fold no. 5 on the test set: 0.89\n",
            "Accuracy for the fold no. 6 on the test set: 0.88\n",
            "Accuracy for the fold no. 7 on the test set: 0.89\n",
            "Accuracy for the fold no. 8 on the test set: 0.88\n",
            "Accuracy for the fold no. 9 on the test set: 0.84\n",
            "Accuracy for the fold no. 10 on the test set: 0.8787878787878788\n"
          ]
        }
      ]
    },
    {
      "cell_type": "markdown",
      "metadata": {
        "id": "zcyatWgE10HQ"
      },
      "source": [
        "## **KNN**"
      ]
    },
    {
      "cell_type": "code",
      "metadata": {
        "id": "ZF9YDE5C19Xe"
      },
      "source": [
        "from sklearn.neighbors import KNeighborsClassifier"
      ],
      "execution_count": null,
      "outputs": []
    },
    {
      "cell_type": "code",
      "source": [
        "cd /content/gdrive/MyDrive/models/GTZAN/KNN"
      ],
      "metadata": {
        "colab": {
          "base_uri": "https://localhost:8080/"
        },
        "id": "Fc-h6lr1rvT9",
        "outputId": "4a80a050-d934-46b9-cab4-c49c1b9db33c"
      },
      "execution_count": null,
      "outputs": [
        {
          "output_type": "stream",
          "name": "stdout",
          "text": [
            "/content/gdrive/MyDrive/models/GTZAN/KNN\n"
          ]
        }
      ]
    },
    {
      "cell_type": "code",
      "metadata": {
        "id": "8oFVfQ_02PRZ"
      },
      "source": [
        "neigh = KNeighborsClassifier(n_neighbors = 4)"
      ],
      "execution_count": null,
      "outputs": []
    },
    {
      "cell_type": "code",
      "metadata": {
        "id": "_7ZXk_Md-VyP",
        "colab": {
          "base_uri": "https://localhost:8080/"
        },
        "outputId": "0f3cbc36-67a4-4993-e4ce-f36a41a387c0"
      },
      "source": [
        "kf10 = KFold(n_splits=10, shuffle=True, random_state=42)\n",
        "mod_knn = KNeighborsClassifier(n_neighbors=4)\n",
        "i=1\n",
        "for x_train_idx, x_test_idx in kf10.split(X_sc):\n",
        "  X_train = X_sc.iloc[x_train_idx]\n",
        "  X_test = X_sc.iloc[x_test_idx]\n",
        "  y_train = y.iloc[x_train_idx]\n",
        "  y_test = y.iloc[x_test_idx]\n",
        "  mod_knn.fit(X_train, np.array(y_train).flatten())\n",
        "  print(f\"Accuracy for the fold no. {i} on the test set: {accuracy_score(y_test, mod_knn.predict(X_test))}\")\n",
        "  joblib.dump(mod_lg, \"knn\"+str(i)+\".sav\")\n",
        "  i=i+1"
      ],
      "execution_count": null,
      "outputs": [
        {
          "output_type": "stream",
          "name": "stdout",
          "text": [
            "Accuracy for the fold no. 1 on the test set: 0.78\n",
            "Accuracy for the fold no. 2 on the test set: 0.86\n",
            "Accuracy for the fold no. 3 on the test set: 0.76\n",
            "Accuracy for the fold no. 4 on the test set: 0.81\n",
            "Accuracy for the fold no. 5 on the test set: 0.81\n",
            "Accuracy for the fold no. 6 on the test set: 0.81\n",
            "Accuracy for the fold no. 7 on the test set: 0.87\n",
            "Accuracy for the fold no. 8 on the test set: 0.75\n",
            "Accuracy for the fold no. 9 on the test set: 0.75\n",
            "Accuracy for the fold no. 10 on the test set: 0.7878787878787878\n"
          ]
        }
      ]
    },
    {
      "cell_type": "markdown",
      "metadata": {
        "id": "RE-XltsexggE"
      },
      "source": [
        "### **SVM**"
      ]
    },
    {
      "cell_type": "code",
      "metadata": {
        "id": "83Z3JpcUxkZk"
      },
      "source": [
        "from sklearn.svm import SVC"
      ],
      "execution_count": null,
      "outputs": []
    },
    {
      "cell_type": "code",
      "metadata": {
        "id": "R5HoILa0qS2q"
      },
      "source": [
        "kf10 = KFold(n_splits=10, shuffle=True, random_state=42)"
      ],
      "execution_count": null,
      "outputs": []
    },
    {
      "cell_type": "code",
      "source": [
        "cd /content/gdrive/MyDrive/models/GTZAN/SVM"
      ],
      "metadata": {
        "colab": {
          "base_uri": "https://localhost:8080/"
        },
        "id": "B9_t-QM5z3f2",
        "outputId": "6a141fde-a269-47bb-db41-2ec2584c3d8a"
      },
      "execution_count": null,
      "outputs": [
        {
          "output_type": "stream",
          "name": "stdout",
          "text": [
            "/content/gdrive/MyDrive/models/GTZAN/SVM\n"
          ]
        }
      ]
    },
    {
      "cell_type": "code",
      "metadata": {
        "id": "jIV4LU8_z0IH",
        "colab": {
          "base_uri": "https://localhost:8080/"
        },
        "outputId": "a817bd22-cf12-453b-aed1-474aa424a224"
      },
      "source": [
        "i=1\n",
        "for x_train_idx, x_test_idx in kf10.split(X_sc):\n",
        "  X_train = X_sc.iloc[x_train_idx]\n",
        "  X_test = X_sc.iloc[x_test_idx]\n",
        "  y_train = y.iloc[x_train_idx]\n",
        "  y_test = y.iloc[x_test_idx]\n",
        "  mod_svm = SVC(kernel='linear')\n",
        "  mod_svm.fit(X_train, np.array(y_train).flatten())\n",
        "  print(f\"Accuracy for the fold no. {i} on the test set: {accuracy_score(y_test, mod_svm.predict(X_test))}\")\n",
        "  joblib.dump(mod_svm, \"svm\"+str(i)+\".sav\")\n",
        "  i=i+1"
      ],
      "execution_count": null,
      "outputs": [
        {
          "output_type": "stream",
          "name": "stdout",
          "text": [
            "Accuracy for the fold no. 1 on the test set: 0.85\n",
            "Accuracy for the fold no. 2 on the test set: 0.88\n",
            "Accuracy for the fold no. 3 on the test set: 0.88\n",
            "Accuracy for the fold no. 4 on the test set: 0.89\n",
            "Accuracy for the fold no. 5 on the test set: 0.88\n",
            "Accuracy for the fold no. 6 on the test set: 0.88\n",
            "Accuracy for the fold no. 7 on the test set: 0.92\n",
            "Accuracy for the fold no. 8 on the test set: 0.84\n",
            "Accuracy for the fold no. 9 on the test set: 0.9\n",
            "Accuracy for the fold no. 10 on the test set: 0.8787878787878788\n"
          ]
        }
      ]
    },
    {
      "cell_type": "markdown",
      "metadata": {
        "id": "lWX-cuRbPVtJ"
      },
      "source": [
        "### **Random Forests**"
      ]
    },
    {
      "cell_type": "code",
      "metadata": {
        "id": "a2gAMU-TPZzT"
      },
      "source": [
        "from sklearn.ensemble import RandomForestClassifier"
      ],
      "execution_count": null,
      "outputs": []
    },
    {
      "cell_type": "code",
      "metadata": {
        "id": "3OWt9lfmPf71"
      },
      "source": [
        "kf10 = KFold(n_splits=10, shuffle=True, random_state=42)"
      ],
      "execution_count": null,
      "outputs": []
    },
    {
      "cell_type": "code",
      "source": [
        "cd /content/gdrive/MyDrive/models/GTZAN/RFC"
      ],
      "metadata": {
        "colab": {
          "base_uri": "https://localhost:8080/"
        },
        "id": "HqQJmpgW6taI",
        "outputId": "1408cc0a-8f51-40f8-a795-ca0975c0f27b"
      },
      "execution_count": null,
      "outputs": [
        {
          "output_type": "stream",
          "name": "stdout",
          "text": [
            "/content/gdrive/MyDrive/models/GTZAN/RFC\n"
          ]
        }
      ]
    },
    {
      "cell_type": "code",
      "metadata": {
        "id": "RHBVA8p2TWOg",
        "colab": {
          "base_uri": "https://localhost:8080/"
        },
        "outputId": "91dd3958-cf0b-4d46-efd6-ddcaa11ad1cc"
      },
      "source": [
        "i=1\n",
        "for train_idx, test_idx in kf10.split(X_sc):\n",
        "  X_train = X_sc.iloc[train_idx]\n",
        "  X_test = X_sc.iloc[test_idx]\n",
        "  y_train = y.iloc[train_idx]\n",
        "  y_test = y.iloc[test_idx]\n",
        "  rfc = RandomForestClassifier(n_estimators=400)\n",
        "  rfc.fit(X_train, np.array(y_train).flatten())\n",
        "  print(f\"Accuracy for the fold no. {i} on the test set: {accuracy_score(y_test, rfc.predict(X_test))}\")\n",
        "  joblib.dump(rfc, \"rfc\"+str(i)+\".sav\")\n",
        "  i = i+1\n"
      ],
      "execution_count": null,
      "outputs": [
        {
          "output_type": "stream",
          "name": "stdout",
          "text": [
            "Accuracy for the fold no. 1 on the test set: 0.74\n",
            "Accuracy for the fold no. 2 on the test set: 0.82\n",
            "Accuracy for the fold no. 3 on the test set: 0.79\n",
            "Accuracy for the fold no. 4 on the test set: 0.78\n",
            "Accuracy for the fold no. 5 on the test set: 0.74\n",
            "Accuracy for the fold no. 6 on the test set: 0.77\n",
            "Accuracy for the fold no. 7 on the test set: 0.8\n",
            "Accuracy for the fold no. 8 on the test set: 0.72\n",
            "Accuracy for the fold no. 9 on the test set: 0.81\n",
            "Accuracy for the fold no. 10 on the test set: 0.7676767676767676\n"
          ]
        }
      ]
    },
    {
      "cell_type": "markdown",
      "metadata": {
        "id": "PofpLxV7uA8W"
      },
      "source": [
        "### **Gradient Boosting**"
      ]
    },
    {
      "cell_type": "code",
      "metadata": {
        "id": "IcsS8nhSuI0C"
      },
      "source": [
        "import xgboost as xgb"
      ],
      "execution_count": null,
      "outputs": []
    },
    {
      "cell_type": "code",
      "metadata": {
        "id": "8eaG1OzFrVSK"
      },
      "source": [
        "kf10 = KFold(n_splits=10, shuffle=True)"
      ],
      "execution_count": null,
      "outputs": []
    },
    {
      "cell_type": "code",
      "source": [
        "cd /content/gdrive/MyDrive/models/GTZAN/Gradient Boosting"
      ],
      "metadata": {
        "colab": {
          "base_uri": "https://localhost:8080/"
        },
        "id": "4UEbwkDv9Zfp",
        "outputId": "83bc358a-a36c-4ee3-f389-8859e79ca4e9"
      },
      "execution_count": null,
      "outputs": [
        {
          "output_type": "stream",
          "name": "stdout",
          "text": [
            "/content/gdrive/MyDrive/models/GTZAN/Gradient Boosting\n"
          ]
        }
      ]
    },
    {
      "cell_type": "code",
      "metadata": {
        "id": "oZrGoogZq29E",
        "colab": {
          "base_uri": "https://localhost:8080/"
        },
        "outputId": "54f00bab-b22b-45e7-8e92-e86c83a2bb13"
      },
      "source": [
        "for train_idx, test_idx in kf10.split(X_sc):\n",
        "  X_train = X_sc.iloc[train_idx]\n",
        "  X_test = X_sc.iloc[test_idx]\n",
        "  y_train = y.iloc[train_idx]\n",
        "  y_test = y.iloc[test_idx]\n",
        "  xgbc = xgb.XGBClassifier(max_depths=5, learning_rate=0.1)\n",
        "  xgbc.fit(X_train, np.array(y_train).flatten())\n",
        "  print(f\"Accuracy for the fold no. {i} on the test set: {accuracy_score(y_test, xgbc.predict(X_test))}\")\n",
        "  joblib.dump(xgbc, \"xgbc\"+str(i)+\".sav\")\n",
        "  i = i+1"
      ],
      "execution_count": null,
      "outputs": [
        {
          "metadata": {
            "tags": null
          },
          "name": "stdout",
          "output_type": "stream",
          "text": [
            "Accuracy for the fold no. 11 on the test set: 0.75\n",
            "Accuracy for the fold no. 12 on the test set: 0.79\n",
            "Accuracy for the fold no. 13 on the test set: 0.77\n",
            "Accuracy for the fold no. 14 on the test set: 0.81\n",
            "Accuracy for the fold no. 15 on the test set: 0.75\n",
            "Accuracy for the fold no. 16 on the test set: 0.75\n",
            "Accuracy for the fold no. 17 on the test set: 0.75\n",
            "Accuracy for the fold no. 18 on the test set: 0.74\n",
            "Accuracy for the fold no. 19 on the test set: 0.74\n",
            "Accuracy for the fold no. 20 on the test set: 0.7070707070707071\n"
          ]
        }
      ]
    },
    {
      "cell_type": "markdown",
      "metadata": {
        "id": "JW7NDFYR-rRv"
      },
      "source": [
        "### **Neural Network(MLP)**"
      ]
    },
    {
      "cell_type": "code",
      "metadata": {
        "id": "zCldui2i-wvl"
      },
      "source": [
        "from tensorflow.keras.models import Sequential\n",
        "from tensorflow.keras.layers import add, Dense\n",
        "import tensorflow as tf"
      ],
      "execution_count": null,
      "outputs": []
    },
    {
      "cell_type": "code",
      "metadata": {
        "id": "genfYpGMhKFR"
      },
      "source": [
        "genres = ['blues', 'classical', 'country', 'disco', 'hiphop', 'jazz', 'metal', 'pop', 'reggae', 'rock']"
      ],
      "execution_count": null,
      "outputs": []
    },
    {
      "cell_type": "code",
      "metadata": {
        "id": "3bO6u14i-1yl"
      },
      "source": [
        "y_train_cat = pd.get_dummies(y_train)"
      ],
      "execution_count": null,
      "outputs": []
    },
    {
      "cell_type": "code",
      "metadata": {
        "id": "SZkdiKumE3TJ"
      },
      "source": [
        "tf.config.run_functions_eagerly(True)\n",
        "tf.data.experimental.enable_debug_mode()"
      ],
      "execution_count": null,
      "outputs": []
    },
    {
      "cell_type": "code",
      "metadata": {
        "id": "ovZ-5vWfMWr5"
      },
      "source": [
        "model = Sequential()\n",
        "model.add(Dense(1024, input_dim=30720, activation='relu'))\n",
        "model.add(Dense(512, activation='relu'))\n",
        "model.add(Dense(512, activation='relu'))\n",
        "model.add(Dense(10, activation='softmax'))\n",
        "model.compile(optimizer='adam', loss='categorical_crossentropy', metrics=['accuracy'])"
      ],
      "execution_count": null,
      "outputs": []
    },
    {
      "cell_type": "code",
      "metadata": {
        "colab": {
          "base_uri": "https://localhost:8080/"
        },
        "id": "jRcwl1rGbKq3",
        "outputId": "d893a788-bf8f-42ea-9151-28d91cbbfbf3"
      },
      "source": [
        "model.summary()"
      ],
      "execution_count": null,
      "outputs": [
        {
          "output_type": "stream",
          "name": "stdout",
          "text": [
            "Model: \"sequential_10\"\n",
            "_________________________________________________________________\n",
            " Layer (type)                Output Shape              Param #   \n",
            "=================================================================\n",
            " dense_35 (Dense)            (None, 1024)              31458304  \n",
            "                                                                 \n",
            " dense_36 (Dense)            (None, 512)               524800    \n",
            "                                                                 \n",
            " dense_37 (Dense)            (None, 512)               262656    \n",
            "                                                                 \n",
            " dense_38 (Dense)            (None, 10)                5130      \n",
            "                                                                 \n",
            "=================================================================\n",
            "Total params: 32,250,890\n",
            "Trainable params: 32,250,890\n",
            "Non-trainable params: 0\n",
            "_________________________________________________________________\n"
          ]
        }
      ]
    },
    {
      "cell_type": "code",
      "metadata": {
        "colab": {
          "base_uri": "https://localhost:8080/"
        },
        "id": "N4ogACgEbTXi",
        "outputId": "f0f4f34e-f7d4-4c18-9d1b-87aff1ea53c1"
      },
      "source": [
        "history = model.fit(X_train, \n",
        "                    y_train_cat, \n",
        "                    epochs=30,\n",
        "                    verbose=1,\n",
        "                    batch_size = 200,\n",
        "                    validation_split = 0.2\n",
        "                   )\n"
      ],
      "execution_count": null,
      "outputs": [
        {
          "output_type": "stream",
          "name": "stdout",
          "text": [
            "Epoch 1/30\n",
            "3/3 [==============================] - 2s 673ms/step - loss: 7.3790 - accuracy: 0.2773 - val_loss: 8.6323 - val_accuracy: 0.4714\n",
            "Epoch 2/30\n",
            "3/3 [==============================] - 2s 573ms/step - loss: 4.4831 - accuracy: 0.6565 - val_loss: 2.9615 - val_accuracy: 0.7143\n",
            "Epoch 3/30\n",
            "3/3 [==============================] - 2s 576ms/step - loss: 1.5617 - accuracy: 0.8086 - val_loss: 1.8880 - val_accuracy: 0.7071\n",
            "Epoch 4/30\n",
            "3/3 [==============================] - 2s 569ms/step - loss: 0.6167 - accuracy: 0.9141 - val_loss: 1.7836 - val_accuracy: 0.7500\n",
            "Epoch 5/30\n",
            "3/3 [==============================] - 2s 574ms/step - loss: 0.4345 - accuracy: 0.9463 - val_loss: 1.4338 - val_accuracy: 0.8143\n",
            "Epoch 6/30\n",
            "3/3 [==============================] - 2s 566ms/step - loss: 0.1619 - accuracy: 0.9732 - val_loss: 1.7183 - val_accuracy: 0.7857\n",
            "Epoch 7/30\n",
            "3/3 [==============================] - 2s 570ms/step - loss: 0.0882 - accuracy: 0.9714 - val_loss: 1.4973 - val_accuracy: 0.8214\n",
            "Epoch 8/30\n",
            "3/3 [==============================] - 2s 578ms/step - loss: 0.0213 - accuracy: 0.9911 - val_loss: 1.5920 - val_accuracy: 0.8071\n",
            "Epoch 9/30\n",
            "3/3 [==============================] - 2s 582ms/step - loss: 0.0236 - accuracy: 0.9946 - val_loss: 1.9269 - val_accuracy: 0.7857\n",
            "Epoch 10/30\n",
            "3/3 [==============================] - 2s 573ms/step - loss: 0.0027 - accuracy: 1.0000 - val_loss: 2.2341 - val_accuracy: 0.7786\n",
            "Epoch 11/30\n",
            "3/3 [==============================] - 2s 571ms/step - loss: 0.0311 - accuracy: 0.9982 - val_loss: 1.9027 - val_accuracy: 0.8071\n",
            "Epoch 12/30\n",
            "3/3 [==============================] - 2s 567ms/step - loss: 0.0018 - accuracy: 1.0000 - val_loss: 1.7267 - val_accuracy: 0.8071\n",
            "Epoch 13/30\n",
            "3/3 [==============================] - 2s 574ms/step - loss: 4.4291e-04 - accuracy: 1.0000 - val_loss: 1.6710 - val_accuracy: 0.8143\n",
            "Epoch 14/30\n",
            "3/3 [==============================] - 2s 574ms/step - loss: 0.0013 - accuracy: 1.0000 - val_loss: 1.6335 - val_accuracy: 0.8143\n",
            "Epoch 15/30\n",
            "3/3 [==============================] - 2s 578ms/step - loss: 1.0152e-04 - accuracy: 1.0000 - val_loss: 1.6266 - val_accuracy: 0.8214\n",
            "Epoch 16/30\n",
            "3/3 [==============================] - 2s 572ms/step - loss: 8.6895e-05 - accuracy: 1.0000 - val_loss: 1.6208 - val_accuracy: 0.8214\n",
            "Epoch 17/30\n",
            "3/3 [==============================] - 2s 573ms/step - loss: 0.0016 - accuracy: 0.9982 - val_loss: 1.6129 - val_accuracy: 0.8143\n",
            "Epoch 18/30\n",
            "3/3 [==============================] - 2s 573ms/step - loss: 6.2898e-05 - accuracy: 1.0000 - val_loss: 1.5742 - val_accuracy: 0.8286\n",
            "Epoch 19/30\n",
            "3/3 [==============================] - 2s 577ms/step - loss: 4.5211e-05 - accuracy: 1.0000 - val_loss: 1.5544 - val_accuracy: 0.8286\n",
            "Epoch 20/30\n",
            "3/3 [==============================] - 2s 579ms/step - loss: 3.5017e-05 - accuracy: 1.0000 - val_loss: 1.5408 - val_accuracy: 0.8286\n",
            "Epoch 21/30\n",
            "3/3 [==============================] - 2s 579ms/step - loss: 2.8833e-05 - accuracy: 1.0000 - val_loss: 1.5301 - val_accuracy: 0.8286\n",
            "Epoch 22/30\n",
            "3/3 [==============================] - 2s 569ms/step - loss: 2.4453e-05 - accuracy: 1.0000 - val_loss: 1.5214 - val_accuracy: 0.8286\n",
            "Epoch 23/30\n",
            "3/3 [==============================] - 2s 569ms/step - loss: 2.1280e-05 - accuracy: 1.0000 - val_loss: 1.5141 - val_accuracy: 0.8286\n",
            "Epoch 24/30\n",
            "3/3 [==============================] - 2s 578ms/step - loss: 1.9263e-05 - accuracy: 1.0000 - val_loss: 1.5080 - val_accuracy: 0.8357\n",
            "Epoch 25/30\n",
            "3/3 [==============================] - 2s 573ms/step - loss: 1.7939e-05 - accuracy: 1.0000 - val_loss: 1.5029 - val_accuracy: 0.8357\n",
            "Epoch 26/30\n",
            "3/3 [==============================] - 2s 569ms/step - loss: 1.6842e-05 - accuracy: 1.0000 - val_loss: 1.4986 - val_accuracy: 0.8357\n",
            "Epoch 27/30\n",
            "3/3 [==============================] - 2s 583ms/step - loss: 1.5732e-05 - accuracy: 1.0000 - val_loss: 1.4949 - val_accuracy: 0.8357\n",
            "Epoch 28/30\n",
            "3/3 [==============================] - 2s 579ms/step - loss: 1.4909e-05 - accuracy: 1.0000 - val_loss: 1.4917 - val_accuracy: 0.8357\n",
            "Epoch 29/30\n",
            "3/3 [==============================] - 2s 580ms/step - loss: 1.4212e-05 - accuracy: 1.0000 - val_loss: 1.4887 - val_accuracy: 0.8357\n",
            "Epoch 30/30\n",
            "3/3 [==============================] - 2s 575ms/step - loss: 1.3519e-05 - accuracy: 1.0000 - val_loss: 1.4862 - val_accuracy: 0.8357\n"
          ]
        }
      ]
    },
    {
      "cell_type": "code",
      "metadata": {
        "id": "XTFHDj2-fGFE"
      },
      "source": [
        "predicted = model.predict(X_test)\n",
        "y_pre = []\n",
        "for arr in predicted:\n",
        "  y_pre.append(genres[arr.argmax()])"
      ],
      "execution_count": null,
      "outputs": []
    },
    {
      "cell_type": "code",
      "metadata": {
        "colab": {
          "base_uri": "https://localhost:8080/"
        },
        "id": "P0jbiZKAfQXp",
        "outputId": "1fbc4814-fe39-4bd5-914e-37022d37b35b"
      },
      "source": [
        "print(accuracy_score(y_test, y_pre))"
      ],
      "execution_count": null,
      "outputs": [
        {
          "output_type": "stream",
          "name": "stdout",
          "text": [
            "0.8033333333333333\n"
          ]
        }
      ]
    },
    {
      "cell_type": "code",
      "metadata": {
        "id": "5-Hz9_bSmF-5",
        "outputId": "30dee598-9c19-4927-cebe-92cc93fe535f",
        "colab": {
          "base_uri": "https://localhost:8080/"
        }
      },
      "source": [
        "print(classification_report(y_test, y_pre))"
      ],
      "execution_count": null,
      "outputs": [
        {
          "output_type": "stream",
          "name": "stdout",
          "text": [
            "              precision    recall  f1-score   support\n",
            "\n",
            "       blues       0.74      0.91      0.82        35\n",
            "   classical       0.89      1.00      0.94        33\n",
            "     country       0.84      0.59      0.70        27\n",
            "       disco       1.00      0.56      0.72        34\n",
            "      hiphop       0.71      1.00      0.83        24\n",
            "        jazz       0.92      0.94      0.93        35\n",
            "       metal       0.97      0.97      0.97        31\n",
            "         pop       0.57      0.88      0.70        26\n",
            "      reggae       0.96      0.73      0.83        30\n",
            "        rock       0.50      0.36      0.42        25\n",
            "\n",
            "    accuracy                           0.80       300\n",
            "   macro avg       0.81      0.80      0.78       300\n",
            "weighted avg       0.82      0.80      0.80       300\n",
            "\n"
          ]
        }
      ]
    },
    {
      "cell_type": "code",
      "metadata": {
        "id": "Ezij1f_dmKiR"
      },
      "source": [
        "cm = confusion_matrix(y_test, y_pre, labels=genres)"
      ],
      "execution_count": null,
      "outputs": []
    },
    {
      "cell_type": "code",
      "metadata": {
        "id": "BQ2_q-BWmTcw"
      },
      "source": [
        "disp = ConfusionMatrixDisplay(confusion_matrix=cm, display_labels = genres)"
      ],
      "execution_count": null,
      "outputs": []
    },
    {
      "cell_type": "code",
      "metadata": {
        "id": "KgYK_cAWnbss"
      },
      "source": [
        "cm = pd.DataFrame(cm, index=genres, columns=genres)"
      ],
      "execution_count": null,
      "outputs": []
    },
    {
      "cell_type": "code",
      "metadata": {
        "id": "dDlI-JFjneot",
        "outputId": "1da02d6a-7b02-406b-e363-7b1d2bd0cee2",
        "colab": {
          "base_uri": "https://localhost:8080/",
          "height": 483
        }
      },
      "source": [
        "plt.figure(figsize=(12,8))\n",
        "sns.heatmap(cm, annot=True, linewidths=.5, cmap=\"YlGnBu\")\n",
        "plt.show()"
      ],
      "execution_count": null,
      "outputs": [
        {
          "output_type": "display_data",
          "data": {
            "image/png": "[encoded data removed]",
            "text/plain": [
              "<Figure size 864x576 with 2 Axes>"
            ]
          },
          "metadata": {
            "needs_background": "light"
          }
        }
      ]
    },
    {
      "cell_type": "markdown",
      "source": [
        "## **MLPClassifier**"
      ],
      "metadata": {
        "id": "SJaHZaVunqTx"
      }
    },
    {
      "cell_type": "code",
      "source": [
        "from sklearn.neural_network import MLPClassifier"
      ],
      "metadata": {
        "id": "eq9sFwfHnwwl"
      },
      "execution_count": 7,
      "outputs": []
    },
    {
      "cell_type": "code",
      "source": [
        "MLPclass = MLPClassifier(hidden_layer_sizes=(4096,4096,4096), random_state=8, activation='relu', solver=\"adam\", learning_rate_init=0.001, learning_rate='constant', beta_1=0.9)"
      ],
      "metadata": {
        "id": "DFM-8sjaocZk"
      },
      "execution_count": 25,
      "outputs": []
    },
    {
      "cell_type": "code",
      "source": [
        "MLPclass.fit(X_train, y_train)\n",
        "y_pred = MLPclass.predict(X_test)"
      ],
      "metadata": {
        "id": "BkJ22BN-qjLQ",
        "outputId": "fe769a9f-293a-4bd4-c827-02068d05e9f5",
        "colab": {
          "base_uri": "https://localhost:8080/"
        }
      },
      "execution_count": 26,
      "outputs": [
        {
          "output_type": "stream",
          "name": "stderr",
          "text": [
            "/usr/local/lib/python3.7/dist-packages/sklearn/neural_network/_multilayer_perceptron.py:1109: DataConversionWarning: A column-vector y was passed when a 1d array was expected. Please change the shape of y to (n_samples, ), for example using ravel().\n",
            "  y = column_or_1d(y, warn=True)\n"
          ]
        }
      ]
    },
    {
      "cell_type": "code",
      "source": [
        "accuracy_score(y_test, y_pred)  "
      ],
      "metadata": {
        "id": "NrzZLOeGq1kG",
        "outputId": "4e820817-5914-4e37-8673-85e949cf5608",
        "colab": {
          "base_uri": "https://localhost:8080/"
        }
      },
      "execution_count": 27,
      "outputs": [
        {
          "output_type": "execute_result",
          "data": {
            "text/plain": [
              "0.82"
            ]
          },
          "metadata": {},
          "execution_count": 27
        }
      ]
    }
  ]
}