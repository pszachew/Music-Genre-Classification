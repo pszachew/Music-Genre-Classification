{
  "nbformat": 4,
  "nbformat_minor": 0,
  "metadata": {
    "colab": {
      "name": "Untitled3.ipynb",
      "provenance": [],
      "authorship_tag": "ABX9TyPCJBY9uEikzz2V270/Rg/e",
      "include_colab_link": true
    },
    "kernelspec": {
      "name": "python3",
      "display_name": "Python 3"
    },
    "language_info": {
      "name": "python"
    }
  },
  "cells": [
    {
      "cell_type": "markdown",
      "metadata": {
        "id": "view-in-github",
        "colab_type": "text"
      },
      "source": [
        "<a href=\"https://colab.research.google.com/github/pszachew/Music-Genre-Classification/blob/master/GTZAN/training_10folds_mfcc.ipynb\" target=\"_parent\"><img src=\"https://colab.research.google.com/assets/colab-badge.svg\" alt=\"Open In Colab\"/></a>"
      ]
    },
    {
      "cell_type": "code",
      "metadata": {
        "id": "ndTmVrpOFCOp"
      },
      "source": [
        "import pandas as pd\n",
        "import numpy as np\n",
        "from sklearn.preprocessing import StandardScaler\n",
        "from sklearn.model_selection import train_test_split, KFold, cross_val_score, StratifiedKFold\n",
        "from sklearn.pipeline import Pipeline\n",
        "from sklearn.metrics import classification_report, confusion_matrix, accuracy_score, ConfusionMatrixDisplay\n",
        "import joblib\n",
        "import seaborn as sns\n",
        "import matplotlib.pyplot as plt\n",
        "from statistics import mean\n",
        "import json"
      ],
      "execution_count": 1,
      "outputs": []
    },
    {
      "cell_type": "code",
      "metadata": {
        "colab": {
          "base_uri": "https://localhost:8080/"
        },
        "id": "Rf6lRECfHMP2",
        "outputId": "7f3a58d1-b516-419c-fd32-0d778599afde"
      },
      "source": [
        "from google.colab import drive\n",
        "drive.mount('/content/gdrive')"
      ],
      "execution_count": 3,
      "outputs": [
        {
          "output_type": "stream",
          "name": "stdout",
          "text": [
            "Mounted at /content/gdrive\n"
          ]
        }
      ]
    },
    {
      "cell_type": "code",
      "metadata": {
        "id": "AtekSLDgHpH6"
      },
      "source": [
        "X = pd.read_csv('/content/gdrive/MyDrive/csv_data/GTZAN/features_mfcc.csv',header=None)"
      ],
      "execution_count": 4,
      "outputs": []
    },
    {
      "cell_type": "code",
      "metadata": {
        "id": "YxuMxGZ5H9G7"
      },
      "source": [
        "y = pd.read_csv('/content/gdrive/MyDrive/csv_data/GTZAN/labels_mfcc.csv', header=None)"
      ],
      "execution_count": 5,
      "outputs": []
    },
    {
      "cell_type": "code",
      "metadata": {
        "id": "djMzvQuSPYB0"
      },
      "source": [
        "scaler = StandardScaler()\n",
        "scaler.fit(X)\n",
        "X_sc =pd.DataFrame(scaler.transform(X))"
      ],
      "execution_count": 6,
      "outputs": []
    },
    {
      "cell_type": "code",
      "source": [
        "n_splits = 10"
      ],
      "metadata": {
        "id": "DhqPJoPiW-HU"
      },
      "execution_count": 10,
      "outputs": []
    },
    {
      "cell_type": "markdown",
      "metadata": {
        "id": "kiB0OJ-vOOa1"
      },
      "source": [
        "## **Logistic Regression**"
      ]
    },
    {
      "cell_type": "code",
      "metadata": {
        "id": "pC7UEEMvO4un"
      },
      "source": [
        "from sklearn.linear_model import LogisticRegression"
      ],
      "execution_count": 7,
      "outputs": []
    },
    {
      "cell_type": "code",
      "source": [
        "cd /content/gdrive/MyDrive/models/GTZAN/LogisticRegression"
      ],
      "metadata": {
        "colab": {
          "base_uri": "https://localhost:8080/"
        },
        "id": "b_8fsoUUIal2",
        "outputId": "85324bba-ff46-4318-cb92-97a1f12b8541"
      },
      "execution_count": 8,
      "outputs": [
        {
          "output_type": "stream",
          "name": "stdout",
          "text": [
            "/content/gdrive/MyDrive/models/GTZAN/LogisticRegression\n"
          ]
        }
      ]
    },
    {
      "cell_type": "code",
      "metadata": {
        "id": "72v0BoyeSm4t"
      },
      "source": [
        "kf = KFold(n_splits=n_splits, shuffle=True, random_state=42)\n",
        "mod_lg = LogisticRegression(max_iter=10000)"
      ],
      "execution_count": 11,
      "outputs": []
    },
    {
      "cell_type": "code",
      "metadata": {
        "id": "gDhZlRtDnlAj",
        "colab": {
          "base_uri": "https://localhost:8080/"
        },
        "outputId": "dc8a4f41-217e-41fb-a87b-9da24c7a87c8"
      },
      "source": [
        "i=1\n",
        "for x_train_idx, x_test_idx in kf.split(X_sc):\n",
        "  X_train = X_sc.iloc[x_train_idx]\n",
        "  X_test = X_sc.iloc[x_test_idx]\n",
        "  y_train = y.iloc[x_train_idx]\n",
        "  y_test = y.iloc[x_test_idx]\n",
        "  mod_lg.fit(X_train, np.array(y_train).flatten())\n",
        "  print(f\"Accuracy for the fold no. {i} on the test set: {accuracy_score(y_test, mod_lg.predict(X_test))}\")\n",
        "  joblib.dump(mod_lg, \"log_reg_mfcc\"+str(i)+\".sav\")\n",
        "  i=i+1"
      ],
      "execution_count": 12,
      "outputs": [
        {
          "output_type": "stream",
          "name": "stdout",
          "text": [
            "Accuracy for the fold no. 1 on the test set: 0.73\n",
            "Accuracy for the fold no. 2 on the test set: 0.62\n",
            "Accuracy for the fold no. 3 on the test set: 0.62\n",
            "Accuracy for the fold no. 4 on the test set: 0.66\n",
            "Accuracy for the fold no. 5 on the test set: 0.68\n",
            "Accuracy for the fold no. 6 on the test set: 0.61\n",
            "Accuracy for the fold no. 7 on the test set: 0.78\n",
            "Accuracy for the fold no. 8 on the test set: 0.64\n",
            "Accuracy for the fold no. 9 on the test set: 0.72\n",
            "Accuracy for the fold no. 10 on the test set: 0.6565656565656566\n"
          ]
        }
      ]
    },
    {
      "cell_type": "markdown",
      "metadata": {
        "id": "zcyatWgE10HQ"
      },
      "source": [
        "## **KNN**"
      ]
    },
    {
      "cell_type": "code",
      "metadata": {
        "id": "ZF9YDE5C19Xe"
      },
      "source": [
        "from sklearn.neighbors import KNeighborsClassifier"
      ],
      "execution_count": 13,
      "outputs": []
    },
    {
      "cell_type": "code",
      "source": [
        "cd /content/gdrive/MyDrive/models/GTZAN/KNN"
      ],
      "metadata": {
        "colab": {
          "base_uri": "https://localhost:8080/"
        },
        "id": "Fc-h6lr1rvT9",
        "outputId": "c27214cb-761c-4824-eace-2685a675cb43"
      },
      "execution_count": 14,
      "outputs": [
        {
          "output_type": "stream",
          "name": "stdout",
          "text": [
            "/content/gdrive/MyDrive/models/GTZAN/KNN\n"
          ]
        }
      ]
    },
    {
      "cell_type": "code",
      "metadata": {
        "id": "8oFVfQ_02PRZ"
      },
      "source": [
        "neigh = KNeighborsClassifier(n_neighbors = 4)"
      ],
      "execution_count": 15,
      "outputs": []
    },
    {
      "cell_type": "code",
      "metadata": {
        "id": "_7ZXk_Md-VyP",
        "colab": {
          "base_uri": "https://localhost:8080/"
        },
        "outputId": "c9aa8c79-277b-4a53-cb75-003d1b54b9fb"
      },
      "source": [
        "kf = KFold(n_splits=n_splits, shuffle=True, random_state=42)\n",
        "mod_knn = KNeighborsClassifier(n_neighbors=4)\n",
        "i=1\n",
        "for x_train_idx, x_test_idx in kf.split(X_sc):\n",
        "  X_train = X_sc.iloc[x_train_idx]\n",
        "  X_test = X_sc.iloc[x_test_idx]\n",
        "  y_train = y.iloc[x_train_idx]\n",
        "  y_test = y.iloc[x_test_idx]\n",
        "  mod_knn.fit(X_train, np.array(y_train).flatten())\n",
        "  print(f\"Accuracy for the fold no. {i} on the test set: {accuracy_score(y_test, mod_knn.predict(X_test))}\")\n",
        "  joblib.dump(mod_knn, \"knn_mfcc\"+str(i)+\".sav\")\n",
        "  i=i+1"
      ],
      "execution_count": 16,
      "outputs": [
        {
          "output_type": "stream",
          "name": "stdout",
          "text": [
            "Accuracy for the fold no. 1 on the test set: 0.76\n",
            "Accuracy for the fold no. 2 on the test set: 0.52\n",
            "Accuracy for the fold no. 3 on the test set: 0.54\n",
            "Accuracy for the fold no. 4 on the test set: 0.58\n",
            "Accuracy for the fold no. 5 on the test set: 0.47\n",
            "Accuracy for the fold no. 6 on the test set: 0.62\n",
            "Accuracy for the fold no. 7 on the test set: 0.67\n",
            "Accuracy for the fold no. 8 on the test set: 0.65\n",
            "Accuracy for the fold no. 9 on the test set: 0.65\n",
            "Accuracy for the fold no. 10 on the test set: 0.5959595959595959\n"
          ]
        }
      ]
    },
    {
      "cell_type": "markdown",
      "metadata": {
        "id": "RE-XltsexggE"
      },
      "source": [
        "### **SVM**"
      ]
    },
    {
      "cell_type": "code",
      "metadata": {
        "id": "83Z3JpcUxkZk"
      },
      "source": [
        "from sklearn.svm import SVC"
      ],
      "execution_count": 17,
      "outputs": []
    },
    {
      "cell_type": "code",
      "metadata": {
        "id": "R5HoILa0qS2q"
      },
      "source": [
        "kf = KFold(n_splits=n_splits, shuffle=True, random_state=42)"
      ],
      "execution_count": 20,
      "outputs": []
    },
    {
      "cell_type": "code",
      "source": [
        "cd /content/gdrive/MyDrive/models/GTZAN/SVM"
      ],
      "metadata": {
        "colab": {
          "base_uri": "https://localhost:8080/"
        },
        "id": "B9_t-QM5z3f2",
        "outputId": "c58f3a98-83fc-4020-fbb2-be51f81adbe3"
      },
      "execution_count": 19,
      "outputs": [
        {
          "output_type": "stream",
          "name": "stdout",
          "text": [
            "/content/gdrive/MyDrive/models/GTZAN/SVM\n"
          ]
        }
      ]
    },
    {
      "cell_type": "code",
      "metadata": {
        "id": "jIV4LU8_z0IH",
        "colab": {
          "base_uri": "https://localhost:8080/"
        },
        "outputId": "d82ec490-9b10-444c-982e-e1ef75acc4fa"
      },
      "source": [
        "i=1\n",
        "for x_train_idx, x_test_idx in kf.split(X_sc):\n",
        "  X_train = X_sc.iloc[x_train_idx]\n",
        "  X_test = X_sc.iloc[x_test_idx]\n",
        "  y_train = y.iloc[x_train_idx]\n",
        "  y_test = y.iloc[x_test_idx]\n",
        "  mod_svm = SVC(kernel='linear')\n",
        "  mod_svm.fit(X_train, np.array(y_train).flatten())\n",
        "  print(f\"Accuracy for the fold no. {i} on the test set: {accuracy_score(y_test, mod_svm.predict(X_test))}\")\n",
        "  joblib.dump(mod_svm, \"svm_mfcc\"+str(i)+\".sav\")\n",
        "  i=i+1"
      ],
      "execution_count": 21,
      "outputs": [
        {
          "output_type": "stream",
          "name": "stdout",
          "text": [
            "Accuracy for the fold no. 1 on the test set: 0.72\n",
            "Accuracy for the fold no. 2 on the test set: 0.63\n",
            "Accuracy for the fold no. 3 on the test set: 0.6\n",
            "Accuracy for the fold no. 4 on the test set: 0.63\n",
            "Accuracy for the fold no. 5 on the test set: 0.62\n",
            "Accuracy for the fold no. 6 on the test set: 0.64\n",
            "Accuracy for the fold no. 7 on the test set: 0.67\n",
            "Accuracy for the fold no. 8 on the test set: 0.64\n",
            "Accuracy for the fold no. 9 on the test set: 0.73\n",
            "Accuracy for the fold no. 10 on the test set: 0.6262626262626263\n"
          ]
        }
      ]
    },
    {
      "cell_type": "markdown",
      "metadata": {
        "id": "lWX-cuRbPVtJ"
      },
      "source": [
        "### **Random Forests**"
      ]
    },
    {
      "cell_type": "code",
      "metadata": {
        "id": "a2gAMU-TPZzT"
      },
      "source": [
        "from sklearn.ensemble import RandomForestClassifier"
      ],
      "execution_count": 22,
      "outputs": []
    },
    {
      "cell_type": "code",
      "metadata": {
        "id": "3OWt9lfmPf71"
      },
      "source": [
        "kf = KFold(n_splits=n_splits, shuffle=True, random_state=42)"
      ],
      "execution_count": 23,
      "outputs": []
    },
    {
      "cell_type": "code",
      "source": [
        "cd /content/gdrive/MyDrive/models/GTZAN/RFC"
      ],
      "metadata": {
        "colab": {
          "base_uri": "https://localhost:8080/"
        },
        "id": "HqQJmpgW6taI",
        "outputId": "0525aa72-5c67-453e-83b0-ad51072ce820"
      },
      "execution_count": 24,
      "outputs": [
        {
          "output_type": "stream",
          "name": "stdout",
          "text": [
            "/content/gdrive/MyDrive/models/GTZAN/RFC\n"
          ]
        }
      ]
    },
    {
      "cell_type": "code",
      "metadata": {
        "id": "RHBVA8p2TWOg",
        "colab": {
          "base_uri": "https://localhost:8080/"
        },
        "outputId": "f2c8cabd-3ea9-43ba-d308-29ed8958786e"
      },
      "source": [
        "i=1\n",
        "for train_idx, test_idx in kf.split(X_sc):\n",
        "  X_train = X_sc.iloc[train_idx]\n",
        "  X_test = X_sc.iloc[test_idx]\n",
        "  y_train = y.iloc[train_idx]\n",
        "  y_test = y.iloc[test_idx]\n",
        "  rfc = RandomForestClassifier(n_estimators=400)\n",
        "  rfc.fit(X_train, np.array(y_train).flatten())\n",
        "  print(f\"Accuracy for the fold no. {i} on the test set: {accuracy_score(y_test, rfc.predict(X_test))}\")\n",
        "  joblib.dump(rfc, \"rfc_mfcc\"+str(i)+\".sav\")\n",
        "  i = i+1\n"
      ],
      "execution_count": 25,
      "outputs": [
        {
          "output_type": "stream",
          "name": "stdout",
          "text": [
            "Accuracy for the fold no. 1 on the test set: 0.69\n",
            "Accuracy for the fold no. 2 on the test set: 0.64\n",
            "Accuracy for the fold no. 3 on the test set: 0.62\n",
            "Accuracy for the fold no. 4 on the test set: 0.69\n",
            "Accuracy for the fold no. 5 on the test set: 0.69\n",
            "Accuracy for the fold no. 6 on the test set: 0.66\n",
            "Accuracy for the fold no. 7 on the test set: 0.77\n",
            "Accuracy for the fold no. 8 on the test set: 0.7\n",
            "Accuracy for the fold no. 9 on the test set: 0.73\n",
            "Accuracy for the fold no. 10 on the test set: 0.696969696969697\n"
          ]
        }
      ]
    },
    {
      "cell_type": "markdown",
      "metadata": {
        "id": "PofpLxV7uA8W"
      },
      "source": [
        "### **Gradient Boosting**"
      ]
    },
    {
      "cell_type": "code",
      "metadata": {
        "id": "IcsS8nhSuI0C"
      },
      "source": [
        "import xgboost as xgb"
      ],
      "execution_count": 26,
      "outputs": []
    },
    {
      "cell_type": "code",
      "metadata": {
        "id": "8eaG1OzFrVSK"
      },
      "source": [
        "kf = KFold(n_splits=n_splits, shuffle=True, random_state=42)"
      ],
      "execution_count": 27,
      "outputs": []
    },
    {
      "cell_type": "code",
      "source": [
        "cd /content/gdrive/MyDrive/models/GTZAN/Gradient Boosting"
      ],
      "metadata": {
        "colab": {
          "base_uri": "https://localhost:8080/"
        },
        "id": "4UEbwkDv9Zfp",
        "outputId": "79676784-fd3d-40df-9351-c8593d22b7ba"
      },
      "execution_count": 28,
      "outputs": [
        {
          "output_type": "stream",
          "name": "stdout",
          "text": [
            "/content/gdrive/MyDrive/models/GTZAN/Gradient Boosting\n"
          ]
        }
      ]
    },
    {
      "cell_type": "code",
      "metadata": {
        "id": "oZrGoogZq29E",
        "colab": {
          "base_uri": "https://localhost:8080/"
        },
        "outputId": "405062b2-1f20-4973-c2fa-bf0211a9b6ec"
      },
      "source": [
        "i=1\n",
        "for train_idx, test_idx in kf.split(X_sc):\n",
        "  X_train = X_sc.iloc[train_idx]\n",
        "  X_test = X_sc.iloc[test_idx]\n",
        "  y_train = y.iloc[train_idx]\n",
        "  y_test = y.iloc[test_idx]\n",
        "  xgbc = xgb.XGBClassifier(max_depths=5, learning_rate=0.1)\n",
        "  xgbc.fit(X_train, np.array(y_train).flatten())\n",
        "  print(f\"Accuracy for the fold no. {i} on the test set: {accuracy_score(y_test, xgbc.predict(X_test))}\")\n",
        "  joblib.dump(xgbc, \"xgbc_mfcc\"+str(i)+\".sav\")\n",
        "  i = i+1"
      ],
      "execution_count": 29,
      "outputs": [
        {
          "output_type": "stream",
          "name": "stdout",
          "text": [
            "Accuracy for the fold no. 1 on the test set: 0.68\n",
            "Accuracy for the fold no. 2 on the test set: 0.69\n",
            "Accuracy for the fold no. 3 on the test set: 0.65\n",
            "Accuracy for the fold no. 4 on the test set: 0.66\n",
            "Accuracy for the fold no. 5 on the test set: 0.72\n",
            "Accuracy for the fold no. 6 on the test set: 0.67\n",
            "Accuracy for the fold no. 7 on the test set: 0.77\n",
            "Accuracy for the fold no. 8 on the test set: 0.67\n",
            "Accuracy for the fold no. 9 on the test set: 0.72\n",
            "Accuracy for the fold no. 10 on the test set: 0.7171717171717171\n"
          ]
        }
      ]
    },
    {
      "cell_type": "markdown",
      "source": [
        "## **MLPClassifier**"
      ],
      "metadata": {
        "id": "SJaHZaVunqTx"
      }
    },
    {
      "cell_type": "code",
      "source": [
        "from sklearn.neural_network import MLPClassifier"
      ],
      "metadata": {
        "id": "eq9sFwfHnwwl"
      },
      "execution_count": 30,
      "outputs": []
    },
    {
      "cell_type": "code",
      "source": [
        "MLPclass = MLPClassifier(hidden_layer_sizes=(4096,4096,4096), random_state=8, activation='relu', solver=\"adam\", learning_rate_init=0.001, learning_rate='constant', beta_1=0.9)"
      ],
      "metadata": {
        "id": "DFM-8sjaocZk"
      },
      "execution_count": 31,
      "outputs": []
    },
    {
      "cell_type": "code",
      "source": [
        "MLPclass.fit(X_train, np.array(y_train).flatten())\n",
        "y_pred = MLPclass.predict(X_test)"
      ],
      "metadata": {
        "id": "BkJ22BN-qjLQ"
      },
      "execution_count": 32,
      "outputs": []
    },
    {
      "cell_type": "code",
      "source": [
        "accuracy_score(y_test, y_pred)  "
      ],
      "metadata": {
        "id": "NrzZLOeGq1kG",
        "outputId": "4e820817-5914-4e37-8673-85e949cf5608",
        "colab": {
          "base_uri": "https://localhost:8080/"
        }
      },
      "execution_count": null,
      "outputs": [
        {
          "output_type": "execute_result",
          "data": {
            "text/plain": [
              "0.82"
            ]
          },
          "metadata": {},
          "execution_count": 27
        }
      ]
    }
  ]
}