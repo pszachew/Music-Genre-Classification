{
  "nbformat": 4,
  "nbformat_minor": 0,
  "metadata": {
    "colab": {
      "name": "Untitled21.ipynb",
      "provenance": [],
      "authorship_tag": "ABX9TyO7z2TAmKWBgUfVNPE0FXXN",
      "include_colab_link": true
    },
    "kernelspec": {
      "name": "python3",
      "display_name": "Python 3"
    },
    "language_info": {
      "name": "python"
    }
  },
  "cells": [
    {
      "cell_type": "markdown",
      "metadata": {
        "id": "view-in-github",
        "colab_type": "text"
      },
      "source": [
        "<a href=\"https://colab.research.google.com/github/pszachew/Music-Genre-Classification/blob/master/TinySOL/training.ipynb\" target=\"_parent\"><img src=\"https://colab.research.google.com/assets/colab-badge.svg\" alt=\"Open In Colab\"/></a>"
      ]
    },
    {
      "cell_type": "code",
      "execution_count": 1,
      "metadata": {
        "id": "NzZY2rnce5nE"
      },
      "outputs": [],
      "source": [
        "import pandas as pd\n",
        "import numpy as np\n",
        "from sklearn.preprocessing import StandardScaler\n",
        "from sklearn.model_selection import train_test_split, KFold, cross_val_score\n",
        "from sklearn.pipeline import Pipeline\n",
        "from sklearn.metrics import classification_report, confusion_matrix, accuracy_score, ConfusionMatrixDisplay\n",
        "import joblib\n",
        "import seaborn as sns\n",
        "import matplotlib.pyplot as plt\n",
        "from statistics import mean\n",
        "import json"
      ]
    },
    {
      "cell_type": "code",
      "source": [
        "from google.colab import drive\n",
        "drive.mount('/content/gdrive')"
      ],
      "metadata": {
        "colab": {
          "base_uri": "https://localhost:8080/"
        },
        "id": "AYE_XF4fe82s",
        "outputId": "3ad6fa16-1509-42f5-fd39-27a782edd813"
      },
      "execution_count": 2,
      "outputs": [
        {
          "output_type": "stream",
          "name": "stdout",
          "text": [
            "Mounted at /content/gdrive\n"
          ]
        }
      ]
    },
    {
      "cell_type": "code",
      "source": [
        "X = pd.read_csv('/content/gdrive/MyDrive/csv_data/TinySOL/features.csv',header=None)"
      ],
      "metadata": {
        "id": "uGPRPjwBe9vv"
      },
      "execution_count": 3,
      "outputs": []
    },
    {
      "cell_type": "code",
      "source": [
        "y = pd.read_csv('/content/gdrive/MyDrive/csv_data/TinySOL/labels.csv', header=None)"
      ],
      "metadata": {
        "id": "VltKSiZ9fLmG"
      },
      "execution_count": 4,
      "outputs": []
    },
    {
      "cell_type": "code",
      "source": [
        "X_train, X_test, y_train, y_test = train_test_split(X,y,test_size=0.3, random_state=10)"
      ],
      "metadata": {
        "id": "Z4dXqQgpfSph"
      },
      "execution_count": 6,
      "outputs": []
    },
    {
      "cell_type": "code",
      "source": [
        ""
      ],
      "metadata": {
        "id": "4FYz8MHCfUf8"
      },
      "execution_count": null,
      "outputs": []
    },
    {
      "cell_type": "markdown",
      "source": [
        "## **Logistic Regression**"
      ],
      "metadata": {
        "id": "bXPTxlkefYGt"
      }
    },
    {
      "cell_type": "code",
      "source": [
        "from sklearn.linear_model import LogisticRegression"
      ],
      "metadata": {
        "id": "OMzEeA40faMd"
      },
      "execution_count": 7,
      "outputs": []
    },
    {
      "cell_type": "code",
      "source": [
        "log_reg_mod = LogisticRegression(max_iter=10000)"
      ],
      "metadata": {
        "id": "ORHeBjozfbNc"
      },
      "execution_count": 8,
      "outputs": []
    },
    {
      "cell_type": "code",
      "source": [
        "log_reg_mod.fit(X_train, np.array(y_train).flatten())"
      ],
      "metadata": {
        "colab": {
          "base_uri": "https://localhost:8080/"
        },
        "id": "oPOQ_mDvfce7",
        "outputId": "023468ee-3ff1-4954-b0eb-2833492bd1cd"
      },
      "execution_count": 9,
      "outputs": [
        {
          "output_type": "execute_result",
          "data": {
            "text/plain": [
              "LogisticRegression(max_iter=10000)"
            ]
          },
          "metadata": {},
          "execution_count": 9
        }
      ]
    },
    {
      "cell_type": "code",
      "source": [
        "y_pre_lg = log_reg_mod.predict(X_test)"
      ],
      "metadata": {
        "id": "CrT9jX-jfeJB"
      },
      "execution_count": 10,
      "outputs": []
    },
    {
      "cell_type": "code",
      "source": [
        "print(classification_report(y_test,y_pre_lg))"
      ],
      "metadata": {
        "colab": {
          "base_uri": "https://localhost:8080/"
        },
        "id": "xiz9_AJnfiNj",
        "outputId": "04a75914-e215-456c-a954-4964e68a7c9a"
      },
      "execution_count": 11,
      "outputs": [
        {
          "output_type": "stream",
          "name": "stdout",
          "text": [
            "              precision    recall  f1-score   support\n",
            "\n",
            "   Accordion       1.00      1.00      1.00       204\n",
            "   Bass_Tuba       1.00      1.00      1.00        36\n",
            "     Bassoon       1.00      1.00      1.00        38\n",
            " Clarinet_Bb       1.00      1.00      1.00        37\n",
            "  Contrabass       0.97      1.00      0.98        98\n",
            "       Flute       1.00      1.00      1.00        36\n",
            "        Horn       1.00      1.00      1.00        40\n",
            "        Oboe       1.00      1.00      1.00        28\n",
            "    Sax_Alto       1.00      1.00      1.00        25\n",
            "    Trombone       1.00      1.00      1.00        30\n",
            "   Trumpet_C       1.00      1.00      1.00        31\n",
            "       Viola       1.00      1.00      1.00       103\n",
            "      Violin       1.00      1.00      1.00        96\n",
            " Violoncello       1.00      0.96      0.98        73\n",
            "\n",
            "    accuracy                           1.00       875\n",
            "   macro avg       1.00      1.00      1.00       875\n",
            "weighted avg       1.00      1.00      1.00       875\n",
            "\n"
          ]
        }
      ]
    },
    {
      "cell_type": "code",
      "source": [
        ""
      ],
      "metadata": {
        "id": "T4su_bz0gPwj"
      },
      "execution_count": null,
      "outputs": []
    },
    {
      "cell_type": "markdown",
      "source": [
        "## **KNN**"
      ],
      "metadata": {
        "id": "anR591x_gXCC"
      }
    },
    {
      "cell_type": "code",
      "source": [
        "from sklearn.neighbors import KNeighborsClassifier"
      ],
      "metadata": {
        "id": "ThfZj8bYgYiW"
      },
      "execution_count": 12,
      "outputs": []
    },
    {
      "cell_type": "code",
      "source": [
        "neigh = KNeighborsClassifier(n_neighbors = 4)\n",
        "neigh.fit(X_train, np.array(y_train).flatten())"
      ],
      "metadata": {
        "colab": {
          "base_uri": "https://localhost:8080/"
        },
        "id": "spesYxNzgY4f",
        "outputId": "1dfbf9ce-2a28-41a3-8333-40a323a09665"
      },
      "execution_count": 13,
      "outputs": [
        {
          "output_type": "execute_result",
          "data": {
            "text/plain": [
              "KNeighborsClassifier(n_neighbors=4)"
            ]
          },
          "metadata": {},
          "execution_count": 13
        }
      ]
    },
    {
      "cell_type": "code",
      "source": [
        "print(classification_report(y_test,neigh.predict(X_test)))"
      ],
      "metadata": {
        "colab": {
          "base_uri": "https://localhost:8080/"
        },
        "id": "BpviB6NTgZ8H",
        "outputId": "baaa5684-16c2-4ee6-fbf2-7a7096317714"
      },
      "execution_count": 21,
      "outputs": [
        {
          "output_type": "stream",
          "name": "stdout",
          "text": [
            "              precision    recall  f1-score   support\n",
            "\n",
            "   Accordion       1.00      1.00      1.00       204\n",
            "   Bass_Tuba       1.00      1.00      1.00        36\n",
            "     Bassoon       0.97      0.92      0.95        38\n",
            " Clarinet_Bb       0.95      1.00      0.97        37\n",
            "  Contrabass       0.95      1.00      0.98        98\n",
            "       Flute       1.00      1.00      1.00        36\n",
            "        Horn       0.93      0.93      0.93        40\n",
            "        Oboe       0.96      0.96      0.96        28\n",
            "    Sax_Alto       0.92      0.88      0.90        25\n",
            "    Trombone       0.88      0.97      0.92        30\n",
            "   Trumpet_C       1.00      1.00      1.00        31\n",
            "       Viola       0.91      0.96      0.93       103\n",
            "      Violin       0.99      0.91      0.95        96\n",
            " Violoncello       0.99      0.92      0.95        73\n",
            "\n",
            "    accuracy                           0.97       875\n",
            "   macro avg       0.96      0.96      0.96       875\n",
            "weighted avg       0.97      0.97      0.97       875\n",
            "\n"
          ]
        }
      ]
    },
    {
      "cell_type": "markdown",
      "source": [
        "## **Decision Tree**"
      ],
      "metadata": {
        "id": "JRg4c3crhdXp"
      }
    },
    {
      "cell_type": "code",
      "source": [
        "from sklearn.tree import DecisionTreeClassifier"
      ],
      "metadata": {
        "id": "dV5jB60vhRjD"
      },
      "execution_count": 16,
      "outputs": []
    },
    {
      "cell_type": "code",
      "source": [
        "clf = DecisionTreeClassifier(max_depth=14)"
      ],
      "metadata": {
        "id": "a7-Fy-XvhR-W"
      },
      "execution_count": 17,
      "outputs": []
    },
    {
      "cell_type": "code",
      "source": [
        "clf.fit(X_train, y_train)"
      ],
      "metadata": {
        "colab": {
          "base_uri": "https://localhost:8080/"
        },
        "id": "DTpjBBPNhZ6g",
        "outputId": "d6dc1d90-3052-45d3-f696-25834b6bd8a8"
      },
      "execution_count": 18,
      "outputs": [
        {
          "output_type": "execute_result",
          "data": {
            "text/plain": [
              "DecisionTreeClassifier(max_depth=14)"
            ]
          },
          "metadata": {},
          "execution_count": 18
        }
      ]
    },
    {
      "cell_type": "code",
      "source": [
        "accuracy_score(y_test, clf.predict(X_test))"
      ],
      "metadata": {
        "colab": {
          "base_uri": "https://localhost:8080/"
        },
        "id": "14M8oRtLha1x",
        "outputId": "9c0607e4-b743-47ee-9753-c87a7263af93"
      },
      "execution_count": 19,
      "outputs": [
        {
          "output_type": "execute_result",
          "data": {
            "text/plain": [
              "0.7931428571428571"
            ]
          },
          "metadata": {},
          "execution_count": 19
        }
      ]
    },
    {
      "cell_type": "code",
      "source": [
        "print(classification_report(y_test, clf.predict(X_test)))"
      ],
      "metadata": {
        "colab": {
          "base_uri": "https://localhost:8080/"
        },
        "id": "WP879AMmhlMK",
        "outputId": "a43ab6a0-0d38-4f2c-8fe6-db7906385a55"
      },
      "execution_count": 23,
      "outputs": [
        {
          "output_type": "stream",
          "name": "stdout",
          "text": [
            "              precision    recall  f1-score   support\n",
            "\n",
            "   Accordion       0.90      0.96      0.93       204\n",
            "   Bass_Tuba       0.85      0.97      0.91        36\n",
            "     Bassoon       0.69      0.76      0.72        38\n",
            " Clarinet_Bb       0.37      0.41      0.38        37\n",
            "  Contrabass       0.94      0.83      0.88        98\n",
            "       Flute       0.79      0.53      0.63        36\n",
            "        Horn       0.53      0.65      0.58        40\n",
            "        Oboe       0.53      0.64      0.58        28\n",
            "    Sax_Alto       0.43      0.36      0.39        25\n",
            "    Trombone       0.68      0.63      0.66        30\n",
            "   Trumpet_C       0.68      0.48      0.57        31\n",
            "       Viola       0.89      0.83      0.86       103\n",
            "      Violin       0.87      0.89      0.88        96\n",
            " Violoncello       0.82      0.85      0.83        73\n",
            "\n",
            "    accuracy                           0.79       875\n",
            "   macro avg       0.71      0.70      0.70       875\n",
            "weighted avg       0.80      0.79      0.79       875\n",
            "\n"
          ]
        }
      ]
    },
    {
      "cell_type": "code",
      "source": [
        ""
      ],
      "metadata": {
        "id": "xDi_R99bh2Qj"
      },
      "execution_count": null,
      "outputs": []
    }
  ]
}