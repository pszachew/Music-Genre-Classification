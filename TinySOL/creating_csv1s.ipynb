{
  "nbformat": 4,
  "nbformat_minor": 0,
  "metadata": {
    "colab": {
      "name": "Untitled20.ipynb",
      "provenance": [],
      "authorship_tag": "ABX9TyPxaq4HpovpXBbrXsCcRdYG",
      "include_colab_link": true
    },
    "kernelspec": {
      "name": "python3",
      "display_name": "Python 3"
    },
    "language_info": {
      "name": "python"
    }
  },
  "cells": [
    {
      "cell_type": "markdown",
      "metadata": {
        "id": "view-in-github",
        "colab_type": "text"
      },
      "source": [
        "<a href=\"https://colab.research.google.com/github/pszachew/Music-Genre-Classification/blob/master/TinySOL/creating_csv1s.ipynb\" target=\"_parent\"><img src=\"https://colab.research.google.com/assets/colab-badge.svg\" alt=\"Open In Colab\"/></a>"
      ]
    },
    {
      "cell_type": "code",
      "execution_count": 1,
      "metadata": {
        "id": "KlIvRS-hUPmH"
      },
      "outputs": [],
      "source": [
        "import pandas as pd\n",
        "import numpy as np\n",
        "import os"
      ]
    },
    {
      "cell_type": "code",
      "source": [
        "from google.colab import drive\n",
        "import sys\n",
        "drive.mount('/content/gdrive')\n",
        "sys.path.append('/content/gdrive/My Drive/Colab Notebooks')"
      ],
      "metadata": {
        "colab": {
          "base_uri": "https://localhost:8080/"
        },
        "id": "aRNqaxLmUVwy",
        "outputId": "d3adcadf-5ead-47a3-9fa5-9f06b7ea6a2d"
      },
      "execution_count": 2,
      "outputs": [
        {
          "output_type": "stream",
          "name": "stdout",
          "text": [
            "Mounted at /content/gdrive\n"
          ]
        }
      ]
    },
    {
      "cell_type": "code",
      "source": [
        "X = []\n",
        "labels = []\n",
        "for category in os.listdir(\"/content/gdrive/MyDrive/Embedded Music/TinySOL1s\"):\n",
        "  for instrument in os.listdir(\"/content/gdrive/MyDrive/Embedded Music/TinySOL1s\" + \"/\" + category):\n",
        "    for file in os.listdir(\"/content/gdrive/MyDrive/Embedded Music/TinySOL1s\" + \"/\" + category+\"/\"+instrument+\"/\"+\"ordinario\"):\n",
        "      X.append((np.load(\"/content/gdrive/MyDrive/Embedded Music/TinySOL1s\" + \"/\" + category+\"/\"+instrument+\"/\"+\"ordinario\"+\"/\"+file))['embedding'].flatten())\n",
        "      labels.append(instrument)"
      ],
      "metadata": {
        "id": "iE1-FOKvUr2L"
      },
      "execution_count": 5,
      "outputs": []
    },
    {
      "cell_type": "code",
      "source": [
        "dl = []\n",
        "for el in X:\n",
        "  dl.append(len(el))"
      ],
      "metadata": {
        "id": "alqH1vZFVPKI"
      },
      "execution_count": 6,
      "outputs": []
    },
    {
      "cell_type": "code",
      "source": [
        "max(dl)"
      ],
      "metadata": {
        "colab": {
          "base_uri": "https://localhost:8080/"
        },
        "id": "g_P_omcuaJiG",
        "outputId": "71ded865-4930-4ff7-97ca-7f417f8f59c0"
      },
      "execution_count": 7,
      "outputs": [
        {
          "output_type": "execute_result",
          "data": {
            "text/plain": [
              "3584"
            ]
          },
          "metadata": {},
          "execution_count": 7
        }
      ]
    },
    {
      "cell_type": "code",
      "source": [
        "min(dl)"
      ],
      "metadata": {
        "colab": {
          "base_uri": "https://localhost:8080/"
        },
        "id": "gHZW9obvaKpj",
        "outputId": "a43d270e-c1eb-4ecd-fa01-b17092ee36c6"
      },
      "execution_count": 8,
      "outputs": [
        {
          "output_type": "execute_result",
          "data": {
            "text/plain": [
              "3584"
            ]
          },
          "metadata": {},
          "execution_count": 8
        }
      ]
    },
    {
      "cell_type": "code",
      "source": [
        "X_df = pd.DataFrame(X)\n",
        "y_df = pd.DataFrame(labels)"
      ],
      "metadata": {
        "id": "Xg9nODp-b2Kr"
      },
      "execution_count": 9,
      "outputs": []
    },
    {
      "cell_type": "code",
      "source": [
        "X_df.to_csv(\"/content/gdrive/MyDrive/csv_data/TinySOL1s/features.csv\", index=None, header=None)"
      ],
      "metadata": {
        "id": "krKs40UQcEaY"
      },
      "execution_count": 10,
      "outputs": []
    },
    {
      "cell_type": "code",
      "source": [
        "y_df.to_csv(\"/content/gdrive/MyDrive/csv_data/TinySOL1s/labels.csv\", index=None, header=None)"
      ],
      "metadata": {
        "id": "3FZlQNnkbd0H"
      },
      "execution_count": 11,
      "outputs": []
    }
  ]
}