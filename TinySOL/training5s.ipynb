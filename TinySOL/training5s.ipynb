{
  "nbformat": 4,
  "nbformat_minor": 0,
  "metadata": {
    "colab": {
      "name": "Untitled21.ipynb",
      "provenance": [],
      "authorship_tag": "ABX9TyPMkEhWFzVFT+1/9hd/H8ja",
      "include_colab_link": true
    },
    "kernelspec": {
      "name": "python3",
      "display_name": "Python 3"
    },
    "language_info": {
      "name": "python"
    }
  },
  "cells": [
    {
      "cell_type": "markdown",
      "metadata": {
        "id": "view-in-github",
        "colab_type": "text"
      },
      "source": [
        "<a href=\"https://colab.research.google.com/github/pszachew/Music-Genre-Classification/blob/master/TinySOL/training5s.ipynb\" target=\"_parent\"><img src=\"https://colab.research.google.com/assets/colab-badge.svg\" alt=\"Open In Colab\"/></a>"
      ]
    },
    {
      "cell_type": "code",
      "execution_count": 1,
      "metadata": {
        "id": "NzZY2rnce5nE"
      },
      "outputs": [],
      "source": [
        "import pandas as pd\n",
        "import numpy as np\n",
        "from sklearn.preprocessing import StandardScaler\n",
        "from sklearn.model_selection import train_test_split, KFold, cross_val_score\n",
        "from sklearn.pipeline import Pipeline\n",
        "from sklearn.metrics import classification_report, confusion_matrix, accuracy_score, ConfusionMatrixDisplay\n",
        "import joblib\n",
        "import seaborn as sns\n",
        "import matplotlib.pyplot as plt\n",
        "from statistics import mean\n",
        "import json"
      ]
    },
    {
      "cell_type": "code",
      "source": [
        "from google.colab import drive\n",
        "drive.mount('/content/gdrive')"
      ],
      "metadata": {
        "colab": {
          "base_uri": "https://localhost:8080/"
        },
        "id": "AYE_XF4fe82s",
        "outputId": "d67deaeb-9353-413f-f32d-6cef64dcb11d"
      },
      "execution_count": 2,
      "outputs": [
        {
          "output_type": "stream",
          "name": "stdout",
          "text": [
            "Mounted at /content/gdrive\n"
          ]
        }
      ]
    },
    {
      "cell_type": "code",
      "source": [
        "X = pd.read_csv('/content/gdrive/MyDrive/csv_data/TinySOL5s/features.csv',header=None)"
      ],
      "metadata": {
        "id": "uGPRPjwBe9vv"
      },
      "execution_count": 3,
      "outputs": []
    },
    {
      "cell_type": "code",
      "source": [
        "y = pd.read_csv('/content/gdrive/MyDrive/csv_data/TinySOL5s/labels.csv', header=None)"
      ],
      "metadata": {
        "id": "VltKSiZ9fLmG"
      },
      "execution_count": 4,
      "outputs": []
    },
    {
      "cell_type": "code",
      "source": [
        "X_train, X_test, y_train, y_test = train_test_split(X,y,test_size=0.3, random_state=10)"
      ],
      "metadata": {
        "id": "Z4dXqQgpfSph"
      },
      "execution_count": 5,
      "outputs": []
    },
    {
      "cell_type": "markdown",
      "source": [
        "## **Logistic Regression**"
      ],
      "metadata": {
        "id": "bXPTxlkefYGt"
      }
    },
    {
      "cell_type": "code",
      "source": [
        "from sklearn.linear_model import LogisticRegression"
      ],
      "metadata": {
        "id": "OMzEeA40faMd"
      },
      "execution_count": 6,
      "outputs": []
    },
    {
      "cell_type": "code",
      "source": [
        "log_reg_mod = LogisticRegression(max_iter=10000)"
      ],
      "metadata": {
        "id": "ORHeBjozfbNc"
      },
      "execution_count": 7,
      "outputs": []
    },
    {
      "cell_type": "code",
      "source": [
        "log_reg_mod.fit(X_train, np.array(y_train).flatten())"
      ],
      "metadata": {
        "colab": {
          "base_uri": "https://localhost:8080/"
        },
        "id": "oPOQ_mDvfce7",
        "outputId": "580f1bbf-628a-4c15-ff7a-5342f949c2cf"
      },
      "execution_count": 8,
      "outputs": [
        {
          "output_type": "execute_result",
          "data": {
            "text/plain": [
              "LogisticRegression(max_iter=10000)"
            ]
          },
          "metadata": {},
          "execution_count": 8
        }
      ]
    },
    {
      "cell_type": "code",
      "source": [
        "y_pre_lg = log_reg_mod.predict(X_test)"
      ],
      "metadata": {
        "id": "CrT9jX-jfeJB"
      },
      "execution_count": 9,
      "outputs": []
    },
    {
      "cell_type": "code",
      "source": [
        "print(classification_report(y_test,y_pre_lg))"
      ],
      "metadata": {
        "colab": {
          "base_uri": "https://localhost:8080/"
        },
        "id": "xiz9_AJnfiNj",
        "outputId": "98f2d216-9481-4759-9d0e-46a1d2a49009"
      },
      "execution_count": 10,
      "outputs": [
        {
          "output_type": "stream",
          "name": "stdout",
          "text": [
            "              precision    recall  f1-score   support\n",
            "\n",
            "   Accordion       1.00      1.00      1.00       225\n",
            "   Bass_Tuba       1.00      1.00      1.00        31\n",
            "     Bassoon       1.00      1.00      1.00        42\n",
            " Clarinet_Bb       1.00      1.00      1.00        24\n",
            "  Contrabass       0.99      1.00      1.00       100\n",
            "       Flute       1.00      1.00      1.00        33\n",
            "        Horn       1.00      0.97      0.99        38\n",
            "        Oboe       1.00      1.00      1.00        36\n",
            "    Sax_Alto       1.00      1.00      1.00        34\n",
            "    Trombone       0.97      1.00      0.98        29\n",
            "   Trumpet_C       1.00      1.00      1.00        30\n",
            "       Viola       1.00      1.00      1.00        86\n",
            "      Violin       1.00      1.00      1.00        73\n",
            " Violoncello       1.00      0.99      0.99        93\n",
            "\n",
            "    accuracy                           1.00       874\n",
            "   macro avg       1.00      1.00      1.00       874\n",
            "weighted avg       1.00      1.00      1.00       874\n",
            "\n"
          ]
        }
      ]
    },
    {
      "cell_type": "code",
      "source": [
        ""
      ],
      "metadata": {
        "id": "xDi_R99bh2Qj"
      },
      "execution_count": null,
      "outputs": []
    }
  ]
}