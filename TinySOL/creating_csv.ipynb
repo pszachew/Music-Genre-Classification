{
  "nbformat": 4,
  "nbformat_minor": 0,
  "metadata": {
    "colab": {
      "name": "Untitled20.ipynb",
      "provenance": [],
      "authorship_tag": "ABX9TyOR//XzDIh4dgUoEkitToW1",
      "include_colab_link": true
    },
    "kernelspec": {
      "name": "python3",
      "display_name": "Python 3"
    },
    "language_info": {
      "name": "python"
    }
  },
  "cells": [
    {
      "cell_type": "markdown",
      "metadata": {
        "id": "view-in-github",
        "colab_type": "text"
      },
      "source": [
        "<a href=\"https://colab.research.google.com/github/pszachew/Music-Genre-Classification/blob/master/TinySOL/creating_csv.ipynb\" target=\"_parent\"><img src=\"https://colab.research.google.com/assets/colab-badge.svg\" alt=\"Open In Colab\"/></a>"
      ]
    },
    {
      "cell_type": "code",
      "execution_count": 3,
      "metadata": {
        "id": "KlIvRS-hUPmH"
      },
      "outputs": [],
      "source": [
        "import pandas as pd\n",
        "import numpy as np\n",
        "import os"
      ]
    },
    {
      "cell_type": "code",
      "source": [
        "from google.colab import drive\n",
        "import sys\n",
        "drive.mount('/content/gdrive')\n",
        "sys.path.append('/content/gdrive/My Drive/Colab Notebooks')"
      ],
      "metadata": {
        "colab": {
          "base_uri": "https://localhost:8080/"
        },
        "id": "aRNqaxLmUVwy",
        "outputId": "d0d93b44-572f-4617-c535-668716149465"
      },
      "execution_count": 2,
      "outputs": [
        {
          "output_type": "stream",
          "name": "stdout",
          "text": [
            "Mounted at /content/gdrive\n"
          ]
        }
      ]
    },
    {
      "cell_type": "code",
      "source": [
        ""
      ],
      "metadata": {
        "id": "d16JdYF-UlZi"
      },
      "execution_count": 4,
      "outputs": []
    },
    {
      "cell_type": "code",
      "source": [
        "X = []\n",
        "labels = []\n",
        "for category in os.listdir(\"/content/gdrive/MyDrive/Embedded Music/TinySOL\"):\n",
        "  for instrument in os.listdir(\"/content/gdrive/MyDrive/Embedded Music/TinySOL\" + \"/\" + category):\n",
        "    for file in os.listdir(\"/content/gdrive/MyDrive/Embedded Music/TinySOL\" + \"/\" + category+\"/\"+instrument+\"/\"+\"ordinario\"):\n",
        "      X.append((np.load(\"/content/gdrive/MyDrive/Embedded Music/TinySOL\" + \"/\" + category+\"/\"+instrument+\"/\"+\"ordinario\"+\"/\"+file))['embedding'].flatten()[0:10240])\n",
        "      labels.append(instrument)"
      ],
      "metadata": {
        "id": "iE1-FOKvUr2L"
      },
      "execution_count": 27,
      "outputs": []
    },
    {
      "cell_type": "code",
      "source": [
        "dl = []\n",
        "for el in X:\n",
        "  dl.append(len(el))"
      ],
      "metadata": {
        "id": "alqH1vZFVPKI"
      },
      "execution_count": 22,
      "outputs": []
    },
    {
      "cell_type": "code",
      "source": [
        "max(dl)"
      ],
      "metadata": {
        "colab": {
          "base_uri": "https://localhost:8080/"
        },
        "id": "g_P_omcuaJiG",
        "outputId": "5fc2d1c3-dcbe-4ea0-dd6d-414bc8db7052"
      },
      "execution_count": 23,
      "outputs": [
        {
          "output_type": "execute_result",
          "data": {
            "text/plain": [
              "15872"
            ]
          },
          "metadata": {},
          "execution_count": 23
        }
      ]
    },
    {
      "cell_type": "code",
      "source": [
        "min(dl)"
      ],
      "metadata": {
        "colab": {
          "base_uri": "https://localhost:8080/"
        },
        "id": "gHZW9obvaKpj",
        "outputId": "bd52952d-c946-42f4-af81-04cb6fc67f91"
      },
      "execution_count": 24,
      "outputs": [
        {
          "output_type": "execute_result",
          "data": {
            "text/plain": [
              "10240"
            ]
          },
          "metadata": {},
          "execution_count": 24
        }
      ]
    },
    {
      "cell_type": "code",
      "source": [
        "X_df = pd.DataFrame(X)\n",
        "y_df = pd.DataFrame(labels)"
      ],
      "metadata": {
        "id": "Xg9nODp-b2Kr"
      },
      "execution_count": 31,
      "outputs": []
    },
    {
      "cell_type": "code",
      "source": [
        "X_df.to_csv(\"/content/gdrive/MyDrive/csv_data/TinySOL/features.csv\", index=None, header=None)"
      ],
      "metadata": {
        "id": "krKs40UQcEaY"
      },
      "execution_count": 32,
      "outputs": []
    },
    {
      "cell_type": "code",
      "source": [
        "y_df.to_csv(\"/content/gdrive/MyDrive/csv_data/TinySOL/labels.csv\", index=None, header=None)"
      ],
      "metadata": {
        "id": "3FZlQNnkbd0H"
      },
      "execution_count": 33,
      "outputs": []
    },
    {
      "cell_type": "code",
      "source": [
        ""
      ],
      "metadata": {
        "id": "Z_DxMKyRdJ8a"
      },
      "execution_count": null,
      "outputs": []
    }
  ]
}