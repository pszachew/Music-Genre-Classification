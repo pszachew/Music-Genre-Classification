{
  "cells": [
    {
      "cell_type": "markdown",
      "metadata": {
        "id": "view-in-github",
        "colab_type": "text"
      },
      "source": [
        "<a href=\"https://colab.research.google.com/github/pszachew/Music-Genre-Classification/blob/master/TinySOL/training_10folds_stratified_val1s.ipynb\" target=\"_parent\"><img src=\"https://colab.research.google.com/assets/colab-badge.svg\" alt=\"Open In Colab\"/></a>"
      ]
    },
    {
      "cell_type": "code",
      "execution_count": 2,
      "metadata": {
        "id": "Txd536bHOxJS"
      },
      "outputs": [],
      "source": [
        "import pandas as pd\n",
        "import numpy as np\n",
        "from sklearn.preprocessing import StandardScaler\n",
        "from sklearn.model_selection import train_test_split, KFold, cross_val_score, StratifiedKFold\n",
        "from sklearn.metrics import classification_report, confusion_matrix, accuracy_score, ConfusionMatrixDisplay\n",
        "import joblib"
      ]
    },
    {
      "cell_type": "code",
      "execution_count": 3,
      "metadata": {
        "colab": {
          "base_uri": "https://localhost:8080/"
        },
        "id": "9HdqLy7VPDlJ",
        "outputId": "3fdd4f43-db42-4251-dce5-788d27bfc986"
      },
      "outputs": [
        {
          "output_type": "stream",
          "name": "stdout",
          "text": [
            "Mounted at /content/gdrive\n"
          ]
        }
      ],
      "source": [
        "from google.colab import drive\n",
        "drive.mount('/content/gdrive')"
      ]
    },
    {
      "cell_type": "code",
      "execution_count": 4,
      "metadata": {
        "id": "M7jh6tBHPHPT"
      },
      "outputs": [],
      "source": [
        "X = pd.read_csv('/content/gdrive/MyDrive/csv_data/TinySOL1s/features.csv',header=None)"
      ]
    },
    {
      "cell_type": "code",
      "execution_count": 5,
      "metadata": {
        "id": "tb9JgwYBPqo2"
      },
      "outputs": [],
      "source": [
        "y = pd.read_csv(\"/content/gdrive/MyDrive/csv_data/TinySOL1s/labels.csv\", header=None)"
      ]
    },
    {
      "cell_type": "markdown",
      "metadata": {
        "id": "odAZWXkgT3dj"
      },
      "source": [
        "## **Logistic Regression**"
      ]
    },
    {
      "cell_type": "code",
      "execution_count": null,
      "metadata": {
        "id": "IWUbFPvLT60S"
      },
      "outputs": [],
      "source": [
        "from sklearn.linear_model import LogisticRegression"
      ]
    },
    {
      "cell_type": "code",
      "execution_count": null,
      "metadata": {
        "colab": {
          "base_uri": "https://localhost:8080/"
        },
        "id": "9KUeAxzwUB-g",
        "outputId": "3d86706b-e8e5-4164-deb3-c4ba112e66c9"
      },
      "outputs": [
        {
          "output_type": "stream",
          "name": "stdout",
          "text": [
            "/content/gdrive/MyDrive/models/TinySOL/LogisticRegression\n"
          ]
        }
      ],
      "source": [
        "cd /content/gdrive/MyDrive/models/TinySOL/LogisticRegression"
      ]
    },
    {
      "cell_type": "code",
      "execution_count": null,
      "metadata": {
        "id": "D2t8GFYbUJdW"
      },
      "outputs": [],
      "source": [
        "kf = StratifiedKFold(n_splits=10, shuffle=True, random_state=42)\n",
        "mod_lg = LogisticRegression(max_iter=10000)"
      ]
    },
    {
      "cell_type": "code",
      "execution_count": null,
      "metadata": {
        "colab": {
          "base_uri": "https://localhost:8080/"
        },
        "id": "vygMwshfURav",
        "outputId": "f912198a-ae68-42a6-c4ee-4995fbb3f902"
      },
      "outputs": [
        {
          "output_type": "stream",
          "name": "stdout",
          "text": [
            "Accuracy for the fold no. 1 on the test set: 0.9828767123287672\n",
            "Accuracy for the fold no. 2 on the test set: 0.9691780821917808\n",
            "Accuracy for the fold no. 3 on the test set: 0.9726027397260274\n",
            "Accuracy for the fold no. 4 on the test set: 0.9690721649484536\n",
            "Accuracy for the fold no. 5 on the test set: 0.9587628865979382\n",
            "Accuracy for the fold no. 6 on the test set: 0.9725085910652921\n",
            "Accuracy for the fold no. 7 on the test set: 0.9553264604810997\n",
            "Accuracy for the fold no. 8 on the test set: 0.9656357388316151\n",
            "Accuracy for the fold no. 9 on the test set: 0.979381443298969\n",
            "Accuracy for the fold no. 10 on the test set: 0.9965635738831615\n"
          ]
        }
      ],
      "source": [
        "i=1\n",
        "for x_train_idx, x_test_idx in kf.split(X, y):\n",
        "  X_train = X.iloc[x_train_idx]\n",
        "  X_test = X.iloc[x_test_idx]\n",
        "  y_train = y.iloc[x_train_idx]\n",
        "  y_test = y.iloc[x_test_idx]\n",
        "  mod_lg.fit(X_train, np.array(y_train).flatten())\n",
        "  print(f\"Accuracy for the fold no. {i} on the test set: {accuracy_score(y_test, mod_lg.predict(X_test))}\")\n",
        "  joblib.dump(mod_lg, \"log_reg\"+str(i)+\"1s\"+\".sav\")\n",
        "  i=i+1"
      ]
    },
    {
      "cell_type": "markdown",
      "metadata": {
        "id": "5DyDyvGZd_cl"
      },
      "source": [
        "## **KNN**"
      ]
    },
    {
      "cell_type": "code",
      "execution_count": null,
      "metadata": {
        "id": "CQH1zhlOeBAT"
      },
      "outputs": [],
      "source": [
        "from sklearn.neighbors import KNeighborsClassifier"
      ]
    },
    {
      "cell_type": "code",
      "execution_count": null,
      "metadata": {
        "colab": {
          "base_uri": "https://localhost:8080/"
        },
        "id": "cSs-aGoQeDtM",
        "outputId": "b4a65092-040d-4e81-b005-3db1460c8f27"
      },
      "outputs": [
        {
          "output_type": "stream",
          "name": "stdout",
          "text": [
            "/content/gdrive/MyDrive/models/TinySOL/KNN\n"
          ]
        }
      ],
      "source": [
        "cd /content/gdrive/MyDrive/models/TinySOL/KNN"
      ]
    },
    {
      "cell_type": "code",
      "execution_count": null,
      "metadata": {
        "colab": {
          "base_uri": "https://localhost:8080/"
        },
        "id": "KWMRXG8HeJhZ",
        "outputId": "e882ad1b-503b-4155-82ce-86331ce3d6d3"
      },
      "outputs": [
        {
          "output_type": "stream",
          "name": "stdout",
          "text": [
            "Accuracy for the fold no. 1 on the test set: 0.9315068493150684\n",
            "Accuracy for the fold no. 2 on the test set: 0.9178082191780822\n",
            "Accuracy for the fold no. 3 on the test set: 0.9143835616438356\n",
            "Accuracy for the fold no. 4 on the test set: 0.9106529209621993\n",
            "Accuracy for the fold no. 5 on the test set: 0.8831615120274914\n",
            "Accuracy for the fold no. 6 on the test set: 0.9072164948453608\n",
            "Accuracy for the fold no. 7 on the test set: 0.8865979381443299\n",
            "Accuracy for the fold no. 8 on the test set: 0.9243986254295533\n",
            "Accuracy for the fold no. 9 on the test set: 0.9243986254295533\n",
            "Accuracy for the fold no. 10 on the test set: 0.9140893470790378\n"
          ]
        }
      ],
      "source": [
        "kf = StratifiedKFold(n_splits=10, shuffle=True, random_state=42)\n",
        "mod_knn = KNeighborsClassifier(n_neighbors=4)\n",
        "i=1\n",
        "for x_train_idx, x_test_idx in kf.split(X, y):\n",
        "  X_train = X.iloc[x_train_idx]\n",
        "  X_test = X.iloc[x_test_idx]\n",
        "  y_train = y.iloc[x_train_idx]\n",
        "  y_test = y.iloc[x_test_idx]\n",
        "  mod_knn.fit(X_train, np.array(y_train).flatten())\n",
        "  print(f\"Accuracy for the fold no. {i} on the test set: {accuracy_score(y_test, mod_knn.predict(X_test))}\")\n",
        "  joblib.dump(mod_lg, \"knn\"+str(i)+\"1s\"+\".sav\")\n",
        "  i=i+1"
      ]
    },
    {
      "cell_type": "markdown",
      "metadata": {
        "id": "3JCtGCcje1i5"
      },
      "source": [
        "## **SVM**"
      ]
    },
    {
      "cell_type": "code",
      "execution_count": null,
      "metadata": {
        "id": "ktHWCYfOe2t4"
      },
      "outputs": [],
      "source": [
        "from sklearn.svm import SVC"
      ]
    },
    {
      "cell_type": "code",
      "execution_count": null,
      "metadata": {
        "id": "zSlB8tRie5cI"
      },
      "outputs": [],
      "source": [
        "kf = StratifiedKFold(n_splits=10, shuffle=True, random_state=42)"
      ]
    },
    {
      "cell_type": "code",
      "execution_count": null,
      "metadata": {
        "colab": {
          "base_uri": "https://localhost:8080/"
        },
        "id": "1CycD54ffBRN",
        "outputId": "52b12d00-3df5-4ccc-9716-e593a690a249"
      },
      "outputs": [
        {
          "output_type": "stream",
          "name": "stdout",
          "text": [
            "/content/gdrive/MyDrive/models/TinySOL/SVM\n"
          ]
        }
      ],
      "source": [
        "cd /content/gdrive/MyDrive/models/TinySOL/SVM"
      ]
    },
    {
      "cell_type": "code",
      "execution_count": null,
      "metadata": {
        "colab": {
          "base_uri": "https://localhost:8080/"
        },
        "id": "Ye_5e8zdfGdb",
        "outputId": "14b6d1cc-c760-455a-a617-4a9b26ceecb8"
      },
      "outputs": [
        {
          "output_type": "stream",
          "name": "stdout",
          "text": [
            "Accuracy for the fold no. 1 on the test set: 0.9863013698630136\n",
            "Accuracy for the fold no. 2 on the test set: 0.9623287671232876\n",
            "Accuracy for the fold no. 3 on the test set: 0.9691780821917808\n",
            "Accuracy for the fold no. 4 on the test set: 0.979381443298969\n",
            "Accuracy for the fold no. 5 on the test set: 0.9621993127147767\n",
            "Accuracy for the fold no. 6 on the test set: 0.9759450171821306\n",
            "Accuracy for the fold no. 7 on the test set: 0.9621993127147767\n",
            "Accuracy for the fold no. 8 on the test set: 0.9690721649484536\n",
            "Accuracy for the fold no. 9 on the test set: 0.9759450171821306\n",
            "Accuracy for the fold no. 10 on the test set: 0.9862542955326461\n"
          ]
        }
      ],
      "source": [
        "i=1\n",
        "for x_train_idx, x_test_idx in kf.split(X, y):\n",
        "  X_train = X.iloc[x_train_idx]\n",
        "  X_test = X.iloc[x_test_idx]\n",
        "  y_train = y.iloc[x_train_idx]\n",
        "  y_test = y.iloc[x_test_idx]\n",
        "  mod_svm = SVC(kernel='linear')\n",
        "  mod_svm.fit(X_train, np.array(y_train).flatten())\n",
        "  print(f\"Accuracy for the fold no. {i} on the test set: {accuracy_score(y_test, mod_svm.predict(X_test))}\")\n",
        "  joblib.dump(mod_svm, \"svm\"+str(i)+\"1s\"+\".sav\")\n",
        "  i=i+1"
      ]
    },
    {
      "cell_type": "markdown",
      "source": [
        "## **Decision Tree**"
      ],
      "metadata": {
        "id": "-BV6mMSjlFh-"
      }
    },
    {
      "cell_type": "code",
      "source": [
        "from sklearn.tree import DecisionTreeClassifier"
      ],
      "metadata": {
        "id": "FPd0V-8hlHd4"
      },
      "execution_count": 1,
      "outputs": []
    },
    {
      "cell_type": "code",
      "source": [
        "cd /content/gdrive/MyDrive/models/TinySOL/DTC"
      ],
      "metadata": {
        "id": "jg85jqy3llZp",
        "outputId": "396910df-b8c5-40ce-b16d-3fee76e48592",
        "colab": {
          "base_uri": "https://localhost:8080/"
        }
      },
      "execution_count": 6,
      "outputs": [
        {
          "output_type": "stream",
          "name": "stdout",
          "text": [
            "/content/gdrive/MyDrive/models/TinySOL/DTC\n"
          ]
        }
      ]
    },
    {
      "cell_type": "code",
      "source": [
        "kf = StratifiedKFold(n_splits=10, shuffle=True, random_state=42)"
      ],
      "metadata": {
        "id": "mAImX_i6l7Vw"
      },
      "execution_count": 8,
      "outputs": []
    },
    {
      "cell_type": "code",
      "source": [
        "i=1\n",
        "for x_train_idx, x_test_idx in kf.split(X,y):\n",
        "  X_train = X.iloc[x_train_idx]\n",
        "  X_test = X.iloc[x_test_idx]\n",
        "  y_train = y.iloc[x_train_idx]\n",
        "  y_test = y.iloc[x_test_idx]\n",
        "  dtc = DecisionTreeClassifier(max_depth=14)\n",
        "  dtc.fit(X_train, np.array(y_train).flatten())\n",
        "  print(f\"Accuracy for the fold no. {i} on the test set: {accuracy_score(y_test, dtc.predict(X_test))}\")\n",
        "  joblib.dump(dtc, \"dtc\"+str(i)+\".sav\")\n",
        "  i=i+1"
      ],
      "metadata": {
        "id": "xhXNh6dplstl",
        "outputId": "dcf19957-980f-40e6-8b31-7829ff0ac54a",
        "colab": {
          "base_uri": "https://localhost:8080/"
        }
      },
      "execution_count": 10,
      "outputs": [
        {
          "output_type": "stream",
          "name": "stdout",
          "text": [
            "Accuracy for the fold no. 1 on the test set: 0.6986301369863014\n",
            "Accuracy for the fold no. 2 on the test set: 0.684931506849315\n",
            "Accuracy for the fold no. 3 on the test set: 0.6712328767123288\n",
            "Accuracy for the fold no. 4 on the test set: 0.697594501718213\n",
            "Accuracy for the fold no. 5 on the test set: 0.6941580756013745\n",
            "Accuracy for the fold no. 6 on the test set: 0.6907216494845361\n",
            "Accuracy for the fold no. 7 on the test set: 0.6151202749140894\n",
            "Accuracy for the fold no. 8 on the test set: 0.6494845360824743\n",
            "Accuracy for the fold no. 9 on the test set: 0.7147766323024055\n",
            "Accuracy for the fold no. 10 on the test set: 0.738831615120275\n"
          ]
        }
      ]
    },
    {
      "cell_type": "markdown",
      "metadata": {
        "id": "UUwpyW8bgKAt"
      },
      "source": [
        "## **Random Forests**"
      ]
    },
    {
      "cell_type": "code",
      "execution_count": null,
      "metadata": {
        "id": "9Vcwybx0gLrB"
      },
      "outputs": [],
      "source": [
        "from sklearn.ensemble import RandomForestClassifier"
      ]
    },
    {
      "cell_type": "code",
      "execution_count": null,
      "metadata": {
        "id": "ByAHqJ77gNxm"
      },
      "outputs": [],
      "source": [
        "kf = StratifiedKFold(n_splits=10, shuffle=True, random_state=42)"
      ]
    },
    {
      "cell_type": "code",
      "execution_count": null,
      "metadata": {
        "colab": {
          "base_uri": "https://localhost:8080/"
        },
        "id": "9V5I0WiAgO6f",
        "outputId": "079d5191-70b1-400d-ca73-14bb3d15356f"
      },
      "outputs": [
        {
          "output_type": "stream",
          "name": "stdout",
          "text": [
            "/content/gdrive/MyDrive/models/TinySOL/Random Forests\n"
          ]
        }
      ],
      "source": [
        "cd /content/gdrive/MyDrive/models/TinySOL/Random Forests"
      ]
    },
    {
      "cell_type": "code",
      "execution_count": null,
      "metadata": {
        "colab": {
          "base_uri": "https://localhost:8080/"
        },
        "id": "-yMYVjLkgRbw",
        "outputId": "2abe7b2a-1bbe-4a16-c7db-a29a966454fd"
      },
      "outputs": [
        {
          "output_type": "stream",
          "name": "stdout",
          "text": [
            "Accuracy for the fold no. 1 on the test set: 0.886986301369863\n",
            "Accuracy for the fold no. 2 on the test set: 0.9075342465753424\n",
            "Accuracy for the fold no. 3 on the test set: 0.8938356164383562\n",
            "Accuracy for the fold no. 4 on the test set: 0.9312714776632303\n",
            "Accuracy for the fold no. 5 on the test set: 0.8797250859106529\n",
            "Accuracy for the fold no. 6 on the test set: 0.8934707903780069\n",
            "Accuracy for the fold no. 7 on the test set: 0.8865979381443299\n",
            "Accuracy for the fold no. 8 on the test set: 0.9106529209621993\n",
            "Accuracy for the fold no. 9 on the test set: 0.9072164948453608\n",
            "Accuracy for the fold no. 10 on the test set: 0.9140893470790378\n"
          ]
        }
      ],
      "source": [
        "i=1\n",
        "for train_idx, test_idx in kf.split(X, y):\n",
        "  X_train = X.iloc[train_idx]\n",
        "  X_test = X.iloc[test_idx]\n",
        "  y_train = y.iloc[train_idx]\n",
        "  y_test = y.iloc[test_idx]\n",
        "  rfc = RandomForestClassifier(n_estimators=400)\n",
        "  rfc.fit(X_train, np.array(y_train).flatten())\n",
        "  print(f\"Accuracy for the fold no. {i} on the test set: {accuracy_score(y_test, rfc.predict(X_test))}\")\n",
        "  joblib.dump(rfc, \"rfc\"+str(i)+\"1s\"+\".sav\")\n",
        "  i = i+1"
      ]
    },
    {
      "cell_type": "markdown",
      "metadata": {
        "id": "aNDLSKUPgx06"
      },
      "source": [
        "## **Gradient Boosting**"
      ]
    },
    {
      "cell_type": "code",
      "execution_count": null,
      "metadata": {
        "id": "Dx2Ulbr9g1Bo"
      },
      "outputs": [],
      "source": [
        "import xgboost as xgb"
      ]
    },
    {
      "cell_type": "code",
      "execution_count": null,
      "metadata": {
        "colab": {
          "base_uri": "https://localhost:8080/"
        },
        "id": "vkBgnMTRg3GU",
        "outputId": "15d6c2f6-72bc-4fc3-a7bd-4d7282806e75"
      },
      "outputs": [
        {
          "output_type": "stream",
          "name": "stdout",
          "text": [
            "/content/gdrive/MyDrive/models/TinySOL/Gradient Boosting\n"
          ]
        }
      ],
      "source": [
        "cd /content/gdrive/MyDrive/models/TinySOL/Gradient Boosting"
      ]
    },
    {
      "cell_type": "code",
      "execution_count": null,
      "metadata": {
        "id": "sHyMpDK_g7-2"
      },
      "outputs": [],
      "source": [
        "kf = StratifiedKFold(n_splits=10, shuffle=True, random_state=42)"
      ]
    },
    {
      "cell_type": "code",
      "execution_count": null,
      "metadata": {
        "colab": {
          "base_uri": "https://localhost:8080/"
        },
        "id": "Au7pUxbKhMI0",
        "outputId": "1e9b9668-6a61-40df-8bb1-9887b8a7ee9a"
      },
      "outputs": [
        {
          "output_type": "stream",
          "name": "stdout",
          "text": [
            "Accuracy for the fold no. 1 on the test set: 0.9006849315068494\n",
            "Accuracy for the fold no. 2 on the test set: 0.8972602739726028\n",
            "Accuracy for the fold no. 3 on the test set: 0.9075342465753424\n"
          ]
        }
      ],
      "source": [
        "i=1\n",
        "for train_idx, test_idx in kf.split(X,y):\n",
        "    X_train = X.iloc[train_idx]\n",
        "    X_test = X.iloc[test_idx]\n",
        "    y_train = y.iloc[train_idx]\n",
        "    y_test = y.iloc[test_idx]\n",
        "    xgbc = xgb.XGBClassifier(max_depths=5, learning_rate=0.1)\n",
        "    xgbc.fit(X_train, np.array(y_train).flatten())\n",
        "    print(f\"Accuracy for the fold no. {i} on the test set: {accuracy_score(y_test, xgbc.predict(X_test))}\")\n",
        "    joblib.dump(xgbc, \"xgbc\"+str(i)+\"1s\"+\".sav\")\n",
        "    i = i+1"
      ]
    },
    {
      "cell_type": "markdown",
      "source": [
        "## **MLPClassifier**"
      ],
      "metadata": {
        "id": "IWRZvKtVkv5b"
      }
    },
    {
      "cell_type": "code",
      "source": [
        "from sklearn.neural_network import MLPClassifier"
      ],
      "metadata": {
        "id": "8XlxBUMUmGlT"
      },
      "execution_count": 11,
      "outputs": []
    },
    {
      "cell_type": "code",
      "source": [
        "MLPclass = MLPClassifier(hidden_layer_sizes=(512,512,512), random_state=8, activation='relu', solver=\"adam\", learning_rate_init=0.001, learning_rate='constant')"
      ],
      "metadata": {
        "id": "gEfJ0APgmIKw"
      },
      "execution_count": 12,
      "outputs": []
    },
    {
      "cell_type": "code",
      "source": [
        "X_train, X_test, y_train, y_test = train_test_split(X, y, test_size=0.3, random_state=42)"
      ],
      "metadata": {
        "id": "cQLuHbU7mj1S"
      },
      "execution_count": 14,
      "outputs": []
    },
    {
      "cell_type": "code",
      "source": [
        "cd /content/gdrive/MyDrive/models/TinySOL/MLP"
      ],
      "metadata": {
        "id": "y-BA80QjmLny",
        "outputId": "b1288b3e-8629-443e-8ff5-94c42c423203",
        "colab": {
          "base_uri": "https://localhost:8080/"
        }
      },
      "execution_count": 13,
      "outputs": [
        {
          "output_type": "stream",
          "name": "stdout",
          "text": [
            "/content/gdrive/MyDrive/models/TinySOL/MLP\n"
          ]
        }
      ]
    },
    {
      "cell_type": "code",
      "source": [
        "MLPclass.fit(X_train, np.array(y_train).flatten())\n",
        "y_pre_MLP = MLPclass.predict(X_test)"
      ],
      "metadata": {
        "id": "KIJaqxULmTPY"
      },
      "execution_count": 15,
      "outputs": []
    },
    {
      "cell_type": "code",
      "source": [
        "joblib.dump(MLPclass, \"MLP.sav\")"
      ],
      "metadata": {
        "id": "oko9GwJXmVov",
        "outputId": "9762876e-d8b5-4c19-f111-07018f9a6211",
        "colab": {
          "base_uri": "https://localhost:8080/"
        }
      },
      "execution_count": 16,
      "outputs": [
        {
          "output_type": "execute_result",
          "data": {
            "text/plain": [
              "['MLP.sav']"
            ]
          },
          "metadata": {},
          "execution_count": 16
        }
      ]
    },
    {
      "cell_type": "code",
      "source": [
        "print(classification_report(y_test,y_pre_MLP))"
      ],
      "metadata": {
        "id": "28Ink3NomXpp",
        "outputId": "7b20d4b1-de1e-4815-ea8e-11b7862d6e5d",
        "colab": {
          "base_uri": "https://localhost:8080/"
        }
      },
      "execution_count": 17,
      "outputs": [
        {
          "output_type": "stream",
          "name": "stdout",
          "text": [
            "              precision    recall  f1-score   support\n",
            "\n",
            "   Accordion       0.98      0.99      0.98       217\n",
            "   Bass_Tuba       0.86      0.97      0.92        39\n",
            "     Bassoon       0.93      0.98      0.95        41\n",
            " Clarinet_Bb       0.87      0.92      0.89        37\n",
            "  Contrabass       0.93      0.92      0.93        89\n",
            "       Flute       1.00      0.91      0.95        32\n",
            "        Horn       0.83      0.83      0.83        42\n",
            "        Oboe       0.93      0.93      0.93        28\n",
            "    Sax_Alto       0.74      0.81      0.77        21\n",
            "    Trombone       0.95      0.63      0.76        30\n",
            "   Trumpet_C       0.97      0.93      0.95        30\n",
            "       Viola       0.98      0.97      0.97        99\n",
            "      Violin       0.96      0.98      0.97        83\n",
            " Violoncello       0.90      0.92      0.91        86\n",
            "\n",
            "    accuracy                           0.94       874\n",
            "   macro avg       0.92      0.91      0.91       874\n",
            "weighted avg       0.94      0.94      0.94       874\n",
            "\n"
          ]
        }
      ]
    }
  ],
  "metadata": {
    "colab": {
      "name": "Untitled22.ipynb",
      "provenance": [],
      "authorship_tag": "ABX9TyPWVI8tJJJIdn5PONQ4uwQR",
      "include_colab_link": true
    },
    "kernelspec": {
      "display_name": "Python 3",
      "name": "python3"
    },
    "language_info": {
      "name": "python"
    }
  },
  "nbformat": 4,
  "nbformat_minor": 0
}