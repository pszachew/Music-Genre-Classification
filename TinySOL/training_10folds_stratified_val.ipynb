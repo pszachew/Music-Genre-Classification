{
  "nbformat": 4,
  "nbformat_minor": 0,
  "metadata": {
    "colab": {
      "name": "Untitled22.ipynb",
      "provenance": [],
      "authorship_tag": "ABX9TyPzPpxEKCZj3da0HGdF+kmk",
      "include_colab_link": true
    },
    "kernelspec": {
      "name": "python3",
      "display_name": "Python 3"
    },
    "language_info": {
      "name": "python"
    }
  },
  "cells": [
    {
      "cell_type": "markdown",
      "metadata": {
        "id": "view-in-github",
        "colab_type": "text"
      },
      "source": [
        "<a href=\"https://colab.research.google.com/github/pszachew/Music-Genre-Classification/blob/master/TinySOL/training_10folds_stratified_val.ipynb\" target=\"_parent\"><img src=\"https://colab.research.google.com/assets/colab-badge.svg\" alt=\"Open In Colab\"/></a>"
      ]
    },
    {
      "cell_type": "code",
      "execution_count": 1,
      "metadata": {
        "id": "Txd536bHOxJS"
      },
      "outputs": [],
      "source": [
        "import pandas as pd\n",
        "import numpy as np\n",
        "from sklearn.preprocessing import StandardScaler\n",
        "from sklearn.model_selection import train_test_split, KFold, cross_val_score, StratifiedKFold\n",
        "from sklearn.metrics import classification_report, confusion_matrix, accuracy_score, ConfusionMatrixDisplay\n",
        "import joblib"
      ]
    },
    {
      "cell_type": "code",
      "source": [
        "from google.colab import drive\n",
        "drive.mount('/content/gdrive')"
      ],
      "metadata": {
        "colab": {
          "base_uri": "https://localhost:8080/"
        },
        "id": "9HdqLy7VPDlJ",
        "outputId": "9475d565-17c2-428d-c552-d0cc81b88e0c"
      },
      "execution_count": 2,
      "outputs": [
        {
          "output_type": "stream",
          "name": "stdout",
          "text": [
            "Mounted at /content/gdrive\n"
          ]
        }
      ]
    },
    {
      "cell_type": "code",
      "source": [
        "X = pd.read_csv('/content/gdrive/MyDrive/csv_data/TinySOL/features.csv',header=None)"
      ],
      "metadata": {
        "id": "M7jh6tBHPHPT"
      },
      "execution_count": 3,
      "outputs": []
    },
    {
      "cell_type": "code",
      "source": [
        "y = pd.read_csv(\"/content/gdrive/MyDrive/csv_data/TinySOL/labels.csv\", header=None)"
      ],
      "metadata": {
        "id": "tb9JgwYBPqo2"
      },
      "execution_count": 4,
      "outputs": []
    },
    {
      "cell_type": "code",
      "source": [
        ""
      ],
      "metadata": {
        "id": "yzE5B7JlPyeg"
      },
      "execution_count": null,
      "outputs": []
    },
    {
      "cell_type": "markdown",
      "source": [
        "## **Logistic Regression**"
      ],
      "metadata": {
        "id": "odAZWXkgT3dj"
      }
    },
    {
      "cell_type": "code",
      "source": [
        "from sklearn.linear_model import LogisticRegression"
      ],
      "metadata": {
        "id": "IWUbFPvLT60S"
      },
      "execution_count": 5,
      "outputs": []
    },
    {
      "cell_type": "code",
      "source": [
        "cd /content/gdrive/MyDrive/models/TinySOL/LogisticRegression"
      ],
      "metadata": {
        "colab": {
          "base_uri": "https://localhost:8080/"
        },
        "id": "9KUeAxzwUB-g",
        "outputId": "49060029-fb23-471b-f83a-30c1764c4e26"
      },
      "execution_count": 6,
      "outputs": [
        {
          "output_type": "stream",
          "name": "stdout",
          "text": [
            "/content/gdrive/MyDrive/models/TinySOL/LogisticRegression\n"
          ]
        }
      ]
    },
    {
      "cell_type": "code",
      "source": [
        "kf = StratifiedKFold(n_splits=10, shuffle=True, random_state=42)\n",
        "mod_lg = LogisticRegression(max_iter=10000)"
      ],
      "metadata": {
        "id": "D2t8GFYbUJdW"
      },
      "execution_count": 7,
      "outputs": []
    },
    {
      "cell_type": "code",
      "source": [
        "i=1\n",
        "for x_train_idx, x_test_idx in kf.split(X, y):\n",
        "  X_train = X.iloc[x_train_idx]\n",
        "  X_test = X.iloc[x_test_idx]\n",
        "  y_train = y.iloc[x_train_idx]\n",
        "  y_test = y.iloc[x_test_idx]\n",
        "  mod_lg.fit(X_train, np.array(y_train).flatten())\n",
        "  print(f\"Accuracy for the fold no. {i} on the test set: {accuracy_score(y_test, mod_lg.predict(X_test))}\")\n",
        "  joblib.dump(mod_lg, \"log_reg\"+str(i)+\".sav\")\n",
        "  i=i+1"
      ],
      "metadata": {
        "colab": {
          "base_uri": "https://localhost:8080/"
        },
        "id": "vygMwshfURav",
        "outputId": "e615a860-279a-4ad1-d8fd-f7d242b302d2"
      },
      "execution_count": 9,
      "outputs": [
        {
          "output_type": "stream",
          "name": "stdout",
          "text": [
            "Accuracy for the fold no. 1 on the test set: 1.0\n",
            "Accuracy for the fold no. 2 on the test set: 0.9965753424657534\n",
            "Accuracy for the fold no. 3 on the test set: 1.0\n",
            "Accuracy for the fold no. 4 on the test set: 0.9965753424657534\n",
            "Accuracy for the fold no. 5 on the test set: 0.9965753424657534\n",
            "Accuracy for the fold no. 6 on the test set: 1.0\n",
            "Accuracy for the fold no. 7 on the test set: 0.9965635738831615\n",
            "Accuracy for the fold no. 8 on the test set: 0.9965635738831615\n",
            "Accuracy for the fold no. 9 on the test set: 0.9965635738831615\n",
            "Accuracy for the fold no. 10 on the test set: 1.0\n"
          ]
        }
      ]
    },
    {
      "cell_type": "code",
      "source": [
        ""
      ],
      "metadata": {
        "id": "9lOKh0hCUbvN"
      },
      "execution_count": null,
      "outputs": []
    }
  ]
}