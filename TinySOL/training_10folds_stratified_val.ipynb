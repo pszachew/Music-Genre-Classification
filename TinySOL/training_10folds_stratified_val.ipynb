{
  "nbformat": 4,
  "nbformat_minor": 0,
  "metadata": {
    "colab": {
      "name": "Untitled22.ipynb",
      "provenance": [],
      "authorship_tag": "ABX9TyPJynDd4l33G64PiGPlwj2E",
      "include_colab_link": true
    },
    "kernelspec": {
      "name": "python3",
      "display_name": "Python 3"
    },
    "language_info": {
      "name": "python"
    }
  },
  "cells": [
    {
      "cell_type": "markdown",
      "metadata": {
        "id": "view-in-github",
        "colab_type": "text"
      },
      "source": [
        "<a href=\"https://colab.research.google.com/github/pszachew/Music-Genre-Classification/blob/master/TinySOL/training_10folds_stratified_val.ipynb\" target=\"_parent\"><img src=\"https://colab.research.google.com/assets/colab-badge.svg\" alt=\"Open In Colab\"/></a>"
      ]
    },
    {
      "cell_type": "code",
      "execution_count": 1,
      "metadata": {
        "id": "Txd536bHOxJS"
      },
      "outputs": [],
      "source": [
        "import pandas as pd\n",
        "import numpy as np\n",
        "from sklearn.preprocessing import StandardScaler\n",
        "from sklearn.model_selection import train_test_split, KFold, cross_val_score, StratifiedKFold\n",
        "from sklearn.metrics import classification_report, confusion_matrix, accuracy_score, ConfusionMatrixDisplay\n",
        "import joblib"
      ]
    },
    {
      "cell_type": "code",
      "source": [
        "from google.colab import drive\n",
        "drive.mount('/content/gdrive')"
      ],
      "metadata": {
        "colab": {
          "base_uri": "https://localhost:8080/"
        },
        "id": "9HdqLy7VPDlJ",
        "outputId": "9475d565-17c2-428d-c552-d0cc81b88e0c"
      },
      "execution_count": 2,
      "outputs": [
        {
          "output_type": "stream",
          "name": "stdout",
          "text": [
            "Mounted at /content/gdrive\n"
          ]
        }
      ]
    },
    {
      "cell_type": "code",
      "source": [
        "X = pd.read_csv('/content/gdrive/MyDrive/csv_data/TinySOL/features.csv',header=None)"
      ],
      "metadata": {
        "id": "M7jh6tBHPHPT"
      },
      "execution_count": 3,
      "outputs": []
    },
    {
      "cell_type": "code",
      "source": [
        "y = pd.read_csv(\"/content/gdrive/MyDrive/csv_data/TinySOL/labels.csv\", header=None)"
      ],
      "metadata": {
        "id": "tb9JgwYBPqo2"
      },
      "execution_count": 4,
      "outputs": []
    },
    {
      "cell_type": "markdown",
      "source": [
        "## **Logistic Regression**"
      ],
      "metadata": {
        "id": "odAZWXkgT3dj"
      }
    },
    {
      "cell_type": "code",
      "source": [
        "from sklearn.linear_model import LogisticRegression"
      ],
      "metadata": {
        "id": "IWUbFPvLT60S"
      },
      "execution_count": 5,
      "outputs": []
    },
    {
      "cell_type": "code",
      "source": [
        "cd /content/gdrive/MyDrive/models/TinySOL/LogisticRegression"
      ],
      "metadata": {
        "colab": {
          "base_uri": "https://localhost:8080/"
        },
        "id": "9KUeAxzwUB-g",
        "outputId": "49060029-fb23-471b-f83a-30c1764c4e26"
      },
      "execution_count": 6,
      "outputs": [
        {
          "output_type": "stream",
          "name": "stdout",
          "text": [
            "/content/gdrive/MyDrive/models/TinySOL/LogisticRegression\n"
          ]
        }
      ]
    },
    {
      "cell_type": "code",
      "source": [
        "kf = StratifiedKFold(n_splits=10, shuffle=True, random_state=42)\n",
        "mod_lg = LogisticRegression(max_iter=10000)"
      ],
      "metadata": {
        "id": "D2t8GFYbUJdW"
      },
      "execution_count": 7,
      "outputs": []
    },
    {
      "cell_type": "code",
      "source": [
        "i=1\n",
        "for x_train_idx, x_test_idx in kf.split(X, y):\n",
        "  X_train = X.iloc[x_train_idx]\n",
        "  X_test = X.iloc[x_test_idx]\n",
        "  y_train = y.iloc[x_train_idx]\n",
        "  y_test = y.iloc[x_test_idx]\n",
        "  mod_lg.fit(X_train, np.array(y_train).flatten())\n",
        "  print(f\"Accuracy for the fold no. {i} on the test set: {accuracy_score(y_test, mod_lg.predict(X_test))}\")\n",
        "  joblib.dump(mod_lg, \"log_reg\"+str(i)+\".sav\")\n",
        "  i=i+1"
      ],
      "metadata": {
        "colab": {
          "base_uri": "https://localhost:8080/"
        },
        "id": "vygMwshfURav",
        "outputId": "e615a860-279a-4ad1-d8fd-f7d242b302d2"
      },
      "execution_count": 9,
      "outputs": [
        {
          "output_type": "stream",
          "name": "stdout",
          "text": [
            "Accuracy for the fold no. 1 on the test set: 1.0\n",
            "Accuracy for the fold no. 2 on the test set: 0.9965753424657534\n",
            "Accuracy for the fold no. 3 on the test set: 1.0\n",
            "Accuracy for the fold no. 4 on the test set: 0.9965753424657534\n",
            "Accuracy for the fold no. 5 on the test set: 0.9965753424657534\n",
            "Accuracy for the fold no. 6 on the test set: 1.0\n",
            "Accuracy for the fold no. 7 on the test set: 0.9965635738831615\n",
            "Accuracy for the fold no. 8 on the test set: 0.9965635738831615\n",
            "Accuracy for the fold no. 9 on the test set: 0.9965635738831615\n",
            "Accuracy for the fold no. 10 on the test set: 1.0\n"
          ]
        }
      ]
    },
    {
      "cell_type": "markdown",
      "source": [
        "## **KNN**"
      ],
      "metadata": {
        "id": "5DyDyvGZd_cl"
      }
    },
    {
      "cell_type": "code",
      "source": [
        "from sklearn.neighbors import KNeighborsClassifier"
      ],
      "metadata": {
        "id": "CQH1zhlOeBAT"
      },
      "execution_count": 10,
      "outputs": []
    },
    {
      "cell_type": "code",
      "source": [
        "cd /content/gdrive/MyDrive/models/TinySOL/KNN"
      ],
      "metadata": {
        "colab": {
          "base_uri": "https://localhost:8080/"
        },
        "id": "cSs-aGoQeDtM",
        "outputId": "18b0f32e-75db-4845-febe-48fb6606429c"
      },
      "execution_count": 11,
      "outputs": [
        {
          "output_type": "stream",
          "name": "stdout",
          "text": [
            "/content/gdrive/MyDrive/models/TinySOL/KNN\n"
          ]
        }
      ]
    },
    {
      "cell_type": "code",
      "source": [
        "kf = StratifiedKFold(n_splits=10, shuffle=True, random_state=42)\n",
        "mod_knn = KNeighborsClassifier(n_neighbors=4)\n",
        "i=1\n",
        "for x_train_idx, x_test_idx in kf.split(X, y):\n",
        "  X_train = X.iloc[x_train_idx]\n",
        "  X_test = X.iloc[x_test_idx]\n",
        "  y_train = y.iloc[x_train_idx]\n",
        "  y_test = y.iloc[x_test_idx]\n",
        "  mod_knn.fit(X_train, np.array(y_train).flatten())\n",
        "  print(f\"Accuracy for the fold no. {i} on the test set: {accuracy_score(y_test, mod_knn.predict(X_test))}\")\n",
        "  joblib.dump(mod_lg, \"knn\"+str(i)+\".sav\")\n",
        "  i=i+1"
      ],
      "metadata": {
        "colab": {
          "base_uri": "https://localhost:8080/"
        },
        "id": "KWMRXG8HeJhZ",
        "outputId": "e5813c03-d763-419d-b662-d5ab910a1e2a"
      },
      "execution_count": 14,
      "outputs": [
        {
          "output_type": "stream",
          "name": "stdout",
          "text": [
            "Accuracy for the fold no. 1 on the test set: 0.9828767123287672\n",
            "Accuracy for the fold no. 2 on the test set: 0.9931506849315068\n",
            "Accuracy for the fold no. 3 on the test set: 0.9828767123287672\n",
            "Accuracy for the fold no. 4 on the test set: 0.9623287671232876\n",
            "Accuracy for the fold no. 5 on the test set: 0.9691780821917808\n",
            "Accuracy for the fold no. 6 on the test set: 0.9759450171821306\n",
            "Accuracy for the fold no. 7 on the test set: 0.9690721649484536\n",
            "Accuracy for the fold no. 8 on the test set: 0.9621993127147767\n",
            "Accuracy for the fold no. 9 on the test set: 0.9690721649484536\n",
            "Accuracy for the fold no. 10 on the test set: 0.979381443298969\n"
          ]
        }
      ]
    },
    {
      "cell_type": "markdown",
      "source": [
        "## **SVM**"
      ],
      "metadata": {
        "id": "3JCtGCcje1i5"
      }
    },
    {
      "cell_type": "code",
      "source": [
        "from sklearn.svm import SVC"
      ],
      "metadata": {
        "id": "ktHWCYfOe2t4"
      },
      "execution_count": 21,
      "outputs": []
    },
    {
      "cell_type": "code",
      "source": [
        "kf = StratifiedKFold(n_splits=10, shuffle=True, random_state=42)"
      ],
      "metadata": {
        "id": "zSlB8tRie5cI"
      },
      "execution_count": 22,
      "outputs": []
    },
    {
      "cell_type": "code",
      "source": [
        "cd /content/gdrive/MyDrive/models/TinySOL/SVM"
      ],
      "metadata": {
        "colab": {
          "base_uri": "https://localhost:8080/"
        },
        "id": "1CycD54ffBRN",
        "outputId": "3d0c61b0-9f92-421b-8893-49a97a5a4b47"
      },
      "execution_count": 23,
      "outputs": [
        {
          "output_type": "stream",
          "name": "stdout",
          "text": [
            "/content/gdrive/MyDrive/models/TinySOL/SVM\n"
          ]
        }
      ]
    },
    {
      "cell_type": "code",
      "source": [
        "i=1\n",
        "for x_train_idx, x_test_idx in kf.split(X, y):\n",
        "  X_train = X.iloc[x_train_idx]\n",
        "  X_test = X.iloc[x_test_idx]\n",
        "  y_train = y.iloc[x_train_idx]\n",
        "  y_test = y.iloc[x_test_idx]\n",
        "  mod_svm = SVC(kernel='linear')\n",
        "  mod_svm.fit(X_train, np.array(y_train).flatten())\n",
        "  print(f\"Accuracy for the fold no. {i} on the test set: {accuracy_score(y_test, mod_svm.predict(X_test))}\")\n",
        "  joblib.dump(mod_svm, \"svm\"+str(i)+\".sav\")\n",
        "  i=i+1"
      ],
      "metadata": {
        "colab": {
          "base_uri": "https://localhost:8080/"
        },
        "id": "Ye_5e8zdfGdb",
        "outputId": "444c82ea-1343-4795-cb71-fb6e0295c413"
      },
      "execution_count": 24,
      "outputs": [
        {
          "output_type": "stream",
          "name": "stdout",
          "text": [
            "Accuracy for the fold no. 1 on the test set: 1.0\n",
            "Accuracy for the fold no. 2 on the test set: 1.0\n",
            "Accuracy for the fold no. 3 on the test set: 0.9965753424657534\n",
            "Accuracy for the fold no. 4 on the test set: 0.9965753424657534\n",
            "Accuracy for the fold no. 5 on the test set: 0.9931506849315068\n",
            "Accuracy for the fold no. 6 on the test set: 1.0\n",
            "Accuracy for the fold no. 7 on the test set: 0.9965635738831615\n",
            "Accuracy for the fold no. 8 on the test set: 1.0\n",
            "Accuracy for the fold no. 9 on the test set: 1.0\n",
            "Accuracy for the fold no. 10 on the test set: 1.0\n"
          ]
        }
      ]
    },
    {
      "cell_type": "markdown",
      "source": [
        "## **Random Forests**"
      ],
      "metadata": {
        "id": "UUwpyW8bgKAt"
      }
    },
    {
      "cell_type": "code",
      "source": [
        "from sklearn.ensemble import RandomForestClassifier"
      ],
      "metadata": {
        "id": "9Vcwybx0gLrB"
      },
      "execution_count": 29,
      "outputs": []
    },
    {
      "cell_type": "code",
      "source": [
        "kf = StratifiedKFold(n_splits=10, shuffle=True, random_state=42)"
      ],
      "metadata": {
        "id": "ByAHqJ77gNxm"
      },
      "execution_count": 30,
      "outputs": []
    },
    {
      "cell_type": "code",
      "source": [
        "cd /content/gdrive/MyDrive/models/TinySOL/Random Forests"
      ],
      "metadata": {
        "colab": {
          "base_uri": "https://localhost:8080/"
        },
        "id": "9V5I0WiAgO6f",
        "outputId": "8817a4f7-608f-490c-9075-10dfcfd6d639"
      },
      "execution_count": 31,
      "outputs": [
        {
          "output_type": "stream",
          "name": "stdout",
          "text": [
            "/content/gdrive/MyDrive/models/TinySOL/Random Forests\n"
          ]
        }
      ]
    },
    {
      "cell_type": "code",
      "source": [
        "i=1\n",
        "for train_idx, test_idx in kf.split(X, y):\n",
        "  X_train = X.iloc[train_idx]\n",
        "  X_test = X.iloc[test_idx]\n",
        "  y_train = y.iloc[train_idx]\n",
        "  y_test = y.iloc[test_idx]\n",
        "  rfc = RandomForestClassifier(n_estimators=400)\n",
        "  rfc.fit(X_train, np.array(y_train).flatten())\n",
        "  print(f\"Accuracy for the fold no. {i} on the test set: {accuracy_score(y_test, rfc.predict(X_test))}\")\n",
        "  joblib.dump(rfc, \"rfc\"+str(i)+\".sav\")\n",
        "  i = i+1"
      ],
      "metadata": {
        "colab": {
          "base_uri": "https://localhost:8080/"
        },
        "id": "-yMYVjLkgRbw",
        "outputId": "d2ad2ae5-f7b1-4b08-9331-321e6f05e0fc"
      },
      "execution_count": 32,
      "outputs": [
        {
          "output_type": "stream",
          "name": "stdout",
          "text": [
            "Accuracy for the fold no. 1 on the test set: 0.9828767123287672\n",
            "Accuracy for the fold no. 2 on the test set: 0.9931506849315068\n",
            "Accuracy for the fold no. 3 on the test set: 0.9726027397260274\n",
            "Accuracy for the fold no. 4 on the test set: 0.9623287671232876\n",
            "Accuracy for the fold no. 5 on the test set: 0.976027397260274\n",
            "Accuracy for the fold no. 6 on the test set: 0.979381443298969\n",
            "Accuracy for the fold no. 7 on the test set: 0.9759450171821306\n",
            "Accuracy for the fold no. 8 on the test set: 0.9725085910652921\n",
            "Accuracy for the fold no. 9 on the test set: 0.9759450171821306\n",
            "Accuracy for the fold no. 10 on the test set: 0.9759450171821306\n"
          ]
        }
      ]
    },
    {
      "cell_type": "markdown",
      "source": [
        "## **Gradient Boosting**"
      ],
      "metadata": {
        "id": "aNDLSKUPgx06"
      }
    },
    {
      "cell_type": "code",
      "source": [
        "import xgboost as xgb"
      ],
      "metadata": {
        "id": "Dx2Ulbr9g1Bo"
      },
      "execution_count": 33,
      "outputs": []
    },
    {
      "cell_type": "code",
      "source": [
        "cd /content/gdrive/MyDrive/models/TinySOL/Gradient Boosting"
      ],
      "metadata": {
        "colab": {
          "base_uri": "https://localhost:8080/"
        },
        "id": "vkBgnMTRg3GU",
        "outputId": "4dc18337-309a-4e3c-a32b-10c0f869fcc4"
      },
      "execution_count": 34,
      "outputs": [
        {
          "output_type": "stream",
          "name": "stdout",
          "text": [
            "/content/gdrive/MyDrive/models/TinySOL/Gradient Boosting\n"
          ]
        }
      ]
    },
    {
      "cell_type": "code",
      "source": [
        "kf = StratifiedKFold(n_splits=10, shuffle=True, random_state=42)"
      ],
      "metadata": {
        "id": "sHyMpDK_g7-2"
      },
      "execution_count": 35,
      "outputs": []
    },
    {
      "cell_type": "code",
      "source": [
        "for train_idx, test_idx in kf.split(X,y):\n",
        "  X_train = X.iloc[train_idx]\n",
        "  X_test = X.iloc[test_idx]\n",
        "  y_train = y.iloc[train_idx]\n",
        "  y_test = y.iloc[test_idx]\n",
        "  xgbc = xgb.XGBClassifier(max_depths=5, learning_rate=0.1)\n",
        "  xgbc.fit(X_train, np.array(y_train).flatten())\n",
        "  print(f\"Accuracy for the fold no. {i} on the test set: {accuracy_score(y_test, xgbc.predict(X_test))}\")\n",
        "  joblib.dump(xgbc, \"xgbc\"+str(i)+\".sav\")\n",
        "  i = i+1"
      ],
      "metadata": {
        "id": "Au7pUxbKhMI0"
      },
      "execution_count": null,
      "outputs": []
    },
    {
      "cell_type": "code",
      "source": [
        ""
      ],
      "metadata": {
        "id": "fJVpRd-vhUqc"
      },
      "execution_count": null,
      "outputs": []
    }
  ]
}