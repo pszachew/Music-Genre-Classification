{
  "nbformat": 4,
  "nbformat_minor": 0,
  "metadata": {
    "colab": {
      "name": "Untitled30.ipynb",
      "provenance": [],
      "authorship_tag": "ABX9TyNmSfNBL/Q7g/psxMV1auVb",
      "include_colab_link": true
    },
    "kernelspec": {
      "name": "python3",
      "display_name": "Python 3"
    },
    "language_info": {
      "name": "python"
    }
  },
  "cells": [
    {
      "cell_type": "markdown",
      "metadata": {
        "id": "view-in-github",
        "colab_type": "text"
      },
      "source": [
        "<a href=\"https://colab.research.google.com/github/pszachew/Music-Genre-Classification/blob/master/summary.ipynb\" target=\"_parent\"><img src=\"https://colab.research.google.com/assets/colab-badge.svg\" alt=\"Open In Colab\"/></a>"
      ]
    },
    {
      "cell_type": "code",
      "execution_count": 1,
      "metadata": {
        "id": "oz1Vb0UyY7II"
      },
      "outputs": [],
      "source": [
        "import pandas as pd\n",
        "import seaborn as sns\n",
        "import matplotlib.pyplot as plt"
      ]
    },
    {
      "cell_type": "code",
      "source": [
        "pip install matplotlib --upgrade"
      ],
      "metadata": {
        "colab": {
          "base_uri": "https://localhost:8080/",
          "height": 531
        },
        "id": "Cm1PIxYhjkP3",
        "outputId": "b5d38a95-791c-4992-8f9c-784bb12d9bc1"
      },
      "execution_count": 2,
      "outputs": [
        {
          "output_type": "stream",
          "name": "stdout",
          "text": [
            "Requirement already satisfied: matplotlib in /usr/local/lib/python3.7/dist-packages (3.2.2)\n",
            "Collecting matplotlib\n",
            "  Downloading matplotlib-3.5.1-cp37-cp37m-manylinux_2_5_x86_64.manylinux1_x86_64.whl (11.2 MB)\n",
            "\u001b[K     |████████████████████████████████| 11.2 MB 17.3 MB/s \n",
            "\u001b[?25hRequirement already satisfied: numpy>=1.17 in /usr/local/lib/python3.7/dist-packages (from matplotlib) (1.19.5)\n",
            "Requirement already satisfied: pyparsing>=2.2.1 in /usr/local/lib/python3.7/dist-packages (from matplotlib) (3.0.6)\n",
            "Requirement already satisfied: python-dateutil>=2.7 in /usr/local/lib/python3.7/dist-packages (from matplotlib) (2.8.2)\n",
            "Requirement already satisfied: packaging>=20.0 in /usr/local/lib/python3.7/dist-packages (from matplotlib) (21.3)\n",
            "Requirement already satisfied: kiwisolver>=1.0.1 in /usr/local/lib/python3.7/dist-packages (from matplotlib) (1.3.2)\n",
            "Collecting fonttools>=4.22.0\n",
            "  Downloading fonttools-4.28.5-py3-none-any.whl (890 kB)\n",
            "\u001b[K     |████████████████████████████████| 890 kB 27.0 MB/s \n",
            "\u001b[?25hRequirement already satisfied: cycler>=0.10 in /usr/local/lib/python3.7/dist-packages (from matplotlib) (0.11.0)\n",
            "Requirement already satisfied: pillow>=6.2.0 in /usr/local/lib/python3.7/dist-packages (from matplotlib) (7.1.2)\n",
            "Requirement already satisfied: six>=1.5 in /usr/local/lib/python3.7/dist-packages (from python-dateutil>=2.7->matplotlib) (1.15.0)\n",
            "Installing collected packages: fonttools, matplotlib\n",
            "  Attempting uninstall: matplotlib\n",
            "    Found existing installation: matplotlib 3.2.2\n",
            "    Uninstalling matplotlib-3.2.2:\n",
            "      Successfully uninstalled matplotlib-3.2.2\n",
            "\u001b[31mERROR: pip's dependency resolver does not currently take into account all the packages that are installed. This behaviour is the source of the following dependency conflicts.\n",
            "albumentations 0.1.12 requires imgaug<0.2.7,>=0.2.5, but you have imgaug 0.2.9 which is incompatible.\u001b[0m\n",
            "Successfully installed fonttools-4.28.5 matplotlib-3.5.1\n"
          ]
        },
        {
          "output_type": "display_data",
          "data": {
            "application/vnd.colab-display-data+json": {
              "pip_warning": {
                "packages": [
                  "matplotlib",
                  "mpl_toolkits"
                ]
              }
            }
          },
          "metadata": {}
        }
      ]
    },
    {
      "cell_type": "code",
      "source": [
        "GTZAN_L3 = {\"Classifier\":[\"LR\", \"KNN\", \"SVM\", \"DT\", \"RF\", \"XGB\", \"MLP\"],\n",
        "         \"Accuracy\":[0.8718787878787879, 0.7987878787878788, 0.8798787878787879, 0.4484646464646465, 0.7737676767676768, 0.7557070707070708, 0.82],\n",
        "         \"std\":[0.01934406465729386, 0.03991519936685608, 0.02145069302854711, 0.03645674947366387, 0.03108607972416401, 0.027050356062081705, 0.0]}"
      ],
      "metadata": {
        "id": "Rc2mgvv1Y8Qy"
      },
      "execution_count": 24,
      "outputs": []
    },
    {
      "cell_type": "code",
      "source": [
        "GTZAN_L3 = pd.DataFrame(GTZAN_L3)\n",
        "GTZAN_L3[\"Embedding\"] = \"OpenL3\""
      ],
      "metadata": {
        "id": "vE2ZiSToaS0n"
      },
      "execution_count": 25,
      "outputs": []
    },
    {
      "cell_type": "code",
      "source": [
        "GTZAN_L3"
      ],
      "metadata": {
        "colab": {
          "base_uri": "https://localhost:8080/",
          "height": 268
        },
        "id": "EGcS_Fexa51F",
        "outputId": "f7156775-d7e4-4b0f-cb6b-0ac7d11ee992"
      },
      "execution_count": 26,
      "outputs": [
        {
          "output_type": "execute_result",
          "data": {
            "text/html": [
              "\n",
              "  <div id=\"df-0ea8ee60-bf97-4f19-affb-dc2ebeefda18\">\n",
              "    <div class=\"colab-df-container\">\n",
              "      <div>\n",
              "<style scoped>\n",
              "    .dataframe tbody tr th:only-of-type {\n",
              "        vertical-align: middle;\n",
              "    }\n",
              "\n",
              "    .dataframe tbody tr th {\n",
              "        vertical-align: top;\n",
              "    }\n",
              "\n",
              "    .dataframe thead th {\n",
              "        text-align: right;\n",
              "    }\n",
              "</style>\n",
              "<table border=\"1\" class=\"dataframe\">\n",
              "  <thead>\n",
              "    <tr style=\"text-align: right;\">\n",
              "      <th></th>\n",
              "      <th>Classifier</th>\n",
              "      <th>Accuracy</th>\n",
              "      <th>std</th>\n",
              "      <th>Embedding</th>\n",
              "    </tr>\n",
              "  </thead>\n",
              "  <tbody>\n",
              "    <tr>\n",
              "      <th>0</th>\n",
              "      <td>LR</td>\n",
              "      <td>0.871879</td>\n",
              "      <td>0.019344</td>\n",
              "      <td>OpenL3</td>\n",
              "    </tr>\n",
              "    <tr>\n",
              "      <th>1</th>\n",
              "      <td>KNN</td>\n",
              "      <td>0.798788</td>\n",
              "      <td>0.039915</td>\n",
              "      <td>OpenL3</td>\n",
              "    </tr>\n",
              "    <tr>\n",
              "      <th>2</th>\n",
              "      <td>SVM</td>\n",
              "      <td>0.879879</td>\n",
              "      <td>0.021451</td>\n",
              "      <td>OpenL3</td>\n",
              "    </tr>\n",
              "    <tr>\n",
              "      <th>3</th>\n",
              "      <td>DT</td>\n",
              "      <td>0.448465</td>\n",
              "      <td>0.036457</td>\n",
              "      <td>OpenL3</td>\n",
              "    </tr>\n",
              "    <tr>\n",
              "      <th>4</th>\n",
              "      <td>RF</td>\n",
              "      <td>0.773768</td>\n",
              "      <td>0.031086</td>\n",
              "      <td>OpenL3</td>\n",
              "    </tr>\n",
              "    <tr>\n",
              "      <th>5</th>\n",
              "      <td>XGB</td>\n",
              "      <td>0.755707</td>\n",
              "      <td>0.027050</td>\n",
              "      <td>OpenL3</td>\n",
              "    </tr>\n",
              "    <tr>\n",
              "      <th>6</th>\n",
              "      <td>MLP</td>\n",
              "      <td>0.820000</td>\n",
              "      <td>0.000000</td>\n",
              "      <td>OpenL3</td>\n",
              "    </tr>\n",
              "  </tbody>\n",
              "</table>\n",
              "</div>\n",
              "      <button class=\"colab-df-convert\" onclick=\"convertToInteractive('df-0ea8ee60-bf97-4f19-affb-dc2ebeefda18')\"\n",
              "              title=\"Convert this dataframe to an interactive table.\"\n",
              "              style=\"display:none;\">\n",
              "        \n",
              "  <svg xmlns=\"http://www.w3.org/2000/svg\" height=\"24px\"viewBox=\"0 0 24 24\"\n",
              "       width=\"24px\">\n",
              "    <path d=\"M0 0h24v24H0V0z\" fill=\"none\"/>\n",
              "    <path d=\"M18.56 5.44l.94 2.06.94-2.06 2.06-.94-2.06-.94-.94-2.06-.94 2.06-2.06.94zm-11 1L8.5 8.5l.94-2.06 2.06-.94-2.06-.94L8.5 2.5l-.94 2.06-2.06.94zm10 10l.94 2.06.94-2.06 2.06-.94-2.06-.94-.94-2.06-.94 2.06-2.06.94z\"/><path d=\"M17.41 7.96l-1.37-1.37c-.4-.4-.92-.59-1.43-.59-.52 0-1.04.2-1.43.59L10.3 9.45l-7.72 7.72c-.78.78-.78 2.05 0 2.83L4 21.41c.39.39.9.59 1.41.59.51 0 1.02-.2 1.41-.59l7.78-7.78 2.81-2.81c.8-.78.8-2.07 0-2.86zM5.41 20L4 18.59l7.72-7.72 1.47 1.35L5.41 20z\"/>\n",
              "  </svg>\n",
              "      </button>\n",
              "      \n",
              "  <style>\n",
              "    .colab-df-container {\n",
              "      display:flex;\n",
              "      flex-wrap:wrap;\n",
              "      gap: 12px;\n",
              "    }\n",
              "\n",
              "    .colab-df-convert {\n",
              "      background-color: #E8F0FE;\n",
              "      border: none;\n",
              "      border-radius: 50%;\n",
              "      cursor: pointer;\n",
              "      display: none;\n",
              "      fill: #1967D2;\n",
              "      height: 32px;\n",
              "      padding: 0 0 0 0;\n",
              "      width: 32px;\n",
              "    }\n",
              "\n",
              "    .colab-df-convert:hover {\n",
              "      background-color: #E2EBFA;\n",
              "      box-shadow: 0px 1px 2px rgba(60, 64, 67, 0.3), 0px 1px 3px 1px rgba(60, 64, 67, 0.15);\n",
              "      fill: #174EA6;\n",
              "    }\n",
              "\n",
              "    [theme=dark] .colab-df-convert {\n",
              "      background-color: #3B4455;\n",
              "      fill: #D2E3FC;\n",
              "    }\n",
              "\n",
              "    [theme=dark] .colab-df-convert:hover {\n",
              "      background-color: #434B5C;\n",
              "      box-shadow: 0px 1px 3px 1px rgba(0, 0, 0, 0.15);\n",
              "      filter: drop-shadow(0px 1px 2px rgba(0, 0, 0, 0.3));\n",
              "      fill: #FFFFFF;\n",
              "    }\n",
              "  </style>\n",
              "\n",
              "      <script>\n",
              "        const buttonEl =\n",
              "          document.querySelector('#df-0ea8ee60-bf97-4f19-affb-dc2ebeefda18 button.colab-df-convert');\n",
              "        buttonEl.style.display =\n",
              "          google.colab.kernel.accessAllowed ? 'block' : 'none';\n",
              "\n",
              "        async function convertToInteractive(key) {\n",
              "          const element = document.querySelector('#df-0ea8ee60-bf97-4f19-affb-dc2ebeefda18');\n",
              "          const dataTable =\n",
              "            await google.colab.kernel.invokeFunction('convertToInteractive',\n",
              "                                                     [key], {});\n",
              "          if (!dataTable) return;\n",
              "\n",
              "          const docLinkHtml = 'Like what you see? Visit the ' +\n",
              "            '<a target=\"_blank\" href=https://colab.research.google.com/notebooks/data_table.ipynb>data table notebook</a>'\n",
              "            + ' to learn more about interactive tables.';\n",
              "          element.innerHTML = '';\n",
              "          dataTable['output_type'] = 'display_data';\n",
              "          await google.colab.output.renderOutput(dataTable, element);\n",
              "          const docLink = document.createElement('div');\n",
              "          docLink.innerHTML = docLinkHtml;\n",
              "          element.appendChild(docLink);\n",
              "        }\n",
              "      </script>\n",
              "    </div>\n",
              "  </div>\n",
              "  "
            ],
            "text/plain": [
              "  Classifier  Accuracy       std Embedding\n",
              "0         LR  0.871879  0.019344    OpenL3\n",
              "1        KNN  0.798788  0.039915    OpenL3\n",
              "2        SVM  0.879879  0.021451    OpenL3\n",
              "3         DT  0.448465  0.036457    OpenL3\n",
              "4         RF  0.773768  0.031086    OpenL3\n",
              "5        XGB  0.755707  0.027050    OpenL3\n",
              "6        MLP  0.820000  0.000000    OpenL3"
            ]
          },
          "metadata": {},
          "execution_count": 26
        }
      ]
    },
    {
      "cell_type": "code",
      "source": [
        "GTZAN_MFCC = {\"Classifier\":[\"LR\", \"KNN\", \"SVM\", \"DT\", \"RF\", \"XGB\", \"MLP\"],\n",
        "         \"Accuracy\":[0.6716565656565656, 0.6055959595959597, 0.6506262626262627, 0.5214545454545454, 0.6886969696969698, 0.6947171717171716, 0.74],\n",
        "         \"std\":[0.05296512011292598, 0.07931152326542065, 0.04081610082207415, 0.050855816280802914, 0.04053590728742019, 0.03480773638714091, 0]}"
      ],
      "metadata": {
        "id": "IyE5_Q2Ta6Ks"
      },
      "execution_count": 27,
      "outputs": []
    },
    {
      "cell_type": "code",
      "source": [
        "GTZAN_MFCC = pd.DataFrame(GTZAN_MFCC)"
      ],
      "metadata": {
        "id": "64RgIajYcyST"
      },
      "execution_count": 28,
      "outputs": []
    },
    {
      "cell_type": "code",
      "source": [
        "GTZAN_MFCC[\"Embedding\"] = \"MFCC\""
      ],
      "metadata": {
        "id": "JT1tChYDedDN"
      },
      "execution_count": 29,
      "outputs": []
    },
    {
      "cell_type": "code",
      "source": [
        "GTZAN_MFCC"
      ],
      "metadata": {
        "colab": {
          "base_uri": "https://localhost:8080/",
          "height": 268
        },
        "id": "rmE3WXM5ed8Z",
        "outputId": "6bba1567-b856-4d93-d01e-3095ecd004cf"
      },
      "execution_count": 30,
      "outputs": [
        {
          "output_type": "execute_result",
          "data": {
            "text/html": [
              "\n",
              "  <div id=\"df-4c4c24ce-5662-42ed-b7bd-70c5dfe58ded\">\n",
              "    <div class=\"colab-df-container\">\n",
              "      <div>\n",
              "<style scoped>\n",
              "    .dataframe tbody tr th:only-of-type {\n",
              "        vertical-align: middle;\n",
              "    }\n",
              "\n",
              "    .dataframe tbody tr th {\n",
              "        vertical-align: top;\n",
              "    }\n",
              "\n",
              "    .dataframe thead th {\n",
              "        text-align: right;\n",
              "    }\n",
              "</style>\n",
              "<table border=\"1\" class=\"dataframe\">\n",
              "  <thead>\n",
              "    <tr style=\"text-align: right;\">\n",
              "      <th></th>\n",
              "      <th>Classifier</th>\n",
              "      <th>Accuracy</th>\n",
              "      <th>std</th>\n",
              "      <th>Embedding</th>\n",
              "    </tr>\n",
              "  </thead>\n",
              "  <tbody>\n",
              "    <tr>\n",
              "      <th>0</th>\n",
              "      <td>LR</td>\n",
              "      <td>0.671657</td>\n",
              "      <td>0.052965</td>\n",
              "      <td>MFCC</td>\n",
              "    </tr>\n",
              "    <tr>\n",
              "      <th>1</th>\n",
              "      <td>KNN</td>\n",
              "      <td>0.605596</td>\n",
              "      <td>0.079312</td>\n",
              "      <td>MFCC</td>\n",
              "    </tr>\n",
              "    <tr>\n",
              "      <th>2</th>\n",
              "      <td>SVM</td>\n",
              "      <td>0.650626</td>\n",
              "      <td>0.040816</td>\n",
              "      <td>MFCC</td>\n",
              "    </tr>\n",
              "    <tr>\n",
              "      <th>3</th>\n",
              "      <td>DT</td>\n",
              "      <td>0.521455</td>\n",
              "      <td>0.050856</td>\n",
              "      <td>MFCC</td>\n",
              "    </tr>\n",
              "    <tr>\n",
              "      <th>4</th>\n",
              "      <td>RF</td>\n",
              "      <td>0.688697</td>\n",
              "      <td>0.040536</td>\n",
              "      <td>MFCC</td>\n",
              "    </tr>\n",
              "    <tr>\n",
              "      <th>5</th>\n",
              "      <td>XGB</td>\n",
              "      <td>0.694717</td>\n",
              "      <td>0.034808</td>\n",
              "      <td>MFCC</td>\n",
              "    </tr>\n",
              "    <tr>\n",
              "      <th>6</th>\n",
              "      <td>MLP</td>\n",
              "      <td>0.740000</td>\n",
              "      <td>0.000000</td>\n",
              "      <td>MFCC</td>\n",
              "    </tr>\n",
              "  </tbody>\n",
              "</table>\n",
              "</div>\n",
              "      <button class=\"colab-df-convert\" onclick=\"convertToInteractive('df-4c4c24ce-5662-42ed-b7bd-70c5dfe58ded')\"\n",
              "              title=\"Convert this dataframe to an interactive table.\"\n",
              "              style=\"display:none;\">\n",
              "        \n",
              "  <svg xmlns=\"http://www.w3.org/2000/svg\" height=\"24px\"viewBox=\"0 0 24 24\"\n",
              "       width=\"24px\">\n",
              "    <path d=\"M0 0h24v24H0V0z\" fill=\"none\"/>\n",
              "    <path d=\"M18.56 5.44l.94 2.06.94-2.06 2.06-.94-2.06-.94-.94-2.06-.94 2.06-2.06.94zm-11 1L8.5 8.5l.94-2.06 2.06-.94-2.06-.94L8.5 2.5l-.94 2.06-2.06.94zm10 10l.94 2.06.94-2.06 2.06-.94-2.06-.94-.94-2.06-.94 2.06-2.06.94z\"/><path d=\"M17.41 7.96l-1.37-1.37c-.4-.4-.92-.59-1.43-.59-.52 0-1.04.2-1.43.59L10.3 9.45l-7.72 7.72c-.78.78-.78 2.05 0 2.83L4 21.41c.39.39.9.59 1.41.59.51 0 1.02-.2 1.41-.59l7.78-7.78 2.81-2.81c.8-.78.8-2.07 0-2.86zM5.41 20L4 18.59l7.72-7.72 1.47 1.35L5.41 20z\"/>\n",
              "  </svg>\n",
              "      </button>\n",
              "      \n",
              "  <style>\n",
              "    .colab-df-container {\n",
              "      display:flex;\n",
              "      flex-wrap:wrap;\n",
              "      gap: 12px;\n",
              "    }\n",
              "\n",
              "    .colab-df-convert {\n",
              "      background-color: #E8F0FE;\n",
              "      border: none;\n",
              "      border-radius: 50%;\n",
              "      cursor: pointer;\n",
              "      display: none;\n",
              "      fill: #1967D2;\n",
              "      height: 32px;\n",
              "      padding: 0 0 0 0;\n",
              "      width: 32px;\n",
              "    }\n",
              "\n",
              "    .colab-df-convert:hover {\n",
              "      background-color: #E2EBFA;\n",
              "      box-shadow: 0px 1px 2px rgba(60, 64, 67, 0.3), 0px 1px 3px 1px rgba(60, 64, 67, 0.15);\n",
              "      fill: #174EA6;\n",
              "    }\n",
              "\n",
              "    [theme=dark] .colab-df-convert {\n",
              "      background-color: #3B4455;\n",
              "      fill: #D2E3FC;\n",
              "    }\n",
              "\n",
              "    [theme=dark] .colab-df-convert:hover {\n",
              "      background-color: #434B5C;\n",
              "      box-shadow: 0px 1px 3px 1px rgba(0, 0, 0, 0.15);\n",
              "      filter: drop-shadow(0px 1px 2px rgba(0, 0, 0, 0.3));\n",
              "      fill: #FFFFFF;\n",
              "    }\n",
              "  </style>\n",
              "\n",
              "      <script>\n",
              "        const buttonEl =\n",
              "          document.querySelector('#df-4c4c24ce-5662-42ed-b7bd-70c5dfe58ded button.colab-df-convert');\n",
              "        buttonEl.style.display =\n",
              "          google.colab.kernel.accessAllowed ? 'block' : 'none';\n",
              "\n",
              "        async function convertToInteractive(key) {\n",
              "          const element = document.querySelector('#df-4c4c24ce-5662-42ed-b7bd-70c5dfe58ded');\n",
              "          const dataTable =\n",
              "            await google.colab.kernel.invokeFunction('convertToInteractive',\n",
              "                                                     [key], {});\n",
              "          if (!dataTable) return;\n",
              "\n",
              "          const docLinkHtml = 'Like what you see? Visit the ' +\n",
              "            '<a target=\"_blank\" href=https://colab.research.google.com/notebooks/data_table.ipynb>data table notebook</a>'\n",
              "            + ' to learn more about interactive tables.';\n",
              "          element.innerHTML = '';\n",
              "          dataTable['output_type'] = 'display_data';\n",
              "          await google.colab.output.renderOutput(dataTable, element);\n",
              "          const docLink = document.createElement('div');\n",
              "          docLink.innerHTML = docLinkHtml;\n",
              "          element.appendChild(docLink);\n",
              "        }\n",
              "      </script>\n",
              "    </div>\n",
              "  </div>\n",
              "  "
            ],
            "text/plain": [
              "  Classifier  Accuracy       std Embedding\n",
              "0         LR  0.671657  0.052965      MFCC\n",
              "1        KNN  0.605596  0.079312      MFCC\n",
              "2        SVM  0.650626  0.040816      MFCC\n",
              "3         DT  0.521455  0.050856      MFCC\n",
              "4         RF  0.688697  0.040536      MFCC\n",
              "5        XGB  0.694717  0.034808      MFCC\n",
              "6        MLP  0.740000  0.000000      MFCC"
            ]
          },
          "metadata": {},
          "execution_count": 30
        }
      ]
    },
    {
      "cell_type": "code",
      "source": [
        "GTZAN_concat = pd.concat([GTZAN_L3, GTZAN_MFCC], axis=0)"
      ],
      "metadata": {
        "id": "rO_GC6AsenP-"
      },
      "execution_count": 31,
      "outputs": []
    },
    {
      "cell_type": "code",
      "source": [
        "GTZAN_concat['Accuracy'] = GTZAN_concat['Accuracy']*100\n",
        "GTZAN_concat['std'] = GTZAN_concat['std']*100"
      ],
      "metadata": {
        "id": "bM4BFmUhe-pQ"
      },
      "execution_count": 32,
      "outputs": []
    },
    {
      "cell_type": "markdown",
      "source": [
        "## **GTZAN**"
      ],
      "metadata": {
        "id": "hpm5i815iEKz"
      }
    },
    {
      "cell_type": "code",
      "source": [
        "g = sns.catplot(x=\"Classifier\", y=\"Accuracy\", data=GTZAN_concat, kind=\"bar\", hue=\"Embedding\")\n",
        "g.fig.set_size_inches(12, 8)\n",
        "g.fig.subplots_adjust(top=0.81, right=0.86)\n",
        "plt.title(\"GTZAN\")\n",
        "ax = g.facet_axis(0,0)\n",
        "for c in ax.containers:\n",
        "    labels = [f\"{round((v.get_height()),2)}%\" for v in c]\n",
        "    ax.bar_label(c, labels=labels, label_type='edge')\n",
        "plt.show()"
      ],
      "metadata": {
        "colab": {
          "base_uri": "https://localhost:8080/",
          "height": 477
        },
        "id": "JfqorHHYfvHr",
        "outputId": "4ee3c0df-3c9b-4c8c-d63d-438512a913a2"
      },
      "execution_count": 33,
      "outputs": [
        {
          "output_type": "display_data",
          "data": {
            "image/png": "[encoded data removed]",
            "text/plain": [
              "<Figure size 864x576 with 1 Axes>"
            ]
          },
          "metadata": {
            "needs_background": "light"
          }
        }
      ]
    },
    {
      "cell_type": "markdown",
      "source": [
        "## **GTZAN MUSIC SPEECH**"
      ],
      "metadata": {
        "id": "ykQBu5UaniAa"
      }
    },
    {
      "cell_type": "code",
      "source": [
        "GTZAN_MS_L3 = {\"Classifier\":[\"LR\", \"KNN\", \"SVM\", \"DT\", \"RF\", \"XGB\", \"MLP\"],\n",
        "         \"Accuracy\":[1.0, 1.0, 1.0, 0.9070512820512819, 0.9923076923076923, 0.9846153846153847, 1.0],\n",
        "         \"std\":[0.0, 0.0, 0.0, 0.057424592522977304, 0.02307692307692306, 0.030769230769230747,0]}"
      ],
      "metadata": {
        "id": "FuCZZc93nk2L"
      },
      "execution_count": 17,
      "outputs": []
    },
    {
      "cell_type": "code",
      "source": [
        "GTZAN_MS_MFCC = {\"Classifier\":[\"LR\", \"KNN\", \"SVM\", \"DT\", \"RF\", \"XGB\", \"MLP\"],\n",
        "         \"Accuracy\":[0.976923076923077, 0.9692307692307693, 0.9923076923076923, 0.953846153846154, 0.953846153846154, 0.953846153846154, 1.0],\n",
        "         \"std\":[0.06923076923076922, 0.07050116453778213, 0.02307692307692306, 0.07050116453778214, 0.07050116453778214, 0.07050116453778214, 0.0]}"
      ],
      "metadata": {
        "id": "eCjaxhFgx6Tk"
      },
      "execution_count": 18,
      "outputs": []
    },
    {
      "cell_type": "code",
      "source": [
        "GTZAN_MS_L3 = pd.DataFrame(GTZAN_MS_L3)\n",
        "GTZAN_MS_L3[\"Embedding\"] = \"OpenL3\""
      ],
      "metadata": {
        "id": "73Ka7ygqzBTg"
      },
      "execution_count": 19,
      "outputs": []
    },
    {
      "cell_type": "code",
      "source": [
        "GTZAN_MS_MFCC = pd.DataFrame(GTZAN_MS_MFCC)\n",
        "GTZAN_MS_MFCC[\"Embedding\"] = \"MFCC\""
      ],
      "metadata": {
        "id": "xX1JXK6GzRce"
      },
      "execution_count": 20,
      "outputs": []
    },
    {
      "cell_type": "code",
      "source": [
        "GTZAN_concat = pd.concat([GTZAN_MS_L3, GTZAN_MS_MFCC], axis=0)\n",
        "GTZAN_concat['Accuracy'] = GTZAN_concat['Accuracy']*100\n",
        "GTZAN_concat['std'] = GTZAN_concat['std']*100"
      ],
      "metadata": {
        "id": "qOJ5vsPGzbEw"
      },
      "execution_count": 21,
      "outputs": []
    },
    {
      "cell_type": "code",
      "source": [
        "g = sns.catplot(x=\"Classifier\", y=\"Accuracy\", data=GTZAN_concat, kind=\"bar\", hue=\"Embedding\")\n",
        "g.fig.set_size_inches(13, 8)\n",
        "g.fig.subplots_adjust(top=0.81, right=0.86)\n",
        "plt.title(\"GTZAN MUSIC SPEECH\")\n",
        "ax = g.facet_axis(0,0)\n",
        "for c in ax.containers:\n",
        "    labels = [f\"{round((v.get_height()),2)}%\" for v in c]\n",
        "    ax.bar_label(c, labels=labels, label_type='edge')\n",
        "plt.show()"
      ],
      "metadata": {
        "id": "URL8PgZazlLT",
        "outputId": "d64e2ecb-04a6-406a-c410-d29c33c8457a",
        "colab": {
          "base_uri": "https://localhost:8080/",
          "height": 477
        }
      },
      "execution_count": 23,
      "outputs": [
        {
          "output_type": "display_data",
          "data": {
            "image/png": "[encoded data removed]",
            "text/plain": [
              "<Figure size 936x576 with 1 Axes>"
            ]
          },
          "metadata": {
            "needs_background": "light"
          }
        }
      ]
    },
    {
      "cell_type": "markdown",
      "source": [
        "## **IRMAS**"
      ],
      "metadata": {
        "id": "hr4whuKM0DH1"
      }
    },
    {
      "cell_type": "code",
      "source": [
        "IRMAS_L3 = {\"Classifier\":[\"LR\", \"SVM\", \"KNN\", \"DT\", \"RF\", \"XGB\", \"MLP\"],\n",
        "         \"Accuracy\":[0.7971692951042106, 0.8135749716395667, 0.7903002869408546, 0.4311688947216229, 0.7045514602842716, 0.7279689481059679, 0.75],\n",
        "         \"std\":[0.020242073462086542, 0.012786916806402805, 0.018851318524405497, 0.029891027440183838, 0.016188320158757125, 0.017350865615784295,0.0]}"
      ],
      "metadata": {
        "id": "p0bDOUYW0Ejt"
      },
      "execution_count": 40,
      "outputs": []
    },
    {
      "cell_type": "code",
      "source": [
        "IRMAS_MFCC = {\"Classifier\":[\"LR\", \"KNN\", \"SVM\", \"DT\", \"RF\", \"XGB\", \"MLP\"],\n",
        "         \"Accuracy\":[0.5345243232422093, 0.42968614453811416, 0.5245303289810264, 0.3658527036946415, 0.5618250772960829, 0.5612273950663969, 0.564179104477612],\n",
        "         \"std\":[0.018171753840827427, 0.015328924847830725, 0.02519322800891604, 0.018932611005871073, 0.01998734616047639, 0.023249671776130538, 0.0]}"
      ],
      "metadata": {
        "id": "ttMszPFg2Qxx"
      },
      "execution_count": 41,
      "outputs": []
    },
    {
      "cell_type": "code",
      "source": [
        "IRMAS_L3 = pd.DataFrame(IRMAS_L3)\n",
        "IRMAS_L3[\"Embedding\"] = \"OpenL3\"\n",
        "IRMAS_MFCC = pd.DataFrame(IRMAS_MFCC)\n",
        "IRMAS_MFCC[\"Embedding\"] = \"MFCC\"\n",
        "IRMAS_concat = pd.concat([IRMAS_L3, IRMAS_MFCC], axis=0)\n",
        "IRMAS_concat['Accuracy'] = IRMAS_concat['Accuracy']*100\n",
        "IRMAS_concat['std'] = IRMAS_concat['std']*100"
      ],
      "metadata": {
        "id": "2Z8jJFrQ3UQm"
      },
      "execution_count": 42,
      "outputs": []
    },
    {
      "cell_type": "code",
      "source": [
        "g = sns.catplot(x=\"Classifier\", y=\"Accuracy\", data=IRMAS_concat, kind=\"bar\", hue=\"Embedding\")\n",
        "g.fig.set_size_inches(13, 8)\n",
        "g.fig.subplots_adjust(top=0.81, right=0.86)\n",
        "plt.title(\"IRMAS\")\n",
        "ax = g.facet_axis(0,0)\n",
        "for c in ax.containers:\n",
        "    labels = [f\"{round((v.get_height()),2)}%\" for v in c]\n",
        "    ax.bar_label(c, labels=labels, label_type='edge')\n",
        "plt.show()"
      ],
      "metadata": {
        "id": "S7Mqe6jZ3nxQ",
        "outputId": "a235ec20-7a06-4993-b67e-6066705a7a35",
        "colab": {
          "base_uri": "https://localhost:8080/",
          "height": 477
        }
      },
      "execution_count": 43,
      "outputs": [
        {
          "output_type": "display_data",
          "data": {
            "image/png": "[encoded data removed]",
            "text/plain": [
              "<Figure size 936x576 with 1 Axes>"
            ]
          },
          "metadata": {
            "needs_background": "light"
          }
        }
      ]
    },
    {
      "cell_type": "markdown",
      "source": [
        "## **TinySOL**"
      ],
      "metadata": {
        "id": "Matk5TMM323T"
      }
    },
    {
      "cell_type": "code",
      "source": [
        "TinySOL_L3 = {\"Classifier\":[\"LR\", \"KNN\", \"SVM\", \"DT\", \"RF\", \"XGB\", \"MLP\"],\n",
        "         \"Accuracy\":[0.9721908393353104, 0.9114214094054512, 0.9728804782751965, 0.6855481805771313, 0.9011380219366381, 0.9172833403944829, 0.94],\n",
        "         \"std\":[0.011343204359590764, 0.014933262036240317, 0.008875521694845841, 0.03252162028237151, 0.014921345213295906, 0.02102122209407107, 0.0]}"
      ],
      "metadata": {
        "id": "KAHRyu49346R"
      },
      "execution_count": 38,
      "outputs": []
    },
    {
      "cell_type": "code",
      "source": [
        "TinySOL_MFCC = {\"Classifier\":[\"LR\", \"KNN\", \"SVM\", \"DT\", \"RF\", \"XGB\", \"MLP\"],\n",
        "         \"Accuracy\":[0.8932413030174645, 0.7205632443628489, 0.896338793955656, 0.7277868003577649, 0.8942816457185897, 0.9083462787741844, 0.8890160183066361],\n",
        "         \"std\":[0.016259888065823284, 0.02638106544668775, 0.018530832758104472, 0.03144446842764533, 0.02095305522673041, 0.02691318708839303, 0.0]}"
      ],
      "metadata": {
        "id": "rVtB7zlp5Dg5"
      },
      "execution_count": 39,
      "outputs": []
    },
    {
      "cell_type": "code",
      "source": [
        "TinySOL_L3 = pd.DataFrame(TinySOL_L3)\n",
        "TinySOL_L3[\"Embedding\"] = \"OpenL3\"\n",
        "TinySOL_MFCC = pd.DataFrame(TinySOL_MFCC)\n",
        "TinySOL_MFCC[\"Embedding\"] = \"MFCC\"\n",
        "TinySOL_concat = pd.concat([TinySOL_L3, TinySOL_MFCC], axis=0)\n",
        "TinySOL_concat['Accuracy'] = TinySOL_concat['Accuracy']*100\n",
        "TinySOL_concat['std'] = TinySOL_concat['std']*100"
      ],
      "metadata": {
        "id": "G7vxHwev_t4c"
      },
      "execution_count": 46,
      "outputs": []
    },
    {
      "cell_type": "code",
      "source": [
        "g = sns.catplot(x=\"Classifier\", y=\"Accuracy\", data=TinySOL_concat, kind=\"bar\", hue=\"Embedding\")\n",
        "g.fig.set_size_inches(13, 8)\n",
        "g.fig.subplots_adjust(top=0.81, right=0.86)\n",
        "plt.title(\"TinySOL\")\n",
        "ax = g.facet_axis(0,0)\n",
        "for c in ax.containers:\n",
        "    labels = [f\"{round((v.get_height()),2)}%\" for v in c]\n",
        "    ax.bar_label(c, labels=labels, label_type='edge')\n",
        "plt.show()"
      ],
      "metadata": {
        "id": "00wayy_7Ad2j",
        "outputId": "27754909-2e9d-4223-bb29-ffc0200cf293",
        "colab": {
          "base_uri": "https://localhost:8080/",
          "height": 477
        }
      },
      "execution_count": 48,
      "outputs": [
        {
          "output_type": "display_data",
          "data": {
            "image/png": "[encoded data removed]",
            "text/plain": [
              "<Figure size 936x576 with 1 Axes>"
            ]
          },
          "metadata": {
            "needs_background": "light"
          }
        }
      ]
    },
    {
      "cell_type": "markdown",
      "source": [
        "## **VocalSET**"
      ],
      "metadata": {
        "id": "oiP-RFJeAt3V"
      }
    },
    {
      "cell_type": "code",
      "source": [
        "VocalSET_L3 = {\"Classifier\":[\"LR\", \"SVM\", \"KNN\", \"DT\", \"RF\", \"XGB\", \"MLP\"],\n",
        "         \"Accuracy\":[0.80, 0.79, 0.64, 0.27, 0.66, 0.65, 0.52]}"
      ],
      "metadata": {
        "id": "DChn-wX4AvvB"
      },
      "execution_count": 51,
      "outputs": []
    },
    {
      "cell_type": "code",
      "source": [
        "VocalSET_MFCC = {\"Classifier\":[\"LR\", \"SVM\", \"KNN\", \"DT\", \"RF\", \"XGB\", \"MLP\"],\n",
        "         \"Accuracy\":[0.65, 0.63, 0.52, 0.37, 0.68, 0.65, 0.74]}"
      ],
      "metadata": {
        "id": "DQPpNtlDEA7w"
      },
      "execution_count": 52,
      "outputs": []
    },
    {
      "cell_type": "code",
      "source": [
        "VocalSET_L3 = pd.DataFrame(VocalSET_L3)\n",
        "VocalSET_L3[\"Embedding\"] = \"OpenL3\"\n",
        "VocalSET_MFCC = pd.DataFrame(VocalSET_MFCC)\n",
        "VocalSET_MFCC[\"Embedding\"] = \"MFCC\"\n",
        "VocalSET_concat = pd.concat([VocalSET_L3, VocalSET_MFCC], axis=0)\n",
        "VocalSET_concat['Accuracy'] = VocalSET_concat['Accuracy']*100"
      ],
      "metadata": {
        "id": "xncs7f9tElqH"
      },
      "execution_count": 53,
      "outputs": []
    },
    {
      "cell_type": "code",
      "source": [
        "g = sns.catplot(x=\"Classifier\", y=\"Accuracy\", data=VocalSET_concat, kind=\"bar\", hue=\"Embedding\")\n",
        "g.fig.set_size_inches(13, 8)\n",
        "g.fig.subplots_adjust(top=0.81, right=0.86)\n",
        "plt.title(\"VocalSET\")\n",
        "ax = g.facet_axis(0,0)\n",
        "for c in ax.containers:\n",
        "    labels = [f\"{round((v.get_height()),2)}%\" for v in c]\n",
        "    ax.bar_label(c, labels=labels, label_type='edge')\n",
        "plt.show()"
      ],
      "metadata": {
        "id": "3OGiSbspF8QN",
        "outputId": "5df2c28a-0990-4e37-94ac-f56042cc1fa3",
        "colab": {
          "base_uri": "https://localhost:8080/",
          "height": 477
        }
      },
      "execution_count": 54,
      "outputs": [
        {
          "output_type": "display_data",
          "data": {
            "image/png": "[encoded data removed]",
            "text/plain": [
              "<Figure size 936x576 with 1 Axes>"
            ]
          },
          "metadata": {
            "needs_background": "light"
          }
        }
      ]
    }
  ]
}